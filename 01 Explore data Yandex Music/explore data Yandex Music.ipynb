{
 "cells": [
  {
   "cell_type": "markdown",
   "metadata": {
    "id": "Ml1hmfXC_Zcs"
   },
   "source": [
    "## Data review"
   ]
  },
  {
   "cell_type": "code",
   "execution_count": 1,
   "metadata": {
    "id": "AXN7PHPN_Zcs"
   },
   "outputs": [],
   "source": [
    "# download library\n",
    "import pandas as pd"
   ]
  },
  {
   "cell_type": "code",
   "execution_count": 2,
   "metadata": {
    "id": "fFVu7vqh_Zct"
   },
   "outputs": [],
   "source": [
    "# read file\n",
    "path = ''\n",
    "df = pd.read_csv(path)"
   ]
  },
  {
   "cell_type": "code",
   "execution_count": 3,
   "metadata": {
    "id": "oWTVX3gW_Zct"
   },
   "outputs": [
    {
     "data": {
      "text/html": [
       "<div>\n",
       "<style scoped>\n",
       "    .dataframe tbody tr th:only-of-type {\n",
       "        vertical-align: middle;\n",
       "    }\n",
       "\n",
       "    .dataframe tbody tr th {\n",
       "        vertical-align: top;\n",
       "    }\n",
       "\n",
       "    .dataframe thead th {\n",
       "        text-align: right;\n",
       "    }\n",
       "</style>\n",
       "<table border=\"1\" class=\"dataframe\">\n",
       "  <thead>\n",
       "    <tr style=\"text-align: right;\">\n",
       "      <th></th>\n",
       "      <th>userID</th>\n",
       "      <th>Track</th>\n",
       "      <th>artist</th>\n",
       "      <th>genre</th>\n",
       "      <th>City</th>\n",
       "      <th>time</th>\n",
       "      <th>Day</th>\n",
       "    </tr>\n",
       "  </thead>\n",
       "  <tbody>\n",
       "    <tr>\n",
       "      <th>0</th>\n",
       "      <td>FFB692EC</td>\n",
       "      <td>Kamigata To Boots</td>\n",
       "      <td>The Mass Missile</td>\n",
       "      <td>rock</td>\n",
       "      <td>Saint-Petersburg</td>\n",
       "      <td>20:28:33</td>\n",
       "      <td>Wednesday</td>\n",
       "    </tr>\n",
       "    <tr>\n",
       "      <th>1</th>\n",
       "      <td>55204538</td>\n",
       "      <td>Delayed Because of Accident</td>\n",
       "      <td>Andreas Rönnberg</td>\n",
       "      <td>rock</td>\n",
       "      <td>Moscow</td>\n",
       "      <td>14:07:09</td>\n",
       "      <td>Friday</td>\n",
       "    </tr>\n",
       "    <tr>\n",
       "      <th>2</th>\n",
       "      <td>20EC38</td>\n",
       "      <td>Funiculì funiculà</td>\n",
       "      <td>Mario Lanza</td>\n",
       "      <td>pop</td>\n",
       "      <td>Saint-Petersburg</td>\n",
       "      <td>20:58:07</td>\n",
       "      <td>Wednesday</td>\n",
       "    </tr>\n",
       "    <tr>\n",
       "      <th>3</th>\n",
       "      <td>A3DD03C9</td>\n",
       "      <td>Dragons in the Sunset</td>\n",
       "      <td>Fire + Ice</td>\n",
       "      <td>folk</td>\n",
       "      <td>Saint-Petersburg</td>\n",
       "      <td>08:37:09</td>\n",
       "      <td>Monday</td>\n",
       "    </tr>\n",
       "    <tr>\n",
       "      <th>4</th>\n",
       "      <td>E2DC1FAE</td>\n",
       "      <td>Soul People</td>\n",
       "      <td>Space Echo</td>\n",
       "      <td>dance</td>\n",
       "      <td>Moscow</td>\n",
       "      <td>08:34:34</td>\n",
       "      <td>Monday</td>\n",
       "    </tr>\n",
       "    <tr>\n",
       "      <th>5</th>\n",
       "      <td>842029A1</td>\n",
       "      <td>Преданная</td>\n",
       "      <td>IMPERVTOR</td>\n",
       "      <td>rusrap</td>\n",
       "      <td>Saint-Petersburg</td>\n",
       "      <td>13:09:41</td>\n",
       "      <td>Friday</td>\n",
       "    </tr>\n",
       "    <tr>\n",
       "      <th>6</th>\n",
       "      <td>4CB90AA5</td>\n",
       "      <td>True</td>\n",
       "      <td>Roman Messer</td>\n",
       "      <td>dance</td>\n",
       "      <td>Moscow</td>\n",
       "      <td>13:00:07</td>\n",
       "      <td>Wednesday</td>\n",
       "    </tr>\n",
       "    <tr>\n",
       "      <th>7</th>\n",
       "      <td>F03E1C1F</td>\n",
       "      <td>Feeling This Way</td>\n",
       "      <td>Polina Griffith</td>\n",
       "      <td>dance</td>\n",
       "      <td>Moscow</td>\n",
       "      <td>20:47:49</td>\n",
       "      <td>Wednesday</td>\n",
       "    </tr>\n",
       "    <tr>\n",
       "      <th>8</th>\n",
       "      <td>8FA1D3BE</td>\n",
       "      <td>И вновь продолжается бой</td>\n",
       "      <td>NaN</td>\n",
       "      <td>ruspop</td>\n",
       "      <td>Moscow</td>\n",
       "      <td>09:17:40</td>\n",
       "      <td>Friday</td>\n",
       "    </tr>\n",
       "    <tr>\n",
       "      <th>9</th>\n",
       "      <td>E772D5C0</td>\n",
       "      <td>Pessimist</td>\n",
       "      <td>NaN</td>\n",
       "      <td>dance</td>\n",
       "      <td>Saint-Petersburg</td>\n",
       "      <td>21:20:49</td>\n",
       "      <td>Wednesday</td>\n",
       "    </tr>\n",
       "  </tbody>\n",
       "</table>\n",
       "</div>"
      ],
      "text/plain": [
       "     userID                        Track            artist   genre  \\\n",
       "0  FFB692EC            Kamigata To Boots  The Mass Missile    rock   \n",
       "1  55204538  Delayed Because of Accident  Andreas Rönnberg    rock   \n",
       "2    20EC38            Funiculì funiculà       Mario Lanza     pop   \n",
       "3  A3DD03C9        Dragons in the Sunset        Fire + Ice    folk   \n",
       "4  E2DC1FAE                  Soul People        Space Echo   dance   \n",
       "5  842029A1                    Преданная         IMPERVTOR  rusrap   \n",
       "6  4CB90AA5                         True      Roman Messer   dance   \n",
       "7  F03E1C1F             Feeling This Way   Polina Griffith   dance   \n",
       "8  8FA1D3BE     И вновь продолжается бой               NaN  ruspop   \n",
       "9  E772D5C0                    Pessimist               NaN   dance   \n",
       "\n",
       "             City        time        Day  \n",
       "0  Saint-Petersburg  20:28:33  Wednesday  \n",
       "1            Moscow  14:07:09     Friday  \n",
       "2  Saint-Petersburg  20:58:07  Wednesday  \n",
       "3  Saint-Petersburg  08:37:09     Monday  \n",
       "4            Moscow  08:34:34     Monday  \n",
       "5  Saint-Petersburg  13:09:41     Friday  \n",
       "6            Moscow  13:00:07  Wednesday  \n",
       "7            Moscow  20:47:49  Wednesday  \n",
       "8            Moscow  09:17:40     Friday  \n",
       "9  Saint-Petersburg  21:20:49  Wednesday  "
      ]
     },
     "execution_count": 3,
     "metadata": {},
     "output_type": "execute_result"
    }
   ],
   "source": [
    "# look at first 10 rows\n",
    "df.head(10)"
   ]
  },
  {
   "cell_type": "code",
   "execution_count": 4,
   "metadata": {
    "id": "DSf2kIb-_Zct"
   },
   "outputs": [
    {
     "name": "stdout",
     "output_type": "stream",
     "text": [
      "<class 'pandas.core.frame.DataFrame'>\n",
      "RangeIndex: 65079 entries, 0 to 65078\n",
      "Data columns (total 7 columns):\n",
      " #   Column    Non-Null Count  Dtype \n",
      "---  ------    --------------  ----- \n",
      " 0     userID  65079 non-null  object\n",
      " 1   Track     63848 non-null  object\n",
      " 2   artist    57876 non-null  object\n",
      " 3   genre     63881 non-null  object\n",
      " 4     City    65079 non-null  object\n",
      " 5   time      65079 non-null  object\n",
      " 6   Day       65079 non-null  object\n",
      "dtypes: object(7)\n",
      "memory usage: 3.5+ MB\n"
     ]
    }
   ],
   "source": [
    "# get info about data\n",
    "df.info()"
   ]
  },
  {
   "cell_type": "markdown",
   "metadata": {
    "id": "MCB6-dXG_Zct"
   },
   "source": [
    "**Conclusions**\n",
    "\n",
    "Thera are in every rows of table contains data about listened music track. Part of columns show data of track: name, singer and genre. Other parts show user's data: city, date and time listening.\n",
    "\n",
    "Dataset have some problems: gaps and different style of column names. It need to resolve."
   ]
  },
  {
   "cell_type": "markdown",
   "metadata": {
    "id": "SjYF6Ub9_Zct"
   },
   "source": [
    "## Preprocessing of data"
   ]
  },
  {
   "cell_type": "code",
   "execution_count": 5,
   "metadata": {
    "id": "ISlFqs5y_Zct"
   },
   "outputs": [],
   "source": [
    "# change column names\n",
    "df = df.rename(columns={'  userID':'user_id', 'Track':'track', '  City  ':'city', 'Day':'day'})"
   ]
  },
  {
   "cell_type": "code",
   "execution_count": 6,
   "metadata": {
    "id": "RskX29qr_Zct"
   },
   "outputs": [
    {
     "data": {
      "text/plain": [
       "user_id       0\n",
       "track      1231\n",
       "artist     7203\n",
       "genre      1198\n",
       "city          0\n",
       "time          0\n",
       "day           0\n",
       "dtype: int64"
      ]
     },
     "execution_count": 6,
     "metadata": {},
     "output_type": "execute_result"
    }
   ],
   "source": [
    "# couna NA values\n",
    "df.isna().sum()"
   ]
  },
  {
   "cell_type": "code",
   "execution_count": 7,
   "metadata": {
    "id": "KplB5qWs_Zct"
   },
   "outputs": [],
   "source": [
    "# change NA values in columns\n",
    "columns_to_replace = ['track', 'artist', 'genre']\n",
    "\n",
    "for column in columns_to_replace:\n",
    "    df[column] = df[column].fillna('unknown')"
   ]
  },
  {
   "cell_type": "code",
   "execution_count": 8,
   "metadata": {
    "id": "Tq4nYRX4_Zct"
   },
   "outputs": [
    {
     "data": {
      "text/plain": [
       "user_id    0\n",
       "track      0\n",
       "artist     0\n",
       "genre      0\n",
       "city       0\n",
       "time       0\n",
       "day        0\n",
       "dtype: int64"
      ]
     },
     "execution_count": 8,
     "metadata": {},
     "output_type": "execute_result"
    }
   ],
   "source": [
    "# check\n",
    "df.isna().sum()"
   ]
  },
  {
   "cell_type": "markdown",
   "metadata": {
    "id": "BWKRtBJ3_Zct"
   },
   "source": [
    "### Duplicates"
   ]
  },
  {
   "cell_type": "code",
   "execution_count": 9,
   "metadata": {
    "id": "36eES_S0_Zct"
   },
   "outputs": [
    {
     "data": {
      "text/plain": [
       "3826"
      ]
     },
     "execution_count": 9,
     "metadata": {},
     "output_type": "execute_result"
    }
   ],
   "source": [
    "# count duplicates\n",
    "df.duplicated().sum()"
   ]
  },
  {
   "cell_type": "code",
   "execution_count": 10,
   "metadata": {
    "id": "exFHq6tt_Zct"
   },
   "outputs": [],
   "source": [
    "# drop duplicates\n",
    "df = df.drop_duplicates().reset_index(drop=True)"
   ]
  },
  {
   "cell_type": "code",
   "execution_count": 11,
   "metadata": {
    "id": "-8PuNWQ0_Zct"
   },
   "outputs": [
    {
     "data": {
      "text/plain": [
       "0"
      ]
     },
     "execution_count": 11,
     "metadata": {},
     "output_type": "execute_result"
    }
   ],
   "source": [
    "# check\n",
    "df.duplicated().sum()"
   ]
  },
  {
   "cell_type": "markdown",
   "metadata": {},
   "source": [
    "#### Search for impicit duplicates"
   ]
  },
  {
   "cell_type": "code",
   "execution_count": 12,
   "metadata": {
    "id": "JIUcqzZN_Zct"
   },
   "outputs": [
    {
     "data": {
      "text/plain": [
       "array(['acid', 'acoustic', 'action', 'adult', 'africa', 'afrikaans',\n",
       "       'alternative', 'alternativepunk', 'ambient', 'americana',\n",
       "       'animated', 'anime', 'arabesk', 'arabic', 'arena',\n",
       "       'argentinetango', 'art', 'audiobook', 'author', 'avantgarde',\n",
       "       'axé', 'baile', 'balkan', 'beats', 'bigroom', 'black', 'bluegrass',\n",
       "       'blues', 'bollywood', 'bossa', 'brazilian', 'breakbeat', 'breaks',\n",
       "       'broadway', 'cantautori', 'cantopop', 'canzone', 'caribbean',\n",
       "       'caucasian', 'celtic', 'chamber', 'chanson', 'children', 'chill',\n",
       "       'chinese', 'choral', 'christian', 'christmas', 'classical',\n",
       "       'classicmetal', 'club', 'colombian', 'comedy', 'conjazz',\n",
       "       'contemporary', 'country', 'cuban', 'dance', 'dancehall',\n",
       "       'dancepop', 'dark', 'death', 'deep', 'deutschrock', 'deutschspr',\n",
       "       'dirty', 'disco', 'dnb', 'documentary', 'downbeat', 'downtempo',\n",
       "       'drum', 'dub', 'dubstep', 'eastern', 'easy', 'electronic',\n",
       "       'electropop', 'emo', 'entehno', 'epicmetal', 'estrada', 'ethnic',\n",
       "       'eurofolk', 'european', 'experimental', 'extrememetal', 'fado',\n",
       "       'fairytail', 'film', 'fitness', 'flamenco', 'folk', 'folklore',\n",
       "       'folkmetal', 'folkrock', 'folktronica', 'forró', 'frankreich',\n",
       "       'französisch', 'french', 'funk', 'future', 'gangsta', 'garage',\n",
       "       'german', 'ghazal', 'gitarre', 'glitch', 'gospel', 'gothic',\n",
       "       'grime', 'grunge', 'gypsy', 'handsup', \"hard'n'heavy\", 'hardcore',\n",
       "       'hardstyle', 'hardtechno', 'hip', 'hip-hop', 'hiphop',\n",
       "       'historisch', 'holiday', 'hop', 'horror', 'house', 'hymn', 'idm',\n",
       "       'independent', 'indian', 'indie', 'indipop', 'industrial',\n",
       "       'inspirational', 'instrumental', 'international', 'irish', 'jam',\n",
       "       'japanese', 'jazz', 'jewish', 'jpop', 'jungle', 'k-pop',\n",
       "       'karadeniz', 'karaoke', 'kayokyoku', 'korean', 'laiko', 'latin',\n",
       "       'latino', 'leftfield', 'local', 'lounge', 'loungeelectronic',\n",
       "       'lovers', 'malaysian', 'mandopop', 'marschmusik', 'meditative',\n",
       "       'mediterranean', 'melodic', 'metal', 'metalcore', 'mexican',\n",
       "       'middle', 'minimal', 'miscellaneous', 'modern', 'mood', 'mpb',\n",
       "       'muslim', 'native', 'neoklassik', 'neue', 'new', 'newage',\n",
       "       'newwave', 'nu', 'nujazz', 'numetal', 'oceania', 'old', 'opera',\n",
       "       'orchestral', 'other', 'piano', 'podcasts', 'pop', 'popdance',\n",
       "       'popelectronic', 'popeurodance', 'poprussian', 'post',\n",
       "       'posthardcore', 'postrock', 'power', 'progmetal', 'progressive',\n",
       "       'psychedelic', 'punjabi', 'punk', 'quebecois', 'ragga', 'ram',\n",
       "       'rancheras', 'rap', 'rave', 'reggae', 'reggaeton', 'regional',\n",
       "       'relax', 'religious', 'retro', 'rhythm', 'rnb', 'rnr', 'rock',\n",
       "       'rockabilly', 'rockalternative', 'rockindie', 'rockother',\n",
       "       'romance', 'roots', 'ruspop', 'rusrap', 'rusrock', 'russian',\n",
       "       'salsa', 'samba', 'scenic', 'schlager', 'self', 'sertanejo',\n",
       "       'shanson', 'shoegazing', 'showtunes', 'singer', 'ska', 'skarock',\n",
       "       'slow', 'smooth', 'soft', 'soul', 'soulful', 'sound', 'soundtrack',\n",
       "       'southern', 'specialty', 'speech', 'spiritual', 'sport',\n",
       "       'stonerrock', 'surf', 'swing', 'synthpop', 'synthrock',\n",
       "       'sängerportrait', 'tango', 'tanzorchester', 'taraftar', 'tatar',\n",
       "       'tech', 'techno', 'teen', 'thrash', 'top', 'traditional',\n",
       "       'tradjazz', 'trance', 'tribal', 'trip', 'triphop', 'tropical',\n",
       "       'türk', 'türkçe', 'ukrrock', 'unknown', 'urban', 'uzbek',\n",
       "       'variété', 'vi', 'videogame', 'vocal', 'western', 'world',\n",
       "       'worldbeat', 'ïîï', 'электроника'], dtype=object)"
      ]
     },
     "execution_count": 12,
     "metadata": {},
     "output_type": "execute_result"
    }
   ],
   "source": [
    "# unique genre names\n",
    "df['genre'].sort_values().unique()"
   ]
  },
  {
   "cell_type": "code",
   "execution_count": 13,
   "metadata": {
    "id": "ErNDkmns_Zct"
   },
   "outputs": [],
   "source": [
    "# function for replace impicit duplicates\n",
    "def replace_wrong_genres(wrong_genres, correct_genre):\n",
    "    for word in wrong_genres:\n",
    "        df['genre'] = df['genre'].replace(word, correct_genre)"
   ]
  },
  {
   "cell_type": "code",
   "execution_count": 14,
   "metadata": {
    "id": "YN5i2hpmSo09"
   },
   "outputs": [],
   "source": [
    "# apply function\n",
    "wrong_words_genres = ['hip', 'hop', 'hip-hop']\n",
    "\n",
    "replace_wrong_genres(wrong_words_genres, 'hiphop')"
   ]
  },
  {
   "cell_type": "code",
   "execution_count": 15,
   "metadata": {
    "id": "wvixALnFG15m"
   },
   "outputs": [
    {
     "data": {
      "text/plain": [
       "array(['acid', 'acoustic', 'action', 'adult', 'africa', 'afrikaans',\n",
       "       'alternative', 'alternativepunk', 'ambient', 'americana',\n",
       "       'animated', 'anime', 'arabesk', 'arabic', 'arena',\n",
       "       'argentinetango', 'art', 'audiobook', 'author', 'avantgarde',\n",
       "       'axé', 'baile', 'balkan', 'beats', 'bigroom', 'black', 'bluegrass',\n",
       "       'blues', 'bollywood', 'bossa', 'brazilian', 'breakbeat', 'breaks',\n",
       "       'broadway', 'cantautori', 'cantopop', 'canzone', 'caribbean',\n",
       "       'caucasian', 'celtic', 'chamber', 'chanson', 'children', 'chill',\n",
       "       'chinese', 'choral', 'christian', 'christmas', 'classical',\n",
       "       'classicmetal', 'club', 'colombian', 'comedy', 'conjazz',\n",
       "       'contemporary', 'country', 'cuban', 'dance', 'dancehall',\n",
       "       'dancepop', 'dark', 'death', 'deep', 'deutschrock', 'deutschspr',\n",
       "       'dirty', 'disco', 'dnb', 'documentary', 'downbeat', 'downtempo',\n",
       "       'drum', 'dub', 'dubstep', 'eastern', 'easy', 'electronic',\n",
       "       'electropop', 'emo', 'entehno', 'epicmetal', 'estrada', 'ethnic',\n",
       "       'eurofolk', 'european', 'experimental', 'extrememetal', 'fado',\n",
       "       'fairytail', 'film', 'fitness', 'flamenco', 'folk', 'folklore',\n",
       "       'folkmetal', 'folkrock', 'folktronica', 'forró', 'frankreich',\n",
       "       'französisch', 'french', 'funk', 'future', 'gangsta', 'garage',\n",
       "       'german', 'ghazal', 'gitarre', 'glitch', 'gospel', 'gothic',\n",
       "       'grime', 'grunge', 'gypsy', 'handsup', \"hard'n'heavy\", 'hardcore',\n",
       "       'hardstyle', 'hardtechno', 'hiphop', 'historisch', 'holiday',\n",
       "       'horror', 'house', 'hymn', 'idm', 'independent', 'indian', 'indie',\n",
       "       'indipop', 'industrial', 'inspirational', 'instrumental',\n",
       "       'international', 'irish', 'jam', 'japanese', 'jazz', 'jewish',\n",
       "       'jpop', 'jungle', 'k-pop', 'karadeniz', 'karaoke', 'kayokyoku',\n",
       "       'korean', 'laiko', 'latin', 'latino', 'leftfield', 'local',\n",
       "       'lounge', 'loungeelectronic', 'lovers', 'malaysian', 'mandopop',\n",
       "       'marschmusik', 'meditative', 'mediterranean', 'melodic', 'metal',\n",
       "       'metalcore', 'mexican', 'middle', 'minimal', 'miscellaneous',\n",
       "       'modern', 'mood', 'mpb', 'muslim', 'native', 'neoklassik', 'neue',\n",
       "       'new', 'newage', 'newwave', 'nu', 'nujazz', 'numetal', 'oceania',\n",
       "       'old', 'opera', 'orchestral', 'other', 'piano', 'podcasts', 'pop',\n",
       "       'popdance', 'popelectronic', 'popeurodance', 'poprussian', 'post',\n",
       "       'posthardcore', 'postrock', 'power', 'progmetal', 'progressive',\n",
       "       'psychedelic', 'punjabi', 'punk', 'quebecois', 'ragga', 'ram',\n",
       "       'rancheras', 'rap', 'rave', 'reggae', 'reggaeton', 'regional',\n",
       "       'relax', 'religious', 'retro', 'rhythm', 'rnb', 'rnr', 'rock',\n",
       "       'rockabilly', 'rockalternative', 'rockindie', 'rockother',\n",
       "       'romance', 'roots', 'ruspop', 'rusrap', 'rusrock', 'russian',\n",
       "       'salsa', 'samba', 'scenic', 'schlager', 'self', 'sertanejo',\n",
       "       'shanson', 'shoegazing', 'showtunes', 'singer', 'ska', 'skarock',\n",
       "       'slow', 'smooth', 'soft', 'soul', 'soulful', 'sound', 'soundtrack',\n",
       "       'southern', 'specialty', 'speech', 'spiritual', 'sport',\n",
       "       'stonerrock', 'surf', 'swing', 'synthpop', 'synthrock',\n",
       "       'sängerportrait', 'tango', 'tanzorchester', 'taraftar', 'tatar',\n",
       "       'tech', 'techno', 'teen', 'thrash', 'top', 'traditional',\n",
       "       'tradjazz', 'trance', 'tribal', 'trip', 'triphop', 'tropical',\n",
       "       'türk', 'türkçe', 'ukrrock', 'unknown', 'urban', 'uzbek',\n",
       "       'variété', 'vi', 'videogame', 'vocal', 'western', 'world',\n",
       "       'worldbeat', 'ïîï', 'электроника'], dtype=object)"
      ]
     },
     "execution_count": 15,
     "metadata": {},
     "output_type": "execute_result"
    }
   ],
   "source": [
    "# check\n",
    "df['genre'].sort_values().unique()"
   ]
  },
  {
   "cell_type": "markdown",
   "metadata": {
    "id": "jz6a9-7HQUDd"
   },
   "source": [
    "**Conclusions**\n",
    "\n",
    "Prepocessing showed three problems:\n",
    "- wrong style in column names\n",
    "- NA values\n",
    "- duplicates"
   ]
  },
  {
   "cell_type": "markdown",
   "metadata": {
    "id": "WttZHXH0SqKk"
   },
   "source": [
    "## Test hypothesis"
   ]
  },
  {
   "cell_type": "markdown",
   "metadata": {
    "id": "Im936VVi_Zcu"
   },
   "source": [
    "### Compare user activity by day of week in two cities"
   ]
  },
  {
   "cell_type": "code",
   "execution_count": 16,
   "metadata": {
    "id": "0_Qs96oh_Zcu"
   },
   "outputs": [
    {
     "data": {
      "text/plain": [
       "city\n",
       "Moscow              42741\n",
       "Saint-Petersburg    18512\n",
       "Name: track, dtype: int64"
      ]
     },
     "execution_count": 16,
     "metadata": {},
     "output_type": "execute_result"
    }
   ],
   "source": [
    "# count listening in every city\n",
    "df.groupby('city')['track'].count()"
   ]
  },
  {
   "cell_type": "markdown",
   "metadata": {
    "id": "dzli3w8o_Zcu"
   },
   "source": [
    "Moscow have more listening. "
   ]
  },
  {
   "cell_type": "code",
   "execution_count": 17,
   "metadata": {
    "id": "uZMKjiJz_Zcu"
   },
   "outputs": [
    {
     "data": {
      "text/plain": [
       "day\n",
       "Friday       21840\n",
       "Monday       21354\n",
       "Wednesday    18059\n",
       "Name: track, dtype: int64"
      ]
     },
     "execution_count": 17,
     "metadata": {},
     "output_type": "execute_result"
    }
   ],
   "source": [
    "# count listening by day of week\n",
    "df.groupby('day')['track'].count()"
   ]
  },
  {
   "cell_type": "markdown",
   "metadata": {
    "id": "cC2tNrlL_Zcu"
   },
   "source": [
    "User less listen music in Wenesday<br>\n",
    "Create function for counting listening by day and city."
   ]
  },
  {
   "cell_type": "code",
   "execution_count": 18,
   "metadata": {
    "id": "Nz3GdQB1_Zcu"
   },
   "outputs": [],
   "source": [
    "# function\n",
    "def number_tracks(day, city):\n",
    "    track_list = df[df['day'] == day]\n",
    "    track_list = track_list[track_list['city'] == city]\n",
    "    track_list_count = track_list['user_id'].count()\n",
    "    return track_list_count"
   ]
  },
  {
   "cell_type": "code",
   "execution_count": 19,
   "metadata": {
    "id": "rJcRATNQ_Zcu"
   },
   "outputs": [
    {
     "data": {
      "text/plain": [
       "15740"
      ]
     },
     "execution_count": 19,
     "metadata": {},
     "output_type": "execute_result"
    }
   ],
   "source": [
    "# Monday, Moscow\n",
    "number_tracks('Monday', 'Moscow')"
   ]
  },
  {
   "cell_type": "code",
   "execution_count": 20,
   "metadata": {
    "id": "hq_ncZ5T_Zcu"
   },
   "outputs": [
    {
     "data": {
      "text/plain": [
       "5614"
      ]
     },
     "execution_count": 20,
     "metadata": {},
     "output_type": "execute_result"
    }
   ],
   "source": [
    "# Monday, Saint-Petersburg\n",
    "number_tracks('Monday', 'Saint-Petersburg')"
   ]
  },
  {
   "cell_type": "code",
   "execution_count": 21,
   "metadata": {
    "id": "_NTy2VPU_Zcu"
   },
   "outputs": [
    {
     "data": {
      "text/plain": [
       "11056"
      ]
     },
     "execution_count": 21,
     "metadata": {},
     "output_type": "execute_result"
    }
   ],
   "source": [
    "# Wednesday, Moscow\n",
    "number_tracks('Wednesday', 'Moscow')"
   ]
  },
  {
   "cell_type": "code",
   "execution_count": 22,
   "metadata": {
    "id": "j2y3TAwo_Zcu"
   },
   "outputs": [
    {
     "data": {
      "text/plain": [
       "7003"
      ]
     },
     "execution_count": 22,
     "metadata": {},
     "output_type": "execute_result"
    }
   ],
   "source": [
    "# Wednesday, Saint-Petersburg\n",
    "number_tracks('Wednesday', 'Saint-Petersburg')"
   ]
  },
  {
   "cell_type": "code",
   "execution_count": 23,
   "metadata": {
    "id": "vYDw5u_K_Zcu"
   },
   "outputs": [
    {
     "data": {
      "text/plain": [
       "15945"
      ]
     },
     "execution_count": 23,
     "metadata": {},
     "output_type": "execute_result"
    }
   ],
   "source": [
    "# Friday, Moscow\n",
    "number_tracks('Friday', 'Moscow')"
   ]
  },
  {
   "cell_type": "code",
   "execution_count": 24,
   "metadata": {
    "id": "8_yzFtW3_Zcu"
   },
   "outputs": [
    {
     "data": {
      "text/plain": [
       "5895"
      ]
     },
     "execution_count": 24,
     "metadata": {},
     "output_type": "execute_result"
    }
   ],
   "source": [
    "# Friday, Saint-Petersburg\n",
    "number_tracks('Friday', 'Saint-Petersburg')"
   ]
  },
  {
   "cell_type": "code",
   "execution_count": 25,
   "metadata": {
    "id": "APAcLpOr_Zcu"
   },
   "outputs": [
    {
     "data": {
      "text/html": [
       "<div>\n",
       "<style scoped>\n",
       "    .dataframe tbody tr th:only-of-type {\n",
       "        vertical-align: middle;\n",
       "    }\n",
       "\n",
       "    .dataframe tbody tr th {\n",
       "        vertical-align: top;\n",
       "    }\n",
       "\n",
       "    .dataframe thead th {\n",
       "        text-align: right;\n",
       "    }\n",
       "</style>\n",
       "<table border=\"1\" class=\"dataframe\">\n",
       "  <thead>\n",
       "    <tr style=\"text-align: right;\">\n",
       "      <th></th>\n",
       "      <th>city</th>\n",
       "      <th>monday</th>\n",
       "      <th>wednesday</th>\n",
       "      <th>friday</th>\n",
       "    </tr>\n",
       "  </thead>\n",
       "  <tbody>\n",
       "    <tr>\n",
       "      <th>0</th>\n",
       "      <td>Moscow</td>\n",
       "      <td>15740</td>\n",
       "      <td>11056</td>\n",
       "      <td>15945</td>\n",
       "    </tr>\n",
       "    <tr>\n",
       "      <th>1</th>\n",
       "      <td>Saint-Petersburg</td>\n",
       "      <td>5614</td>\n",
       "      <td>7003</td>\n",
       "      <td>5845</td>\n",
       "    </tr>\n",
       "  </tbody>\n",
       "</table>\n",
       "</div>"
      ],
      "text/plain": [
       "               city  monday  wednesday  friday\n",
       "0            Moscow   15740      11056   15945\n",
       "1  Saint-Petersburg    5614       7003    5845"
      ]
     },
     "execution_count": 25,
     "metadata": {},
     "output_type": "execute_result"
    }
   ],
   "source": [
    "# create table with results\n",
    "columns = ['city', 'monday', 'wednesday', 'friday']\n",
    "data = [['Moscow', 15740, 11056, 15945], ['Saint-Petersburg', 5614, 7003, 5845]]\n",
    "\n",
    "df_city_by_day = pd.DataFrame(data=data, columns=columns)\n",
    "\n",
    "df_city_by_day"
   ]
  },
  {
   "cell_type": "markdown",
   "metadata": {
    "id": "-EgPIHYu_Zcu"
   },
   "source": [
    "**Conclusions**\n",
    "\n",
    "- There is peak listening in Monday and Friday in Moscow\n",
    "- In Sain-Petersburg peak listening is in Wednesday"
   ]
  },
  {
   "cell_type": "markdown",
   "metadata": {
    "id": "atZAxtq4_Zcu"
   },
   "source": [
    "### The check most popular genres in the start and the end of week\n",
    "Create two dataframe for every city"
   ]
  },
  {
   "cell_type": "code",
   "execution_count": 26,
   "metadata": {
    "id": "qeaFfM_P_Zcu"
   },
   "outputs": [
    {
     "data": {
      "text/html": [
       "<div>\n",
       "<style scoped>\n",
       "    .dataframe tbody tr th:only-of-type {\n",
       "        vertical-align: middle;\n",
       "    }\n",
       "\n",
       "    .dataframe tbody tr th {\n",
       "        vertical-align: top;\n",
       "    }\n",
       "\n",
       "    .dataframe thead th {\n",
       "        text-align: right;\n",
       "    }\n",
       "</style>\n",
       "<table border=\"1\" class=\"dataframe\">\n",
       "  <thead>\n",
       "    <tr style=\"text-align: right;\">\n",
       "      <th></th>\n",
       "      <th>user_id</th>\n",
       "      <th>track</th>\n",
       "      <th>artist</th>\n",
       "      <th>genre</th>\n",
       "      <th>city</th>\n",
       "      <th>time</th>\n",
       "      <th>day</th>\n",
       "    </tr>\n",
       "  </thead>\n",
       "  <tbody>\n",
       "    <tr>\n",
       "      <th>1</th>\n",
       "      <td>55204538</td>\n",
       "      <td>Delayed Because of Accident</td>\n",
       "      <td>Andreas Rönnberg</td>\n",
       "      <td>rock</td>\n",
       "      <td>Moscow</td>\n",
       "      <td>14:07:09</td>\n",
       "      <td>Friday</td>\n",
       "    </tr>\n",
       "    <tr>\n",
       "      <th>4</th>\n",
       "      <td>E2DC1FAE</td>\n",
       "      <td>Soul People</td>\n",
       "      <td>Space Echo</td>\n",
       "      <td>dance</td>\n",
       "      <td>Moscow</td>\n",
       "      <td>08:34:34</td>\n",
       "      <td>Monday</td>\n",
       "    </tr>\n",
       "    <tr>\n",
       "      <th>6</th>\n",
       "      <td>4CB90AA5</td>\n",
       "      <td>True</td>\n",
       "      <td>Roman Messer</td>\n",
       "      <td>dance</td>\n",
       "      <td>Moscow</td>\n",
       "      <td>13:00:07</td>\n",
       "      <td>Wednesday</td>\n",
       "    </tr>\n",
       "    <tr>\n",
       "      <th>7</th>\n",
       "      <td>F03E1C1F</td>\n",
       "      <td>Feeling This Way</td>\n",
       "      <td>Polina Griffith</td>\n",
       "      <td>dance</td>\n",
       "      <td>Moscow</td>\n",
       "      <td>20:47:49</td>\n",
       "      <td>Wednesday</td>\n",
       "    </tr>\n",
       "    <tr>\n",
       "      <th>8</th>\n",
       "      <td>8FA1D3BE</td>\n",
       "      <td>И вновь продолжается бой</td>\n",
       "      <td>unknown</td>\n",
       "      <td>ruspop</td>\n",
       "      <td>Moscow</td>\n",
       "      <td>09:17:40</td>\n",
       "      <td>Friday</td>\n",
       "    </tr>\n",
       "    <tr>\n",
       "      <th>...</th>\n",
       "      <td>...</td>\n",
       "      <td>...</td>\n",
       "      <td>...</td>\n",
       "      <td>...</td>\n",
       "      <td>...</td>\n",
       "      <td>...</td>\n",
       "      <td>...</td>\n",
       "    </tr>\n",
       "    <tr>\n",
       "      <th>61247</th>\n",
       "      <td>83A474E7</td>\n",
       "      <td>I Worship Only What You Bleed</td>\n",
       "      <td>The Black Dahlia Murder</td>\n",
       "      <td>extrememetal</td>\n",
       "      <td>Moscow</td>\n",
       "      <td>21:07:12</td>\n",
       "      <td>Monday</td>\n",
       "    </tr>\n",
       "    <tr>\n",
       "      <th>61248</th>\n",
       "      <td>729CBB09</td>\n",
       "      <td>My Name</td>\n",
       "      <td>McLean</td>\n",
       "      <td>rnb</td>\n",
       "      <td>Moscow</td>\n",
       "      <td>13:32:28</td>\n",
       "      <td>Wednesday</td>\n",
       "    </tr>\n",
       "    <tr>\n",
       "      <th>61250</th>\n",
       "      <td>C5E3A0D5</td>\n",
       "      <td>Jalopiina</td>\n",
       "      <td>unknown</td>\n",
       "      <td>industrial</td>\n",
       "      <td>Moscow</td>\n",
       "      <td>20:09:26</td>\n",
       "      <td>Friday</td>\n",
       "    </tr>\n",
       "    <tr>\n",
       "      <th>61251</th>\n",
       "      <td>321D0506</td>\n",
       "      <td>Freight Train</td>\n",
       "      <td>Chas McDevitt</td>\n",
       "      <td>rock</td>\n",
       "      <td>Moscow</td>\n",
       "      <td>21:43:59</td>\n",
       "      <td>Friday</td>\n",
       "    </tr>\n",
       "    <tr>\n",
       "      <th>61252</th>\n",
       "      <td>3A64EF84</td>\n",
       "      <td>Tell Me Sweet Little Lies</td>\n",
       "      <td>Monica Lopez</td>\n",
       "      <td>country</td>\n",
       "      <td>Moscow</td>\n",
       "      <td>21:59:46</td>\n",
       "      <td>Friday</td>\n",
       "    </tr>\n",
       "  </tbody>\n",
       "</table>\n",
       "<p>42741 rows × 7 columns</p>\n",
       "</div>"
      ],
      "text/plain": [
       "        user_id                          track                   artist  \\\n",
       "1      55204538    Delayed Because of Accident         Andreas Rönnberg   \n",
       "4      E2DC1FAE                    Soul People               Space Echo   \n",
       "6      4CB90AA5                           True             Roman Messer   \n",
       "7      F03E1C1F               Feeling This Way          Polina Griffith   \n",
       "8      8FA1D3BE       И вновь продолжается бой                  unknown   \n",
       "...         ...                            ...                      ...   \n",
       "61247  83A474E7  I Worship Only What You Bleed  The Black Dahlia Murder   \n",
       "61248  729CBB09                        My Name                   McLean   \n",
       "61250  C5E3A0D5                      Jalopiina                  unknown   \n",
       "61251  321D0506                  Freight Train            Chas McDevitt   \n",
       "61252  3A64EF84      Tell Me Sweet Little Lies             Monica Lopez   \n",
       "\n",
       "              genre    city      time        day  \n",
       "1              rock  Moscow  14:07:09     Friday  \n",
       "4             dance  Moscow  08:34:34     Monday  \n",
       "6             dance  Moscow  13:00:07  Wednesday  \n",
       "7             dance  Moscow  20:47:49  Wednesday  \n",
       "8            ruspop  Moscow  09:17:40     Friday  \n",
       "...             ...     ...       ...        ...  \n",
       "61247  extrememetal  Moscow  21:07:12     Monday  \n",
       "61248           rnb  Moscow  13:32:28  Wednesday  \n",
       "61250    industrial  Moscow  20:09:26     Friday  \n",
       "61251          rock  Moscow  21:43:59     Friday  \n",
       "61252       country  Moscow  21:59:46     Friday  \n",
       "\n",
       "[42741 rows x 7 columns]"
      ]
     },
     "execution_count": 26,
     "metadata": {},
     "output_type": "execute_result"
    }
   ],
   "source": [
    "# df for Moscow\n",
    "moscow_general = df[df['city'] == 'Moscow']\n",
    "moscow_general"
   ]
  },
  {
   "cell_type": "code",
   "execution_count": 27,
   "metadata": {
    "id": "ORaVRKto_Zcu"
   },
   "outputs": [
    {
     "data": {
      "text/html": [
       "<div>\n",
       "<style scoped>\n",
       "    .dataframe tbody tr th:only-of-type {\n",
       "        vertical-align: middle;\n",
       "    }\n",
       "\n",
       "    .dataframe tbody tr th {\n",
       "        vertical-align: top;\n",
       "    }\n",
       "\n",
       "    .dataframe thead th {\n",
       "        text-align: right;\n",
       "    }\n",
       "</style>\n",
       "<table border=\"1\" class=\"dataframe\">\n",
       "  <thead>\n",
       "    <tr style=\"text-align: right;\">\n",
       "      <th></th>\n",
       "      <th>user_id</th>\n",
       "      <th>track</th>\n",
       "      <th>artist</th>\n",
       "      <th>genre</th>\n",
       "      <th>city</th>\n",
       "      <th>time</th>\n",
       "      <th>day</th>\n",
       "    </tr>\n",
       "  </thead>\n",
       "  <tbody>\n",
       "    <tr>\n",
       "      <th>0</th>\n",
       "      <td>FFB692EC</td>\n",
       "      <td>Kamigata To Boots</td>\n",
       "      <td>The Mass Missile</td>\n",
       "      <td>rock</td>\n",
       "      <td>Saint-Petersburg</td>\n",
       "      <td>20:28:33</td>\n",
       "      <td>Wednesday</td>\n",
       "    </tr>\n",
       "    <tr>\n",
       "      <th>2</th>\n",
       "      <td>20EC38</td>\n",
       "      <td>Funiculì funiculà</td>\n",
       "      <td>Mario Lanza</td>\n",
       "      <td>pop</td>\n",
       "      <td>Saint-Petersburg</td>\n",
       "      <td>20:58:07</td>\n",
       "      <td>Wednesday</td>\n",
       "    </tr>\n",
       "    <tr>\n",
       "      <th>3</th>\n",
       "      <td>A3DD03C9</td>\n",
       "      <td>Dragons in the Sunset</td>\n",
       "      <td>Fire + Ice</td>\n",
       "      <td>folk</td>\n",
       "      <td>Saint-Petersburg</td>\n",
       "      <td>08:37:09</td>\n",
       "      <td>Monday</td>\n",
       "    </tr>\n",
       "    <tr>\n",
       "      <th>5</th>\n",
       "      <td>842029A1</td>\n",
       "      <td>Преданная</td>\n",
       "      <td>IMPERVTOR</td>\n",
       "      <td>rusrap</td>\n",
       "      <td>Saint-Petersburg</td>\n",
       "      <td>13:09:41</td>\n",
       "      <td>Friday</td>\n",
       "    </tr>\n",
       "    <tr>\n",
       "      <th>9</th>\n",
       "      <td>E772D5C0</td>\n",
       "      <td>Pessimist</td>\n",
       "      <td>unknown</td>\n",
       "      <td>dance</td>\n",
       "      <td>Saint-Petersburg</td>\n",
       "      <td>21:20:49</td>\n",
       "      <td>Wednesday</td>\n",
       "    </tr>\n",
       "    <tr>\n",
       "      <th>...</th>\n",
       "      <td>...</td>\n",
       "      <td>...</td>\n",
       "      <td>...</td>\n",
       "      <td>...</td>\n",
       "      <td>...</td>\n",
       "      <td>...</td>\n",
       "      <td>...</td>\n",
       "    </tr>\n",
       "    <tr>\n",
       "      <th>61239</th>\n",
       "      <td>D94F810B</td>\n",
       "      <td>Theme from the Walking Dead</td>\n",
       "      <td>Proyecto Halloween</td>\n",
       "      <td>film</td>\n",
       "      <td>Saint-Petersburg</td>\n",
       "      <td>21:14:40</td>\n",
       "      <td>Monday</td>\n",
       "    </tr>\n",
       "    <tr>\n",
       "      <th>61240</th>\n",
       "      <td>BC8EC5CF</td>\n",
       "      <td>Red Lips: Gta (Rover Rework)</td>\n",
       "      <td>Rover</td>\n",
       "      <td>electronic</td>\n",
       "      <td>Saint-Petersburg</td>\n",
       "      <td>21:06:50</td>\n",
       "      <td>Monday</td>\n",
       "    </tr>\n",
       "    <tr>\n",
       "      <th>61241</th>\n",
       "      <td>29E04611</td>\n",
       "      <td>Bre Petrunko</td>\n",
       "      <td>Perunika Trio</td>\n",
       "      <td>world</td>\n",
       "      <td>Saint-Petersburg</td>\n",
       "      <td>13:56:00</td>\n",
       "      <td>Monday</td>\n",
       "    </tr>\n",
       "    <tr>\n",
       "      <th>61242</th>\n",
       "      <td>1B91C621</td>\n",
       "      <td>(Hello) Cloud Mountain</td>\n",
       "      <td>sleepmakeswaves</td>\n",
       "      <td>postrock</td>\n",
       "      <td>Saint-Petersburg</td>\n",
       "      <td>09:22:13</td>\n",
       "      <td>Monday</td>\n",
       "    </tr>\n",
       "    <tr>\n",
       "      <th>61249</th>\n",
       "      <td>D08D4A55</td>\n",
       "      <td>Maybe One Day (feat. Black Spade)</td>\n",
       "      <td>Blu &amp; Exile</td>\n",
       "      <td>hiphop</td>\n",
       "      <td>Saint-Petersburg</td>\n",
       "      <td>10:00:00</td>\n",
       "      <td>Monday</td>\n",
       "    </tr>\n",
       "  </tbody>\n",
       "</table>\n",
       "<p>18512 rows × 7 columns</p>\n",
       "</div>"
      ],
      "text/plain": [
       "        user_id                              track              artist  \\\n",
       "0      FFB692EC                  Kamigata To Boots    The Mass Missile   \n",
       "2        20EC38                  Funiculì funiculà         Mario Lanza   \n",
       "3      A3DD03C9              Dragons in the Sunset          Fire + Ice   \n",
       "5      842029A1                          Преданная           IMPERVTOR   \n",
       "9      E772D5C0                          Pessimist             unknown   \n",
       "...         ...                                ...                 ...   \n",
       "61239  D94F810B        Theme from the Walking Dead  Proyecto Halloween   \n",
       "61240  BC8EC5CF       Red Lips: Gta (Rover Rework)               Rover   \n",
       "61241  29E04611                       Bre Petrunko       Perunika Trio   \n",
       "61242  1B91C621             (Hello) Cloud Mountain     sleepmakeswaves   \n",
       "61249  D08D4A55  Maybe One Day (feat. Black Spade)         Blu & Exile   \n",
       "\n",
       "            genre              city      time        day  \n",
       "0            rock  Saint-Petersburg  20:28:33  Wednesday  \n",
       "2             pop  Saint-Petersburg  20:58:07  Wednesday  \n",
       "3            folk  Saint-Petersburg  08:37:09     Monday  \n",
       "5          rusrap  Saint-Petersburg  13:09:41     Friday  \n",
       "9           dance  Saint-Petersburg  21:20:49  Wednesday  \n",
       "...           ...               ...       ...        ...  \n",
       "61239        film  Saint-Petersburg  21:14:40     Monday  \n",
       "61240  electronic  Saint-Petersburg  21:06:50     Monday  \n",
       "61241       world  Saint-Petersburg  13:56:00     Monday  \n",
       "61242    postrock  Saint-Petersburg  09:22:13     Monday  \n",
       "61249      hiphop  Saint-Petersburg  10:00:00     Monday  \n",
       "\n",
       "[18512 rows x 7 columns]"
      ]
     },
     "execution_count": 27,
     "metadata": {},
     "output_type": "execute_result"
    }
   ],
   "source": [
    "# df for Saint-Petersburg\n",
    "spb_general = df[df['city'] == 'Saint-Petersburg']\n",
    "spb_general"
   ]
  },
  {
   "cell_type": "markdown",
   "metadata": {
    "id": "MEJV-CX2_Zcu"
   },
   "source": [
    "Create function that return TOP-10 genres of most popular tracks in certain day and time"
   ]
  },
  {
   "cell_type": "code",
   "execution_count": 28,
   "metadata": {
    "id": "laJT9BYl_Zcu"
   },
   "outputs": [],
   "source": [
    "# function\n",
    "def genre_weekday(table, day, time1, time2):\n",
    "    genre_df = table[table['day'] == day]\n",
    "    genre_df = genre_df[genre_df['time'] > time1]\n",
    "    genre_df = genre_df[genre_df['time'] < time2]\n",
    "    genre_df_count = genre_df.groupby('genre')['genre'].count()\n",
    "    genre_df_sorted = genre_df_count.sort_values(ascending=False)\n",
    "    return genre_df_sorted.head(10)"
   ]
  },
  {
   "cell_type": "markdown",
   "metadata": {
    "id": "la2s2_PF_Zcu"
   },
   "source": [
    "The compare"
   ]
  },
  {
   "cell_type": "code",
   "execution_count": 29,
   "metadata": {
    "id": "yz7itPUQ_Zcu"
   },
   "outputs": [
    {
     "data": {
      "text/plain": [
       "genre\n",
       "pop            781\n",
       "dance          549\n",
       "electronic     480\n",
       "rock           474\n",
       "hiphop         286\n",
       "ruspop         186\n",
       "world          181\n",
       "rusrap         175\n",
       "alternative    164\n",
       "unknown        161\n",
       "Name: genre, dtype: int64"
      ]
     },
     "execution_count": 29,
     "metadata": {},
     "output_type": "execute_result"
    }
   ],
   "source": [
    "# start week of Moscow\n",
    "genre_weekday(moscow_general, 'Monday', '07:00', '11:00')"
   ]
  },
  {
   "cell_type": "code",
   "execution_count": 30,
   "metadata": {
    "id": "kwUcHPdy_Zcu"
   },
   "outputs": [
    {
     "data": {
      "text/plain": [
       "genre\n",
       "pop            218\n",
       "dance          182\n",
       "rock           162\n",
       "electronic     147\n",
       "hiphop          80\n",
       "ruspop          64\n",
       "alternative     58\n",
       "rusrap          55\n",
       "jazz            44\n",
       "classical       40\n",
       "Name: genre, dtype: int64"
      ]
     },
     "execution_count": 30,
     "metadata": {},
     "output_type": "execute_result"
    }
   ],
   "source": [
    "# start week of Saint-Petersburg\n",
    "genre_weekday(spb_general, 'Monday', '07:00', '11:00')"
   ]
  },
  {
   "cell_type": "code",
   "execution_count": 31,
   "metadata": {
    "id": "EzXVRE1o_Zcu"
   },
   "outputs": [
    {
     "data": {
      "text/plain": [
       "genre\n",
       "pop            717\n",
       "dance          524\n",
       "rock           518\n",
       "electronic     485\n",
       "hiphop         238\n",
       "alternative    182\n",
       "classical      172\n",
       "world          172\n",
       "ruspop         149\n",
       "rusrap         133\n",
       "Name: genre, dtype: int64"
      ]
     },
     "execution_count": 31,
     "metadata": {},
     "output_type": "execute_result"
    }
   ],
   "source": [
    "# enf of week for Moscow\n",
    "genre_weekday(moscow_general, 'Monday', '17:00', '23:00')"
   ]
  },
  {
   "cell_type": "code",
   "execution_count": 32,
   "metadata": {
    "id": "JZaEKu5v_Zcu"
   },
   "outputs": [
    {
     "data": {
      "text/plain": [
       "genre\n",
       "pop            263\n",
       "rock           208\n",
       "electronic     192\n",
       "dance          191\n",
       "hiphop         104\n",
       "alternative     72\n",
       "classical       71\n",
       "jazz            57\n",
       "rusrap          54\n",
       "ruspop          53\n",
       "Name: genre, dtype: int64"
      ]
     },
     "execution_count": 32,
     "metadata": {},
     "output_type": "execute_result"
    }
   ],
   "source": [
    "# end of week for Saint-Petersburg\n",
    "genre_weekday(spb_general, 'Monday', '17:00', '23:00')"
   ]
  },
  {
   "cell_type": "markdown",
   "metadata": {
    "id": "wrCe4MNX_Zcu"
   },
   "source": [
    "**Conclusions**\n",
    "\n",
    "1. Users listen similar music in Moscow and Saint-Petersburg.\n",
    "\n",
    "2. There is 'unknown' genre in ten place of TOP-10 raiting in Moscow."
   ]
  },
  {
   "cell_type": "markdown",
   "metadata": {
    "id": "JolODAqr_Zcu"
   },
   "source": [
    "### The check genres of music in two cities"
   ]
  },
  {
   "cell_type": "code",
   "execution_count": 33,
   "metadata": {
    "id": "r19lIPke_Zcu"
   },
   "outputs": [
    {
     "data": {
      "text/plain": [
       "genre\n",
       "pop            5892\n",
       "dance          4435\n",
       "rock           3965\n",
       "electronic     3786\n",
       "hiphop         2096\n",
       "classical      1616\n",
       "world          1432\n",
       "alternative    1379\n",
       "ruspop         1372\n",
       "rusrap         1161\n",
       "Name: track, dtype: int64"
      ]
     },
     "execution_count": 33,
     "metadata": {},
     "output_type": "execute_result"
    }
   ],
   "source": [
    "# count tracks by genre in Moscow\n",
    "moscow_genres = moscow_general.groupby('genre')['track'].count()\n",
    "moscow_genres = moscow_genres.sort_values(ascending=False)\n",
    "moscow_genres.head(10)"
   ]
  },
  {
   "cell_type": "code",
   "execution_count": 34,
   "metadata": {
    "id": "gluLIpE7_Zcv"
   },
   "outputs": [
    {
     "data": {
      "text/plain": [
       "genre\n",
       "pop            2431\n",
       "dance          1932\n",
       "rock           1879\n",
       "electronic     1736\n",
       "hiphop          960\n",
       "alternative     649\n",
       "classical       646\n",
       "rusrap          564\n",
       "ruspop          538\n",
       "world           515\n",
       "Name: track, dtype: int64"
      ]
     },
     "execution_count": 34,
     "metadata": {},
     "output_type": "execute_result"
    }
   ],
   "source": [
    "# count tracks by genre in Saint-Petersburg\n",
    "spb_genres = spb_general.groupby('genre')['track'].count()\n",
    "spb_genres = spb_genres.sort_values(ascending=False)\n",
    "spb_genres.head(10)"
   ]
  },
  {
   "cell_type": "markdown",
   "metadata": {
    "id": "RY51YJYu_Zcv"
   },
   "source": [
    "**Conclusions**\n",
    "- 'pop' is most popular genre in Moscow.\n",
    "- 'rusrap' is equally popular in two cities "
   ]
  },
  {
   "cell_type": "markdown",
   "metadata": {
    "id": "ykKQ0N65_Zcv"
   },
   "source": [
    "## Result\n",
    "\n",
    "1. A day of week has a different effect on user activity in Moscow and Saint-Petersburg\n",
    "\n",
    "2. The musical preferences don't change much during the week in both cities\n",
    "\n",
    "3. Moscow and Saint-Petersburg have more in common than differences"
   ]
  }
 ],
 "metadata": {
  "ExecuteTimeLog": [
   {
    "duration": 618,
    "start_time": "2022-01-23T09:17:28.836Z"
   },
   {
    "duration": 155,
    "start_time": "2022-01-23T09:18:14.360Z"
   },
   {
    "duration": 16,
    "start_time": "2022-01-23T09:18:22.518Z"
   },
   {
    "duration": 9,
    "start_time": "2022-01-23T09:18:32.891Z"
   },
   {
    "duration": 26,
    "start_time": "2022-01-23T09:23:41.863Z"
   },
   {
    "duration": 22,
    "start_time": "2022-01-23T09:23:48.350Z"
   },
   {
    "duration": 4,
    "start_time": "2022-01-23T09:34:00.114Z"
   },
   {
    "duration": 35,
    "start_time": "2022-01-23T09:35:39.688Z"
   },
   {
    "duration": 4,
    "start_time": "2022-01-23T09:35:58.542Z"
   },
   {
    "duration": 16,
    "start_time": "2022-01-23T09:38:05.276Z"
   },
   {
    "duration": 5,
    "start_time": "2022-01-23T09:38:07.903Z"
   },
   {
    "duration": 22,
    "start_time": "2022-01-23T09:40:54.084Z"
   },
   {
    "duration": 26,
    "start_time": "2022-01-23T09:40:58.441Z"
   },
   {
    "duration": 35,
    "start_time": "2022-01-23T09:42:38.564Z"
   },
   {
    "duration": 3,
    "start_time": "2022-01-23T09:50:06.407Z"
   },
   {
    "duration": 15,
    "start_time": "2022-01-23T09:50:09.537Z"
   },
   {
    "duration": 2,
    "start_time": "2022-01-23T09:50:18.794Z"
   },
   {
    "duration": 21,
    "start_time": "2022-01-23T09:50:28.336Z"
   },
   {
    "duration": 52,
    "start_time": "2022-01-23T09:52:53.718Z"
   },
   {
    "duration": 55,
    "start_time": "2022-01-23T10:00:39.488Z"
   },
   {
    "duration": 48,
    "start_time": "2022-01-23T10:00:41.519Z"
   },
   {
    "duration": 14096,
    "start_time": "2022-01-23T10:10:32.519Z"
   },
   {
    "duration": 9630,
    "start_time": "2022-01-23T10:10:48.667Z"
   },
   {
    "duration": 5,
    "start_time": "2022-01-23T10:11:10.994Z"
   },
   {
    "duration": 367,
    "start_time": "2022-01-23T10:20:50.896Z"
   },
   {
    "duration": 35,
    "start_time": "2022-01-23T10:22:04.596Z"
   },
   {
    "duration": 3,
    "start_time": "2022-01-23T10:33:55.727Z"
   },
   {
    "duration": 9,
    "start_time": "2022-01-23T10:33:58.032Z"
   },
   {
    "duration": 36,
    "start_time": "2022-01-23T10:34:02.138Z"
   },
   {
    "duration": 27,
    "start_time": "2022-01-23T10:40:52.809Z"
   },
   {
    "duration": 11,
    "start_time": "2022-01-23T10:41:19.769Z"
   },
   {
    "duration": 10,
    "start_time": "2022-01-23T10:43:44.766Z"
   },
   {
    "duration": 331,
    "start_time": "2022-01-23T10:56:02.808Z"
   },
   {
    "duration": 3,
    "start_time": "2022-01-23T10:56:08.356Z"
   },
   {
    "duration": 22,
    "start_time": "2022-01-23T10:56:11.128Z"
   },
   {
    "duration": 13,
    "start_time": "2022-01-23T10:56:49.224Z"
   },
   {
    "duration": 13,
    "start_time": "2022-01-23T10:57:16.661Z"
   },
   {
    "duration": 13,
    "start_time": "2022-01-23T10:57:36.176Z"
   },
   {
    "duration": 20,
    "start_time": "2022-01-23T10:58:09.940Z"
   },
   {
    "duration": 19,
    "start_time": "2022-01-23T10:58:22.710Z"
   },
   {
    "duration": 8,
    "start_time": "2022-01-23T11:13:13.291Z"
   },
   {
    "duration": 10,
    "start_time": "2022-01-23T11:17:10.553Z"
   },
   {
    "duration": 4,
    "start_time": "2022-01-23T11:18:02.519Z"
   },
   {
    "duration": 4,
    "start_time": "2022-01-23T11:18:07.215Z"
   },
   {
    "duration": 10,
    "start_time": "2022-01-23T11:18:14.195Z"
   },
   {
    "duration": 10,
    "start_time": "2022-01-23T11:18:47.869Z"
   },
   {
    "duration": 4,
    "start_time": "2022-01-23T11:39:25.777Z"
   },
   {
    "duration": 9852,
    "start_time": "2022-01-23T11:40:54.815Z"
   },
   {
    "duration": 4,
    "start_time": "2022-01-23T11:41:28.928Z"
   },
   {
    "duration": 8925,
    "start_time": "2022-01-23T11:41:31.999Z"
   },
   {
    "duration": 28,
    "start_time": "2022-01-23T11:49:31.315Z"
   },
   {
    "duration": 20,
    "start_time": "2022-01-23T11:49:39.648Z"
   },
   {
    "duration": 4,
    "start_time": "2022-01-23T11:49:43.474Z"
   },
   {
    "duration": 713,
    "start_time": "2022-01-23T11:49:47.807Z"
   },
   {
    "duration": 4,
    "start_time": "2022-01-23T11:50:11.408Z"
   },
   {
    "duration": 24,
    "start_time": "2022-01-23T11:50:13.947Z"
   },
   {
    "duration": 13,
    "start_time": "2022-01-23T11:50:41.709Z"
   },
   {
    "duration": 16,
    "start_time": "2022-01-23T11:51:00.477Z"
   },
   {
    "duration": 11,
    "start_time": "2022-01-23T11:51:20.797Z"
   },
   {
    "duration": 8,
    "start_time": "2022-01-23T12:00:03.844Z"
   },
   {
    "duration": 4,
    "start_time": "2022-01-23T12:00:12.519Z"
   },
   {
    "duration": 6,
    "start_time": "2022-01-23T12:00:41.890Z"
   },
   {
    "duration": 5,
    "start_time": "2022-01-23T12:00:57.385Z"
   },
   {
    "duration": 8,
    "start_time": "2022-01-23T12:02:42.664Z"
   },
   {
    "duration": 4,
    "start_time": "2022-01-23T12:02:44.571Z"
   },
   {
    "duration": 7,
    "start_time": "2022-01-23T12:03:04.256Z"
   },
   {
    "duration": 5,
    "start_time": "2022-01-23T12:03:06.453Z"
   },
   {
    "duration": 667,
    "start_time": "2022-01-24T17:14:05.199Z"
   },
   {
    "duration": 128,
    "start_time": "2022-01-24T17:14:08.326Z"
   },
   {
    "duration": 16,
    "start_time": "2022-01-24T17:14:11.348Z"
   },
   {
    "duration": 26,
    "start_time": "2022-01-24T17:14:15.281Z"
   },
   {
    "duration": 4,
    "start_time": "2022-01-24T17:14:31.201Z"
   },
   {
    "duration": 20,
    "start_time": "2022-01-24T17:14:40.898Z"
   },
   {
    "duration": 3,
    "start_time": "2022-01-24T17:14:48.165Z"
   },
   {
    "duration": 23,
    "start_time": "2022-01-24T17:15:00.576Z"
   },
   {
    "duration": 17,
    "start_time": "2022-01-24T17:15:07.058Z"
   },
   {
    "duration": 21,
    "start_time": "2022-01-24T17:15:15.589Z"
   },
   {
    "duration": 53,
    "start_time": "2022-01-24T17:15:23.794Z"
   },
   {
    "duration": 63,
    "start_time": "2022-01-24T17:15:28.975Z"
   },
   {
    "duration": 77,
    "start_time": "2022-01-24T17:15:32.259Z"
   },
   {
    "duration": 38,
    "start_time": "2022-01-24T17:15:45.850Z"
   },
   {
    "duration": 3,
    "start_time": "2022-01-24T17:15:52.615Z"
   },
   {
    "duration": 12,
    "start_time": "2022-01-24T17:15:56.092Z"
   },
   {
    "duration": 39,
    "start_time": "2022-01-24T17:16:00.365Z"
   },
   {
    "duration": 11,
    "start_time": "2022-01-24T17:16:13.089Z"
   },
   {
    "duration": 12,
    "start_time": "2022-01-24T17:16:21.247Z"
   },
   {
    "duration": 3,
    "start_time": "2022-01-24T17:16:25.967Z"
   },
   {
    "duration": 15,
    "start_time": "2022-01-24T17:16:28.501Z"
   },
   {
    "duration": 16,
    "start_time": "2022-01-24T17:16:30.416Z"
   },
   {
    "duration": 14,
    "start_time": "2022-01-24T17:16:32.687Z"
   },
   {
    "duration": 13,
    "start_time": "2022-01-24T17:16:35.243Z"
   },
   {
    "duration": 16,
    "start_time": "2022-01-24T17:16:38.458Z"
   },
   {
    "duration": 15,
    "start_time": "2022-01-24T17:16:40.282Z"
   },
   {
    "duration": 11,
    "start_time": "2022-01-24T17:16:46.654Z"
   },
   {
    "duration": 21,
    "start_time": "2022-01-24T17:16:51.182Z"
   },
   {
    "duration": 18,
    "start_time": "2022-01-24T17:16:54.963Z"
   },
   {
    "duration": 4,
    "start_time": "2022-01-24T17:16:59.503Z"
   },
   {
    "duration": 18,
    "start_time": "2022-01-24T17:17:08.298Z"
   },
   {
    "duration": 12,
    "start_time": "2022-01-24T17:17:22.705Z"
   },
   {
    "duration": 16,
    "start_time": "2022-01-24T17:17:31.420Z"
   },
   {
    "duration": 14,
    "start_time": "2022-01-24T17:17:41.133Z"
   },
   {
    "duration": 12,
    "start_time": "2022-01-24T17:17:45.832Z"
   },
   {
    "duration": 5,
    "start_time": "2022-01-24T17:17:52.422Z"
   },
   {
    "duration": 7,
    "start_time": "2022-01-24T17:17:55.959Z"
   },
   {
    "duration": 5,
    "start_time": "2022-01-24T17:18:01.848Z"
   },
   {
    "duration": 589,
    "start_time": "2022-01-31T21:17:34.678Z"
   },
   {
    "duration": 179,
    "start_time": "2022-01-31T21:17:35.269Z"
   },
   {
    "duration": 20,
    "start_time": "2022-01-31T21:17:35.450Z"
   },
   {
    "duration": 27,
    "start_time": "2022-01-31T21:17:35.472Z"
   },
   {
    "duration": 4,
    "start_time": "2022-01-31T21:17:35.501Z"
   },
   {
    "duration": 58,
    "start_time": "2022-01-31T21:17:35.506Z"
   },
   {
    "duration": 7,
    "start_time": "2022-01-31T21:17:35.566Z"
   },
   {
    "duration": 27,
    "start_time": "2022-01-31T21:17:35.576Z"
   },
   {
    "duration": 20,
    "start_time": "2022-01-31T21:17:35.606Z"
   },
   {
    "duration": 41,
    "start_time": "2022-01-31T21:17:35.628Z"
   },
   {
    "duration": 72,
    "start_time": "2022-01-31T21:17:35.670Z"
   },
   {
    "duration": 92,
    "start_time": "2022-01-31T21:17:35.744Z"
   },
   {
    "duration": 66,
    "start_time": "2022-01-31T21:17:35.838Z"
   },
   {
    "duration": 54,
    "start_time": "2022-01-31T21:17:35.906Z"
   },
   {
    "duration": 3,
    "start_time": "2022-01-31T21:17:35.962Z"
   },
   {
    "duration": 17,
    "start_time": "2022-01-31T21:17:35.966Z"
   },
   {
    "duration": 40,
    "start_time": "2022-01-31T21:17:35.985Z"
   },
   {
    "duration": 33,
    "start_time": "2022-01-31T21:17:36.027Z"
   },
   {
    "duration": 11,
    "start_time": "2022-01-31T21:17:36.062Z"
   },
   {
    "duration": 4,
    "start_time": "2022-01-31T21:17:36.075Z"
   },
   {
    "duration": 26,
    "start_time": "2022-01-31T21:17:36.080Z"
   },
   {
    "duration": 17,
    "start_time": "2022-01-31T21:17:36.108Z"
   },
   {
    "duration": 42,
    "start_time": "2022-01-31T21:17:36.129Z"
   },
   {
    "duration": 18,
    "start_time": "2022-01-31T21:17:36.173Z"
   },
   {
    "duration": 24,
    "start_time": "2022-01-31T21:17:36.193Z"
   },
   {
    "duration": 17,
    "start_time": "2022-01-31T21:17:36.219Z"
   },
   {
    "duration": 34,
    "start_time": "2022-01-31T21:17:36.238Z"
   },
   {
    "duration": 27,
    "start_time": "2022-01-31T21:17:36.274Z"
   },
   {
    "duration": 19,
    "start_time": "2022-01-31T21:17:36.303Z"
   },
   {
    "duration": 4,
    "start_time": "2022-01-31T21:17:36.324Z"
   },
   {
    "duration": 47,
    "start_time": "2022-01-31T21:17:36.329Z"
   },
   {
    "duration": 14,
    "start_time": "2022-01-31T21:17:36.378Z"
   },
   {
    "duration": 19,
    "start_time": "2022-01-31T21:17:36.394Z"
   },
   {
    "duration": 15,
    "start_time": "2022-01-31T21:17:36.415Z"
   },
   {
    "duration": 12,
    "start_time": "2022-01-31T21:17:36.460Z"
   },
   {
    "duration": 6,
    "start_time": "2022-01-31T21:17:36.474Z"
   },
   {
    "duration": 20,
    "start_time": "2022-01-31T21:17:36.482Z"
   },
   {
    "duration": 13,
    "start_time": "2022-01-31T21:17:36.504Z"
   },
   {
    "duration": 10,
    "start_time": "2022-01-31T21:21:20.232Z"
   },
   {
    "duration": 761,
    "start_time": "2022-02-05T14:41:23.093Z"
   },
   {
    "duration": 211,
    "start_time": "2022-02-05T14:41:26.922Z"
   },
   {
    "duration": 25,
    "start_time": "2022-02-05T14:41:30.010Z"
   },
   {
    "duration": 14,
    "start_time": "2022-02-05T14:41:37.850Z"
   },
   {
    "duration": 32,
    "start_time": "2022-02-05T14:41:48.214Z"
   },
   {
    "duration": 6,
    "start_time": "2022-02-05T14:47:17.645Z"
   },
   {
    "duration": 31,
    "start_time": "2022-02-05T14:47:23.411Z"
   },
   {
    "duration": 7,
    "start_time": "2022-02-05T14:47:25.765Z"
   },
   {
    "duration": 46,
    "start_time": "2022-02-05T14:47:29.476Z"
   },
   {
    "duration": 24,
    "start_time": "2022-02-05T14:47:34.619Z"
   },
   {
    "duration": 29,
    "start_time": "2022-02-05T14:47:39.342Z"
   },
   {
    "duration": 99,
    "start_time": "2022-02-05T14:47:50.709Z"
   },
   {
    "duration": 138,
    "start_time": "2022-02-05T14:47:59.462Z"
   },
   {
    "duration": 88,
    "start_time": "2022-02-05T14:48:05.149Z"
   },
   {
    "duration": 69,
    "start_time": "2022-02-05T14:48:10.601Z"
   },
   {
    "duration": 4,
    "start_time": "2022-02-05T14:51:58.073Z"
   },
   {
    "duration": 14,
    "start_time": "2022-02-05T14:52:00.763Z"
   },
   {
    "duration": 58,
    "start_time": "2022-02-05T14:52:09.497Z"
   },
   {
    "duration": 17,
    "start_time": "2022-02-05T14:52:24.695Z"
   },
   {
    "duration": 23,
    "start_time": "2022-02-05T14:52:27.461Z"
   },
   {
    "duration": 4,
    "start_time": "2022-02-05T14:52:32.689Z"
   },
   {
    "duration": 21,
    "start_time": "2022-02-05T14:52:36.427Z"
   },
   {
    "duration": 19,
    "start_time": "2022-02-05T14:52:38.817Z"
   },
   {
    "duration": 19,
    "start_time": "2022-02-05T14:52:40.312Z"
   },
   {
    "duration": 20,
    "start_time": "2022-02-05T14:52:43.068Z"
   },
   {
    "duration": 21,
    "start_time": "2022-02-05T14:52:45.012Z"
   },
   {
    "duration": 18,
    "start_time": "2022-02-05T14:52:47.370Z"
   },
   {
    "duration": 11,
    "start_time": "2022-02-05T14:53:21.346Z"
   },
   {
    "duration": 42,
    "start_time": "2022-02-05T14:53:51.433Z"
   },
   {
    "duration": 27,
    "start_time": "2022-02-05T14:53:55.124Z"
   },
   {
    "duration": 5,
    "start_time": "2022-02-05T14:53:59.296Z"
   },
   {
    "duration": 25,
    "start_time": "2022-02-05T14:54:57.928Z"
   },
   {
    "duration": 24,
    "start_time": "2022-02-05T14:55:03.783Z"
   },
   {
    "duration": 17,
    "start_time": "2022-02-05T14:55:09.496Z"
   },
   {
    "duration": 23,
    "start_time": "2022-02-05T14:55:15.082Z"
   },
   {
    "duration": 16,
    "start_time": "2022-02-05T14:55:20.095Z"
   },
   {
    "duration": 12,
    "start_time": "2022-02-05T14:55:26.130Z"
   },
   {
    "duration": 7,
    "start_time": "2022-02-05T14:55:33.166Z"
   },
   {
    "duration": 10,
    "start_time": "2022-02-05T14:55:36.218Z"
   },
   {
    "duration": 7,
    "start_time": "2022-02-05T14:55:40.924Z"
   },
   {
    "duration": 772,
    "start_time": "2022-02-05T19:24:54.362Z"
   },
   {
    "duration": 182,
    "start_time": "2022-02-05T19:24:55.136Z"
   },
   {
    "duration": 31,
    "start_time": "2022-02-05T19:24:55.320Z"
   },
   {
    "duration": 19,
    "start_time": "2022-02-05T19:24:55.357Z"
   },
   {
    "duration": 43,
    "start_time": "2022-02-05T19:24:55.378Z"
   },
   {
    "duration": 5,
    "start_time": "2022-02-05T19:24:55.424Z"
   },
   {
    "duration": 35,
    "start_time": "2022-02-05T19:24:55.431Z"
   },
   {
    "duration": 5,
    "start_time": "2022-02-05T19:24:55.470Z"
   },
   {
    "duration": 32,
    "start_time": "2022-02-05T19:24:55.478Z"
   },
   {
    "duration": 59,
    "start_time": "2022-02-05T19:24:55.513Z"
   },
   {
    "duration": 28,
    "start_time": "2022-02-05T19:24:55.575Z"
   },
   {
    "duration": 107,
    "start_time": "2022-02-05T19:24:55.606Z"
   },
   {
    "duration": 108,
    "start_time": "2022-02-05T19:24:55.715Z"
   },
   {
    "duration": 91,
    "start_time": "2022-02-05T19:24:55.825Z"
   },
   {
    "duration": 69,
    "start_time": "2022-02-05T19:24:55.918Z"
   },
   {
    "duration": 4,
    "start_time": "2022-02-05T19:24:55.989Z"
   },
   {
    "duration": 21,
    "start_time": "2022-02-05T19:24:55.995Z"
   },
   {
    "duration": 75,
    "start_time": "2022-02-05T19:24:56.018Z"
   },
   {
    "duration": 15,
    "start_time": "2022-02-05T19:24:56.095Z"
   },
   {
    "duration": 47,
    "start_time": "2022-02-05T19:24:56.113Z"
   },
   {
    "duration": 5,
    "start_time": "2022-02-05T19:24:56.162Z"
   },
   {
    "duration": 26,
    "start_time": "2022-02-05T19:24:56.169Z"
   },
   {
    "duration": 16,
    "start_time": "2022-02-05T19:24:56.200Z"
   },
   {
    "duration": 42,
    "start_time": "2022-02-05T19:24:56.220Z"
   },
   {
    "duration": 18,
    "start_time": "2022-02-05T19:24:56.266Z"
   },
   {
    "duration": 20,
    "start_time": "2022-02-05T19:24:56.286Z"
   },
   {
    "duration": 57,
    "start_time": "2022-02-05T19:24:56.309Z"
   },
   {
    "duration": 8,
    "start_time": "2022-02-05T19:24:56.369Z"
   },
   {
    "duration": 30,
    "start_time": "2022-02-05T19:24:56.380Z"
   },
   {
    "duration": 53,
    "start_time": "2022-02-05T19:24:56.413Z"
   },
   {
    "duration": 5,
    "start_time": "2022-02-05T19:24:56.468Z"
   },
   {
    "duration": 29,
    "start_time": "2022-02-05T19:24:56.476Z"
   },
   {
    "duration": 15,
    "start_time": "2022-02-05T19:24:56.508Z"
   },
   {
    "duration": 41,
    "start_time": "2022-02-05T19:24:56.525Z"
   },
   {
    "duration": 16,
    "start_time": "2022-02-05T19:24:56.569Z"
   },
   {
    "duration": 12,
    "start_time": "2022-02-05T19:24:56.588Z"
   },
   {
    "duration": 7,
    "start_time": "2022-02-05T19:24:56.603Z"
   },
   {
    "duration": 13,
    "start_time": "2022-02-05T19:24:56.648Z"
   },
   {
    "duration": 6,
    "start_time": "2022-02-05T19:24:56.664Z"
   },
   {
    "duration": 9,
    "start_time": "2022-02-05T19:31:25.302Z"
   }
  ],
  "colab": {
   "collapsed_sections": [
    "E0vqbgi9ay0H",
    "VUC88oWjTJw2"
   ],
   "name": "yandex_music_project_2021.2.ipynb",
   "provenance": []
  },
  "kernelspec": {
   "display_name": "Python 3.10.2 64-bit",
   "language": "python",
   "name": "python3"
  },
  "language_info": {
   "codemirror_mode": {
    "name": "ipython",
    "version": 3
   },
   "file_extension": ".py",
   "mimetype": "text/x-python",
   "name": "python",
   "nbconvert_exporter": "python",
   "pygments_lexer": "ipython3",
   "version": "3.10.2"
  },
  "toc": {
   "base_numbering": 1,
   "nav_menu": {},
   "number_sections": true,
   "sideBar": true,
   "skip_h1_title": true,
   "title_cell": "Table of Contents",
   "title_sidebar": "Contents",
   "toc_cell": false,
   "toc_position": {
    "height": "calc(100% - 180px)",
    "left": "10px",
    "top": "150px",
    "width": "226.4px"
   },
   "toc_section_display": true,
   "toc_window_display": true
  },
  "vscode": {
   "interpreter": {
    "hash": "35d56784a9533165a15cd80766066c6e160ff9c87db8908bb17dcd0ff56fd6bf"
   }
  }
 },
 "nbformat": 4,
 "nbformat_minor": 1
}
