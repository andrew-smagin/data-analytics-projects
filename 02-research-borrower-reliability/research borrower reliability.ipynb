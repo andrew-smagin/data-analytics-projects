{
 "cells": [
  {
   "cell_type": "markdown",
   "id": "bcd1cb6a",
   "metadata": {},
   "source": [
    "# Research borrower reliability"
   ]
  },
  {
   "cell_type": "markdown",
   "id": "03c03b3a",
   "metadata": {},
   "source": [
    "## Data review"
   ]
  },
  {
   "cell_type": "code",
   "execution_count": 1,
   "id": "3feaf32c",
   "metadata": {},
   "outputs": [],
   "source": [
    "# download library\n",
    "import pandas as pd"
   ]
  },
  {
   "cell_type": "code",
   "execution_count": 2,
   "id": "37a4e01f",
   "metadata": {},
   "outputs": [
    {
     "name": "stdout",
     "output_type": "stream",
     "text": [
      "<class 'pandas.core.frame.DataFrame'>\n",
      "RangeIndex: 21525 entries, 0 to 21524\n",
      "Data columns (total 12 columns):\n",
      " #   Column            Non-Null Count  Dtype  \n",
      "---  ------            --------------  -----  \n",
      " 0   children          21525 non-null  int64  \n",
      " 1   days_employed     19351 non-null  float64\n",
      " 2   dob_years         21525 non-null  int64  \n",
      " 3   education         21525 non-null  object \n",
      " 4   education_id      21525 non-null  int64  \n",
      " 5   family_status     21525 non-null  object \n",
      " 6   family_status_id  21525 non-null  int64  \n",
      " 7   gender            21525 non-null  object \n",
      " 8   income_type       21525 non-null  object \n",
      " 9   debt              21525 non-null  int64  \n",
      " 10  total_income      19351 non-null  float64\n",
      " 11  purpose           21525 non-null  object \n",
      "dtypes: float64(2), int64(5), object(5)\n",
      "memory usage: 2.0+ MB\n"
     ]
    }
   ],
   "source": [
    "# read data\n",
    "path = ''\n",
    "data = pd.read_csv(path)\n",
    "data.info()"
   ]
  },
  {
   "cell_type": "code",
   "execution_count": 3,
   "id": "4c10619a",
   "metadata": {},
   "outputs": [
    {
     "data": {
      "text/html": [
       "<div>\n",
       "<style scoped>\n",
       "    .dataframe tbody tr th:only-of-type {\n",
       "        vertical-align: middle;\n",
       "    }\n",
       "\n",
       "    .dataframe tbody tr th {\n",
       "        vertical-align: top;\n",
       "    }\n",
       "\n",
       "    .dataframe thead th {\n",
       "        text-align: right;\n",
       "    }\n",
       "</style>\n",
       "<table border=\"1\" class=\"dataframe\">\n",
       "  <thead>\n",
       "    <tr style=\"text-align: right;\">\n",
       "      <th></th>\n",
       "      <th>children</th>\n",
       "      <th>days_employed</th>\n",
       "      <th>dob_years</th>\n",
       "      <th>education</th>\n",
       "      <th>education_id</th>\n",
       "      <th>family_status</th>\n",
       "      <th>family_status_id</th>\n",
       "      <th>gender</th>\n",
       "      <th>income_type</th>\n",
       "      <th>debt</th>\n",
       "      <th>total_income</th>\n",
       "      <th>purpose</th>\n",
       "    </tr>\n",
       "  </thead>\n",
       "  <tbody>\n",
       "    <tr>\n",
       "      <th>0</th>\n",
       "      <td>1</td>\n",
       "      <td>-8437.673028</td>\n",
       "      <td>42</td>\n",
       "      <td>высшее</td>\n",
       "      <td>0</td>\n",
       "      <td>женат / замужем</td>\n",
       "      <td>0</td>\n",
       "      <td>F</td>\n",
       "      <td>сотрудник</td>\n",
       "      <td>0</td>\n",
       "      <td>253875.639453</td>\n",
       "      <td>покупка жилья</td>\n",
       "    </tr>\n",
       "    <tr>\n",
       "      <th>1</th>\n",
       "      <td>1</td>\n",
       "      <td>-4024.803754</td>\n",
       "      <td>36</td>\n",
       "      <td>среднее</td>\n",
       "      <td>1</td>\n",
       "      <td>женат / замужем</td>\n",
       "      <td>0</td>\n",
       "      <td>F</td>\n",
       "      <td>сотрудник</td>\n",
       "      <td>0</td>\n",
       "      <td>112080.014102</td>\n",
       "      <td>приобретение автомобиля</td>\n",
       "    </tr>\n",
       "    <tr>\n",
       "      <th>2</th>\n",
       "      <td>0</td>\n",
       "      <td>-5623.422610</td>\n",
       "      <td>33</td>\n",
       "      <td>Среднее</td>\n",
       "      <td>1</td>\n",
       "      <td>женат / замужем</td>\n",
       "      <td>0</td>\n",
       "      <td>M</td>\n",
       "      <td>сотрудник</td>\n",
       "      <td>0</td>\n",
       "      <td>145885.952297</td>\n",
       "      <td>покупка жилья</td>\n",
       "    </tr>\n",
       "    <tr>\n",
       "      <th>3</th>\n",
       "      <td>3</td>\n",
       "      <td>-4124.747207</td>\n",
       "      <td>32</td>\n",
       "      <td>среднее</td>\n",
       "      <td>1</td>\n",
       "      <td>женат / замужем</td>\n",
       "      <td>0</td>\n",
       "      <td>M</td>\n",
       "      <td>сотрудник</td>\n",
       "      <td>0</td>\n",
       "      <td>267628.550329</td>\n",
       "      <td>дополнительное образование</td>\n",
       "    </tr>\n",
       "    <tr>\n",
       "      <th>4</th>\n",
       "      <td>0</td>\n",
       "      <td>340266.072047</td>\n",
       "      <td>53</td>\n",
       "      <td>среднее</td>\n",
       "      <td>1</td>\n",
       "      <td>гражданский брак</td>\n",
       "      <td>1</td>\n",
       "      <td>F</td>\n",
       "      <td>пенсионер</td>\n",
       "      <td>0</td>\n",
       "      <td>158616.077870</td>\n",
       "      <td>сыграть свадьбу</td>\n",
       "    </tr>\n",
       "  </tbody>\n",
       "</table>\n",
       "</div>"
      ],
      "text/plain": [
       "   children  days_employed  dob_years education  education_id  \\\n",
       "0         1   -8437.673028         42    высшее             0   \n",
       "1         1   -4024.803754         36   среднее             1   \n",
       "2         0   -5623.422610         33   Среднее             1   \n",
       "3         3   -4124.747207         32   среднее             1   \n",
       "4         0  340266.072047         53   среднее             1   \n",
       "\n",
       "      family_status  family_status_id gender income_type  debt   total_income  \\\n",
       "0   женат / замужем                 0      F   сотрудник     0  253875.639453   \n",
       "1   женат / замужем                 0      F   сотрудник     0  112080.014102   \n",
       "2   женат / замужем                 0      M   сотрудник     0  145885.952297   \n",
       "3   женат / замужем                 0      M   сотрудник     0  267628.550329   \n",
       "4  гражданский брак                 1      F   пенсионер     0  158616.077870   \n",
       "\n",
       "                      purpose  \n",
       "0               покупка жилья  \n",
       "1     приобретение автомобиля  \n",
       "2               покупка жилья  \n",
       "3  дополнительное образование  \n",
       "4             сыграть свадьбу  "
      ]
     },
     "execution_count": 3,
     "metadata": {},
     "output_type": "execute_result"
    }
   ],
   "source": [
    "# look at first rows\n",
    "data.head()"
   ]
  },
  {
   "cell_type": "markdown",
   "id": "bdb643de",
   "metadata": {},
   "source": [
    "- `days_employed` has negative values\n",
    "- `days_employed` and `total_income` have NA values\n",
    "- `eduacation` have similar words 'Среднее' and 'среднее'"
   ]
  },
  {
   "cell_type": "markdown",
   "id": "a9b30443",
   "metadata": {},
   "source": [
    "### Filling in gaps"
   ]
  },
  {
   "cell_type": "code",
   "execution_count": 4,
   "id": "0e848fe5",
   "metadata": {},
   "outputs": [
    {
     "name": "stdout",
     "output_type": "stream",
     "text": [
      "Proportion of missing values in \"days_employed\": 10%\n",
      "Proportion of missing values in \"total_income\": 10%\n"
     ]
    }
   ],
   "source": [
    "# check for missing values\n",
    "\n",
    "# looking for missing values in `days_employed`\n",
    "days_employed_nan = len(data[data['days_employed'].isna()]['days_employed'])\n",
    "days_employed_nan_rate = days_employed_nan / len(data['days_employed'])\n",
    "\n",
    "# lookin for missing values in `total_income`\n",
    "total_income_nan = len(data[data['total_income'].isna()]['total_income'])\n",
    "total_income_nan_rate = total_income_nan / len(data['total_income'])\n",
    "\n",
    "print(f'Proportion of missing values in \"days_employed\": {days_employed_nan_rate:.0%}')\n",
    "print(f'Proportion of missing values in \"total_income\": {total_income_nan_rate:.0%}')"
   ]
  },
  {
   "cell_type": "markdown",
   "id": "d6f4bc39",
   "metadata": {},
   "source": [
    "Fiiling in the missing values with the median"
   ]
  },
  {
   "cell_type": "code",
   "execution_count": 5,
   "id": "84083017",
   "metadata": {},
   "outputs": [
    {
     "name": "stdout",
     "output_type": "stream",
     "text": [
      "<class 'pandas.core.frame.DataFrame'>\n",
      "RangeIndex: 21525 entries, 0 to 21524\n",
      "Data columns (total 12 columns):\n",
      " #   Column            Non-Null Count  Dtype  \n",
      "---  ------            --------------  -----  \n",
      " 0   children          21525 non-null  int64  \n",
      " 1   days_employed     21525 non-null  float64\n",
      " 2   dob_years         21525 non-null  int64  \n",
      " 3   education         21525 non-null  object \n",
      " 4   education_id      21525 non-null  int64  \n",
      " 5   family_status     21525 non-null  object \n",
      " 6   family_status_id  21525 non-null  int64  \n",
      " 7   gender            21525 non-null  object \n",
      " 8   income_type       21525 non-null  object \n",
      " 9   debt              21525 non-null  int64  \n",
      " 10  total_income      21525 non-null  float64\n",
      " 11  purpose           21525 non-null  object \n",
      "dtypes: float64(2), int64(5), object(5)\n",
      "memory usage: 2.0+ MB\n"
     ]
    }
   ],
   "source": [
    "# median for `days_employed` and `total_income`\n",
    "days_employed_median = data['days_employed'].median()\n",
    "total_income_median = data['total_income'].median()\n",
    "\n",
    "# filling in missing values\n",
    "data['days_employed'] = data['days_employed'].fillna(days_employed_median)\n",
    "data['total_income'] = data['total_income'].fillna(total_income_median)\n",
    "\n",
    "# check\n",
    "data.info()"
   ]
  },
  {
   "cell_type": "markdown",
   "id": "0a11931b",
   "metadata": {},
   "source": [
    "### Check data for wrongs"
   ]
  },
  {
   "cell_type": "markdown",
   "id": "bb514e42",
   "metadata": {},
   "source": [
    "Column `days_employed` have negative values. Conver it to absolute value of number"
   ]
  },
  {
   "cell_type": "code",
   "execution_count": 6,
   "id": "c65175e7",
   "metadata": {},
   "outputs": [
    {
     "data": {
      "text/plain": [
       "1808.0534339280623"
      ]
     },
     "execution_count": 6,
     "metadata": {},
     "output_type": "execute_result"
    }
   ],
   "source": [
    "# apply abs function\n",
    "data['days_employed'] = abs(data['days_employed'])\n",
    "# check median\n",
    "data['days_employed'].median()"
   ]
  },
  {
   "cell_type": "code",
   "execution_count": 7,
   "id": "b5cdd8f9",
   "metadata": {},
   "outputs": [
    {
     "data": {
      "text/plain": [
       "F      14236\n",
       "M       7288\n",
       "XNA        1\n",
       "Name: gender, dtype: int64"
      ]
     },
     "execution_count": 7,
     "metadata": {},
     "output_type": "execute_result"
    }
   ],
   "source": [
    "# `gender` have unknown value\n",
    "data['gender'].value_counts()"
   ]
  },
  {
   "cell_type": "code",
   "execution_count": 8,
   "id": "da32d191",
   "metadata": {},
   "outputs": [
    {
     "data": {
      "text/html": [
       "<div>\n",
       "<style scoped>\n",
       "    .dataframe tbody tr th:only-of-type {\n",
       "        vertical-align: middle;\n",
       "    }\n",
       "\n",
       "    .dataframe tbody tr th {\n",
       "        vertical-align: top;\n",
       "    }\n",
       "\n",
       "    .dataframe thead th {\n",
       "        text-align: right;\n",
       "    }\n",
       "</style>\n",
       "<table border=\"1\" class=\"dataframe\">\n",
       "  <thead>\n",
       "    <tr style=\"text-align: right;\">\n",
       "      <th></th>\n",
       "      <th>children</th>\n",
       "      <th>days_employed</th>\n",
       "      <th>dob_years</th>\n",
       "      <th>education</th>\n",
       "      <th>education_id</th>\n",
       "      <th>family_status</th>\n",
       "      <th>family_status_id</th>\n",
       "      <th>gender</th>\n",
       "      <th>income_type</th>\n",
       "      <th>debt</th>\n",
       "      <th>total_income</th>\n",
       "      <th>purpose</th>\n",
       "    </tr>\n",
       "  </thead>\n",
       "  <tbody>\n",
       "    <tr>\n",
       "      <th>10701</th>\n",
       "      <td>0</td>\n",
       "      <td>2358.600502</td>\n",
       "      <td>24</td>\n",
       "      <td>неоконченное высшее</td>\n",
       "      <td>2</td>\n",
       "      <td>гражданский брак</td>\n",
       "      <td>1</td>\n",
       "      <td>XNA</td>\n",
       "      <td>компаньон</td>\n",
       "      <td>0</td>\n",
       "      <td>203905.157261</td>\n",
       "      <td>покупка недвижимости</td>\n",
       "    </tr>\n",
       "  </tbody>\n",
       "</table>\n",
       "</div>"
      ],
      "text/plain": [
       "       children  days_employed  dob_years            education  education_id  \\\n",
       "10701         0    2358.600502         24  неоконченное высшее             2   \n",
       "\n",
       "          family_status  family_status_id gender income_type  debt  \\\n",
       "10701  гражданский брак                 1    XNA   компаньон     0   \n",
       "\n",
       "        total_income               purpose  \n",
       "10701  203905.157261  покупка недвижимости  "
      ]
     },
     "execution_count": 8,
     "metadata": {},
     "output_type": "execute_result"
    }
   ],
   "source": [
    "# find row with this value\n",
    "data[data['gender'] == 'XNA']"
   ]
  },
  {
   "cell_type": "code",
   "execution_count": 9,
   "id": "2de7e7fc",
   "metadata": {},
   "outputs": [
    {
     "data": {
      "text/plain": [
       "F    14236\n",
       "M     7288\n",
       "Name: gender, dtype: int64"
      ]
     },
     "execution_count": 9,
     "metadata": {},
     "output_type": "execute_result"
    }
   ],
   "source": [
    "# drop and check\n",
    "data = data.drop(10701)\n",
    "data['gender'].value_counts()"
   ]
  },
  {
   "cell_type": "code",
   "execution_count": 10,
   "id": "7d2d7a84",
   "metadata": {},
   "outputs": [
    {
     "data": {
      "text/plain": [
       " 0     14148\n",
       " 1      4818\n",
       " 2      2055\n",
       " 3       330\n",
       " 20       76\n",
       "-1        47\n",
       " 4        41\n",
       " 5         9\n",
       "Name: children, dtype: int64"
      ]
     },
     "execution_count": 10,
     "metadata": {},
     "output_type": "execute_result"
    }
   ],
   "source": [
    "# column `children` have negative values\n",
    "data['children'].value_counts()"
   ]
  },
  {
   "cell_type": "code",
   "execution_count": 11,
   "id": "d31af72f",
   "metadata": {},
   "outputs": [
    {
     "data": {
      "text/plain": [
       "0     14148\n",
       "1      4865\n",
       "2      2055\n",
       "3       330\n",
       "20       76\n",
       "4        41\n",
       "5         9\n",
       "Name: children, dtype: int64"
      ]
     },
     "execution_count": 11,
     "metadata": {},
     "output_type": "execute_result"
    }
   ],
   "source": [
    "# convert to absolute value of number\n",
    "data['children'] = abs(data['children'])\n",
    "# check\n",
    "data['children'].value_counts()"
   ]
  },
  {
   "cell_type": "code",
   "execution_count": 12,
   "id": "c9bda407",
   "metadata": {},
   "outputs": [
    {
     "data": {
      "text/plain": [
       "0    14148\n",
       "1     4865\n",
       "2     2055\n",
       "3      330\n",
       "4       41\n",
       "5        9\n",
       "Name: children, dtype: int64"
      ]
     },
     "execution_count": 12,
     "metadata": {},
     "output_type": "execute_result"
    }
   ],
   "source": [
    "# also column `children` have too large values (20). delete it. this doesn't affcet to reseach\n",
    "data = data.drop(data[data['children'] == 20].index)\n",
    "# check\n",
    "data['children'].value_counts()"
   ]
  },
  {
   "cell_type": "markdown",
   "id": "ec57c812",
   "metadata": {},
   "source": [
    "### Change data type"
   ]
  },
  {
   "cell_type": "code",
   "execution_count": 13,
   "id": "e5d7bb52",
   "metadata": {},
   "outputs": [
    {
     "data": {
      "text/plain": [
       "0    253875\n",
       "1    112080\n",
       "2    145885\n",
       "3    267628\n",
       "4    158616\n",
       "Name: total_income, dtype: int32"
      ]
     },
     "execution_count": 13,
     "metadata": {},
     "output_type": "execute_result"
    }
   ],
   "source": [
    "# change type to int for `total_income`\n",
    "data['total_income'] = data['total_income'].astype(int)\n",
    "# check\n",
    "data['total_income'].head()"
   ]
  },
  {
   "cell_type": "markdown",
   "id": "18717c9c",
   "metadata": {},
   "source": [
    "### Delete duplicates"
   ]
  },
  {
   "cell_type": "code",
   "execution_count": 14,
   "id": "b4fbca7a",
   "metadata": {},
   "outputs": [],
   "source": [
    "# delete duplicates in all table\n",
    "data = data.drop_duplicates()"
   ]
  },
  {
   "cell_type": "code",
   "execution_count": 15,
   "id": "bc057451",
   "metadata": {},
   "outputs": [
    {
     "data": {
      "text/plain": [
       "среднее                13653\n",
       "высшее                  4698\n",
       "СРЕДНЕЕ                  770\n",
       "Среднее                  705\n",
       "неоконченное высшее      665\n",
       "ВЫСШЕЕ                   271\n",
       "Высшее                   268\n",
       "начальное                250\n",
       "Неоконченное высшее       47\n",
       "НЕОКОНЧЕННОЕ ВЫСШЕЕ       29\n",
       "НАЧАЛЬНОЕ                 17\n",
       "Начальное                 15\n",
       "ученая степень             4\n",
       "Ученая степень             1\n",
       "УЧЕНАЯ СТЕПЕНЬ             1\n",
       "Name: education, dtype: int64"
      ]
     },
     "execution_count": 15,
     "metadata": {},
     "output_type": "execute_result"
    }
   ],
   "source": [
    "# find implicit duplicates\n",
    "data['education'].value_counts()"
   ]
  },
  {
   "cell_type": "code",
   "execution_count": 16,
   "id": "b33aae49",
   "metadata": {},
   "outputs": [
    {
     "data": {
      "text/plain": [
       "среднее                15128\n",
       "высшее                  5237\n",
       "неоконченное высшее      741\n",
       "начальное                282\n",
       "ученая степень             6\n",
       "Name: education, dtype: int64"
      ]
     },
     "execution_count": 16,
     "metadata": {},
     "output_type": "execute_result"
    }
   ],
   "source": [
    "# owerwrite values to lowercase\n",
    "data['education'] = data['education'].str.lower()\n",
    "# check\n",
    "data['education'].value_counts()"
   ]
  },
  {
   "cell_type": "markdown",
   "id": "b3b6e1c9",
   "metadata": {},
   "source": [
    "### Create additional dataframes"
   ]
  },
  {
   "cell_type": "code",
   "execution_count": 17,
   "id": "de88c5d7",
   "metadata": {},
   "outputs": [],
   "source": [
    "# new dfs with education and family data\n",
    "data_education = data.loc[:,['education', 'education_id']]\n",
    "data_family = data.loc[:, ['family_status_id', 'family_status']]"
   ]
  },
  {
   "cell_type": "code",
   "execution_count": 18,
   "id": "e8338c3e",
   "metadata": {},
   "outputs": [],
   "source": [
    "# delete duplicates\n",
    "data_education = data_education.drop_duplicates()\n",
    "data_family = data_family.drop_duplicates()\n",
    "data_family = data_family.reset_index(drop=True)\n",
    "data_education = data_education.reset_index(drop=True)"
   ]
  },
  {
   "cell_type": "code",
   "execution_count": 19,
   "id": "951eda48",
   "metadata": {},
   "outputs": [
    {
     "data": {
      "text/plain": [
       "Index(['children', 'days_employed', 'dob_years', 'education_id',\n",
       "       'family_status_id', 'gender', 'income_type', 'debt', 'total_income',\n",
       "       'purpose'],\n",
       "      dtype='object')"
      ]
     },
     "execution_count": 19,
     "metadata": {},
     "output_type": "execute_result"
    }
   ],
   "source": [
    "# delete columns\n",
    "data.drop(columns=['education', 'family_status'], inplace=True)\n",
    "#check\n",
    "data.columns"
   ]
  },
  {
   "cell_type": "markdown",
   "id": "f550f568",
   "metadata": {},
   "source": [
    "### Income categorization"
   ]
  },
  {
   "cell_type": "code",
   "execution_count": 20,
   "id": "0dbedc66",
   "metadata": {},
   "outputs": [
    {
     "data": {
      "text/html": [
       "<div>\n",
       "<style scoped>\n",
       "    .dataframe tbody tr th:only-of-type {\n",
       "        vertical-align: middle;\n",
       "    }\n",
       "\n",
       "    .dataframe tbody tr th {\n",
       "        vertical-align: top;\n",
       "    }\n",
       "\n",
       "    .dataframe thead th {\n",
       "        text-align: right;\n",
       "    }\n",
       "</style>\n",
       "<table border=\"1\" class=\"dataframe\">\n",
       "  <thead>\n",
       "    <tr style=\"text-align: right;\">\n",
       "      <th></th>\n",
       "      <th>total_income</th>\n",
       "      <th>total_income_category</th>\n",
       "    </tr>\n",
       "  </thead>\n",
       "  <tbody>\n",
       "    <tr>\n",
       "      <th>0</th>\n",
       "      <td>253875</td>\n",
       "      <td>B</td>\n",
       "    </tr>\n",
       "    <tr>\n",
       "      <th>1</th>\n",
       "      <td>112080</td>\n",
       "      <td>C</td>\n",
       "    </tr>\n",
       "    <tr>\n",
       "      <th>2</th>\n",
       "      <td>145885</td>\n",
       "      <td>C</td>\n",
       "    </tr>\n",
       "    <tr>\n",
       "      <th>3</th>\n",
       "      <td>267628</td>\n",
       "      <td>B</td>\n",
       "    </tr>\n",
       "    <tr>\n",
       "      <th>4</th>\n",
       "      <td>158616</td>\n",
       "      <td>C</td>\n",
       "    </tr>\n",
       "    <tr>\n",
       "      <th>5</th>\n",
       "      <td>255763</td>\n",
       "      <td>B</td>\n",
       "    </tr>\n",
       "    <tr>\n",
       "      <th>6</th>\n",
       "      <td>240525</td>\n",
       "      <td>B</td>\n",
       "    </tr>\n",
       "    <tr>\n",
       "      <th>7</th>\n",
       "      <td>135823</td>\n",
       "      <td>C</td>\n",
       "    </tr>\n",
       "    <tr>\n",
       "      <th>8</th>\n",
       "      <td>95856</td>\n",
       "      <td>C</td>\n",
       "    </tr>\n",
       "    <tr>\n",
       "      <th>9</th>\n",
       "      <td>144425</td>\n",
       "      <td>C</td>\n",
       "    </tr>\n",
       "  </tbody>\n",
       "</table>\n",
       "</div>"
      ],
      "text/plain": [
       "   total_income total_income_category\n",
       "0        253875                     B\n",
       "1        112080                     C\n",
       "2        145885                     C\n",
       "3        267628                     B\n",
       "4        158616                     C\n",
       "5        255763                     B\n",
       "6        240525                     B\n",
       "7        135823                     C\n",
       "8         95856                     C\n",
       "9        144425                     C"
      ]
     },
     "execution_count": 20,
     "metadata": {},
     "output_type": "execute_result"
    }
   ],
   "source": [
    "# create function\n",
    "\n",
    "def income_category(income):\n",
    "    \"\"\"\n",
    "    Возращает категорию дохода:\n",
    "    - 0–30000 — 'E'\n",
    "    - 30001–50000 — 'D'\n",
    "    - 50001–200000 — 'C'\n",
    "    - 200001–1000000 — 'B'\n",
    "    1000001 и выше — 'A'\n",
    "    \"\"\"\n",
    "    \n",
    "    if income <= 30000:\n",
    "        return 'E'\n",
    "    if 30001 <= income <= 50000:\n",
    "        return 'D'\n",
    "    if 50001 <= income <= 200000:\n",
    "        return 'C'\n",
    "    if 200001 <= income <= 1000000:\n",
    "        return 'B'\n",
    "    if income >= 1000001:\n",
    "        return 'A'\n",
    "    \n",
    "# apply function\n",
    "data['total_income_category'] = data['total_income'].apply(income_category)\n",
    "# check\n",
    "data.loc[:9, ['total_income', 'total_income_category']]"
   ]
  },
  {
   "cell_type": "markdown",
   "id": "7761c594",
   "metadata": {},
   "source": [
    "### Purpose categorization"
   ]
  },
  {
   "cell_type": "code",
   "execution_count": 21,
   "id": "b00433ca",
   "metadata": {},
   "outputs": [
    {
     "data": {
      "text/html": [
       "<div>\n",
       "<style scoped>\n",
       "    .dataframe tbody tr th:only-of-type {\n",
       "        vertical-align: middle;\n",
       "    }\n",
       "\n",
       "    .dataframe tbody tr th {\n",
       "        vertical-align: top;\n",
       "    }\n",
       "\n",
       "    .dataframe thead th {\n",
       "        text-align: right;\n",
       "    }\n",
       "</style>\n",
       "<table border=\"1\" class=\"dataframe\">\n",
       "  <thead>\n",
       "    <tr style=\"text-align: right;\">\n",
       "      <th></th>\n",
       "      <th>purpose</th>\n",
       "      <th>purpose_category</th>\n",
       "    </tr>\n",
       "  </thead>\n",
       "  <tbody>\n",
       "    <tr>\n",
       "      <th>0</th>\n",
       "      <td>покупка жилья</td>\n",
       "      <td>операции с недвижимостью</td>\n",
       "    </tr>\n",
       "    <tr>\n",
       "      <th>1</th>\n",
       "      <td>приобретение автомобиля</td>\n",
       "      <td>операции с автомобилем</td>\n",
       "    </tr>\n",
       "    <tr>\n",
       "      <th>2</th>\n",
       "      <td>покупка жилья</td>\n",
       "      <td>операции с недвижимостью</td>\n",
       "    </tr>\n",
       "    <tr>\n",
       "      <th>3</th>\n",
       "      <td>дополнительное образование</td>\n",
       "      <td>получение образования</td>\n",
       "    </tr>\n",
       "    <tr>\n",
       "      <th>4</th>\n",
       "      <td>сыграть свадьбу</td>\n",
       "      <td>проведение свадьбы</td>\n",
       "    </tr>\n",
       "    <tr>\n",
       "      <th>5</th>\n",
       "      <td>покупка жилья</td>\n",
       "      <td>операции с недвижимостью</td>\n",
       "    </tr>\n",
       "    <tr>\n",
       "      <th>6</th>\n",
       "      <td>операции с жильем</td>\n",
       "      <td>операции с недвижимостью</td>\n",
       "    </tr>\n",
       "    <tr>\n",
       "      <th>7</th>\n",
       "      <td>образование</td>\n",
       "      <td>получение образования</td>\n",
       "    </tr>\n",
       "    <tr>\n",
       "      <th>8</th>\n",
       "      <td>на проведение свадьбы</td>\n",
       "      <td>проведение свадьбы</td>\n",
       "    </tr>\n",
       "    <tr>\n",
       "      <th>9</th>\n",
       "      <td>покупка жилья для семьи</td>\n",
       "      <td>операции с недвижимостью</td>\n",
       "    </tr>\n",
       "    <tr>\n",
       "      <th>10</th>\n",
       "      <td>покупка недвижимости</td>\n",
       "      <td>операции с недвижимостью</td>\n",
       "    </tr>\n",
       "    <tr>\n",
       "      <th>11</th>\n",
       "      <td>покупка коммерческой недвижимости</td>\n",
       "      <td>операции с недвижимостью</td>\n",
       "    </tr>\n",
       "    <tr>\n",
       "      <th>12</th>\n",
       "      <td>сыграть свадьбу</td>\n",
       "      <td>проведение свадьбы</td>\n",
       "    </tr>\n",
       "    <tr>\n",
       "      <th>13</th>\n",
       "      <td>приобретение автомобиля</td>\n",
       "      <td>операции с автомобилем</td>\n",
       "    </tr>\n",
       "    <tr>\n",
       "      <th>14</th>\n",
       "      <td>покупка жилой недвижимости</td>\n",
       "      <td>операции с недвижимостью</td>\n",
       "    </tr>\n",
       "  </tbody>\n",
       "</table>\n",
       "</div>"
      ],
      "text/plain": [
       "                              purpose          purpose_category\n",
       "0                       покупка жилья  операции с недвижимостью\n",
       "1             приобретение автомобиля    операции с автомобилем\n",
       "2                       покупка жилья  операции с недвижимостью\n",
       "3          дополнительное образование     получение образования\n",
       "4                     сыграть свадьбу        проведение свадьбы\n",
       "5                       покупка жилья  операции с недвижимостью\n",
       "6                   операции с жильем  операции с недвижимостью\n",
       "7                         образование     получение образования\n",
       "8               на проведение свадьбы        проведение свадьбы\n",
       "9             покупка жилья для семьи  операции с недвижимостью\n",
       "10               покупка недвижимости  операции с недвижимостью\n",
       "11  покупка коммерческой недвижимости  операции с недвижимостью\n",
       "12                    сыграть свадьбу        проведение свадьбы\n",
       "13            приобретение автомобиля    операции с автомобилем\n",
       "14         покупка жилой недвижимости  операции с недвижимостью"
      ]
     },
     "execution_count": 21,
     "metadata": {},
     "output_type": "execute_result"
    }
   ],
   "source": [
    "# create function\n",
    "\n",
    "def purpose_group(purpose):\n",
    "    \"\"\"\n",
    "    Возвращает категорию цели кредита\n",
    "    \"\"\"\n",
    "    if 'свадьб' in purpose:\n",
    "        return 'проведение свадьбы'\n",
    "    if 'недвижим' in purpose or 'жиль' in purpose:\n",
    "        return 'операции с недвижимостью'\n",
    "    if 'автомоб' in purpose:\n",
    "        return 'операции с автомобилем'\n",
    "    if 'образов' in purpose:\n",
    "        return 'получение образования'\n",
    "        \n",
    "# apply function\n",
    "data['purpose_category'] = data['purpose'].apply(purpose_group)\n",
    "# check\n",
    "data.loc[:14, ['purpose', 'purpose_category']]"
   ]
  },
  {
   "cell_type": "markdown",
   "id": "ac82709d",
   "metadata": {},
   "source": [
    "### Answer for questions"
   ]
  },
  {
   "cell_type": "markdown",
   "id": "547b32b5",
   "metadata": {},
   "source": [
    "##### Is there relationship between number of children and loan repayment on time?"
   ]
  },
  {
   "cell_type": "code",
   "execution_count": 22,
   "id": "5173d0ab",
   "metadata": {},
   "outputs": [
    {
     "data": {
      "text/html": [
       "<div>\n",
       "<style scoped>\n",
       "    .dataframe tbody tr th:only-of-type {\n",
       "        vertical-align: middle;\n",
       "    }\n",
       "\n",
       "    .dataframe tbody tr th {\n",
       "        vertical-align: top;\n",
       "    }\n",
       "\n",
       "    .dataframe thead th {\n",
       "        text-align: right;\n",
       "    }\n",
       "</style>\n",
       "<table border=\"1\" class=\"dataframe\">\n",
       "  <thead>\n",
       "    <tr style=\"text-align: right;\">\n",
       "      <th>debt</th>\n",
       "      <th>0</th>\n",
       "      <th>1</th>\n",
       "      <th>rate_debt_children</th>\n",
       "    </tr>\n",
       "    <tr>\n",
       "      <th>children</th>\n",
       "      <th></th>\n",
       "      <th></th>\n",
       "      <th></th>\n",
       "    </tr>\n",
       "  </thead>\n",
       "  <tbody>\n",
       "    <tr>\n",
       "      <th>0</th>\n",
       "      <td>13043.0</td>\n",
       "      <td>1063.0</td>\n",
       "      <td>0.081500</td>\n",
       "    </tr>\n",
       "    <tr>\n",
       "      <th>1</th>\n",
       "      <td>4411.0</td>\n",
       "      <td>445.0</td>\n",
       "      <td>0.100884</td>\n",
       "    </tr>\n",
       "    <tr>\n",
       "      <th>2</th>\n",
       "      <td>1858.0</td>\n",
       "      <td>194.0</td>\n",
       "      <td>0.104413</td>\n",
       "    </tr>\n",
       "    <tr>\n",
       "      <th>3</th>\n",
       "      <td>303.0</td>\n",
       "      <td>27.0</td>\n",
       "      <td>0.089109</td>\n",
       "    </tr>\n",
       "    <tr>\n",
       "      <th>4</th>\n",
       "      <td>37.0</td>\n",
       "      <td>4.0</td>\n",
       "      <td>0.108108</td>\n",
       "    </tr>\n",
       "    <tr>\n",
       "      <th>5</th>\n",
       "      <td>9.0</td>\n",
       "      <td>NaN</td>\n",
       "      <td>NaN</td>\n",
       "    </tr>\n",
       "  </tbody>\n",
       "</table>\n",
       "</div>"
      ],
      "text/plain": [
       "debt            0       1  rate_debt_children\n",
       "children                                     \n",
       "0         13043.0  1063.0            0.081500\n",
       "1          4411.0   445.0            0.100884\n",
       "2          1858.0   194.0            0.104413\n",
       "3           303.0    27.0            0.089109\n",
       "4            37.0     4.0            0.108108\n",
       "5             9.0     NaN                 NaN"
      ]
     },
     "execution_count": 22,
     "metadata": {},
     "output_type": "execute_result"
    }
   ],
   "source": [
    "# check\n",
    "data_children_debt = data.pivot_table(index='children', columns='debt', values='gender', aggfunc='count')\n",
    "data_children_debt['rate_debt_children'] = data_children_debt[1] / data_children_debt[0]\n",
    "data_children_debt"
   ]
  },
  {
   "cell_type": "markdown",
   "id": "fee64e7a",
   "metadata": {},
   "source": [
    "Proportions clients without children near 8%. With children 9% - 10%"
   ]
  },
  {
   "cell_type": "markdown",
   "id": "d65579a5",
   "metadata": {},
   "source": [
    "##### Is there relationship between family status and loan rapayment on time?"
   ]
  },
  {
   "cell_type": "code",
   "execution_count": 23,
   "id": "e0c9efb5",
   "metadata": {},
   "outputs": [
    {
     "data": {
      "text/html": [
       "<div>\n",
       "<style scoped>\n",
       "    .dataframe tbody tr th:only-of-type {\n",
       "        vertical-align: middle;\n",
       "    }\n",
       "\n",
       "    .dataframe tbody tr th {\n",
       "        vertical-align: top;\n",
       "    }\n",
       "\n",
       "    .dataframe thead th {\n",
       "        text-align: right;\n",
       "    }\n",
       "</style>\n",
       "<table border=\"1\" class=\"dataframe\">\n",
       "  <thead>\n",
       "    <tr style=\"text-align: right;\">\n",
       "      <th>debt</th>\n",
       "      <th>0</th>\n",
       "      <th>1</th>\n",
       "      <th>rate_debt_family</th>\n",
       "    </tr>\n",
       "    <tr>\n",
       "      <th>family_status</th>\n",
       "      <th></th>\n",
       "      <th></th>\n",
       "      <th></th>\n",
       "    </tr>\n",
       "  </thead>\n",
       "  <tbody>\n",
       "    <tr>\n",
       "      <th>Не женат / не замужем</th>\n",
       "      <td>2528</td>\n",
       "      <td>273</td>\n",
       "      <td>0.107991</td>\n",
       "    </tr>\n",
       "    <tr>\n",
       "      <th>в разводе</th>\n",
       "      <td>1109</td>\n",
       "      <td>84</td>\n",
       "      <td>0.075744</td>\n",
       "    </tr>\n",
       "    <tr>\n",
       "      <th>вдовец / вдова</th>\n",
       "      <td>892</td>\n",
       "      <td>63</td>\n",
       "      <td>0.070628</td>\n",
       "    </tr>\n",
       "    <tr>\n",
       "      <th>гражданский брак</th>\n",
       "      <td>3765</td>\n",
       "      <td>385</td>\n",
       "      <td>0.102258</td>\n",
       "    </tr>\n",
       "    <tr>\n",
       "      <th>женат / замужем</th>\n",
       "      <td>11367</td>\n",
       "      <td>928</td>\n",
       "      <td>0.081640</td>\n",
       "    </tr>\n",
       "  </tbody>\n",
       "</table>\n",
       "</div>"
      ],
      "text/plain": [
       "debt                       0    1  rate_debt_family\n",
       "family_status                                      \n",
       "Не женат / не замужем   2528  273          0.107991\n",
       "в разводе               1109   84          0.075744\n",
       "вдовец / вдова           892   63          0.070628\n",
       "гражданский брак        3765  385          0.102258\n",
       "женат / замужем        11367  928          0.081640"
      ]
     },
     "execution_count": 23,
     "metadata": {},
     "output_type": "execute_result"
    }
   ],
   "source": [
    "# merge table\n",
    "data_family_debt = data.merge(data_family, on='family_status_id', how='left')\n",
    "data_family_debt = data_family_debt[['family_status', 'debt', 'family_status_id']]\n",
    "# pivot table\n",
    "data_family_debt = data_family_debt.pivot_table(index='family_status', columns='debt', values='family_status_id', aggfunc='count')\n",
    "data_family_debt['rate_debt_family'] = data_family_debt[1] / data_family_debt[0]\n",
    "data_family_debt"
   ]
  },
  {
   "cell_type": "markdown",
   "id": "980c23b6",
   "metadata": {},
   "source": [
    "Big proportion of debts from clients in a civil marriage and who are not married or not married: near 10%. "
   ]
  },
  {
   "cell_type": "markdown",
   "id": "406cc3e6",
   "metadata": {},
   "source": [
    "##### Is there relationship between income and lone rapayment on time?"
   ]
  },
  {
   "cell_type": "code",
   "execution_count": 24,
   "id": "9a0f7cdf",
   "metadata": {},
   "outputs": [
    {
     "data": {
      "text/html": [
       "<div>\n",
       "<style scoped>\n",
       "    .dataframe tbody tr th:only-of-type {\n",
       "        vertical-align: middle;\n",
       "    }\n",
       "\n",
       "    .dataframe tbody tr th {\n",
       "        vertical-align: top;\n",
       "    }\n",
       "\n",
       "    .dataframe thead th {\n",
       "        text-align: right;\n",
       "    }\n",
       "</style>\n",
       "<table border=\"1\" class=\"dataframe\">\n",
       "  <thead>\n",
       "    <tr style=\"text-align: right;\">\n",
       "      <th>debt</th>\n",
       "      <th>0</th>\n",
       "      <th>1</th>\n",
       "      <th>rate_debt_income_category</th>\n",
       "    </tr>\n",
       "    <tr>\n",
       "      <th>total_income_category</th>\n",
       "      <th></th>\n",
       "      <th></th>\n",
       "      <th></th>\n",
       "    </tr>\n",
       "  </thead>\n",
       "  <tbody>\n",
       "    <tr>\n",
       "      <th>A</th>\n",
       "      <td>23</td>\n",
       "      <td>2</td>\n",
       "      <td>0.086957</td>\n",
       "    </tr>\n",
       "    <tr>\n",
       "      <th>B</th>\n",
       "      <td>4666</td>\n",
       "      <td>354</td>\n",
       "      <td>0.075868</td>\n",
       "    </tr>\n",
       "    <tr>\n",
       "      <th>C</th>\n",
       "      <td>14623</td>\n",
       "      <td>1354</td>\n",
       "      <td>0.092594</td>\n",
       "    </tr>\n",
       "    <tr>\n",
       "      <th>D</th>\n",
       "      <td>329</td>\n",
       "      <td>21</td>\n",
       "      <td>0.063830</td>\n",
       "    </tr>\n",
       "    <tr>\n",
       "      <th>E</th>\n",
       "      <td>20</td>\n",
       "      <td>2</td>\n",
       "      <td>0.100000</td>\n",
       "    </tr>\n",
       "  </tbody>\n",
       "</table>\n",
       "</div>"
      ],
      "text/plain": [
       "debt                       0     1  rate_debt_income_category\n",
       "total_income_category                                        \n",
       "A                         23     2                   0.086957\n",
       "B                       4666   354                   0.075868\n",
       "C                      14623  1354                   0.092594\n",
       "D                        329    21                   0.063830\n",
       "E                         20     2                   0.100000"
      ]
     },
     "execution_count": 24,
     "metadata": {},
     "output_type": "execute_result"
    }
   ],
   "source": [
    "data_debt_incom_category = data.pivot_table(index='total_income_category', columns='debt', values='total_income', aggfunc='count')\n",
    "data_debt_incom_category['rate_debt_income_category'] = data_debt_incom_category[1] / data_debt_incom_category[0]\n",
    "data_debt_incom_category"
   ]
  },
  {
   "cell_type": "markdown",
   "id": "ac6c3049",
   "metadata": {},
   "source": [
    "Propotion of non-payers from 6% to 10%"
   ]
  },
  {
   "cell_type": "markdown",
   "id": "722e627f",
   "metadata": {},
   "source": [
    "##### How do different purposes affect to loan repaymnet on time?"
   ]
  },
  {
   "cell_type": "code",
   "execution_count": 25,
   "id": "10a1d775",
   "metadata": {},
   "outputs": [
    {
     "data": {
      "text/html": [
       "<div>\n",
       "<style scoped>\n",
       "    .dataframe tbody tr th:only-of-type {\n",
       "        vertical-align: middle;\n",
       "    }\n",
       "\n",
       "    .dataframe tbody tr th {\n",
       "        vertical-align: top;\n",
       "    }\n",
       "\n",
       "    .dataframe thead th {\n",
       "        text-align: right;\n",
       "    }\n",
       "</style>\n",
       "<table border=\"1\" class=\"dataframe\">\n",
       "  <thead>\n",
       "    <tr style=\"text-align: right;\">\n",
       "      <th>debt</th>\n",
       "      <th>0</th>\n",
       "      <th>1</th>\n",
       "      <th>rate_debt_purpose</th>\n",
       "    </tr>\n",
       "    <tr>\n",
       "      <th>purpose_category</th>\n",
       "      <th></th>\n",
       "      <th></th>\n",
       "      <th></th>\n",
       "    </tr>\n",
       "  </thead>\n",
       "  <tbody>\n",
       "    <tr>\n",
       "      <th>операции с автомобилем</th>\n",
       "      <td>3891</td>\n",
       "      <td>401</td>\n",
       "      <td>0.103058</td>\n",
       "    </tr>\n",
       "    <tr>\n",
       "      <th>операции с недвижимостью</th>\n",
       "      <td>9997</td>\n",
       "      <td>780</td>\n",
       "      <td>0.078023</td>\n",
       "    </tr>\n",
       "    <tr>\n",
       "      <th>получение образования</th>\n",
       "      <td>3630</td>\n",
       "      <td>369</td>\n",
       "      <td>0.101653</td>\n",
       "    </tr>\n",
       "    <tr>\n",
       "      <th>проведение свадьбы</th>\n",
       "      <td>2143</td>\n",
       "      <td>183</td>\n",
       "      <td>0.085394</td>\n",
       "    </tr>\n",
       "  </tbody>\n",
       "</table>\n",
       "</div>"
      ],
      "text/plain": [
       "debt                         0    1  rate_debt_purpose\n",
       "purpose_category                                      \n",
       "операции с автомобилем    3891  401           0.103058\n",
       "операции с недвижимостью  9997  780           0.078023\n",
       "получение образования     3630  369           0.101653\n",
       "проведение свадьбы        2143  183           0.085394"
      ]
     },
     "execution_count": 25,
     "metadata": {},
     "output_type": "execute_result"
    }
   ],
   "source": [
    "data_debt_purpose_category = data.pivot_table(index='purpose_category', columns='debt', values='purpose', aggfunc='count')\n",
    "data_debt_purpose_category['rate_debt_purpose'] = data_debt_purpose_category[1] / data_debt_purpose_category[0]\n",
    "data_debt_purpose_category"
   ]
  },
  {
   "cell_type": "markdown",
   "id": "f19c7778",
   "metadata": {},
   "source": [
    "The largest share of debts is ralated to operations with cars and education: ~10%"
   ]
  },
  {
   "cell_type": "markdown",
   "id": "6e292439",
   "metadata": {},
   "source": [
    "## Results\n",
    "- Clients with children are experiencing an increase in cases of loan arrears\n",
    "- Clients with income before 30000 and between 50000 and 200000 have the most debt\n",
    "- Most of the non-payers are clients whose purpose of the loan is related to a car and education"
   ]
  }
 ],
 "metadata": {
  "ExecuteTimeLog": [
   {
    "duration": 594,
    "start_time": "2022-02-06T09:12:10.857Z"
   },
   {
    "duration": 3,
    "start_time": "2022-02-06T09:12:14.688Z"
   },
   {
    "duration": 58,
    "start_time": "2022-02-06T09:13:12.418Z"
   },
   {
    "duration": 52,
    "start_time": "2022-02-06T09:19:53.045Z"
   },
   {
    "duration": 18,
    "start_time": "2022-02-06T09:20:13.954Z"
   },
   {
    "duration": 11,
    "start_time": "2022-02-06T09:22:28.139Z"
   },
   {
    "duration": 19,
    "start_time": "2022-02-06T09:36:44.681Z"
   },
   {
    "duration": 248,
    "start_time": "2022-02-06T09:39:23.790Z"
   },
   {
    "duration": 181,
    "start_time": "2022-02-06T09:39:42.045Z"
   },
   {
    "duration": 191,
    "start_time": "2022-02-06T09:39:45.328Z"
   },
   {
    "duration": 6,
    "start_time": "2022-02-06T09:40:06.786Z"
   },
   {
    "duration": 6,
    "start_time": "2022-02-06T09:41:00.096Z"
   },
   {
    "duration": 4,
    "start_time": "2022-02-06T09:41:05.666Z"
   },
   {
    "duration": 5,
    "start_time": "2022-02-06T09:41:10.225Z"
   },
   {
    "duration": 6,
    "start_time": "2022-02-06T09:41:16.214Z"
   },
   {
    "duration": 7,
    "start_time": "2022-02-06T09:41:55.055Z"
   },
   {
    "duration": 6,
    "start_time": "2022-02-06T09:42:10.024Z"
   },
   {
    "duration": 2533,
    "start_time": "2022-02-06T09:42:58.823Z"
   },
   {
    "duration": 6,
    "start_time": "2022-02-06T09:43:02.131Z"
   },
   {
    "duration": 4216,
    "start_time": "2022-02-06T09:44:16.124Z"
   },
   {
    "duration": 2352,
    "start_time": "2022-02-06T09:44:25.626Z"
   },
   {
    "duration": 5,
    "start_time": "2022-02-06T09:44:29.514Z"
   },
   {
    "duration": 7,
    "start_time": "2022-02-06T09:44:37.458Z"
   },
   {
    "duration": 6,
    "start_time": "2022-02-06T09:44:41.994Z"
   },
   {
    "duration": 6,
    "start_time": "2022-02-06T10:03:11.866Z"
   },
   {
    "duration": 9,
    "start_time": "2022-02-06T10:05:19.286Z"
   },
   {
    "duration": 19,
    "start_time": "2022-02-06T10:05:30.797Z"
   },
   {
    "duration": 220,
    "start_time": "2022-02-06T10:05:59.338Z"
   },
   {
    "duration": 183,
    "start_time": "2022-02-06T10:06:59.829Z"
   },
   {
    "duration": 4,
    "start_time": "2022-02-06T10:07:05.316Z"
   },
   {
    "duration": 5,
    "start_time": "2022-02-06T10:07:10.668Z"
   },
   {
    "duration": 204,
    "start_time": "2022-02-06T10:07:31.018Z"
   },
   {
    "duration": 8,
    "start_time": "2022-02-06T10:08:57.028Z"
   },
   {
    "duration": 194,
    "start_time": "2022-02-06T10:09:07.531Z"
   },
   {
    "duration": 24,
    "start_time": "2022-02-06T10:10:54.028Z"
   },
   {
    "duration": 5,
    "start_time": "2022-02-06T10:11:16.327Z"
   },
   {
    "duration": 13,
    "start_time": "2022-02-06T10:11:20.662Z"
   },
   {
    "duration": 3,
    "start_time": "2022-02-06T10:12:18.932Z"
   },
   {
    "duration": 3,
    "start_time": "2022-02-06T10:12:22.092Z"
   },
   {
    "duration": 56,
    "start_time": "2022-02-06T10:12:24.118Z"
   },
   {
    "duration": 12,
    "start_time": "2022-02-06T10:12:30.089Z"
   },
   {
    "duration": 13,
    "start_time": "2022-02-06T10:12:37.323Z"
   },
   {
    "duration": 13,
    "start_time": "2022-02-06T10:12:57.678Z"
   },
   {
    "duration": 5,
    "start_time": "2022-02-06T10:13:08.248Z"
   },
   {
    "duration": 7,
    "start_time": "2022-02-06T10:13:17.946Z"
   },
   {
    "duration": 15,
    "start_time": "2022-02-06T10:13:27.639Z"
   },
   {
    "duration": 8,
    "start_time": "2022-02-06T10:13:45.417Z"
   },
   {
    "duration": 8,
    "start_time": "2022-02-06T10:14:01.550Z"
   },
   {
    "duration": 14,
    "start_time": "2022-02-06T10:14:09.473Z"
   },
   {
    "duration": 11,
    "start_time": "2022-02-06T10:19:22.157Z"
   },
   {
    "duration": 2,
    "start_time": "2022-02-06T10:19:32.042Z"
   },
   {
    "duration": 54,
    "start_time": "2022-02-06T10:19:35.272Z"
   },
   {
    "duration": 12,
    "start_time": "2022-02-06T10:19:39.111Z"
   },
   {
    "duration": 11,
    "start_time": "2022-02-06T10:19:52.701Z"
   },
   {
    "duration": 179,
    "start_time": "2022-02-06T10:21:40.275Z"
   },
   {
    "duration": 667,
    "start_time": "2022-02-06T10:21:47.363Z"
   },
   {
    "duration": 170,
    "start_time": "2022-02-06T10:22:03.716Z"
   },
   {
    "duration": 198,
    "start_time": "2022-02-06T10:22:11.846Z"
   },
   {
    "duration": 5,
    "start_time": "2022-02-06T10:24:34.964Z"
   },
   {
    "duration": 6,
    "start_time": "2022-02-06T10:25:24.937Z"
   },
   {
    "duration": 6,
    "start_time": "2022-02-06T10:25:42.327Z"
   },
   {
    "duration": 5,
    "start_time": "2022-02-06T10:25:51.604Z"
   },
   {
    "duration": 7,
    "start_time": "2022-02-06T10:26:59.649Z"
   },
   {
    "duration": 8,
    "start_time": "2022-02-06T10:27:23.748Z"
   },
   {
    "duration": 8,
    "start_time": "2022-02-06T10:27:32.389Z"
   },
   {
    "duration": 7,
    "start_time": "2022-02-06T10:27:38.411Z"
   },
   {
    "duration": 185,
    "start_time": "2022-02-06T10:27:42.839Z"
   },
   {
    "duration": 6,
    "start_time": "2022-02-06T10:28:53.337Z"
   },
   {
    "duration": 6,
    "start_time": "2022-02-06T10:29:06.015Z"
   },
   {
    "duration": 6,
    "start_time": "2022-02-06T10:32:08.727Z"
   },
   {
    "duration": 183,
    "start_time": "2022-02-06T10:33:34.062Z"
   },
   {
    "duration": 13,
    "start_time": "2022-02-06T10:35:05.548Z"
   },
   {
    "duration": 22,
    "start_time": "2022-02-06T10:36:32.850Z"
   },
   {
    "duration": 6,
    "start_time": "2022-02-06T10:36:57.588Z"
   },
   {
    "duration": 5,
    "start_time": "2022-02-06T10:37:18.196Z"
   },
   {
    "duration": 7,
    "start_time": "2022-02-06T10:37:31.732Z"
   },
   {
    "duration": 7,
    "start_time": "2022-02-06T10:37:57.166Z"
   },
   {
    "duration": 5,
    "start_time": "2022-02-06T10:39:47.302Z"
   },
   {
    "duration": 6,
    "start_time": "2022-02-06T10:39:53.396Z"
   },
   {
    "duration": 6,
    "start_time": "2022-02-06T10:40:26.292Z"
   },
   {
    "duration": 8,
    "start_time": "2022-02-06T10:42:54.595Z"
   },
   {
    "duration": 7,
    "start_time": "2022-02-06T10:43:32.015Z"
   },
   {
    "duration": 8,
    "start_time": "2022-02-06T10:43:41.204Z"
   },
   {
    "duration": 14,
    "start_time": "2022-02-06T10:53:29.955Z"
   },
   {
    "duration": 13,
    "start_time": "2022-02-06T10:53:42.595Z"
   },
   {
    "duration": 13,
    "start_time": "2022-02-06T11:17:19.766Z"
   },
   {
    "duration": 9,
    "start_time": "2022-02-06T11:21:52.492Z"
   },
   {
    "duration": 10,
    "start_time": "2022-02-06T11:24:15.413Z"
   },
   {
    "duration": 8,
    "start_time": "2022-02-06T11:24:52.871Z"
   },
   {
    "duration": 8,
    "start_time": "2022-02-06T11:25:05.437Z"
   },
   {
    "duration": 4,
    "start_time": "2022-02-06T11:29:22.031Z"
   },
   {
    "duration": 176,
    "start_time": "2022-02-06T11:29:31.750Z"
   },
   {
    "duration": 7,
    "start_time": "2022-02-06T11:29:37.355Z"
   },
   {
    "duration": 8,
    "start_time": "2022-02-06T11:29:48.651Z"
   },
   {
    "duration": 6,
    "start_time": "2022-02-06T11:30:19.409Z"
   },
   {
    "duration": 5,
    "start_time": "2022-02-06T11:30:47.289Z"
   },
   {
    "duration": 5,
    "start_time": "2022-02-06T11:30:54.041Z"
   },
   {
    "duration": 17,
    "start_time": "2022-02-06T11:36:41.778Z"
   },
   {
    "duration": 16,
    "start_time": "2022-02-06T11:36:46.937Z"
   },
   {
    "duration": 20,
    "start_time": "2022-02-06T11:36:52.531Z"
   },
   {
    "duration": 7,
    "start_time": "2022-02-06T11:37:12.266Z"
   },
   {
    "duration": 17,
    "start_time": "2022-02-06T11:38:13.887Z"
   },
   {
    "duration": 63,
    "start_time": "2022-02-06T11:38:30.667Z"
   },
   {
    "duration": 31,
    "start_time": "2022-02-06T11:38:33.535Z"
   },
   {
    "duration": 6,
    "start_time": "2022-02-06T11:39:24.764Z"
   },
   {
    "duration": 7,
    "start_time": "2022-02-06T11:39:49.949Z"
   },
   {
    "duration": 6,
    "start_time": "2022-02-06T11:40:14.863Z"
   },
   {
    "duration": 7,
    "start_time": "2022-02-06T11:40:24.964Z"
   },
   {
    "duration": 6,
    "start_time": "2022-02-06T11:40:44.572Z"
   },
   {
    "duration": 11,
    "start_time": "2022-02-06T11:40:55.784Z"
   },
   {
    "duration": 8,
    "start_time": "2022-02-06T11:40:59.257Z"
   },
   {
    "duration": 6,
    "start_time": "2022-02-06T11:41:14.057Z"
   },
   {
    "duration": 6,
    "start_time": "2022-02-06T11:41:24.346Z"
   },
   {
    "duration": 5,
    "start_time": "2022-02-06T11:41:34.890Z"
   },
   {
    "duration": 8,
    "start_time": "2022-02-06T11:41:39.057Z"
   },
   {
    "duration": 17,
    "start_time": "2022-02-06T11:42:19.918Z"
   },
   {
    "duration": 31,
    "start_time": "2022-02-06T11:42:28.662Z"
   },
   {
    "duration": 33,
    "start_time": "2022-02-06T11:43:21.216Z"
   },
   {
    "duration": 31,
    "start_time": "2022-02-06T11:44:15.297Z"
   },
   {
    "duration": 16,
    "start_time": "2022-02-06T11:45:27.525Z"
   },
   {
    "duration": 9,
    "start_time": "2022-02-06T11:46:00.179Z"
   },
   {
    "duration": 7,
    "start_time": "2022-02-06T11:47:30.329Z"
   },
   {
    "duration": 17,
    "start_time": "2022-02-06T11:48:39.211Z"
   },
   {
    "duration": 19,
    "start_time": "2022-02-06T11:49:50.983Z"
   },
   {
    "duration": 18,
    "start_time": "2022-02-06T11:50:08.868Z"
   },
   {
    "duration": 18,
    "start_time": "2022-02-06T11:50:12.955Z"
   },
   {
    "duration": 2,
    "start_time": "2022-02-06T11:50:26.040Z"
   },
   {
    "duration": 53,
    "start_time": "2022-02-06T11:50:27.860Z"
   },
   {
    "duration": 13,
    "start_time": "2022-02-06T11:50:30.887Z"
   },
   {
    "duration": 8,
    "start_time": "2022-02-06T11:50:36.907Z"
   },
   {
    "duration": 13,
    "start_time": "2022-02-06T11:50:39.481Z"
   },
   {
    "duration": 8,
    "start_time": "2022-02-06T11:50:44.456Z"
   },
   {
    "duration": 5,
    "start_time": "2022-02-06T11:50:47.626Z"
   },
   {
    "duration": 17,
    "start_time": "2022-02-06T11:50:50.868Z"
   },
   {
    "duration": 6,
    "start_time": "2022-02-06T11:50:52.955Z"
   },
   {
    "duration": 16,
    "start_time": "2022-02-06T11:51:35.360Z"
   },
   {
    "duration": 17,
    "start_time": "2022-02-06T11:51:44.735Z"
   },
   {
    "duration": 29,
    "start_time": "2022-02-06T11:52:14.927Z"
   },
   {
    "duration": 8,
    "start_time": "2022-02-06T11:52:54.444Z"
   },
   {
    "duration": 17,
    "start_time": "2022-02-06T11:57:19.806Z"
   },
   {
    "duration": 1188,
    "start_time": "2022-02-06T12:11:23.648Z"
   },
   {
    "duration": 12,
    "start_time": "2022-02-06T12:11:35.817Z"
   },
   {
    "duration": 10,
    "start_time": "2022-02-06T12:12:22.167Z"
   },
   {
    "duration": 6,
    "start_time": "2022-02-06T12:12:51.316Z"
   },
   {
    "duration": 6,
    "start_time": "2022-02-06T12:12:57.265Z"
   },
   {
    "duration": 9,
    "start_time": "2022-02-06T12:28:32.448Z"
   },
   {
    "duration": 17,
    "start_time": "2022-02-06T12:39:18.528Z"
   },
   {
    "duration": 7,
    "start_time": "2022-02-06T12:47:13.395Z"
   },
   {
    "duration": 14,
    "start_time": "2022-02-06T12:55:05.751Z"
   },
   {
    "duration": 17,
    "start_time": "2022-02-06T12:55:40.418Z"
   },
   {
    "duration": 16,
    "start_time": "2022-02-06T12:55:47.388Z"
   },
   {
    "duration": 16,
    "start_time": "2022-02-06T12:56:03.425Z"
   },
   {
    "duration": 17,
    "start_time": "2022-02-06T12:58:08.415Z"
   },
   {
    "duration": 11,
    "start_time": "2022-02-06T13:06:11.097Z"
   },
   {
    "duration": 8,
    "start_time": "2022-02-06T13:06:18.419Z"
   },
   {
    "duration": 836,
    "start_time": "2022-02-07T17:34:26.728Z"
   },
   {
    "duration": 75,
    "start_time": "2022-02-07T17:34:29.362Z"
   },
   {
    "duration": 28,
    "start_time": "2022-02-07T17:34:34.084Z"
   },
   {
    "duration": 12,
    "start_time": "2022-02-07T17:34:41.160Z"
   },
   {
    "duration": 20,
    "start_time": "2022-02-07T17:34:44.820Z"
   },
   {
    "duration": 14,
    "start_time": "2022-02-07T17:34:48.194Z"
   },
   {
    "duration": 14,
    "start_time": "2022-02-07T17:35:26.387Z"
   },
   {
    "duration": 8,
    "start_time": "2022-02-07T17:39:39.936Z"
   },
   {
    "duration": 7,
    "start_time": "2022-02-07T17:43:08.335Z"
   },
   {
    "duration": 10,
    "start_time": "2022-02-07T17:46:00.111Z"
   },
   {
    "duration": 377,
    "start_time": "2022-02-07T17:47:55.215Z"
   },
   {
    "duration": 20,
    "start_time": "2022-02-07T17:48:01.609Z"
   },
   {
    "duration": 60,
    "start_time": "2022-02-07T17:49:33.606Z"
   },
   {
    "duration": 39,
    "start_time": "2022-02-07T17:49:50.041Z"
   },
   {
    "duration": 11,
    "start_time": "2022-02-07T17:49:58.392Z"
   },
   {
    "duration": 633,
    "start_time": "2022-02-07T17:50:23.892Z"
   },
   {
    "duration": 18,
    "start_time": "2022-02-07T17:50:25.196Z"
   },
   {
    "duration": 19,
    "start_time": "2022-02-07T17:51:02.205Z"
   },
   {
    "duration": 3,
    "start_time": "2022-02-07T17:51:15.849Z"
   },
   {
    "duration": 16,
    "start_time": "2022-02-07T17:51:28.968Z"
   },
   {
    "duration": 9,
    "start_time": "2022-02-07T17:55:29.733Z"
   },
   {
    "duration": 43,
    "start_time": "2022-02-07T17:55:32.438Z"
   },
   {
    "duration": 14,
    "start_time": "2022-02-07T17:55:35.264Z"
   },
   {
    "duration": 23,
    "start_time": "2022-02-07T17:55:38.750Z"
   },
   {
    "duration": 7,
    "start_time": "2022-02-07T17:55:46.104Z"
   },
   {
    "duration": 11,
    "start_time": "2022-02-07T17:55:48.757Z"
   },
   {
    "duration": 27,
    "start_time": "2022-02-07T17:55:52.154Z"
   },
   {
    "duration": 26,
    "start_time": "2022-02-07T17:55:55.845Z"
   },
   {
    "duration": 10,
    "start_time": "2022-02-07T17:56:48.741Z"
   },
   {
    "duration": 8,
    "start_time": "2022-02-07T17:57:08.631Z"
   },
   {
    "duration": 4,
    "start_time": "2022-02-07T17:58:55.685Z"
   },
   {
    "duration": 38,
    "start_time": "2022-02-07T17:59:15.127Z"
   },
   {
    "duration": 20,
    "start_time": "2022-02-07T17:59:36.098Z"
   },
   {
    "duration": 20,
    "start_time": "2022-02-07T17:59:38.430Z"
   },
   {
    "duration": 7,
    "start_time": "2022-02-07T18:00:23.847Z"
   },
   {
    "duration": 10,
    "start_time": "2022-02-07T18:00:33.349Z"
   },
   {
    "duration": 11,
    "start_time": "2022-02-07T18:00:39.059Z"
   },
   {
    "duration": 31,
    "start_time": "2022-02-07T18:02:20.268Z"
   },
   {
    "duration": 320,
    "start_time": "2022-02-07T18:02:44.244Z"
   },
   {
    "duration": 1117,
    "start_time": "2022-02-07T18:02:55.957Z"
   },
   {
    "duration": 32,
    "start_time": "2022-02-07T18:03:04.708Z"
   },
   {
    "duration": 9,
    "start_time": "2022-02-07T18:04:48.833Z"
   },
   {
    "duration": 7,
    "start_time": "2022-02-07T18:04:58.502Z"
   },
   {
    "duration": 51,
    "start_time": "2022-02-07T18:05:34.376Z"
   },
   {
    "duration": 20,
    "start_time": "2022-02-07T18:05:54.109Z"
   },
   {
    "duration": 17,
    "start_time": "2022-02-07T18:06:23.991Z"
   },
   {
    "duration": 9,
    "start_time": "2022-02-07T18:07:22.434Z"
   },
   {
    "duration": 28,
    "start_time": "2022-02-07T18:07:25.816Z"
   },
   {
    "duration": 10998,
    "start_time": "2022-02-07T18:07:27.983Z"
   },
   {
    "duration": 8,
    "start_time": "2022-02-07T18:08:55.718Z"
   },
   {
    "duration": 9,
    "start_time": "2022-02-07T18:09:31.537Z"
   },
   {
    "duration": 8,
    "start_time": "2022-02-07T18:09:38.713Z"
   },
   {
    "duration": 10,
    "start_time": "2022-02-07T18:09:42.443Z"
   },
   {
    "duration": 10,
    "start_time": "2022-02-07T18:11:08.188Z"
   },
   {
    "duration": 378,
    "start_time": "2022-02-07T18:20:08.870Z"
   },
   {
    "duration": 341,
    "start_time": "2022-02-07T18:20:45.026Z"
   },
   {
    "duration": 20,
    "start_time": "2022-02-07T18:21:50.288Z"
   },
   {
    "duration": 3,
    "start_time": "2022-02-07T18:22:58.950Z"
   },
   {
    "duration": 327,
    "start_time": "2022-02-07T18:25:02.185Z"
   },
   {
    "duration": 20,
    "start_time": "2022-02-07T18:25:16.233Z"
   },
   {
    "duration": 315,
    "start_time": "2022-02-07T18:31:23.110Z"
   },
   {
    "duration": 449,
    "start_time": "2022-02-07T18:32:01.472Z"
   },
   {
    "duration": 338,
    "start_time": "2022-02-07T18:32:22.086Z"
   },
   {
    "duration": 728,
    "start_time": "2022-02-07T18:32:37.757Z"
   },
   {
    "duration": 464,
    "start_time": "2022-02-07T18:32:39.484Z"
   },
   {
    "duration": 29,
    "start_time": "2022-02-07T18:32:43.781Z"
   },
   {
    "duration": 12,
    "start_time": "2022-02-07T18:32:47.632Z"
   },
   {
    "duration": 19,
    "start_time": "2022-02-07T18:32:50.404Z"
   },
   {
    "duration": 8,
    "start_time": "2022-02-07T18:32:54.949Z"
   },
   {
    "duration": 10,
    "start_time": "2022-02-07T18:32:58.816Z"
   },
   {
    "duration": 19,
    "start_time": "2022-02-07T18:33:01.562Z"
   },
   {
    "duration": 14,
    "start_time": "2022-02-07T18:33:04.284Z"
   },
   {
    "duration": 8,
    "start_time": "2022-02-07T18:33:06.631Z"
   },
   {
    "duration": 9,
    "start_time": "2022-02-07T18:33:08.824Z"
   },
   {
    "duration": 16,
    "start_time": "2022-02-07T18:33:11.108Z"
   },
   {
    "duration": 9,
    "start_time": "2022-02-07T18:33:14.341Z"
   },
   {
    "duration": 25,
    "start_time": "2022-02-07T18:33:16.942Z"
   },
   {
    "duration": 4,
    "start_time": "2022-02-07T18:34:39.145Z"
   },
   {
    "duration": 79,
    "start_time": "2022-02-07T18:34:41.194Z"
   },
   {
    "duration": 845,
    "start_time": "2022-02-07T18:34:52.759Z"
   },
   {
    "duration": 73,
    "start_time": "2022-02-07T18:34:55.204Z"
   },
   {
    "duration": 28,
    "start_time": "2022-02-07T18:34:58.571Z"
   },
   {
    "duration": 13,
    "start_time": "2022-02-07T18:35:01.738Z"
   },
   {
    "duration": 20,
    "start_time": "2022-02-07T18:35:06.199Z"
   },
   {
    "duration": 8,
    "start_time": "2022-02-07T18:35:09.239Z"
   },
   {
    "duration": 10,
    "start_time": "2022-02-07T18:35:11.443Z"
   },
   {
    "duration": 19,
    "start_time": "2022-02-07T18:35:13.985Z"
   },
   {
    "duration": 15,
    "start_time": "2022-02-07T18:35:16.181Z"
   },
   {
    "duration": 9,
    "start_time": "2022-02-07T18:35:18.685Z"
   },
   {
    "duration": 11,
    "start_time": "2022-02-07T18:35:20.833Z"
   },
   {
    "duration": 17,
    "start_time": "2022-02-07T18:35:27.502Z"
   },
   {
    "duration": 9,
    "start_time": "2022-02-07T18:35:31.599Z"
   },
   {
    "duration": 26,
    "start_time": "2022-02-07T18:35:34.649Z"
   },
   {
    "duration": 11,
    "start_time": "2022-02-07T18:35:39.227Z"
   },
   {
    "duration": 22,
    "start_time": "2022-02-07T18:35:42.835Z"
   },
   {
    "duration": 8,
    "start_time": "2022-02-07T18:35:45.915Z"
   },
   {
    "duration": 10,
    "start_time": "2022-02-07T18:35:48.556Z"
   },
   {
    "duration": 25,
    "start_time": "2022-02-07T18:35:54.988Z"
   },
   {
    "duration": 24,
    "start_time": "2022-02-07T18:35:57.975Z"
   },
   {
    "duration": 24,
    "start_time": "2022-02-07T18:36:09.189Z"
   },
   {
    "duration": 417,
    "start_time": "2022-02-07T18:36:30.351Z"
   },
   {
    "duration": 958,
    "start_time": "2022-02-07T18:36:52.996Z"
   },
   {
    "duration": 344,
    "start_time": "2022-02-07T18:36:53.957Z"
   },
   {
    "duration": 26,
    "start_time": "2022-02-07T18:36:54.304Z"
   },
   {
    "duration": 10,
    "start_time": "2022-02-07T18:36:54.334Z"
   },
   {
    "duration": 22,
    "start_time": "2022-02-07T18:36:54.347Z"
   },
   {
    "duration": 10,
    "start_time": "2022-02-07T18:36:54.371Z"
   },
   {
    "duration": 45,
    "start_time": "2022-02-07T18:36:54.384Z"
   },
   {
    "duration": 42,
    "start_time": "2022-02-07T18:36:54.431Z"
   },
   {
    "duration": 24,
    "start_time": "2022-02-07T18:36:54.479Z"
   },
   {
    "duration": 22,
    "start_time": "2022-02-07T18:36:54.506Z"
   },
   {
    "duration": 10,
    "start_time": "2022-02-07T18:36:54.530Z"
   },
   {
    "duration": 14,
    "start_time": "2022-02-07T18:36:54.543Z"
   },
   {
    "duration": 9,
    "start_time": "2022-02-07T18:36:54.560Z"
   },
   {
    "duration": 64,
    "start_time": "2022-02-07T18:36:54.571Z"
   },
   {
    "duration": 10,
    "start_time": "2022-02-07T18:36:54.637Z"
   },
   {
    "duration": 29,
    "start_time": "2022-02-07T18:36:54.650Z"
   },
   {
    "duration": 8,
    "start_time": "2022-02-07T18:36:54.682Z"
   },
   {
    "duration": 34,
    "start_time": "2022-02-07T18:36:54.693Z"
   },
   {
    "duration": 28,
    "start_time": "2022-02-07T18:36:54.730Z"
   },
   {
    "duration": 24,
    "start_time": "2022-02-07T18:36:54.760Z"
   },
   {
    "duration": 56,
    "start_time": "2022-02-07T18:36:54.786Z"
   },
   {
    "duration": 966,
    "start_time": "2022-02-07T18:37:33.019Z"
   },
   {
    "duration": 338,
    "start_time": "2022-02-07T18:37:33.989Z"
   },
   {
    "duration": 30,
    "start_time": "2022-02-07T18:37:34.330Z"
   },
   {
    "duration": 10,
    "start_time": "2022-02-07T18:37:34.363Z"
   },
   {
    "duration": 47,
    "start_time": "2022-02-07T18:37:34.376Z"
   },
   {
    "duration": 11,
    "start_time": "2022-02-07T18:37:34.426Z"
   },
   {
    "duration": 12,
    "start_time": "2022-02-07T18:37:34.440Z"
   },
   {
    "duration": 26,
    "start_time": "2022-02-07T18:37:34.458Z"
   },
   {
    "duration": 15,
    "start_time": "2022-02-07T18:37:34.525Z"
   },
   {
    "duration": 8,
    "start_time": "2022-02-07T18:37:34.542Z"
   },
   {
    "duration": 10,
    "start_time": "2022-02-07T18:37:34.553Z"
   },
   {
    "duration": 61,
    "start_time": "2022-02-07T18:37:34.566Z"
   },
   {
    "duration": 8,
    "start_time": "2022-02-07T18:37:34.630Z"
   },
   {
    "duration": 31,
    "start_time": "2022-02-07T18:37:34.640Z"
   },
   {
    "duration": 9,
    "start_time": "2022-02-07T18:37:34.674Z"
   },
   {
    "duration": 81,
    "start_time": "2022-02-07T18:37:34.685Z"
   },
   {
    "duration": 11,
    "start_time": "2022-02-07T18:37:34.769Z"
   },
   {
    "duration": 14,
    "start_time": "2022-02-07T18:37:34.783Z"
   },
   {
    "duration": 42,
    "start_time": "2022-02-07T18:37:34.800Z"
   },
   {
    "duration": 27,
    "start_time": "2022-02-07T18:37:34.845Z"
   },
   {
    "duration": 56,
    "start_time": "2022-02-07T18:37:34.875Z"
   },
   {
    "duration": 800,
    "start_time": "2022-02-07T18:37:57.585Z"
   },
   {
    "duration": 350,
    "start_time": "2022-02-07T18:37:58.388Z"
   },
   {
    "duration": 27,
    "start_time": "2022-02-07T18:37:58.740Z"
   },
   {
    "duration": 10,
    "start_time": "2022-02-07T18:37:58.770Z"
   },
   {
    "duration": 46,
    "start_time": "2022-02-07T18:37:58.783Z"
   },
   {
    "duration": 8,
    "start_time": "2022-02-07T18:37:58.832Z"
   },
   {
    "duration": 10,
    "start_time": "2022-02-07T18:37:58.842Z"
   },
   {
    "duration": 17,
    "start_time": "2022-02-07T18:37:58.856Z"
   },
   {
    "duration": 53,
    "start_time": "2022-02-07T18:37:58.876Z"
   },
   {
    "duration": 7,
    "start_time": "2022-02-07T18:37:58.932Z"
   },
   {
    "duration": 8,
    "start_time": "2022-02-07T18:37:58.942Z"
   },
   {
    "duration": 16,
    "start_time": "2022-02-07T18:37:58.952Z"
   },
   {
    "duration": 8,
    "start_time": "2022-02-07T18:37:58.970Z"
   },
   {
    "duration": 37,
    "start_time": "2022-02-07T18:37:59.024Z"
   },
   {
    "duration": 13,
    "start_time": "2022-02-07T18:37:59.064Z"
   },
   {
    "duration": 64,
    "start_time": "2022-02-07T18:37:59.080Z"
   },
   {
    "duration": 10,
    "start_time": "2022-02-07T18:37:59.148Z"
   },
   {
    "duration": 13,
    "start_time": "2022-02-07T18:37:59.161Z"
   },
   {
    "duration": 63,
    "start_time": "2022-02-07T18:37:59.177Z"
   },
   {
    "duration": 33,
    "start_time": "2022-02-07T18:37:59.243Z"
   },
   {
    "duration": 50,
    "start_time": "2022-02-07T18:37:59.278Z"
   },
   {
    "duration": 15,
    "start_time": "2022-02-07T18:37:59.331Z"
   },
   {
    "duration": 992,
    "start_time": "2022-02-07T18:39:22.760Z"
   },
   {
    "duration": 350,
    "start_time": "2022-02-07T18:39:23.757Z"
   },
   {
    "duration": 28,
    "start_time": "2022-02-07T18:39:24.109Z"
   },
   {
    "duration": 11,
    "start_time": "2022-02-07T18:39:24.139Z"
   },
   {
    "duration": 21,
    "start_time": "2022-02-07T18:39:24.152Z"
   },
   {
    "duration": 7,
    "start_time": "2022-02-07T18:39:24.175Z"
   },
   {
    "duration": 11,
    "start_time": "2022-02-07T18:39:24.224Z"
   },
   {
    "duration": 19,
    "start_time": "2022-02-07T18:39:24.241Z"
   },
   {
    "duration": 14,
    "start_time": "2022-02-07T18:39:24.263Z"
   },
   {
    "duration": 45,
    "start_time": "2022-02-07T18:39:24.279Z"
   },
   {
    "duration": 12,
    "start_time": "2022-02-07T18:39:24.326Z"
   },
   {
    "duration": 15,
    "start_time": "2022-02-07T18:39:24.341Z"
   },
   {
    "duration": 8,
    "start_time": "2022-02-07T18:39:24.359Z"
   },
   {
    "duration": 73,
    "start_time": "2022-02-07T18:39:24.369Z"
   },
   {
    "duration": 9,
    "start_time": "2022-02-07T18:39:24.444Z"
   },
   {
    "duration": 24,
    "start_time": "2022-02-07T18:39:24.456Z"
   },
   {
    "duration": 40,
    "start_time": "2022-02-07T18:39:24.483Z"
   },
   {
    "duration": 9,
    "start_time": "2022-02-07T18:39:24.525Z"
   },
   {
    "duration": 26,
    "start_time": "2022-02-07T18:39:24.536Z"
   },
   {
    "duration": 58,
    "start_time": "2022-02-07T18:39:24.565Z"
   },
   {
    "duration": 21,
    "start_time": "2022-02-07T18:39:24.625Z"
   },
   {
    "duration": 4,
    "start_time": "2022-02-07T18:39:24.648Z"
   },
   {
    "duration": 3,
    "start_time": "2022-02-07T18:39:27.696Z"
   },
   {
    "duration": 20,
    "start_time": "2022-02-07T18:40:44.442Z"
   },
   {
    "duration": 19,
    "start_time": "2022-02-07T18:41:12.438Z"
   },
   {
    "duration": 3,
    "start_time": "2022-02-07T18:46:48.887Z"
   },
   {
    "duration": 22,
    "start_time": "2022-02-07T18:47:48.718Z"
   },
   {
    "duration": 19,
    "start_time": "2022-02-07T18:48:24.127Z"
   },
   {
    "duration": 23,
    "start_time": "2022-02-07T18:48:37.171Z"
   },
   {
    "duration": 21,
    "start_time": "2022-02-07T18:49:00.808Z"
   },
   {
    "duration": 24,
    "start_time": "2022-02-07T18:49:08.037Z"
   },
   {
    "duration": 851,
    "start_time": "2022-02-07T19:01:40.652Z"
   },
   {
    "duration": 528,
    "start_time": "2022-02-07T19:01:41.506Z"
   },
   {
    "duration": 29,
    "start_time": "2022-02-07T19:01:42.038Z"
   },
   {
    "duration": 22,
    "start_time": "2022-02-07T19:01:42.069Z"
   },
   {
    "duration": 34,
    "start_time": "2022-02-07T19:01:42.094Z"
   },
   {
    "duration": 9,
    "start_time": "2022-02-07T19:01:42.131Z"
   },
   {
    "duration": 25,
    "start_time": "2022-02-07T19:01:42.143Z"
   },
   {
    "duration": 29,
    "start_time": "2022-02-07T19:01:42.172Z"
   },
   {
    "duration": 25,
    "start_time": "2022-02-07T19:01:42.204Z"
   },
   {
    "duration": 17,
    "start_time": "2022-02-07T19:01:42.231Z"
   },
   {
    "duration": 18,
    "start_time": "2022-02-07T19:01:42.251Z"
   },
   {
    "duration": 20,
    "start_time": "2022-02-07T19:01:42.272Z"
   },
   {
    "duration": 13,
    "start_time": "2022-02-07T19:01:42.295Z"
   },
   {
    "duration": 31,
    "start_time": "2022-02-07T19:01:42.311Z"
   },
   {
    "duration": 10,
    "start_time": "2022-02-07T19:01:42.345Z"
   },
   {
    "duration": 36,
    "start_time": "2022-02-07T19:01:42.358Z"
   },
   {
    "duration": 29,
    "start_time": "2022-02-07T19:01:42.396Z"
   },
   {
    "duration": 9,
    "start_time": "2022-02-07T19:01:42.428Z"
   },
   {
    "duration": 43,
    "start_time": "2022-02-07T19:01:42.439Z"
   },
   {
    "duration": 38,
    "start_time": "2022-02-07T19:01:42.485Z"
   },
   {
    "duration": 23,
    "start_time": "2022-02-07T19:01:42.525Z"
   },
   {
    "duration": 4,
    "start_time": "2022-02-07T19:01:42.551Z"
   },
   {
    "duration": 38,
    "start_time": "2022-02-07T19:01:42.561Z"
   },
   {
    "duration": 34,
    "start_time": "2022-02-07T19:01:42.602Z"
   },
   {
    "duration": 19,
    "start_time": "2022-02-07T19:05:39.116Z"
   },
   {
    "duration": 19,
    "start_time": "2022-02-07T19:05:49.294Z"
   },
   {
    "duration": 19,
    "start_time": "2022-02-07T19:10:24.082Z"
   },
   {
    "duration": 12,
    "start_time": "2022-02-07T19:10:51.778Z"
   },
   {
    "duration": 10,
    "start_time": "2022-02-07T19:11:25.965Z"
   },
   {
    "duration": 729,
    "start_time": "2022-02-07T19:12:30.968Z"
   },
   {
    "duration": 562,
    "start_time": "2022-02-07T19:12:31.700Z"
   },
   {
    "duration": 27,
    "start_time": "2022-02-07T19:12:32.265Z"
   },
   {
    "duration": 29,
    "start_time": "2022-02-07T19:12:32.295Z"
   },
   {
    "duration": 18,
    "start_time": "2022-02-07T19:12:32.327Z"
   },
   {
    "duration": 10,
    "start_time": "2022-02-07T19:12:32.348Z"
   },
   {
    "duration": 9,
    "start_time": "2022-02-07T19:12:32.361Z"
   },
   {
    "duration": 52,
    "start_time": "2022-02-07T19:12:32.376Z"
   },
   {
    "duration": 19,
    "start_time": "2022-02-07T19:12:32.431Z"
   },
   {
    "duration": 8,
    "start_time": "2022-02-07T19:12:32.452Z"
   },
   {
    "duration": 8,
    "start_time": "2022-02-07T19:12:32.462Z"
   },
   {
    "duration": 52,
    "start_time": "2022-02-07T19:12:32.473Z"
   },
   {
    "duration": 8,
    "start_time": "2022-02-07T19:12:32.527Z"
   },
   {
    "duration": 27,
    "start_time": "2022-02-07T19:12:32.538Z"
   },
   {
    "duration": 10,
    "start_time": "2022-02-07T19:12:32.568Z"
   },
   {
    "duration": 61,
    "start_time": "2022-02-07T19:12:32.581Z"
   },
   {
    "duration": 7,
    "start_time": "2022-02-07T19:12:32.645Z"
   },
   {
    "duration": 11,
    "start_time": "2022-02-07T19:12:32.654Z"
   },
   {
    "duration": 57,
    "start_time": "2022-02-07T19:12:32.668Z"
   },
   {
    "duration": 24,
    "start_time": "2022-02-07T19:12:32.727Z"
   },
   {
    "duration": 21,
    "start_time": "2022-02-07T19:12:32.754Z"
   },
   {
    "duration": 2,
    "start_time": "2022-02-07T19:12:32.777Z"
   },
   {
    "duration": 14,
    "start_time": "2022-02-07T19:12:32.783Z"
   },
   {
    "duration": 22,
    "start_time": "2022-02-07T19:12:32.824Z"
   },
   {
    "duration": 21,
    "start_time": "2022-02-07T19:12:32.848Z"
   },
   {
    "duration": 10,
    "start_time": "2022-02-07T19:13:34.976Z"
   },
   {
    "duration": 846,
    "start_time": "2022-02-07T19:14:28.962Z"
   },
   {
    "duration": 355,
    "start_time": "2022-02-07T19:14:29.812Z"
   },
   {
    "duration": 28,
    "start_time": "2022-02-07T19:14:30.170Z"
   },
   {
    "duration": 192,
    "start_time": "2022-02-07T19:14:30.200Z"
   },
   {
    "duration": 115,
    "start_time": "2022-02-07T19:14:30.395Z"
   },
   {
    "duration": 117,
    "start_time": "2022-02-07T19:14:30.512Z"
   },
   {
    "duration": 153,
    "start_time": "2022-02-07T19:14:30.632Z"
   },
   {
    "duration": 143,
    "start_time": "2022-02-07T19:14:30.789Z"
   },
   {
    "duration": 116,
    "start_time": "2022-02-07T19:14:30.935Z"
   },
   {
    "duration": 201,
    "start_time": "2022-02-07T19:14:31.053Z"
   },
   {
    "duration": 75,
    "start_time": "2022-02-07T19:14:31.257Z"
   },
   {
    "duration": 113,
    "start_time": "2022-02-07T19:14:31.334Z"
   },
   {
    "duration": 88,
    "start_time": "2022-02-07T19:14:31.450Z"
   },
   {
    "duration": 183,
    "start_time": "2022-02-07T19:14:31.541Z"
   },
   {
    "duration": 97,
    "start_time": "2022-02-07T19:14:31.727Z"
   },
   {
    "duration": 153,
    "start_time": "2022-02-07T19:14:31.827Z"
   },
   {
    "duration": 78,
    "start_time": "2022-02-07T19:14:31.983Z"
   },
   {
    "duration": 218,
    "start_time": "2022-02-07T19:14:32.064Z"
   },
   {
    "duration": 172,
    "start_time": "2022-02-07T19:14:32.284Z"
   },
   {
    "duration": 199,
    "start_time": "2022-02-07T19:14:32.458Z"
   },
   {
    "duration": 202,
    "start_time": "2022-02-07T19:14:32.660Z"
   },
   {
    "duration": 145,
    "start_time": "2022-02-07T19:14:32.864Z"
   },
   {
    "duration": 188,
    "start_time": "2022-02-07T19:14:33.012Z"
   },
   {
    "duration": 147,
    "start_time": "2022-02-07T19:14:33.203Z"
   },
   {
    "duration": 149,
    "start_time": "2022-02-07T19:14:33.353Z"
   },
   {
    "duration": 960,
    "start_time": "2022-02-07T19:16:42.179Z"
   },
   {
    "duration": 352,
    "start_time": "2022-02-07T19:16:43.143Z"
   },
   {
    "duration": 32,
    "start_time": "2022-02-07T19:16:43.498Z"
   },
   {
    "duration": 345,
    "start_time": "2022-02-07T19:16:43.533Z"
   },
   {
    "duration": 358,
    "start_time": "2022-02-07T19:16:43.881Z"
   },
   {
    "duration": 214,
    "start_time": "2022-02-07T19:16:44.242Z"
   },
   {
    "duration": 207,
    "start_time": "2022-02-07T19:16:44.458Z"
   },
   {
    "duration": 191,
    "start_time": "2022-02-07T19:16:44.669Z"
   },
   {
    "duration": 211,
    "start_time": "2022-02-07T19:16:44.863Z"
   },
   {
    "duration": 269,
    "start_time": "2022-02-07T19:16:45.076Z"
   },
   {
    "duration": 287,
    "start_time": "2022-02-07T19:16:45.348Z"
   },
   {
    "duration": 334,
    "start_time": "2022-02-07T19:16:45.637Z"
   },
   {
    "duration": 307,
    "start_time": "2022-02-07T19:16:45.974Z"
   },
   {
    "duration": 223,
    "start_time": "2022-02-07T19:16:46.284Z"
   },
   {
    "duration": 209,
    "start_time": "2022-02-07T19:16:46.509Z"
   },
   {
    "duration": 254,
    "start_time": "2022-02-07T19:16:46.721Z"
   },
   {
    "duration": 206,
    "start_time": "2022-02-07T19:16:46.978Z"
   },
   {
    "duration": 228,
    "start_time": "2022-02-07T19:16:47.187Z"
   },
   {
    "duration": 289,
    "start_time": "2022-02-07T19:16:47.417Z"
   },
   {
    "duration": 197,
    "start_time": "2022-02-07T19:16:47.709Z"
   },
   {
    "duration": 350,
    "start_time": "2022-02-07T19:16:47.908Z"
   },
   {
    "duration": 320,
    "start_time": "2022-02-07T19:16:48.261Z"
   },
   {
    "duration": 200,
    "start_time": "2022-02-07T19:16:48.583Z"
   },
   {
    "duration": 260,
    "start_time": "2022-02-07T19:16:48.785Z"
   },
   {
    "duration": 256,
    "start_time": "2022-02-07T19:16:49.047Z"
   },
   {
    "duration": 355,
    "start_time": "2022-02-08T15:05:11.799Z"
   },
   {
    "duration": 620,
    "start_time": "2022-02-08T15:05:26.214Z"
   },
   {
    "duration": 58,
    "start_time": "2022-02-08T15:05:26.836Z"
   },
   {
    "duration": 14,
    "start_time": "2022-02-08T15:05:26.896Z"
   },
   {
    "duration": 7,
    "start_time": "2022-02-08T15:05:26.912Z"
   },
   {
    "duration": 16,
    "start_time": "2022-02-08T15:05:26.921Z"
   },
   {
    "duration": 7,
    "start_time": "2022-02-08T15:05:26.939Z"
   },
   {
    "duration": 7,
    "start_time": "2022-02-08T15:05:26.947Z"
   },
   {
    "duration": 10,
    "start_time": "2022-02-08T15:05:26.956Z"
   },
   {
    "duration": 9,
    "start_time": "2022-02-08T15:05:26.968Z"
   },
   {
    "duration": 4,
    "start_time": "2022-02-08T15:05:26.979Z"
   },
   {
    "duration": 7,
    "start_time": "2022-02-08T15:05:26.984Z"
   },
   {
    "duration": 39,
    "start_time": "2022-02-08T15:05:26.992Z"
   },
   {
    "duration": 8,
    "start_time": "2022-02-08T15:05:27.034Z"
   },
   {
    "duration": 17,
    "start_time": "2022-02-08T15:05:27.044Z"
   },
   {
    "duration": 6,
    "start_time": "2022-02-08T15:05:27.062Z"
   },
   {
    "duration": 17,
    "start_time": "2022-02-08T15:05:27.069Z"
   },
   {
    "duration": 4,
    "start_time": "2022-02-08T15:05:27.087Z"
   },
   {
    "duration": 5,
    "start_time": "2022-02-08T15:05:27.092Z"
   },
   {
    "duration": 31,
    "start_time": "2022-02-08T15:05:27.098Z"
   },
   {
    "duration": 22,
    "start_time": "2022-02-08T15:05:27.131Z"
   },
   {
    "duration": 14,
    "start_time": "2022-02-08T15:05:27.154Z"
   },
   {
    "duration": 14,
    "start_time": "2022-02-08T15:05:27.169Z"
   },
   {
    "duration": 2,
    "start_time": "2022-02-08T15:05:27.185Z"
   },
   {
    "duration": 8,
    "start_time": "2022-02-08T15:05:27.189Z"
   },
   {
    "duration": 36,
    "start_time": "2022-02-08T15:05:27.198Z"
   },
   {
    "duration": 13,
    "start_time": "2022-02-08T15:05:27.236Z"
   },
   {
    "duration": 10,
    "start_time": "2022-02-08T15:05:35.065Z"
   },
   {
    "duration": 366,
    "start_time": "2022-02-08T15:06:03.127Z"
   },
   {
    "duration": 346,
    "start_time": "2022-02-08T15:06:29.778Z"
   },
   {
    "duration": 330,
    "start_time": "2022-02-08T15:08:07.534Z"
   },
   {
    "duration": 9,
    "start_time": "2022-02-08T15:08:12.669Z"
   },
   {
    "duration": 355,
    "start_time": "2022-02-08T15:09:05.097Z"
   },
   {
    "duration": 5,
    "start_time": "2022-02-08T15:11:32.024Z"
   },
   {
    "duration": 7,
    "start_time": "2022-02-08T15:11:35.417Z"
   },
   {
    "duration": 10,
    "start_time": "2022-02-08T15:11:52.133Z"
   },
   {
    "duration": 10,
    "start_time": "2022-02-08T15:12:25.043Z"
   },
   {
    "duration": 9,
    "start_time": "2022-02-08T15:12:31.067Z"
   },
   {
    "duration": 8,
    "start_time": "2022-02-08T15:12:42.753Z"
   },
   {
    "duration": 5,
    "start_time": "2022-02-08T15:12:54.844Z"
   },
   {
    "duration": 6,
    "start_time": "2022-02-08T15:13:11.675Z"
   },
   {
    "duration": 751,
    "start_time": "2022-02-08T15:14:12.623Z"
   },
   {
    "duration": 55,
    "start_time": "2022-02-08T15:14:13.376Z"
   },
   {
    "duration": 16,
    "start_time": "2022-02-08T15:14:13.433Z"
   },
   {
    "duration": 7,
    "start_time": "2022-02-08T15:14:13.450Z"
   },
   {
    "duration": 12,
    "start_time": "2022-02-08T15:14:13.458Z"
   },
   {
    "duration": 4,
    "start_time": "2022-02-08T15:14:13.472Z"
   },
   {
    "duration": 7,
    "start_time": "2022-02-08T15:14:13.478Z"
   },
   {
    "duration": 40,
    "start_time": "2022-02-08T15:14:13.488Z"
   },
   {
    "duration": 8,
    "start_time": "2022-02-08T15:14:13.529Z"
   },
   {
    "duration": 11,
    "start_time": "2022-02-08T15:14:13.539Z"
   },
   {
    "duration": 6,
    "start_time": "2022-02-08T15:14:13.552Z"
   },
   {
    "duration": 16,
    "start_time": "2022-02-08T15:14:13.559Z"
   },
   {
    "duration": 15,
    "start_time": "2022-02-08T15:14:13.576Z"
   },
   {
    "duration": 22,
    "start_time": "2022-02-08T15:14:13.592Z"
   },
   {
    "duration": 10,
    "start_time": "2022-02-08T15:14:13.615Z"
   },
   {
    "duration": 20,
    "start_time": "2022-02-08T15:14:13.627Z"
   },
   {
    "duration": 18,
    "start_time": "2022-02-08T15:14:13.649Z"
   },
   {
    "duration": 16,
    "start_time": "2022-02-08T15:14:13.669Z"
   },
   {
    "duration": 5,
    "start_time": "2022-02-08T15:14:13.686Z"
   },
   {
    "duration": 26,
    "start_time": "2022-02-08T15:14:13.692Z"
   },
   {
    "duration": 14,
    "start_time": "2022-02-08T15:14:13.719Z"
   },
   {
    "duration": 25,
    "start_time": "2022-02-08T15:14:13.734Z"
   },
   {
    "duration": 3,
    "start_time": "2022-02-08T15:14:13.762Z"
   },
   {
    "duration": 17,
    "start_time": "2022-02-08T15:14:13.766Z"
   },
   {
    "duration": 25,
    "start_time": "2022-02-08T15:14:13.784Z"
   },
   {
    "duration": 17,
    "start_time": "2022-02-08T15:14:13.811Z"
   },
   {
    "duration": 12,
    "start_time": "2022-02-08T15:15:10.174Z"
   },
   {
    "duration": 22,
    "start_time": "2022-02-08T15:15:21.365Z"
   },
   {
    "duration": 23,
    "start_time": "2022-02-08T15:16:57.865Z"
   },
   {
    "duration": 26,
    "start_time": "2022-02-08T15:18:21.766Z"
   },
   {
    "duration": 351,
    "start_time": "2022-02-08T18:12:05.405Z"
   },
   {
    "duration": 603,
    "start_time": "2022-02-08T18:13:29.504Z"
   },
   {
    "duration": 53,
    "start_time": "2022-02-08T18:13:30.109Z"
   },
   {
    "duration": 16,
    "start_time": "2022-02-08T18:13:30.165Z"
   },
   {
    "duration": 7,
    "start_time": "2022-02-08T18:13:30.183Z"
   },
   {
    "duration": 13,
    "start_time": "2022-02-08T18:13:30.192Z"
   },
   {
    "duration": 24,
    "start_time": "2022-02-08T18:13:30.206Z"
   },
   {
    "duration": 9,
    "start_time": "2022-02-08T18:13:30.232Z"
   },
   {
    "duration": 17,
    "start_time": "2022-02-08T18:13:30.242Z"
   },
   {
    "duration": 16,
    "start_time": "2022-02-08T18:13:30.261Z"
   },
   {
    "duration": 4,
    "start_time": "2022-02-08T18:13:30.279Z"
   },
   {
    "duration": 6,
    "start_time": "2022-02-08T18:13:30.285Z"
   },
   {
    "duration": 9,
    "start_time": "2022-02-08T18:13:30.293Z"
   },
   {
    "duration": 4,
    "start_time": "2022-02-08T18:13:30.303Z"
   },
   {
    "duration": 37,
    "start_time": "2022-02-08T18:13:30.309Z"
   },
   {
    "duration": 5,
    "start_time": "2022-02-08T18:13:30.348Z"
   },
   {
    "duration": 23,
    "start_time": "2022-02-08T18:13:30.355Z"
   },
   {
    "duration": 7,
    "start_time": "2022-02-08T18:13:30.380Z"
   },
   {
    "duration": 17,
    "start_time": "2022-02-08T18:13:30.388Z"
   },
   {
    "duration": 12,
    "start_time": "2022-02-08T18:13:30.406Z"
   },
   {
    "duration": 19,
    "start_time": "2022-02-08T18:13:30.420Z"
   },
   {
    "duration": 23,
    "start_time": "2022-02-08T18:13:30.440Z"
   },
   {
    "duration": 13,
    "start_time": "2022-02-08T18:13:30.464Z"
   },
   {
    "duration": 25,
    "start_time": "2022-02-08T18:13:30.479Z"
   },
   {
    "duration": 23,
    "start_time": "2022-02-08T18:13:30.505Z"
   },
   {
    "duration": 12,
    "start_time": "2022-02-08T18:13:30.529Z"
   },
   {
    "duration": 561,
    "start_time": "2022-02-13T15:03:22.454Z"
   },
   {
    "duration": 56,
    "start_time": "2022-02-13T15:03:23.017Z"
   },
   {
    "duration": 19,
    "start_time": "2022-02-13T15:03:23.076Z"
   },
   {
    "duration": 21,
    "start_time": "2022-02-13T15:03:23.097Z"
   },
   {
    "duration": 13,
    "start_time": "2022-02-13T15:03:23.121Z"
   },
   {
    "duration": 5,
    "start_time": "2022-02-13T15:03:23.136Z"
   },
   {
    "duration": 8,
    "start_time": "2022-02-13T15:03:23.142Z"
   },
   {
    "duration": 13,
    "start_time": "2022-02-13T15:03:23.152Z"
   },
   {
    "duration": 11,
    "start_time": "2022-02-13T15:03:23.168Z"
   },
   {
    "duration": 6,
    "start_time": "2022-02-13T15:03:23.220Z"
   },
   {
    "duration": 8,
    "start_time": "2022-02-13T15:03:23.228Z"
   },
   {
    "duration": 14,
    "start_time": "2022-02-13T15:03:23.238Z"
   },
   {
    "duration": 9,
    "start_time": "2022-02-13T15:03:23.253Z"
   },
   {
    "duration": 18,
    "start_time": "2022-02-13T15:03:23.264Z"
   },
   {
    "duration": 34,
    "start_time": "2022-02-13T15:03:23.284Z"
   },
   {
    "duration": 17,
    "start_time": "2022-02-13T15:03:23.320Z"
   },
   {
    "duration": 9,
    "start_time": "2022-02-13T15:03:23.338Z"
   },
   {
    "duration": 18,
    "start_time": "2022-02-13T15:03:23.349Z"
   },
   {
    "duration": 7,
    "start_time": "2022-02-13T15:03:23.369Z"
   },
   {
    "duration": 20,
    "start_time": "2022-02-13T15:03:23.377Z"
   },
   {
    "duration": 32,
    "start_time": "2022-02-13T15:03:23.399Z"
   },
   {
    "duration": 16,
    "start_time": "2022-02-13T15:03:23.433Z"
   },
   {
    "duration": 28,
    "start_time": "2022-02-13T15:03:23.451Z"
   },
   {
    "duration": 42,
    "start_time": "2022-02-13T15:03:23.481Z"
   },
   {
    "duration": 15,
    "start_time": "2022-02-13T15:03:23.525Z"
   },
   {
    "duration": 635,
    "start_time": "2022-02-20T09:24:27.438Z"
   },
   {
    "duration": 72,
    "start_time": "2022-02-20T09:24:28.075Z"
   },
   {
    "duration": 20,
    "start_time": "2022-02-20T09:24:28.150Z"
   },
   {
    "duration": 12,
    "start_time": "2022-02-20T09:24:28.173Z"
   },
   {
    "duration": 16,
    "start_time": "2022-02-20T09:24:28.187Z"
   },
   {
    "duration": 7,
    "start_time": "2022-02-20T09:24:28.206Z"
   },
   {
    "duration": 9,
    "start_time": "2022-02-20T09:24:28.215Z"
   },
   {
    "duration": 47,
    "start_time": "2022-02-20T09:24:28.227Z"
   },
   {
    "duration": 11,
    "start_time": "2022-02-20T09:24:28.277Z"
   },
   {
    "duration": 7,
    "start_time": "2022-02-20T09:24:28.290Z"
   },
   {
    "duration": 10,
    "start_time": "2022-02-20T09:24:28.298Z"
   },
   {
    "duration": 13,
    "start_time": "2022-02-20T09:24:28.310Z"
   },
   {
    "duration": 6,
    "start_time": "2022-02-20T09:24:28.324Z"
   },
   {
    "duration": 19,
    "start_time": "2022-02-20T09:24:28.370Z"
   },
   {
    "duration": 7,
    "start_time": "2022-02-20T09:24:28.391Z"
   },
   {
    "duration": 22,
    "start_time": "2022-02-20T09:24:28.400Z"
   },
   {
    "duration": 5,
    "start_time": "2022-02-20T09:24:28.424Z"
   },
   {
    "duration": 38,
    "start_time": "2022-02-20T09:24:28.431Z"
   },
   {
    "duration": 8,
    "start_time": "2022-02-20T09:24:28.471Z"
   },
   {
    "duration": 24,
    "start_time": "2022-02-20T09:24:28.481Z"
   },
   {
    "duration": 20,
    "start_time": "2022-02-20T09:24:28.506Z"
   },
   {
    "duration": 16,
    "start_time": "2022-02-20T09:24:28.528Z"
   },
   {
    "duration": 30,
    "start_time": "2022-02-20T09:24:28.570Z"
   },
   {
    "duration": 14,
    "start_time": "2022-02-20T09:24:28.602Z"
   },
   {
    "duration": 15,
    "start_time": "2022-02-20T09:24:28.618Z"
   },
   {
    "duration": 329,
    "start_time": "2022-02-20T09:25:03.525Z"
   },
   {
    "duration": 5,
    "start_time": "2022-02-20T09:25:41.253Z"
   },
   {
    "duration": 17,
    "start_time": "2022-02-20T09:25:46.027Z"
   },
   {
    "duration": 7,
    "start_time": "2022-02-20T09:26:00.988Z"
   },
   {
    "duration": 36,
    "start_time": "2022-02-20T09:31:23.619Z"
   },
   {
    "duration": 48,
    "start_time": "2022-02-20T09:34:12.598Z"
   },
   {
    "duration": 42,
    "start_time": "2022-02-20T09:34:34.633Z"
   },
   {
    "duration": 14,
    "start_time": "2022-02-20T09:38:17.874Z"
   },
   {
    "duration": 23,
    "start_time": "2022-02-20T09:41:02.926Z"
   },
   {
    "duration": 8,
    "start_time": "2022-02-20T09:41:08.532Z"
   },
   {
    "duration": 7,
    "start_time": "2022-02-20T09:41:14.713Z"
   },
   {
    "duration": 12,
    "start_time": "2022-02-20T09:44:50.928Z"
   },
   {
    "duration": 11,
    "start_time": "2022-02-20T09:45:17.522Z"
   },
   {
    "duration": 12,
    "start_time": "2022-02-20T09:45:21.913Z"
   },
   {
    "duration": 17,
    "start_time": "2022-02-20T09:48:40.389Z"
   },
   {
    "duration": 16,
    "start_time": "2022-02-20T09:48:44.227Z"
   },
   {
    "duration": 19,
    "start_time": "2022-02-20T09:48:48.025Z"
   },
   {
    "duration": 18,
    "start_time": "2022-02-20T09:49:12.621Z"
   },
   {
    "duration": 19,
    "start_time": "2022-02-20T09:49:20.423Z"
   },
   {
    "duration": 91,
    "start_time": "2022-02-20T09:51:14.864Z"
   },
   {
    "duration": 88,
    "start_time": "2022-02-20T09:51:28.516Z"
   },
   {
    "duration": 8,
    "start_time": "2022-02-20T09:52:53.516Z"
   },
   {
    "duration": 13,
    "start_time": "2022-02-20T09:53:16.633Z"
   },
   {
    "duration": 13,
    "start_time": "2022-02-20T09:53:42.868Z"
   },
   {
    "duration": 20,
    "start_time": "2022-02-20T09:54:25.180Z"
   },
   {
    "duration": 25,
    "start_time": "2022-02-20T09:56:17.182Z"
   },
   {
    "duration": 21,
    "start_time": "2022-02-20T09:56:39.042Z"
   },
   {
    "duration": 19,
    "start_time": "2022-02-20T09:57:20.285Z"
   },
   {
    "duration": 19,
    "start_time": "2022-02-20T09:57:26.689Z"
   },
   {
    "duration": 19,
    "start_time": "2022-02-20T09:57:33.563Z"
   },
   {
    "duration": 34,
    "start_time": "2022-02-20T10:05:29.771Z"
   },
   {
    "duration": 36,
    "start_time": "2022-02-20T10:11:48.675Z"
   },
   {
    "duration": 34,
    "start_time": "2022-02-20T10:13:20.328Z"
   },
   {
    "duration": 19,
    "start_time": "2022-02-20T10:13:40.744Z"
   },
   {
    "duration": 32,
    "start_time": "2022-02-20T10:19:34.751Z"
   },
   {
    "duration": 28,
    "start_time": "2022-02-20T10:21:00.586Z"
   },
   {
    "duration": 17,
    "start_time": "2022-02-20T10:23:52.700Z"
   },
   {
    "duration": 31,
    "start_time": "2022-02-20T10:24:37.398Z"
   },
   {
    "duration": 31,
    "start_time": "2022-02-20T10:24:44.757Z"
   },
   {
    "duration": 25,
    "start_time": "2022-02-20T10:25:07.911Z"
   },
   {
    "duration": 24,
    "start_time": "2022-02-20T10:25:21.835Z"
   },
   {
    "duration": 36,
    "start_time": "2022-02-20T10:25:29.874Z"
   },
   {
    "duration": 35,
    "start_time": "2022-02-20T10:25:58.489Z"
   },
   {
    "duration": 32,
    "start_time": "2022-02-20T10:26:01.239Z"
   },
   {
    "duration": 32,
    "start_time": "2022-02-20T10:26:22.135Z"
   },
   {
    "duration": 40,
    "start_time": "2022-02-20T10:27:56.260Z"
   },
   {
    "duration": 39,
    "start_time": "2022-02-20T10:28:09.974Z"
   },
   {
    "duration": 37,
    "start_time": "2022-02-20T10:28:23.895Z"
   },
   {
    "duration": 29,
    "start_time": "2022-02-20T10:28:40.103Z"
   },
   {
    "duration": 29,
    "start_time": "2022-02-20T10:28:45.071Z"
   },
   {
    "duration": 287,
    "start_time": "2022-02-20T10:28:49.528Z"
   },
   {
    "duration": 293,
    "start_time": "2022-02-20T10:29:19.714Z"
   },
   {
    "duration": 32,
    "start_time": "2022-02-20T10:29:37.798Z"
   },
   {
    "duration": 278,
    "start_time": "2022-02-20T10:30:25.049Z"
   },
   {
    "duration": 280,
    "start_time": "2022-02-20T10:30:30.598Z"
   },
   {
    "duration": 37,
    "start_time": "2022-02-20T10:31:59.696Z"
   },
   {
    "duration": 12,
    "start_time": "2022-02-20T10:36:48.319Z"
   },
   {
    "duration": 282,
    "start_time": "2022-02-20T10:38:06.725Z"
   },
   {
    "duration": 283,
    "start_time": "2022-02-20T10:38:13.327Z"
   },
   {
    "duration": 20,
    "start_time": "2022-02-20T10:39:13.129Z"
   },
   {
    "duration": 19,
    "start_time": "2022-02-20T10:41:36.316Z"
   },
   {
    "duration": 15,
    "start_time": "2022-02-20T10:42:56.726Z"
   },
   {
    "duration": -120,
    "start_time": "2022-02-20T10:44:02.367Z"
   },
   {
    "duration": 6533,
    "start_time": "2022-02-20T10:44:03.700Z"
   },
   {
    "duration": 14,
    "start_time": "2022-02-20T10:44:13.480Z"
   },
   {
    "duration": 14,
    "start_time": "2022-02-20T10:45:44.379Z"
   },
   {
    "duration": 18,
    "start_time": "2022-02-20T10:45:53.064Z"
   },
   {
    "duration": 17,
    "start_time": "2022-02-20T10:46:01.755Z"
   },
   {
    "duration": 5217,
    "start_time": "2022-02-20T10:46:38.508Z"
   },
   {
    "duration": 4970,
    "start_time": "2022-02-20T10:46:55.364Z"
   },
   {
    "duration": 17,
    "start_time": "2022-02-20T10:47:03.945Z"
   },
   {
    "duration": 280,
    "start_time": "2022-02-20T10:47:25.873Z"
   },
   {
    "duration": 19,
    "start_time": "2022-02-20T10:47:34.968Z"
   },
   {
    "duration": 19,
    "start_time": "2022-02-20T10:49:12.189Z"
   },
   {
    "duration": 30,
    "start_time": "2022-02-20T10:49:49.008Z"
   },
   {
    "duration": 5546,
    "start_time": "2022-02-20T10:50:08.715Z"
   },
   {
    "duration": 16,
    "start_time": "2022-02-20T10:50:24.204Z"
   },
   {
    "duration": 19,
    "start_time": "2022-02-20T10:50:48.957Z"
   },
   {
    "duration": 18,
    "start_time": "2022-02-20T10:53:08.108Z"
   },
   {
    "duration": 287,
    "start_time": "2022-02-20T10:53:19.093Z"
   },
   {
    "duration": 18,
    "start_time": "2022-02-20T10:53:25.524Z"
   },
   {
    "duration": 21,
    "start_time": "2022-02-20T10:53:41.437Z"
   },
   {
    "duration": 18,
    "start_time": "2022-02-20T10:54:11.888Z"
   },
   {
    "duration": 19,
    "start_time": "2022-02-20T10:54:29.679Z"
   },
   {
    "duration": 4834,
    "start_time": "2022-02-20T10:55:09.687Z"
   },
   {
    "duration": 5252,
    "start_time": "2022-02-20T10:55:21.158Z"
   },
   {
    "duration": 4996,
    "start_time": "2022-02-20T10:55:27.008Z"
   },
   {
    "duration": 17,
    "start_time": "2022-02-20T10:55:38.963Z"
   },
   {
    "duration": 22,
    "start_time": "2022-02-20T11:06:48.788Z"
   },
   {
    "duration": 6623,
    "start_time": "2022-02-20T11:07:01.245Z"
   },
   {
    "duration": 5298,
    "start_time": "2022-02-20T11:07:33.591Z"
   },
   {
    "duration": 19,
    "start_time": "2022-02-20T11:07:39.772Z"
   },
   {
    "duration": 21,
    "start_time": "2022-02-20T11:07:57.797Z"
   },
   {
    "duration": 6679,
    "start_time": "2022-02-20T11:08:01.046Z"
   },
   {
    "duration": 18,
    "start_time": "2022-02-20T11:08:14.625Z"
   },
   {
    "duration": 20,
    "start_time": "2022-02-20T11:08:23.460Z"
   },
   {
    "duration": 18,
    "start_time": "2022-02-20T11:08:35.371Z"
   },
   {
    "duration": 16,
    "start_time": "2022-02-20T11:08:40.577Z"
   },
   {
    "duration": 742,
    "start_time": "2022-02-20T11:09:09.695Z"
   },
   {
    "duration": 19,
    "start_time": "2022-02-20T11:09:30.351Z"
   },
   {
    "duration": 22,
    "start_time": "2022-02-20T11:09:33.531Z"
   },
   {
    "duration": 21,
    "start_time": "2022-02-20T11:10:23.746Z"
   },
   {
    "duration": 328,
    "start_time": "2022-02-20T11:10:50.029Z"
   },
   {
    "duration": 275,
    "start_time": "2022-02-20T11:10:56.678Z"
   },
   {
    "duration": 21,
    "start_time": "2022-02-20T11:11:04.447Z"
   },
   {
    "duration": 22,
    "start_time": "2022-02-20T11:14:02.576Z"
   },
   {
    "duration": 23,
    "start_time": "2022-02-20T11:14:43.319Z"
   },
   {
    "duration": 22,
    "start_time": "2022-02-20T11:22:25.841Z"
   },
   {
    "duration": 24,
    "start_time": "2022-02-20T11:22:45.013Z"
   },
   {
    "duration": 21,
    "start_time": "2022-02-20T11:24:34.174Z"
   },
   {
    "duration": 22,
    "start_time": "2022-02-20T11:24:36.938Z"
   },
   {
    "duration": 6894,
    "start_time": "2022-02-20T11:29:20.980Z"
   },
   {
    "duration": 37,
    "start_time": "2022-02-20T11:30:28.407Z"
   },
   {
    "duration": 11,
    "start_time": "2022-02-20T11:33:09.416Z"
   },
   {
    "duration": 21,
    "start_time": "2022-02-20T11:34:29.692Z"
   },
   {
    "duration": 21,
    "start_time": "2022-02-20T11:34:56.216Z"
   },
   {
    "duration": 516,
    "start_time": "2022-02-20T17:26:41.267Z"
   },
   {
    "duration": 83,
    "start_time": "2022-02-20T17:26:41.785Z"
   },
   {
    "duration": 21,
    "start_time": "2022-02-20T17:26:41.870Z"
   },
   {
    "duration": 19,
    "start_time": "2022-02-20T17:26:41.894Z"
   },
   {
    "duration": 22,
    "start_time": "2022-02-20T17:26:41.915Z"
   },
   {
    "duration": 6,
    "start_time": "2022-02-20T17:26:41.939Z"
   },
   {
    "duration": 12,
    "start_time": "2022-02-20T17:26:41.947Z"
   },
   {
    "duration": 16,
    "start_time": "2022-02-20T17:26:41.962Z"
   },
   {
    "duration": 36,
    "start_time": "2022-02-20T17:26:41.980Z"
   },
   {
    "duration": 9,
    "start_time": "2022-02-20T17:26:42.018Z"
   },
   {
    "duration": 10,
    "start_time": "2022-02-20T17:26:42.030Z"
   },
   {
    "duration": 10,
    "start_time": "2022-02-20T17:26:42.042Z"
   },
   {
    "duration": 9,
    "start_time": "2022-02-20T17:26:42.055Z"
   },
   {
    "duration": 59,
    "start_time": "2022-02-20T17:26:42.066Z"
   },
   {
    "duration": 7,
    "start_time": "2022-02-20T17:26:42.127Z"
   },
   {
    "duration": 24,
    "start_time": "2022-02-20T17:26:42.136Z"
   },
   {
    "duration": 8,
    "start_time": "2022-02-20T17:26:42.162Z"
   },
   {
    "duration": 17,
    "start_time": "2022-02-20T17:26:42.172Z"
   },
   {
    "duration": 8,
    "start_time": "2022-02-20T17:26:42.207Z"
   },
   {
    "duration": 28,
    "start_time": "2022-02-20T17:26:42.217Z"
   },
   {
    "duration": 30,
    "start_time": "2022-02-20T17:26:42.248Z"
   },
   {
    "duration": 36,
    "start_time": "2022-02-20T17:26:42.280Z"
   },
   {
    "duration": 37,
    "start_time": "2022-02-20T17:26:42.319Z"
   },
   {
    "duration": 21,
    "start_time": "2022-02-20T17:26:42.357Z"
   },
   {
    "duration": 48,
    "start_time": "2022-02-20T17:26:42.380Z"
   },
   {
    "duration": 36,
    "start_time": "2022-02-20T17:26:42.429Z"
   }
  ],
  "kernelspec": {
   "display_name": "Python 3.10.2 64-bit",
   "language": "python",
   "name": "python3"
  },
  "language_info": {
   "codemirror_mode": {
    "name": "ipython",
    "version": 3
   },
   "file_extension": ".py",
   "mimetype": "text/x-python",
   "name": "python",
   "nbconvert_exporter": "python",
   "pygments_lexer": "ipython3",
   "version": "3.10.2"
  },
  "toc": {
   "base_numbering": 1,
   "nav_menu": {},
   "number_sections": true,
   "sideBar": true,
   "skip_h1_title": true,
   "title_cell": "Table of Contents",
   "title_sidebar": "Contents",
   "toc_cell": false,
   "toc_position": {},
   "toc_section_display": true,
   "toc_window_display": false
  },
  "vscode": {
   "interpreter": {
    "hash": "35d56784a9533165a15cd80766066c6e160ff9c87db8908bb17dcd0ff56fd6bf"
   }
  }
 },
 "nbformat": 4,
 "nbformat_minor": 5
}
