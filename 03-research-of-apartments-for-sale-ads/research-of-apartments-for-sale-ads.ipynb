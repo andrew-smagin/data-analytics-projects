{
 "cells": [
  {
   "cell_type": "markdown",
   "metadata": {},
   "source": [
    "## Data review"
   ]
  },
  {
   "cell_type": "code",
   "execution_count": 1,
   "metadata": {},
   "outputs": [],
   "source": [
    "# download libraries\n",
    "import pandas as pd\n",
    "import matplotlib.pyplot as plt"
   ]
  },
  {
   "cell_type": "code",
   "execution_count": 2,
   "metadata": {},
   "outputs": [],
   "source": [
    "import warnings\n",
    "warnings.filterwarnings('ignore')"
   ]
  },
  {
   "cell_type": "code",
   "execution_count": 3,
   "metadata": {},
   "outputs": [
    {
     "name": "stdout",
     "output_type": "stream",
     "text": [
      "<class 'pandas.core.frame.DataFrame'>\n",
      "RangeIndex: 23699 entries, 0 to 23698\n",
      "Data columns (total 22 columns):\n",
      " #   Column                Non-Null Count  Dtype  \n",
      "---  ------                --------------  -----  \n",
      " 0   total_images          23699 non-null  int64  \n",
      " 1   last_price            23699 non-null  float64\n",
      " 2   total_area            23699 non-null  float64\n",
      " 3   first_day_exposition  23699 non-null  object \n",
      " 4   rooms                 23699 non-null  int64  \n",
      " 5   ceiling_height        14504 non-null  float64\n",
      " 6   floors_total          23613 non-null  float64\n",
      " 7   living_area           21796 non-null  float64\n",
      " 8   floor                 23699 non-null  int64  \n",
      " 9   is_apartment          2775 non-null   object \n",
      " 10  studio                23699 non-null  bool   \n",
      " 11  open_plan             23699 non-null  bool   \n",
      " 12  kitchen_area          21421 non-null  float64\n",
      " 13  balcony               12180 non-null  float64\n",
      " 14  locality_name         23650 non-null  object \n",
      " 15  airports_nearest      18157 non-null  float64\n",
      " 16  cityCenters_nearest   18180 non-null  float64\n",
      " 17  parks_around3000      18181 non-null  float64\n",
      " 18  parks_nearest         8079 non-null   float64\n",
      " 19  ponds_around3000      18181 non-null  float64\n",
      " 20  ponds_nearest         9110 non-null   float64\n",
      " 21  days_exposition       20518 non-null  float64\n",
      "dtypes: bool(2), float64(14), int64(3), object(3)\n",
      "memory usage: 3.7+ MB\n"
     ]
    }
   ],
   "source": [
    "# load data\n",
    "path = ''  \n",
    "data = pd.read_csv(path, sep='\\t')\n",
    "data.info()"
   ]
  },
  {
   "cell_type": "code",
   "execution_count": 4,
   "metadata": {},
   "outputs": [
    {
     "name": "stdout",
     "output_type": "stream",
     "text": [
      "<class 'pandas.core.frame.DataFrame'>\n",
      "RangeIndex: 23699 entries, 0 to 23698\n",
      "Data columns (total 22 columns):\n",
      " #   Column                Non-Null Count  Dtype  \n",
      "---  ------                --------------  -----  \n",
      " 0   total_images          23699 non-null  int64  \n",
      " 1   last_price            23699 non-null  float64\n",
      " 2   total_area            23699 non-null  float64\n",
      " 3   first_day_exposition  23699 non-null  object \n",
      " 4   rooms                 23699 non-null  int64  \n",
      " 5   ceiling_height        14504 non-null  float64\n",
      " 6   floors_total          23613 non-null  float64\n",
      " 7   living_area           21796 non-null  float64\n",
      " 8   floor                 23699 non-null  int64  \n",
      " 9   is_apartment          2775 non-null   object \n",
      " 10  studio                23699 non-null  bool   \n",
      " 11  open_plan             23699 non-null  bool   \n",
      " 12  kitchen_area          21421 non-null  float64\n",
      " 13  balcony               12180 non-null  float64\n",
      " 14  locality_name         23650 non-null  object \n",
      " 15  airports_nearest      18157 non-null  float64\n",
      " 16  cityCenters_nearest   18180 non-null  float64\n",
      " 17  parks_around3000      18181 non-null  float64\n",
      " 18  parks_nearest         8079 non-null   float64\n",
      " 19  ponds_around3000      18181 non-null  float64\n",
      " 20  ponds_nearest         9110 non-null   float64\n",
      " 21  days_exposition       20518 non-null  float64\n",
      "dtypes: bool(2), float64(14), int64(3), object(3)\n",
      "memory usage: 3.7+ MB\n"
     ]
    },
    {
     "data": {
      "text/plain": [
       "None"
      ]
     },
     "metadata": {},
     "output_type": "display_data"
    },
    {
     "data": {
      "text/html": [
       "<div>\n",
       "<style scoped>\n",
       "    .dataframe tbody tr th:only-of-type {\n",
       "        vertical-align: middle;\n",
       "    }\n",
       "\n",
       "    .dataframe tbody tr th {\n",
       "        vertical-align: top;\n",
       "    }\n",
       "\n",
       "    .dataframe thead th {\n",
       "        text-align: right;\n",
       "    }\n",
       "</style>\n",
       "<table border=\"1\" class=\"dataframe\">\n",
       "  <thead>\n",
       "    <tr style=\"text-align: right;\">\n",
       "      <th></th>\n",
       "      <th>total_images</th>\n",
       "      <th>last_price</th>\n",
       "      <th>total_area</th>\n",
       "      <th>first_day_exposition</th>\n",
       "      <th>rooms</th>\n",
       "      <th>ceiling_height</th>\n",
       "      <th>floors_total</th>\n",
       "      <th>living_area</th>\n",
       "      <th>floor</th>\n",
       "      <th>is_apartment</th>\n",
       "      <th>...</th>\n",
       "      <th>kitchen_area</th>\n",
       "      <th>balcony</th>\n",
       "      <th>locality_name</th>\n",
       "      <th>airports_nearest</th>\n",
       "      <th>cityCenters_nearest</th>\n",
       "      <th>parks_around3000</th>\n",
       "      <th>parks_nearest</th>\n",
       "      <th>ponds_around3000</th>\n",
       "      <th>ponds_nearest</th>\n",
       "      <th>days_exposition</th>\n",
       "    </tr>\n",
       "  </thead>\n",
       "  <tbody>\n",
       "    <tr>\n",
       "      <th>0</th>\n",
       "      <td>20</td>\n",
       "      <td>13000000.0</td>\n",
       "      <td>108.0</td>\n",
       "      <td>2019-03-07T00:00:00</td>\n",
       "      <td>3</td>\n",
       "      <td>2.70</td>\n",
       "      <td>16.0</td>\n",
       "      <td>51.0</td>\n",
       "      <td>8</td>\n",
       "      <td>NaN</td>\n",
       "      <td>...</td>\n",
       "      <td>25.0</td>\n",
       "      <td>NaN</td>\n",
       "      <td>Санкт-Петербург</td>\n",
       "      <td>18863.0</td>\n",
       "      <td>16028.0</td>\n",
       "      <td>1.0</td>\n",
       "      <td>482.0</td>\n",
       "      <td>2.0</td>\n",
       "      <td>755.0</td>\n",
       "      <td>NaN</td>\n",
       "    </tr>\n",
       "    <tr>\n",
       "      <th>1</th>\n",
       "      <td>7</td>\n",
       "      <td>3350000.0</td>\n",
       "      <td>40.4</td>\n",
       "      <td>2018-12-04T00:00:00</td>\n",
       "      <td>1</td>\n",
       "      <td>NaN</td>\n",
       "      <td>11.0</td>\n",
       "      <td>18.6</td>\n",
       "      <td>1</td>\n",
       "      <td>NaN</td>\n",
       "      <td>...</td>\n",
       "      <td>11.0</td>\n",
       "      <td>2.0</td>\n",
       "      <td>посёлок Шушары</td>\n",
       "      <td>12817.0</td>\n",
       "      <td>18603.0</td>\n",
       "      <td>0.0</td>\n",
       "      <td>NaN</td>\n",
       "      <td>0.0</td>\n",
       "      <td>NaN</td>\n",
       "      <td>81.0</td>\n",
       "    </tr>\n",
       "    <tr>\n",
       "      <th>2</th>\n",
       "      <td>10</td>\n",
       "      <td>5196000.0</td>\n",
       "      <td>56.0</td>\n",
       "      <td>2015-08-20T00:00:00</td>\n",
       "      <td>2</td>\n",
       "      <td>NaN</td>\n",
       "      <td>5.0</td>\n",
       "      <td>34.3</td>\n",
       "      <td>4</td>\n",
       "      <td>NaN</td>\n",
       "      <td>...</td>\n",
       "      <td>8.3</td>\n",
       "      <td>0.0</td>\n",
       "      <td>Санкт-Петербург</td>\n",
       "      <td>21741.0</td>\n",
       "      <td>13933.0</td>\n",
       "      <td>1.0</td>\n",
       "      <td>90.0</td>\n",
       "      <td>2.0</td>\n",
       "      <td>574.0</td>\n",
       "      <td>558.0</td>\n",
       "    </tr>\n",
       "    <tr>\n",
       "      <th>3</th>\n",
       "      <td>0</td>\n",
       "      <td>64900000.0</td>\n",
       "      <td>159.0</td>\n",
       "      <td>2015-07-24T00:00:00</td>\n",
       "      <td>3</td>\n",
       "      <td>NaN</td>\n",
       "      <td>14.0</td>\n",
       "      <td>NaN</td>\n",
       "      <td>9</td>\n",
       "      <td>NaN</td>\n",
       "      <td>...</td>\n",
       "      <td>NaN</td>\n",
       "      <td>0.0</td>\n",
       "      <td>Санкт-Петербург</td>\n",
       "      <td>28098.0</td>\n",
       "      <td>6800.0</td>\n",
       "      <td>2.0</td>\n",
       "      <td>84.0</td>\n",
       "      <td>3.0</td>\n",
       "      <td>234.0</td>\n",
       "      <td>424.0</td>\n",
       "    </tr>\n",
       "    <tr>\n",
       "      <th>4</th>\n",
       "      <td>2</td>\n",
       "      <td>10000000.0</td>\n",
       "      <td>100.0</td>\n",
       "      <td>2018-06-19T00:00:00</td>\n",
       "      <td>2</td>\n",
       "      <td>3.03</td>\n",
       "      <td>14.0</td>\n",
       "      <td>32.0</td>\n",
       "      <td>13</td>\n",
       "      <td>NaN</td>\n",
       "      <td>...</td>\n",
       "      <td>41.0</td>\n",
       "      <td>NaN</td>\n",
       "      <td>Санкт-Петербург</td>\n",
       "      <td>31856.0</td>\n",
       "      <td>8098.0</td>\n",
       "      <td>2.0</td>\n",
       "      <td>112.0</td>\n",
       "      <td>1.0</td>\n",
       "      <td>48.0</td>\n",
       "      <td>121.0</td>\n",
       "    </tr>\n",
       "  </tbody>\n",
       "</table>\n",
       "<p>5 rows × 22 columns</p>\n",
       "</div>"
      ],
      "text/plain": [
       "   total_images  last_price  total_area first_day_exposition  rooms  \\\n",
       "0            20  13000000.0       108.0  2019-03-07T00:00:00      3   \n",
       "1             7   3350000.0        40.4  2018-12-04T00:00:00      1   \n",
       "2            10   5196000.0        56.0  2015-08-20T00:00:00      2   \n",
       "3             0  64900000.0       159.0  2015-07-24T00:00:00      3   \n",
       "4             2  10000000.0       100.0  2018-06-19T00:00:00      2   \n",
       "\n",
       "   ceiling_height  floors_total  living_area  floor is_apartment  ...  \\\n",
       "0            2.70          16.0         51.0      8          NaN  ...   \n",
       "1             NaN          11.0         18.6      1          NaN  ...   \n",
       "2             NaN           5.0         34.3      4          NaN  ...   \n",
       "3             NaN          14.0          NaN      9          NaN  ...   \n",
       "4            3.03          14.0         32.0     13          NaN  ...   \n",
       "\n",
       "   kitchen_area  balcony    locality_name  airports_nearest  \\\n",
       "0          25.0      NaN  Санкт-Петербург           18863.0   \n",
       "1          11.0      2.0   посёлок Шушары           12817.0   \n",
       "2           8.3      0.0  Санкт-Петербург           21741.0   \n",
       "3           NaN      0.0  Санкт-Петербург           28098.0   \n",
       "4          41.0      NaN  Санкт-Петербург           31856.0   \n",
       "\n",
       "  cityCenters_nearest  parks_around3000  parks_nearest  ponds_around3000  \\\n",
       "0             16028.0               1.0          482.0               2.0   \n",
       "1             18603.0               0.0            NaN               0.0   \n",
       "2             13933.0               1.0           90.0               2.0   \n",
       "3              6800.0               2.0           84.0               3.0   \n",
       "4              8098.0               2.0          112.0               1.0   \n",
       "\n",
       "   ponds_nearest  days_exposition  \n",
       "0          755.0              NaN  \n",
       "1            NaN             81.0  \n",
       "2          574.0            558.0  \n",
       "3          234.0            424.0  \n",
       "4           48.0            121.0  \n",
       "\n",
       "[5 rows x 22 columns]"
      ]
     },
     "execution_count": 4,
     "metadata": {},
     "output_type": "execute_result"
    }
   ],
   "source": [
    "# review of dataset\n",
    "display(data.info())\n",
    "# look at first rows\n",
    "data.head()"
   ]
  },
  {
   "cell_type": "markdown",
   "metadata": {},
   "source": [
    "## Data preprocessing"
   ]
  },
  {
   "cell_type": "code",
   "execution_count": 5,
   "metadata": {},
   "outputs": [
    {
     "data": {
      "text/plain": [
       "False    23699\n",
       "Name: living_area, dtype: int64"
      ]
     },
     "execution_count": 5,
     "metadata": {},
     "output_type": "execute_result"
    }
   ],
   "source": [
    "## fill NA values in `living_area` by median area of rooms\n",
    "data['living_area'] = data['living_area'].fillna(data.groupby('rooms')['living_area'].transform('median'))\n",
    "# check\n",
    "data['living_area'].isna().value_counts()"
   ]
  },
  {
   "cell_type": "code",
   "execution_count": 6,
   "metadata": {},
   "outputs": [
    {
     "name": "stdout",
     "output_type": "stream",
     "text": [
      "False    23699\n",
      "Name: balcony, dtype: int64\n",
      "False    23699\n",
      "Name: kitchen_area, dtype: int64\n"
     ]
    }
   ],
   "source": [
    "# delete NA values in balcony, kitchen_area, parks_around3000, ponds_around3000\n",
    "data['balcony'] = data['balcony'].fillna(0)\n",
    "# fill NA values in kitchen_area by median\n",
    "data['kitchen_area'] = data['kitchen_area'].fillna(data['kitchen_area'].median())\n",
    "# check\n",
    "print(data['balcony'].isna().value_counts())\n",
    "print(data['kitchen_area'].isna().value_counts())"
   ]
  },
  {
   "cell_type": "code",
   "execution_count": 7,
   "metadata": {},
   "outputs": [
    {
     "data": {
      "text/plain": [
       "False    23699\n",
       "Name: days_exposition, dtype: int64"
      ]
     },
     "execution_count": 7,
     "metadata": {},
     "output_type": "execute_result"
    }
   ],
   "source": [
    "# fill NA values in `days_exposition` by '-1' \n",
    "data['days_exposition'] = data['days_exposition'].fillna(-1)\n",
    "# check\n",
    "data['days_exposition'].isna().value_counts()"
   ]
  },
  {
   "cell_type": "code",
   "execution_count": 8,
   "metadata": {},
   "outputs": [
    {
     "data": {
      "text/plain": [
       "False    23699\n",
       "Name: ceiling_height, dtype: int64"
      ]
     },
     "execution_count": 8,
     "metadata": {},
     "output_type": "execute_result"
    }
   ],
   "source": [
    "# заполням пропуски в высоте потолков ceiling_height\n",
    "# fill NA values in `ceiling_height` by median\n",
    "data['ceiling_height'] = data['ceiling_height'].fillna(data['ceiling_height'].median())\n",
    "# check\n",
    "data['ceiling_height'].isna().value_counts()"
   ]
  },
  {
   "cell_type": "markdown",
   "metadata": {},
   "source": [
    "### Change data type"
   ]
  },
  {
   "cell_type": "code",
   "execution_count": 9,
   "metadata": {},
   "outputs": [
    {
     "name": "stdout",
     "output_type": "stream",
     "text": [
      "<class 'pandas.core.frame.DataFrame'>\n",
      "RangeIndex: 23699 entries, 0 to 23698\n",
      "Data columns (total 22 columns):\n",
      " #   Column                Non-Null Count  Dtype         \n",
      "---  ------                --------------  -----         \n",
      " 0   total_images          23699 non-null  int64         \n",
      " 1   last_price            23699 non-null  float64       \n",
      " 2   total_area            23699 non-null  float64       \n",
      " 3   first_day_exposition  23699 non-null  datetime64[ns]\n",
      " 4   rooms                 23699 non-null  int64         \n",
      " 5   ceiling_height        23699 non-null  float64       \n",
      " 6   floors_total          23613 non-null  float64       \n",
      " 7   living_area           23699 non-null  float64       \n",
      " 8   floor                 23699 non-null  int64         \n",
      " 9   is_apartment          23699 non-null  bool          \n",
      " 10  studio                23699 non-null  bool          \n",
      " 11  open_plan             23699 non-null  bool          \n",
      " 12  kitchen_area          23699 non-null  float64       \n",
      " 13  balcony               23699 non-null  int32         \n",
      " 14  locality_name         23650 non-null  object        \n",
      " 15  airports_nearest      18157 non-null  float64       \n",
      " 16  cityCenters_nearest   18180 non-null  float64       \n",
      " 17  parks_around3000      18181 non-null  float64       \n",
      " 18  parks_nearest         8079 non-null   float64       \n",
      " 19  ponds_around3000      18181 non-null  float64       \n",
      " 20  ponds_nearest         9110 non-null   float64       \n",
      " 21  days_exposition       23699 non-null  int32         \n",
      "dtypes: bool(3), datetime64[ns](1), float64(12), int32(2), int64(3), object(1)\n",
      "memory usage: 3.3+ MB\n"
     ]
    }
   ],
   "source": [
    "# change data type\n",
    "data = data.astype({\n",
    "    'balcony': int,\n",
    "    'floors_total': int,\n",
    "    'cityCenters_nearest': int,\n",
    "    'parks_around3000': int,\n",
    "    'parks_nearest': int,\n",
    "    'ponds_around3000': int,\n",
    "    'ponds_nearest': int,\n",
    "    'days_exposition': int,\n",
    "    'is_apartment': bool\n",
    "}, errors='ignore')\n",
    "data['airports_nearest'] = data['airports_nearest'].astype(int, errors='ignore')\n",
    "data['first_day_exposition'] = data['first_day_exposition'].str.replace('T','')\n",
    "data['first_day_exposition'] = pd.to_datetime(data['first_day_exposition'], format='%Y-%m-%d%H:%M:%S')\n",
    "# check\n",
    "data.info()"
   ]
  },
  {
   "cell_type": "markdown",
   "metadata": {},
   "source": [
    "## Create new columns"
   ]
  },
  {
   "cell_type": "code",
   "execution_count": 10,
   "metadata": {},
   "outputs": [
    {
     "data": {
      "text/plain": [
       "0        120370.370370\n",
       "1         82920.792079\n",
       "2         92785.714286\n",
       "3        408176.100629\n",
       "4        100000.000000\n",
       "             ...      \n",
       "23694     72490.845228\n",
       "23695     52542.372881\n",
       "23696     44091.710758\n",
       "23697    149511.400651\n",
       "23698     41795.665635\n",
       "Name: price_square_metre, Length: 23699, dtype: float64"
      ]
     },
     "execution_count": 10,
     "metadata": {},
     "output_type": "execute_result"
    }
   ],
   "source": [
    "# price per square metre\n",
    "data['price_square_metre'] = data['last_price'] / data['total_area']\n",
    "data['price_square_metre']"
   ]
  },
  {
   "cell_type": "code",
   "execution_count": 11,
   "metadata": {},
   "outputs": [
    {
     "data": {
      "text/html": [
       "<div>\n",
       "<style scoped>\n",
       "    .dataframe tbody tr th:only-of-type {\n",
       "        vertical-align: middle;\n",
       "    }\n",
       "\n",
       "    .dataframe tbody tr th {\n",
       "        vertical-align: top;\n",
       "    }\n",
       "\n",
       "    .dataframe thead th {\n",
       "        text-align: right;\n",
       "    }\n",
       "</style>\n",
       "<table border=\"1\" class=\"dataframe\">\n",
       "  <thead>\n",
       "    <tr style=\"text-align: right;\">\n",
       "      <th></th>\n",
       "      <th>first_day_exposition</th>\n",
       "      <th>year_exposition</th>\n",
       "      <th>month_exposition</th>\n",
       "      <th>day_exposition</th>\n",
       "    </tr>\n",
       "  </thead>\n",
       "  <tbody>\n",
       "    <tr>\n",
       "      <th>0</th>\n",
       "      <td>2019-03-07</td>\n",
       "      <td>2019</td>\n",
       "      <td>3</td>\n",
       "      <td>Thursday</td>\n",
       "    </tr>\n",
       "    <tr>\n",
       "      <th>1</th>\n",
       "      <td>2018-12-04</td>\n",
       "      <td>2018</td>\n",
       "      <td>12</td>\n",
       "      <td>Tuesday</td>\n",
       "    </tr>\n",
       "    <tr>\n",
       "      <th>2</th>\n",
       "      <td>2015-08-20</td>\n",
       "      <td>2015</td>\n",
       "      <td>8</td>\n",
       "      <td>Thursday</td>\n",
       "    </tr>\n",
       "    <tr>\n",
       "      <th>3</th>\n",
       "      <td>2015-07-24</td>\n",
       "      <td>2015</td>\n",
       "      <td>7</td>\n",
       "      <td>Friday</td>\n",
       "    </tr>\n",
       "    <tr>\n",
       "      <th>4</th>\n",
       "      <td>2018-06-19</td>\n",
       "      <td>2018</td>\n",
       "      <td>6</td>\n",
       "      <td>Tuesday</td>\n",
       "    </tr>\n",
       "    <tr>\n",
       "      <th>...</th>\n",
       "      <td>...</td>\n",
       "      <td>...</td>\n",
       "      <td>...</td>\n",
       "      <td>...</td>\n",
       "    </tr>\n",
       "    <tr>\n",
       "      <th>23694</th>\n",
       "      <td>2017-03-21</td>\n",
       "      <td>2017</td>\n",
       "      <td>3</td>\n",
       "      <td>Tuesday</td>\n",
       "    </tr>\n",
       "    <tr>\n",
       "      <th>23695</th>\n",
       "      <td>2018-01-15</td>\n",
       "      <td>2018</td>\n",
       "      <td>1</td>\n",
       "      <td>Monday</td>\n",
       "    </tr>\n",
       "    <tr>\n",
       "      <th>23696</th>\n",
       "      <td>2018-02-11</td>\n",
       "      <td>2018</td>\n",
       "      <td>2</td>\n",
       "      <td>Sunday</td>\n",
       "    </tr>\n",
       "    <tr>\n",
       "      <th>23697</th>\n",
       "      <td>2017-03-28</td>\n",
       "      <td>2017</td>\n",
       "      <td>3</td>\n",
       "      <td>Tuesday</td>\n",
       "    </tr>\n",
       "    <tr>\n",
       "      <th>23698</th>\n",
       "      <td>2017-07-21</td>\n",
       "      <td>2017</td>\n",
       "      <td>7</td>\n",
       "      <td>Friday</td>\n",
       "    </tr>\n",
       "  </tbody>\n",
       "</table>\n",
       "<p>23699 rows × 4 columns</p>\n",
       "</div>"
      ],
      "text/plain": [
       "      first_day_exposition  year_exposition  month_exposition day_exposition\n",
       "0               2019-03-07             2019                 3       Thursday\n",
       "1               2018-12-04             2018                12        Tuesday\n",
       "2               2015-08-20             2015                 8       Thursday\n",
       "3               2015-07-24             2015                 7         Friday\n",
       "4               2018-06-19             2018                 6        Tuesday\n",
       "...                    ...              ...               ...            ...\n",
       "23694           2017-03-21             2017                 3        Tuesday\n",
       "23695           2018-01-15             2018                 1         Monday\n",
       "23696           2018-02-11             2018                 2         Sunday\n",
       "23697           2017-03-28             2017                 3        Tuesday\n",
       "23698           2017-07-21             2017                 7         Friday\n",
       "\n",
       "[23699 rows x 4 columns]"
      ]
     },
     "execution_count": 11,
     "metadata": {},
     "output_type": "execute_result"
    }
   ],
   "source": [
    "# day of week, month and year of exposition\n",
    "data['month_exposition'] = data['first_day_exposition'].dt.month\n",
    "data['year_exposition'] = data['first_day_exposition'].dt.year\n",
    "data['day_exposition'] = data['first_day_exposition'].dt.day_name()\n",
    "# check\n",
    "data[['first_day_exposition', 'year_exposition', 'month_exposition', 'day_exposition']]"
   ]
  },
  {
   "cell_type": "code",
   "execution_count": 12,
   "metadata": {},
   "outputs": [
    {
     "data": {
      "text/html": [
       "<div>\n",
       "<style scoped>\n",
       "    .dataframe tbody tr th:only-of-type {\n",
       "        vertical-align: middle;\n",
       "    }\n",
       "\n",
       "    .dataframe tbody tr th {\n",
       "        vertical-align: top;\n",
       "    }\n",
       "\n",
       "    .dataframe thead th {\n",
       "        text-align: right;\n",
       "    }\n",
       "</style>\n",
       "<table border=\"1\" class=\"dataframe\">\n",
       "  <thead>\n",
       "    <tr style=\"text-align: right;\">\n",
       "      <th></th>\n",
       "      <th>floor</th>\n",
       "      <th>floors_total</th>\n",
       "      <th>floor_flat</th>\n",
       "    </tr>\n",
       "  </thead>\n",
       "  <tbody>\n",
       "    <tr>\n",
       "      <th>0</th>\n",
       "      <td>8</td>\n",
       "      <td>16.0</td>\n",
       "      <td>другой</td>\n",
       "    </tr>\n",
       "    <tr>\n",
       "      <th>1</th>\n",
       "      <td>1</td>\n",
       "      <td>11.0</td>\n",
       "      <td>первый</td>\n",
       "    </tr>\n",
       "    <tr>\n",
       "      <th>2</th>\n",
       "      <td>4</td>\n",
       "      <td>5.0</td>\n",
       "      <td>другой</td>\n",
       "    </tr>\n",
       "    <tr>\n",
       "      <th>3</th>\n",
       "      <td>9</td>\n",
       "      <td>14.0</td>\n",
       "      <td>другой</td>\n",
       "    </tr>\n",
       "    <tr>\n",
       "      <th>4</th>\n",
       "      <td>13</td>\n",
       "      <td>14.0</td>\n",
       "      <td>другой</td>\n",
       "    </tr>\n",
       "    <tr>\n",
       "      <th>...</th>\n",
       "      <td>...</td>\n",
       "      <td>...</td>\n",
       "      <td>...</td>\n",
       "    </tr>\n",
       "    <tr>\n",
       "      <th>23694</th>\n",
       "      <td>3</td>\n",
       "      <td>5.0</td>\n",
       "      <td>другой</td>\n",
       "    </tr>\n",
       "    <tr>\n",
       "      <th>23695</th>\n",
       "      <td>4</td>\n",
       "      <td>5.0</td>\n",
       "      <td>другой</td>\n",
       "    </tr>\n",
       "    <tr>\n",
       "      <th>23696</th>\n",
       "      <td>1</td>\n",
       "      <td>3.0</td>\n",
       "      <td>первый</td>\n",
       "    </tr>\n",
       "    <tr>\n",
       "      <th>23697</th>\n",
       "      <td>12</td>\n",
       "      <td>17.0</td>\n",
       "      <td>другой</td>\n",
       "    </tr>\n",
       "    <tr>\n",
       "      <th>23698</th>\n",
       "      <td>1</td>\n",
       "      <td>5.0</td>\n",
       "      <td>первый</td>\n",
       "    </tr>\n",
       "  </tbody>\n",
       "</table>\n",
       "<p>23699 rows × 3 columns</p>\n",
       "</div>"
      ],
      "text/plain": [
       "       floor  floors_total floor_flat\n",
       "0          8          16.0     другой\n",
       "1          1          11.0     первый\n",
       "2          4           5.0     другой\n",
       "3          9          14.0     другой\n",
       "4         13          14.0     другой\n",
       "...      ...           ...        ...\n",
       "23694      3           5.0     другой\n",
       "23695      4           5.0     другой\n",
       "23696      1           3.0     первый\n",
       "23697     12          17.0     другой\n",
       "23698      1           5.0     первый\n",
       "\n",
       "[23699 rows x 3 columns]"
      ]
     },
     "execution_count": 12,
     "metadata": {},
     "output_type": "execute_result"
    }
   ],
   "source": [
    "# function for floor category definitions\n",
    "# first, top or other\n",
    "def floor_category(row):\n",
    "    \"\"\"\n",
    "    Возвращает категорию этажа: первый, послений или другой\n",
    "    \"\"\"\n",
    "    floor_row = row['floor']\n",
    "    floor_total_row = row['floors_total']\n",
    "    if floor_row == 1:\n",
    "        return 'первый'\n",
    "    if floor_row == floor_total_row:\n",
    "        return 'последний'\n",
    "    \n",
    "    return 'другой'\n",
    "\n",
    "# apply function\n",
    "data['floor_flat'] = data.apply(floor_category, axis=1)\n",
    "# check\n",
    "data[['floor', 'floors_total', 'floor_flat']]"
   ]
  },
  {
   "cell_type": "code",
   "execution_count": 13,
   "metadata": {},
   "outputs": [
    {
     "data": {
      "text/html": [
       "<div>\n",
       "<style scoped>\n",
       "    .dataframe tbody tr th:only-of-type {\n",
       "        vertical-align: middle;\n",
       "    }\n",
       "\n",
       "    .dataframe tbody tr th {\n",
       "        vertical-align: top;\n",
       "    }\n",
       "\n",
       "    .dataframe thead th {\n",
       "        text-align: right;\n",
       "    }\n",
       "</style>\n",
       "<table border=\"1\" class=\"dataframe\">\n",
       "  <thead>\n",
       "    <tr style=\"text-align: right;\">\n",
       "      <th></th>\n",
       "      <th>living_area</th>\n",
       "      <th>kitchen_area</th>\n",
       "      <th>total_area</th>\n",
       "      <th>ratio_living_area</th>\n",
       "      <th>ratio_kitchen_area</th>\n",
       "    </tr>\n",
       "  </thead>\n",
       "  <tbody>\n",
       "    <tr>\n",
       "      <th>0</th>\n",
       "      <td>51.0</td>\n",
       "      <td>25.00</td>\n",
       "      <td>108.00</td>\n",
       "      <td>0.472222</td>\n",
       "      <td>0.231481</td>\n",
       "    </tr>\n",
       "    <tr>\n",
       "      <th>1</th>\n",
       "      <td>18.6</td>\n",
       "      <td>11.00</td>\n",
       "      <td>40.40</td>\n",
       "      <td>0.460396</td>\n",
       "      <td>0.272277</td>\n",
       "    </tr>\n",
       "    <tr>\n",
       "      <th>2</th>\n",
       "      <td>34.3</td>\n",
       "      <td>8.30</td>\n",
       "      <td>56.00</td>\n",
       "      <td>0.612500</td>\n",
       "      <td>0.148214</td>\n",
       "    </tr>\n",
       "    <tr>\n",
       "      <th>3</th>\n",
       "      <td>45.0</td>\n",
       "      <td>9.10</td>\n",
       "      <td>159.00</td>\n",
       "      <td>0.283019</td>\n",
       "      <td>0.057233</td>\n",
       "    </tr>\n",
       "    <tr>\n",
       "      <th>4</th>\n",
       "      <td>32.0</td>\n",
       "      <td>41.00</td>\n",
       "      <td>100.00</td>\n",
       "      <td>0.320000</td>\n",
       "      <td>0.410000</td>\n",
       "    </tr>\n",
       "    <tr>\n",
       "      <th>...</th>\n",
       "      <td>...</td>\n",
       "      <td>...</td>\n",
       "      <td>...</td>\n",
       "      <td>...</td>\n",
       "      <td>...</td>\n",
       "    </tr>\n",
       "    <tr>\n",
       "      <th>23694</th>\n",
       "      <td>73.3</td>\n",
       "      <td>13.83</td>\n",
       "      <td>133.81</td>\n",
       "      <td>0.547792</td>\n",
       "      <td>0.103356</td>\n",
       "    </tr>\n",
       "    <tr>\n",
       "      <th>23695</th>\n",
       "      <td>38.0</td>\n",
       "      <td>8.50</td>\n",
       "      <td>59.00</td>\n",
       "      <td>0.644068</td>\n",
       "      <td>0.144068</td>\n",
       "    </tr>\n",
       "    <tr>\n",
       "      <th>23696</th>\n",
       "      <td>29.7</td>\n",
       "      <td>9.10</td>\n",
       "      <td>56.70</td>\n",
       "      <td>0.523810</td>\n",
       "      <td>0.160494</td>\n",
       "    </tr>\n",
       "    <tr>\n",
       "      <th>23697</th>\n",
       "      <td>30.5</td>\n",
       "      <td>23.30</td>\n",
       "      <td>76.75</td>\n",
       "      <td>0.397394</td>\n",
       "      <td>0.303583</td>\n",
       "    </tr>\n",
       "    <tr>\n",
       "      <th>23698</th>\n",
       "      <td>12.3</td>\n",
       "      <td>9.00</td>\n",
       "      <td>32.30</td>\n",
       "      <td>0.380805</td>\n",
       "      <td>0.278638</td>\n",
       "    </tr>\n",
       "  </tbody>\n",
       "</table>\n",
       "<p>23699 rows × 5 columns</p>\n",
       "</div>"
      ],
      "text/plain": [
       "       living_area  kitchen_area  total_area  ratio_living_area  \\\n",
       "0             51.0         25.00      108.00           0.472222   \n",
       "1             18.6         11.00       40.40           0.460396   \n",
       "2             34.3          8.30       56.00           0.612500   \n",
       "3             45.0          9.10      159.00           0.283019   \n",
       "4             32.0         41.00      100.00           0.320000   \n",
       "...            ...           ...         ...                ...   \n",
       "23694         73.3         13.83      133.81           0.547792   \n",
       "23695         38.0          8.50       59.00           0.644068   \n",
       "23696         29.7          9.10       56.70           0.523810   \n",
       "23697         30.5         23.30       76.75           0.397394   \n",
       "23698         12.3          9.00       32.30           0.380805   \n",
       "\n",
       "       ratio_kitchen_area  \n",
       "0                0.231481  \n",
       "1                0.272277  \n",
       "2                0.148214  \n",
       "3                0.057233  \n",
       "4                0.410000  \n",
       "...                   ...  \n",
       "23694            0.103356  \n",
       "23695            0.144068  \n",
       "23696            0.160494  \n",
       "23697            0.303583  \n",
       "23698            0.278638  \n",
       "\n",
       "[23699 rows x 5 columns]"
      ]
     },
     "execution_count": 13,
     "metadata": {},
     "output_type": "execute_result"
    }
   ],
   "source": [
    "# ratio of living and totol area\n",
    "data['ratio_living_area'] = data['living_area'] / data['total_area']\n",
    "# ration kitchen and total area\n",
    "data['ratio_kitchen_area'] = data['kitchen_area'] / data['total_area']\n",
    "# check\n",
    "data[['living_area', 'kitchen_area', 'total_area', 'ratio_living_area', 'ratio_kitchen_area']]"
   ]
  },
  {
   "cell_type": "markdown",
   "metadata": {},
   "source": [
    "## Data research"
   ]
  },
  {
   "cell_type": "markdown",
   "metadata": {},
   "source": [
    "Create hists for `total_area`, `last_price`, `rooms` and `ceiling_height`"
   ]
  },
  {
   "cell_type": "code",
   "execution_count": 14,
   "metadata": {},
   "outputs": [
    {
     "data": {
      "image/png": "[encoded data removed]",
      "text/plain": [
       "<Figure size 432x288 with 1 Axes>"
      ]
     },
     "metadata": {
      "needs_background": "light"
     },
     "output_type": "display_data"
    }
   ],
   "source": [
    "# hist of `total_area`\n",
    "data['total_area'].hist(bins=100, range=(0, 200))\n",
    "plt.show()"
   ]
  },
  {
   "cell_type": "code",
   "execution_count": 15,
   "metadata": {},
   "outputs": [
    {
     "data": {
      "image/png": "[encoded data removed]",
      "text/plain": [
       "<Figure size 432x288 with 1 Axes>"
      ]
     },
     "metadata": {
      "needs_background": "light"
     },
     "output_type": "display_data"
    }
   ],
   "source": [
    "# hist of `last_price`\n",
    "data['last_price'].hist(bins=50)\n",
    "plt.show()"
   ]
  },
  {
   "cell_type": "code",
   "execution_count": 16,
   "metadata": {},
   "outputs": [
    {
     "data": {
      "image/png": "[encoded data removed]",
      "text/plain": [
       "<Figure size 432x288 with 1 Axes>"
      ]
     },
     "metadata": {
      "needs_background": "light"
     },
     "output_type": "display_data"
    }
   ],
   "source": [
    "# hist of `rooms`\n",
    "data['rooms'].plot(kind='hist')\n",
    "plt.show()"
   ]
  },
  {
   "cell_type": "code",
   "execution_count": 17,
   "metadata": {},
   "outputs": [
    {
     "data": {
      "image/png": "[encoded data removed]",
      "text/plain": [
       "<Figure size 432x288 with 1 Axes>"
      ]
     },
     "metadata": {
      "needs_background": "light"
     },
     "output_type": "display_data"
    }
   ],
   "source": [
    "# hist of `ceiling_height`\n",
    "data['ceiling_height'].hist(bins=100, range=(0, 10))\n",
    "plt.show()"
   ]
  },
  {
   "cell_type": "markdown",
   "metadata": {},
   "source": [
    "<b>Conclusion</b>\n",
    "<br>\n",
    "Most of apartments are presented with standard parametres: total area is about 50 square meter, ceiling height is near in 2.5, number rooms is 2-3"
   ]
  },
  {
   "cell_type": "markdown",
   "metadata": {},
   "source": [
    "#### Research of apartment's sale time"
   ]
  },
  {
   "cell_type": "code",
   "execution_count": 18,
   "metadata": {},
   "outputs": [
    {
     "data": {
      "image/png": "[encoded data removed]",
      "text/plain": [
       "<Figure size 432x288 with 1 Axes>"
      ]
     },
     "metadata": {
      "needs_background": "light"
     },
     "output_type": "display_data"
    }
   ],
   "source": [
    "# hist of `days_exposition`\n",
    "data['days_exposition'].hist()\n",
    "plt.show()"
   ]
  },
  {
   "cell_type": "code",
   "execution_count": 19,
   "metadata": {},
   "outputs": [
    {
     "data": {
      "text/plain": [
       "count    23699.000000\n",
       "mean       156.474619\n",
       "std        213.645563\n",
       "min         -1.000000\n",
       "25%         22.000000\n",
       "50%         74.000000\n",
       "75%        199.000000\n",
       "max       1580.000000\n",
       "Name: days_exposition, dtype: float64"
      ]
     },
     "execution_count": 19,
     "metadata": {},
     "output_type": "execute_result"
    }
   ],
   "source": [
    "# describe `days_exposition`\n",
    "data['days_exposition'].describe()"
   ]
  },
  {
   "cell_type": "markdown",
   "metadata": {},
   "source": [
    "<b>Conclusions</b>\n",
    "<li>Average sale duration is 180 days, mead is 95 days (~ 3 month)</li>\n",
    "<li>The mean is twise the median. There is may be emissions</li>\n",
    "<li>Fast sale is expected in 45 days, long sale expected from 230 days</li>"
   ]
  },
  {
   "cell_type": "markdown",
   "metadata": {},
   "source": [
    "#### Delete rare values"
   ]
  },
  {
   "cell_type": "code",
   "execution_count": 20,
   "metadata": {},
   "outputs": [
    {
     "data": {
      "image/png": "[encoded data removed]",
      "text/plain": [
       "<Figure size 432x288 with 1 Axes>"
      ]
     },
     "metadata": {
      "needs_background": "light"
     },
     "output_type": "display_data"
    }
   ],
   "source": [
    "# hist of `days_exposition`\n",
    "data['days_exposition'].hist()\n",
    "plt.show()"
   ]
  },
  {
   "cell_type": "markdown",
   "metadata": {},
   "source": [
    "There are ads with very long advertising periods: from 1000 days (~ 3 years)"
   ]
  },
  {
   "cell_type": "code",
   "execution_count": 21,
   "metadata": {},
   "outputs": [
    {
     "data": {
      "image/png": "[encoded data removed]",
      "text/plain": [
       "<Figure size 432x288 with 1 Axes>"
      ]
     },
     "metadata": {
      "needs_background": "light"
     },
     "output_type": "display_data"
    }
   ],
   "source": [
    "# delete it\n",
    "data = data.query('days_exposition < 1000')\n",
    "# check\n",
    "data['days_exposition'].hist()\n",
    "plt.show()"
   ]
  },
  {
   "cell_type": "code",
   "execution_count": 22,
   "metadata": {},
   "outputs": [
    {
     "data": {
      "image/png": "[encoded data removed]",
      "text/plain": [
       "<Figure size 432x288 with 1 Axes>"
      ]
     },
     "metadata": {
      "needs_background": "light"
     },
     "output_type": "display_data"
    }
   ],
   "source": [
    "# hist of `last_price`\n",
    "data['last_price'].hist()\n",
    "plt.show()"
   ]
  },
  {
   "cell_type": "markdown",
   "metadata": {},
   "source": [
    "There are ads with very expensive price"
   ]
  },
  {
   "cell_type": "code",
   "execution_count": 23,
   "metadata": {},
   "outputs": [
    {
     "data": {
      "image/png": "[encoded data removed]",
      "text/plain": [
       "<Figure size 432x288 with 1 Axes>"
      ]
     },
     "metadata": {
      "needs_background": "light"
     },
     "output_type": "display_data"
    }
   ],
   "source": [
    "# delete expensive apartments\n",
    "data = data.query('last_price < 12000000')\n",
    "# check\n",
    "data['last_price'].hist()\n",
    "plt.show()"
   ]
  },
  {
   "cell_type": "code",
   "execution_count": 24,
   "metadata": {},
   "outputs": [
    {
     "data": {
      "image/png": "[encoded data removed]",
      "text/plain": [
       "<Figure size 432x288 with 1 Axes>"
      ]
     },
     "metadata": {
      "needs_background": "light"
     },
     "output_type": "display_data"
    }
   ],
   "source": [
    "# find not normal values in `total_area`\n",
    "data['total_area'].hist()\n",
    "plt.show()"
   ]
  },
  {
   "cell_type": "code",
   "execution_count": 25,
   "metadata": {},
   "outputs": [
    {
     "data": {
      "image/png": "[encoded data removed]",
      "text/plain": [
       "<Figure size 432x288 with 1 Axes>"
      ]
     },
     "metadata": {
      "needs_background": "light"
     },
     "output_type": "display_data"
    }
   ],
   "source": [
    "# delete it\n",
    "data = data.query('total_area < 500')\n",
    "# check\n",
    "data['total_area'].hist()\n",
    "plt.show()"
   ]
  },
  {
   "cell_type": "code",
   "execution_count": 26,
   "metadata": {},
   "outputs": [
    {
     "data": {
      "image/png": "[encoded data removed]",
      "text/plain": [
       "<Figure size 432x288 with 1 Axes>"
      ]
     },
     "metadata": {
      "needs_background": "light"
     },
     "output_type": "display_data"
    }
   ],
   "source": [
    "# hist of number of rooms\n",
    "data['rooms'].hist()\n",
    "plt.show()"
   ]
  },
  {
   "cell_type": "code",
   "execution_count": 27,
   "metadata": {},
   "outputs": [
    {
     "data": {
      "image/png": "[encoded data removed]",
      "text/plain": [
       "<Figure size 432x288 with 1 Axes>"
      ]
     },
     "metadata": {
      "needs_background": "light"
     },
     "output_type": "display_data"
    }
   ],
   "source": [
    "# select apartments with before 10 rooms\n",
    "data = data.query('rooms < 10')\n",
    "# check\n",
    "data['rooms'].hist()\n",
    "plt.show()"
   ]
  },
  {
   "cell_type": "markdown",
   "metadata": {},
   "source": [
    "<b>Conclusion</b>\n",
    "<br>\n",
    "Dataset have not normal values of price, time exposition, number of rooms and total area."
   ]
  },
  {
   "cell_type": "markdown",
   "metadata": {},
   "source": [
    "#### Is there relation between price, number of rooms, total area and center nearest?"
   ]
  },
  {
   "cell_type": "code",
   "execution_count": 28,
   "metadata": {},
   "outputs": [
    {
     "data": {
      "text/html": [
       "<div>\n",
       "<style scoped>\n",
       "    .dataframe tbody tr th:only-of-type {\n",
       "        vertical-align: middle;\n",
       "    }\n",
       "\n",
       "    .dataframe tbody tr th {\n",
       "        vertical-align: top;\n",
       "    }\n",
       "\n",
       "    .dataframe thead th {\n",
       "        text-align: right;\n",
       "    }\n",
       "</style>\n",
       "<table border=\"1\" class=\"dataframe\">\n",
       "  <thead>\n",
       "    <tr style=\"text-align: right;\">\n",
       "      <th></th>\n",
       "      <th>last_price</th>\n",
       "      <th>rooms</th>\n",
       "      <th>cityCenters_nearest</th>\n",
       "      <th>total_area</th>\n",
       "    </tr>\n",
       "  </thead>\n",
       "  <tbody>\n",
       "    <tr>\n",
       "      <th>last_price</th>\n",
       "      <td>1.000000</td>\n",
       "      <td>0.455593</td>\n",
       "      <td>-0.345210</td>\n",
       "      <td>0.701165</td>\n",
       "    </tr>\n",
       "    <tr>\n",
       "      <th>rooms</th>\n",
       "      <td>0.455593</td>\n",
       "      <td>1.000000</td>\n",
       "      <td>-0.082713</td>\n",
       "      <td>0.803009</td>\n",
       "    </tr>\n",
       "    <tr>\n",
       "      <th>cityCenters_nearest</th>\n",
       "      <td>-0.345210</td>\n",
       "      <td>-0.082713</td>\n",
       "      <td>1.000000</td>\n",
       "      <td>-0.130470</td>\n",
       "    </tr>\n",
       "    <tr>\n",
       "      <th>total_area</th>\n",
       "      <td>0.701165</td>\n",
       "      <td>0.803009</td>\n",
       "      <td>-0.130470</td>\n",
       "      <td>1.000000</td>\n",
       "    </tr>\n",
       "  </tbody>\n",
       "</table>\n",
       "</div>"
      ],
      "text/plain": [
       "                     last_price     rooms  cityCenters_nearest  total_area\n",
       "last_price             1.000000  0.455593            -0.345210    0.701165\n",
       "rooms                  0.455593  1.000000            -0.082713    0.803009\n",
       "cityCenters_nearest   -0.345210 -0.082713             1.000000   -0.130470\n",
       "total_area             0.701165  0.803009            -0.130470    1.000000"
      ]
     },
     "execution_count": 28,
     "metadata": {},
     "output_type": "execute_result"
    }
   ],
   "source": [
    "# relation\n",
    "df_price_by_rooms_Centers_nearest_area = data[['last_price', 'rooms', 'cityCenters_nearest', 'total_area']]\n",
    "df_price_by_rooms_Centers_nearest_area.corr()"
   ]
  },
  {
   "cell_type": "markdown",
   "metadata": {},
   "source": [
    "Price depends on the total area\n",
    "#### Is there ralation between price and category of floor flat?"
   ]
  },
  {
   "cell_type": "code",
   "execution_count": 29,
   "metadata": {},
   "outputs": [
    {
     "data": {
      "text/html": [
       "<div>\n",
       "<style scoped>\n",
       "    .dataframe tbody tr th:only-of-type {\n",
       "        vertical-align: middle;\n",
       "    }\n",
       "\n",
       "    .dataframe tbody tr th {\n",
       "        vertical-align: top;\n",
       "    }\n",
       "\n",
       "    .dataframe thead th {\n",
       "        text-align: right;\n",
       "    }\n",
       "</style>\n",
       "<table border=\"1\" class=\"dataframe\">\n",
       "  <thead>\n",
       "    <tr style=\"text-align: right;\">\n",
       "      <th></th>\n",
       "      <th>last_price</th>\n",
       "    </tr>\n",
       "    <tr>\n",
       "      <th>floor_flat</th>\n",
       "      <th></th>\n",
       "    </tr>\n",
       "  </thead>\n",
       "  <tbody>\n",
       "    <tr>\n",
       "      <th>другой</th>\n",
       "      <td>5.045536e+06</td>\n",
       "    </tr>\n",
       "    <tr>\n",
       "      <th>первый</th>\n",
       "      <td>4.119740e+06</td>\n",
       "    </tr>\n",
       "    <tr>\n",
       "      <th>последний</th>\n",
       "      <td>4.498471e+06</td>\n",
       "    </tr>\n",
       "  </tbody>\n",
       "</table>\n",
       "</div>"
      ],
      "text/plain": [
       "              last_price\n",
       "floor_flat              \n",
       "другой      5.045536e+06\n",
       "первый      4.119740e+06\n",
       "последний   4.498471e+06"
      ]
     },
     "execution_count": 29,
     "metadata": {},
     "output_type": "execute_result"
    }
   ],
   "source": [
    "# realtion\n",
    "df_price_by_floor_flat = data[['last_price', 'floor_flat']]\n",
    "df_price_by_floor_flat.pivot_table(index='floor_flat', values='last_price')"
   ]
  },
  {
   "cell_type": "markdown",
   "metadata": {},
   "source": [
    "Price depends on the category of floor flat.\n",
    "#### Is there relation between price and year of expositions?"
   ]
  },
  {
   "cell_type": "code",
   "execution_count": 30,
   "metadata": {},
   "outputs": [
    {
     "data": {
      "image/png": "[encoded data removed]",
      "text/plain": [
       "<Figure size 432x288 with 1 Axes>"
      ]
     },
     "metadata": {
      "needs_background": "light"
     },
     "output_type": "display_data"
    }
   ],
   "source": [
    "# relation\n",
    "df_price_by_time = data[['last_price', 'year_exposition', 'month_exposition', 'day_exposition']]\n",
    "df_price_by_time.pivot_table(index='year_exposition', values='last_price').reset_index().plot(x='year_exposition', y='last_price', kind='bar', grid=True, style='-o')\n",
    "plt.show()"
   ]
  },
  {
   "cell_type": "markdown",
   "metadata": {},
   "source": [
    "Prices have fallen since 2015\n",
    "#### Is there ralation between price and month of exposition?"
   ]
  },
  {
   "cell_type": "code",
   "execution_count": 31,
   "metadata": {},
   "outputs": [
    {
     "data": {
      "image/png": "[encoded data removed]",
      "text/plain": [
       "<Figure size 432x288 with 1 Axes>"
      ]
     },
     "metadata": {
      "needs_background": "light"
     },
     "output_type": "display_data"
    }
   ],
   "source": [
    "# ralation\n",
    "df_price_by_time.pivot_table(index='month_exposition', values='last_price').reset_index().plot(x='month_exposition', y='last_price', grid=True, kind='bar')\n",
    "plt.show()"
   ]
  },
  {
   "cell_type": "markdown",
   "metadata": {},
   "source": [
    "Price doesn't changes a lot during year\n",
    "#### Is there relation between price and day of week?"
   ]
  },
  {
   "cell_type": "code",
   "execution_count": 32,
   "metadata": {},
   "outputs": [
    {
     "data": {
      "image/png": "[encoded data removed]",
      "text/plain": [
       "<Figure size 504x432 with 1 Axes>"
      ]
     },
     "metadata": {
      "needs_background": "light"
     },
     "output_type": "display_data"
    }
   ],
   "source": [
    "# relation\n",
    "df_price_by_time.pivot_table(index='day_exposition', values='last_price').reset_index().plot(x='day_exposition', y='last_price', kind='bar', figsize=(7, 6), grid=True)\n",
    "plt.show()"
   ]
  },
  {
   "cell_type": "markdown",
   "metadata": {},
   "source": [
    "Price also doesn't change a lot during a week\n",
    "#### TOP-10 cities with most number of ads"
   ]
  },
  {
   "cell_type": "code",
   "execution_count": 33,
   "metadata": {},
   "outputs": [
    {
     "data": {
      "text/html": [
       "<div>\n",
       "<style scoped>\n",
       "    .dataframe tbody tr th:only-of-type {\n",
       "        vertical-align: middle;\n",
       "    }\n",
       "\n",
       "    .dataframe tbody tr th {\n",
       "        vertical-align: top;\n",
       "    }\n",
       "\n",
       "    .dataframe thead tr th {\n",
       "        text-align: left;\n",
       "    }\n",
       "\n",
       "    .dataframe thead tr:last-of-type th {\n",
       "        text-align: right;\n",
       "    }\n",
       "</style>\n",
       "<table border=\"1\" class=\"dataframe\">\n",
       "  <thead>\n",
       "    <tr>\n",
       "      <th></th>\n",
       "      <th>count</th>\n",
       "      <th>mean</th>\n",
       "    </tr>\n",
       "    <tr>\n",
       "      <th></th>\n",
       "      <th>price_square_metre</th>\n",
       "      <th>price_square_metre</th>\n",
       "    </tr>\n",
       "    <tr>\n",
       "      <th>locality_name</th>\n",
       "      <th></th>\n",
       "      <th></th>\n",
       "    </tr>\n",
       "  </thead>\n",
       "  <tbody>\n",
       "    <tr>\n",
       "      <th>Санкт-Петербург</th>\n",
       "      <td>13642</td>\n",
       "      <td>105487.646509</td>\n",
       "    </tr>\n",
       "    <tr>\n",
       "      <th>посёлок Мурино</th>\n",
       "      <td>517</td>\n",
       "      <td>85867.847825</td>\n",
       "    </tr>\n",
       "    <tr>\n",
       "      <th>посёлок Шушары</th>\n",
       "      <td>436</td>\n",
       "      <td>78615.807525</td>\n",
       "    </tr>\n",
       "    <tr>\n",
       "      <th>Всеволожск</th>\n",
       "      <td>393</td>\n",
       "      <td>67245.219949</td>\n",
       "    </tr>\n",
       "    <tr>\n",
       "      <th>Колпино</th>\n",
       "      <td>334</td>\n",
       "      <td>75130.848464</td>\n",
       "    </tr>\n",
       "    <tr>\n",
       "      <th>Пушкин</th>\n",
       "      <td>334</td>\n",
       "      <td>100329.356291</td>\n",
       "    </tr>\n",
       "    <tr>\n",
       "      <th>посёлок Парголово</th>\n",
       "      <td>326</td>\n",
       "      <td>90103.136772</td>\n",
       "    </tr>\n",
       "    <tr>\n",
       "      <th>Гатчина</th>\n",
       "      <td>305</td>\n",
       "      <td>68421.902770</td>\n",
       "    </tr>\n",
       "    <tr>\n",
       "      <th>деревня Кудрово</th>\n",
       "      <td>293</td>\n",
       "      <td>92356.440778</td>\n",
       "    </tr>\n",
       "    <tr>\n",
       "      <th>Выборг</th>\n",
       "      <td>235</td>\n",
       "      <td>57911.258095</td>\n",
       "    </tr>\n",
       "  </tbody>\n",
       "</table>\n",
       "</div>"
      ],
      "text/plain": [
       "                               count               mean\n",
       "                  price_square_metre price_square_metre\n",
       "locality_name                                          \n",
       "Санкт-Петербург                13642      105487.646509\n",
       "посёлок Мурино                   517       85867.847825\n",
       "посёлок Шушары                   436       78615.807525\n",
       "Всеволожск                       393       67245.219949\n",
       "Колпино                          334       75130.848464\n",
       "Пушкин                           334      100329.356291\n",
       "посёлок Парголово                326       90103.136772\n",
       "Гатчина                          305       68421.902770\n",
       "деревня Кудрово                  293       92356.440778\n",
       "Выборг                           235       57911.258095"
      ]
     },
     "execution_count": 33,
     "metadata": {},
     "output_type": "execute_result"
    }
   ],
   "source": [
    "df_locality_name_top10 = data.pivot_table(index='locality_name', values='price_square_metre', aggfunc=['count', 'mean']).sort_values(by=('count', 'price_square_metre'), ascending=False).head(10)\n",
    "df_locality_name_top10"
   ]
  },
  {
   "cell_type": "markdown",
   "metadata": {},
   "source": [
    "#### City with most expensive average price per square meter"
   ]
  },
  {
   "cell_type": "code",
   "execution_count": 34,
   "metadata": {},
   "outputs": [
    {
     "data": {
      "text/html": [
       "<div>\n",
       "<style scoped>\n",
       "    .dataframe tbody tr th:only-of-type {\n",
       "        vertical-align: middle;\n",
       "    }\n",
       "\n",
       "    .dataframe tbody tr th {\n",
       "        vertical-align: top;\n",
       "    }\n",
       "\n",
       "    .dataframe thead tr th {\n",
       "        text-align: left;\n",
       "    }\n",
       "</style>\n",
       "<table border=\"1\" class=\"dataframe\">\n",
       "  <thead>\n",
       "    <tr>\n",
       "      <th></th>\n",
       "      <th>locality_name</th>\n",
       "      <th>count</th>\n",
       "      <th>mean</th>\n",
       "    </tr>\n",
       "    <tr>\n",
       "      <th></th>\n",
       "      <th></th>\n",
       "      <th>price_square_metre</th>\n",
       "      <th>price_square_metre</th>\n",
       "    </tr>\n",
       "  </thead>\n",
       "  <tbody>\n",
       "    <tr>\n",
       "      <th>0</th>\n",
       "      <td>Санкт-Петербург</td>\n",
       "      <td>13642</td>\n",
       "      <td>105487.646509</td>\n",
       "    </tr>\n",
       "  </tbody>\n",
       "</table>\n",
       "</div>"
      ],
      "text/plain": [
       "     locality_name              count               mean\n",
       "                   price_square_metre price_square_metre\n",
       "0  Санкт-Петербург              13642      105487.646509"
      ]
     },
     "execution_count": 34,
     "metadata": {},
     "output_type": "execute_result"
    }
   ],
   "source": [
    "df_locality_name_top10.reset_index().sort_values(by=('mean', 'price_square_metre'), ascending=False).head(1)"
   ]
  },
  {
   "cell_type": "markdown",
   "metadata": {},
   "source": [
    "#### City with the lowest average price per square meter"
   ]
  },
  {
   "cell_type": "code",
   "execution_count": 35,
   "metadata": {},
   "outputs": [
    {
     "data": {
      "text/html": [
       "<div>\n",
       "<style scoped>\n",
       "    .dataframe tbody tr th:only-of-type {\n",
       "        vertical-align: middle;\n",
       "    }\n",
       "\n",
       "    .dataframe tbody tr th {\n",
       "        vertical-align: top;\n",
       "    }\n",
       "\n",
       "    .dataframe thead tr th {\n",
       "        text-align: left;\n",
       "    }\n",
       "</style>\n",
       "<table border=\"1\" class=\"dataframe\">\n",
       "  <thead>\n",
       "    <tr>\n",
       "      <th></th>\n",
       "      <th>locality_name</th>\n",
       "      <th>count</th>\n",
       "      <th>mean</th>\n",
       "    </tr>\n",
       "    <tr>\n",
       "      <th></th>\n",
       "      <th></th>\n",
       "      <th>price_square_metre</th>\n",
       "      <th>price_square_metre</th>\n",
       "    </tr>\n",
       "  </thead>\n",
       "  <tbody>\n",
       "    <tr>\n",
       "      <th>9</th>\n",
       "      <td>Выборг</td>\n",
       "      <td>235</td>\n",
       "      <td>57911.258095</td>\n",
       "    </tr>\n",
       "  </tbody>\n",
       "</table>\n",
       "</div>"
      ],
      "text/plain": [
       "  locality_name              count               mean\n",
       "                price_square_metre price_square_metre\n",
       "9        Выборг                235       57911.258095"
      ]
     },
     "execution_count": 35,
     "metadata": {},
     "output_type": "execute_result"
    }
   ],
   "source": [
    "df_locality_name_top10.reset_index().sort_values(by=('mean', 'price_square_metre'), ascending=False).tail(1)"
   ]
  },
  {
   "cell_type": "markdown",
   "metadata": {},
   "source": [
    "It is expected that the largest number of publications in St.Petersburg. Alse there are the most expensive apartments"
   ]
  },
  {
   "cell_type": "markdown",
   "metadata": {},
   "source": [
    "#### What area is included in the center of St.Petersburg?"
   ]
  },
  {
   "cell_type": "code",
   "execution_count": 36,
   "metadata": {},
   "outputs": [
    {
     "data": {
      "text/html": [
       "<div>\n",
       "<style scoped>\n",
       "    .dataframe tbody tr th:only-of-type {\n",
       "        vertical-align: middle;\n",
       "    }\n",
       "\n",
       "    .dataframe tbody tr th {\n",
       "        vertical-align: top;\n",
       "    }\n",
       "\n",
       "    .dataframe thead th {\n",
       "        text-align: right;\n",
       "    }\n",
       "</style>\n",
       "<table border=\"1\" class=\"dataframe\">\n",
       "  <thead>\n",
       "    <tr style=\"text-align: right;\">\n",
       "      <th></th>\n",
       "      <th>total_images</th>\n",
       "      <th>last_price</th>\n",
       "      <th>total_area</th>\n",
       "      <th>first_day_exposition</th>\n",
       "      <th>rooms</th>\n",
       "      <th>ceiling_height</th>\n",
       "      <th>floors_total</th>\n",
       "      <th>living_area</th>\n",
       "      <th>floor</th>\n",
       "      <th>is_apartment</th>\n",
       "      <th>...</th>\n",
       "      <th>ponds_around3000</th>\n",
       "      <th>ponds_nearest</th>\n",
       "      <th>days_exposition</th>\n",
       "      <th>price_square_metre</th>\n",
       "      <th>month_exposition</th>\n",
       "      <th>year_exposition</th>\n",
       "      <th>day_exposition</th>\n",
       "      <th>floor_flat</th>\n",
       "      <th>ratio_living_area</th>\n",
       "      <th>ratio_kitchen_area</th>\n",
       "    </tr>\n",
       "  </thead>\n",
       "  <tbody>\n",
       "    <tr>\n",
       "      <th>2</th>\n",
       "      <td>10</td>\n",
       "      <td>5196000.0</td>\n",
       "      <td>56.00</td>\n",
       "      <td>2015-08-20</td>\n",
       "      <td>2</td>\n",
       "      <td>2.65</td>\n",
       "      <td>5.0</td>\n",
       "      <td>34.3</td>\n",
       "      <td>4</td>\n",
       "      <td>True</td>\n",
       "      <td>...</td>\n",
       "      <td>2.0</td>\n",
       "      <td>574.0</td>\n",
       "      <td>558</td>\n",
       "      <td>92785.714286</td>\n",
       "      <td>8</td>\n",
       "      <td>2015</td>\n",
       "      <td>Thursday</td>\n",
       "      <td>другой</td>\n",
       "      <td>0.612500</td>\n",
       "      <td>0.148214</td>\n",
       "    </tr>\n",
       "    <tr>\n",
       "      <th>4</th>\n",
       "      <td>2</td>\n",
       "      <td>10000000.0</td>\n",
       "      <td>100.00</td>\n",
       "      <td>2018-06-19</td>\n",
       "      <td>2</td>\n",
       "      <td>3.03</td>\n",
       "      <td>14.0</td>\n",
       "      <td>32.0</td>\n",
       "      <td>13</td>\n",
       "      <td>True</td>\n",
       "      <td>...</td>\n",
       "      <td>1.0</td>\n",
       "      <td>48.0</td>\n",
       "      <td>121</td>\n",
       "      <td>100000.000000</td>\n",
       "      <td>6</td>\n",
       "      <td>2018</td>\n",
       "      <td>Tuesday</td>\n",
       "      <td>другой</td>\n",
       "      <td>0.320000</td>\n",
       "      <td>0.410000</td>\n",
       "    </tr>\n",
       "    <tr>\n",
       "      <th>7</th>\n",
       "      <td>5</td>\n",
       "      <td>7915000.0</td>\n",
       "      <td>71.60</td>\n",
       "      <td>2019-04-18</td>\n",
       "      <td>2</td>\n",
       "      <td>2.65</td>\n",
       "      <td>24.0</td>\n",
       "      <td>30.5</td>\n",
       "      <td>22</td>\n",
       "      <td>True</td>\n",
       "      <td>...</td>\n",
       "      <td>0.0</td>\n",
       "      <td>NaN</td>\n",
       "      <td>-1</td>\n",
       "      <td>110544.692737</td>\n",
       "      <td>4</td>\n",
       "      <td>2019</td>\n",
       "      <td>Thursday</td>\n",
       "      <td>другой</td>\n",
       "      <td>0.425978</td>\n",
       "      <td>0.263966</td>\n",
       "    </tr>\n",
       "    <tr>\n",
       "      <th>9</th>\n",
       "      <td>18</td>\n",
       "      <td>5400000.0</td>\n",
       "      <td>61.00</td>\n",
       "      <td>2017-02-26</td>\n",
       "      <td>3</td>\n",
       "      <td>2.50</td>\n",
       "      <td>9.0</td>\n",
       "      <td>43.6</td>\n",
       "      <td>7</td>\n",
       "      <td>True</td>\n",
       "      <td>...</td>\n",
       "      <td>0.0</td>\n",
       "      <td>NaN</td>\n",
       "      <td>289</td>\n",
       "      <td>88524.590164</td>\n",
       "      <td>2</td>\n",
       "      <td>2017</td>\n",
       "      <td>Sunday</td>\n",
       "      <td>другой</td>\n",
       "      <td>0.714754</td>\n",
       "      <td>0.106557</td>\n",
       "    </tr>\n",
       "    <tr>\n",
       "      <th>10</th>\n",
       "      <td>5</td>\n",
       "      <td>5050000.0</td>\n",
       "      <td>39.60</td>\n",
       "      <td>2017-11-16</td>\n",
       "      <td>1</td>\n",
       "      <td>2.67</td>\n",
       "      <td>12.0</td>\n",
       "      <td>20.3</td>\n",
       "      <td>3</td>\n",
       "      <td>True</td>\n",
       "      <td>...</td>\n",
       "      <td>2.0</td>\n",
       "      <td>553.0</td>\n",
       "      <td>137</td>\n",
       "      <td>127525.252525</td>\n",
       "      <td>11</td>\n",
       "      <td>2017</td>\n",
       "      <td>Thursday</td>\n",
       "      <td>другой</td>\n",
       "      <td>0.512626</td>\n",
       "      <td>0.214646</td>\n",
       "    </tr>\n",
       "    <tr>\n",
       "      <th>...</th>\n",
       "      <td>...</td>\n",
       "      <td>...</td>\n",
       "      <td>...</td>\n",
       "      <td>...</td>\n",
       "      <td>...</td>\n",
       "      <td>...</td>\n",
       "      <td>...</td>\n",
       "      <td>...</td>\n",
       "      <td>...</td>\n",
       "      <td>...</td>\n",
       "      <td>...</td>\n",
       "      <td>...</td>\n",
       "      <td>...</td>\n",
       "      <td>...</td>\n",
       "      <td>...</td>\n",
       "      <td>...</td>\n",
       "      <td>...</td>\n",
       "      <td>...</td>\n",
       "      <td>...</td>\n",
       "      <td>...</td>\n",
       "      <td>...</td>\n",
       "    </tr>\n",
       "    <tr>\n",
       "      <th>23689</th>\n",
       "      <td>13</td>\n",
       "      <td>3550000.0</td>\n",
       "      <td>35.30</td>\n",
       "      <td>2018-02-28</td>\n",
       "      <td>1</td>\n",
       "      <td>2.86</td>\n",
       "      <td>15.0</td>\n",
       "      <td>16.3</td>\n",
       "      <td>4</td>\n",
       "      <td>True</td>\n",
       "      <td>...</td>\n",
       "      <td>2.0</td>\n",
       "      <td>652.0</td>\n",
       "      <td>29</td>\n",
       "      <td>100566.572238</td>\n",
       "      <td>2</td>\n",
       "      <td>2018</td>\n",
       "      <td>Wednesday</td>\n",
       "      <td>другой</td>\n",
       "      <td>0.461756</td>\n",
       "      <td>0.257790</td>\n",
       "    </tr>\n",
       "    <tr>\n",
       "      <th>23690</th>\n",
       "      <td>3</td>\n",
       "      <td>5500000.0</td>\n",
       "      <td>52.00</td>\n",
       "      <td>2018-07-19</td>\n",
       "      <td>2</td>\n",
       "      <td>2.65</td>\n",
       "      <td>5.0</td>\n",
       "      <td>31.0</td>\n",
       "      <td>2</td>\n",
       "      <td>True</td>\n",
       "      <td>...</td>\n",
       "      <td>0.0</td>\n",
       "      <td>NaN</td>\n",
       "      <td>15</td>\n",
       "      <td>105769.230769</td>\n",
       "      <td>7</td>\n",
       "      <td>2018</td>\n",
       "      <td>Thursday</td>\n",
       "      <td>другой</td>\n",
       "      <td>0.596154</td>\n",
       "      <td>0.115385</td>\n",
       "    </tr>\n",
       "    <tr>\n",
       "      <th>23691</th>\n",
       "      <td>11</td>\n",
       "      <td>9470000.0</td>\n",
       "      <td>72.90</td>\n",
       "      <td>2016-10-13</td>\n",
       "      <td>2</td>\n",
       "      <td>2.75</td>\n",
       "      <td>25.0</td>\n",
       "      <td>40.3</td>\n",
       "      <td>7</td>\n",
       "      <td>True</td>\n",
       "      <td>...</td>\n",
       "      <td>1.0</td>\n",
       "      <td>806.0</td>\n",
       "      <td>519</td>\n",
       "      <td>129903.978052</td>\n",
       "      <td>10</td>\n",
       "      <td>2016</td>\n",
       "      <td>Thursday</td>\n",
       "      <td>другой</td>\n",
       "      <td>0.552812</td>\n",
       "      <td>0.145405</td>\n",
       "    </tr>\n",
       "    <tr>\n",
       "      <th>23694</th>\n",
       "      <td>9</td>\n",
       "      <td>9700000.0</td>\n",
       "      <td>133.81</td>\n",
       "      <td>2017-03-21</td>\n",
       "      <td>3</td>\n",
       "      <td>3.70</td>\n",
       "      <td>5.0</td>\n",
       "      <td>73.3</td>\n",
       "      <td>3</td>\n",
       "      <td>True</td>\n",
       "      <td>...</td>\n",
       "      <td>3.0</td>\n",
       "      <td>381.0</td>\n",
       "      <td>-1</td>\n",
       "      <td>72490.845228</td>\n",
       "      <td>3</td>\n",
       "      <td>2017</td>\n",
       "      <td>Tuesday</td>\n",
       "      <td>другой</td>\n",
       "      <td>0.547792</td>\n",
       "      <td>0.103356</td>\n",
       "    </tr>\n",
       "    <tr>\n",
       "      <th>23697</th>\n",
       "      <td>13</td>\n",
       "      <td>11475000.0</td>\n",
       "      <td>76.75</td>\n",
       "      <td>2017-03-28</td>\n",
       "      <td>2</td>\n",
       "      <td>3.00</td>\n",
       "      <td>17.0</td>\n",
       "      <td>30.5</td>\n",
       "      <td>12</td>\n",
       "      <td>True</td>\n",
       "      <td>...</td>\n",
       "      <td>3.0</td>\n",
       "      <td>196.0</td>\n",
       "      <td>602</td>\n",
       "      <td>149511.400651</td>\n",
       "      <td>3</td>\n",
       "      <td>2017</td>\n",
       "      <td>Tuesday</td>\n",
       "      <td>другой</td>\n",
       "      <td>0.397394</td>\n",
       "      <td>0.303583</td>\n",
       "    </tr>\n",
       "  </tbody>\n",
       "</table>\n",
       "<p>13642 rows × 29 columns</p>\n",
       "</div>"
      ],
      "text/plain": [
       "       total_images  last_price  total_area first_day_exposition  rooms  \\\n",
       "2                10   5196000.0       56.00           2015-08-20      2   \n",
       "4                 2  10000000.0      100.00           2018-06-19      2   \n",
       "7                 5   7915000.0       71.60           2019-04-18      2   \n",
       "9                18   5400000.0       61.00           2017-02-26      3   \n",
       "10                5   5050000.0       39.60           2017-11-16      1   \n",
       "...             ...         ...         ...                  ...    ...   \n",
       "23689            13   3550000.0       35.30           2018-02-28      1   \n",
       "23690             3   5500000.0       52.00           2018-07-19      2   \n",
       "23691            11   9470000.0       72.90           2016-10-13      2   \n",
       "23694             9   9700000.0      133.81           2017-03-21      3   \n",
       "23697            13  11475000.0       76.75           2017-03-28      2   \n",
       "\n",
       "       ceiling_height  floors_total  living_area  floor  is_apartment  ...  \\\n",
       "2                2.65           5.0         34.3      4          True  ...   \n",
       "4                3.03          14.0         32.0     13          True  ...   \n",
       "7                2.65          24.0         30.5     22          True  ...   \n",
       "9                2.50           9.0         43.6      7          True  ...   \n",
       "10               2.67          12.0         20.3      3          True  ...   \n",
       "...               ...           ...          ...    ...           ...  ...   \n",
       "23689            2.86          15.0         16.3      4          True  ...   \n",
       "23690            2.65           5.0         31.0      2          True  ...   \n",
       "23691            2.75          25.0         40.3      7          True  ...   \n",
       "23694            3.70           5.0         73.3      3          True  ...   \n",
       "23697            3.00          17.0         30.5     12          True  ...   \n",
       "\n",
       "       ponds_around3000  ponds_nearest  days_exposition  price_square_metre  \\\n",
       "2                   2.0          574.0              558        92785.714286   \n",
       "4                   1.0           48.0              121       100000.000000   \n",
       "7                   0.0            NaN               -1       110544.692737   \n",
       "9                   0.0            NaN              289        88524.590164   \n",
       "10                  2.0          553.0              137       127525.252525   \n",
       "...                 ...            ...              ...                 ...   \n",
       "23689               2.0          652.0               29       100566.572238   \n",
       "23690               0.0            NaN               15       105769.230769   \n",
       "23691               1.0          806.0              519       129903.978052   \n",
       "23694               3.0          381.0               -1        72490.845228   \n",
       "23697               3.0          196.0              602       149511.400651   \n",
       "\n",
       "      month_exposition  year_exposition  day_exposition  floor_flat  \\\n",
       "2                    8             2015        Thursday      другой   \n",
       "4                    6             2018         Tuesday      другой   \n",
       "7                    4             2019        Thursday      другой   \n",
       "9                    2             2017          Sunday      другой   \n",
       "10                  11             2017        Thursday      другой   \n",
       "...                ...              ...             ...         ...   \n",
       "23689                2             2018       Wednesday      другой   \n",
       "23690                7             2018        Thursday      другой   \n",
       "23691               10             2016        Thursday      другой   \n",
       "23694                3             2017         Tuesday      другой   \n",
       "23697                3             2017         Tuesday      другой   \n",
       "\n",
       "       ratio_living_area  ratio_kitchen_area  \n",
       "2               0.612500            0.148214  \n",
       "4               0.320000            0.410000  \n",
       "7               0.425978            0.263966  \n",
       "9               0.714754            0.106557  \n",
       "10              0.512626            0.214646  \n",
       "...                  ...                 ...  \n",
       "23689           0.461756            0.257790  \n",
       "23690           0.596154            0.115385  \n",
       "23691           0.552812            0.145405  \n",
       "23694           0.547792            0.103356  \n",
       "23697           0.397394            0.303583  \n",
       "\n",
       "[13642 rows x 29 columns]"
      ]
     },
     "execution_count": 36,
     "metadata": {},
     "output_type": "execute_result"
    }
   ],
   "source": [
    "# select ads from St.Petersburg\n",
    "df_locality_name_spb = data.query('locality_name == \"Санкт-Петербург\"')\n",
    "df_locality_name_spb"
   ]
  },
  {
   "cell_type": "code",
   "execution_count": 37,
   "metadata": {},
   "outputs": [],
   "source": [
    "# create column with distance to center (km)\n",
    "df_locality_name_spb['cityCenters_nearest'] = df_locality_name_spb['cityCenters_nearest'].fillna(df_locality_name_spb['cityCenters_nearest'].median())\n",
    "df_locality_name_spb['cityCenters_nearest_km'] = df_locality_name_spb['cityCenters_nearest'] / 1000\n",
    "df_locality_name_spb['cityCenters_nearest_km'] = df_locality_name_spb['cityCenters_nearest_km'].astype(int)"
   ]
  },
  {
   "cell_type": "code",
   "execution_count": 38,
   "metadata": {},
   "outputs": [
    {
     "data": {
      "image/png": "[encoded data removed]",
      "text/plain": [
       "<Figure size 720x720 with 1 Axes>"
      ]
     },
     "metadata": {
      "needs_background": "light"
     },
     "output_type": "display_data"
    }
   ],
   "source": [
    "# average price per km\n",
    "df_locality_name_spb.pivot_table(index='cityCenters_nearest_km', values='last_price').reset_index().plot(x='cityCenters_nearest_km', y='last_price', figsize=(10,10), grid=True)\n",
    "plt.show()"
   ]
  },
  {
   "cell_type": "markdown",
   "metadata": {},
   "source": [
    "Center of city is about 5 km\n",
    "#### Analys apartments in city center"
   ]
  },
  {
   "cell_type": "code",
   "execution_count": 39,
   "metadata": {},
   "outputs": [],
   "source": [
    "# select apartmetns in the center\n",
    "df_spb_center = df_locality_name_spb.query('cityCenters_nearest_km <= 5')"
   ]
  },
  {
   "cell_type": "code",
   "execution_count": 40,
   "metadata": {},
   "outputs": [
    {
     "data": {
      "image/png": "[encoded data removed]",
      "text/plain": [
       "<Figure size 432x288 with 1 Axes>"
      ]
     },
     "metadata": {
      "needs_background": "light"
     },
     "output_type": "display_data"
    }
   ],
   "source": [
    "# hist for `total_area`\n",
    "df_spb_center['total_area'].hist(range=(0,500))\n",
    "plt.show()"
   ]
  },
  {
   "cell_type": "code",
   "execution_count": 41,
   "metadata": {},
   "outputs": [
    {
     "data": {
      "image/png": "[encoded data removed]",
      "text/plain": [
       "<Figure size 432x288 with 1 Axes>"
      ]
     },
     "metadata": {
      "needs_background": "light"
     },
     "output_type": "display_data"
    }
   ],
   "source": [
    "# hist for `total_area` of the all dataset\n",
    "data['total_area'].hist(range=(0,500))\n",
    "plt.show()"
   ]
  },
  {
   "cell_type": "code",
   "execution_count": 42,
   "metadata": {},
   "outputs": [
    {
     "data": {
      "image/png": "[encoded data removed]",
      "text/plain": [
       "<Figure size 432x288 with 1 Axes>"
      ]
     },
     "metadata": {
      "needs_background": "light"
     },
     "output_type": "display_data"
    }
   ],
   "source": [
    "# hist price for St.Petersburg\n",
    "df_spb_center['last_price'].hist()\n",
    "plt.show()"
   ]
  },
  {
   "cell_type": "code",
   "execution_count": 43,
   "metadata": {},
   "outputs": [
    {
     "data": {
      "image/png": "[encoded data removed]",
      "text/plain": [
       "<Figure size 432x288 with 1 Axes>"
      ]
     },
     "metadata": {
      "needs_background": "light"
     },
     "output_type": "display_data"
    }
   ],
   "source": [
    "# hist price of the all dataset\n",
    "data['last_price'].hist()\n",
    "plt.show()"
   ]
  },
  {
   "cell_type": "code",
   "execution_count": 44,
   "metadata": {},
   "outputs": [
    {
     "data": {
      "image/png": "[encoded data removed]",
      "text/plain": [
       "<Figure size 432x288 with 1 Axes>"
      ]
     },
     "metadata": {
      "needs_background": "light"
     },
     "output_type": "display_data"
    }
   ],
   "source": [
    "# hist number of rooms in St.Petersburg\n",
    "df_spb_center['rooms'].hist()\n",
    "plt.show()"
   ]
  },
  {
   "cell_type": "code",
   "execution_count": 45,
   "metadata": {},
   "outputs": [
    {
     "data": {
      "image/png": "[encoded data removed]",
      "text/plain": [
       "<Figure size 432x288 with 1 Axes>"
      ]
     },
     "metadata": {
      "needs_background": "light"
     },
     "output_type": "display_data"
    }
   ],
   "source": [
    "# hist number of rooms in the all dataset\n",
    "data['rooms'].hist()\n",
    "plt.show()"
   ]
  },
  {
   "cell_type": "code",
   "execution_count": 46,
   "metadata": {},
   "outputs": [
    {
     "data": {
      "image/png": "[encoded data removed]",
      "text/plain": [
       "<Figure size 432x288 with 1 Axes>"
      ]
     },
     "metadata": {
      "needs_background": "light"
     },
     "output_type": "display_data"
    }
   ],
   "source": [
    "# разброс по высоте потолков в центре СПб\n",
    "# hist `ceiling_height` in St.Petersburg\n",
    "df_spb_center['ceiling_height'].hist(bins=20, range=(0,5))\n",
    "plt.show()"
   ]
  },
  {
   "cell_type": "code",
   "execution_count": 47,
   "metadata": {},
   "outputs": [
    {
     "data": {
      "image/png": "[encoded data removed]",
      "text/plain": [
       "<Figure size 432x288 with 1 Axes>"
      ]
     },
     "metadata": {
      "needs_background": "light"
     },
     "output_type": "display_data"
    }
   ],
   "source": [
    "# hist `ceiling_height` in the all dataset\n",
    "data['ceiling_height'].hist(bins=20, range=(0,5))\n",
    "plt.show()"
   ]
  },
  {
   "cell_type": "code",
   "execution_count": 48,
   "metadata": {},
   "outputs": [
    {
     "data": {
      "text/html": [
       "<div>\n",
       "<style scoped>\n",
       "    .dataframe tbody tr th:only-of-type {\n",
       "        vertical-align: middle;\n",
       "    }\n",
       "\n",
       "    .dataframe tbody tr th {\n",
       "        vertical-align: top;\n",
       "    }\n",
       "\n",
       "    .dataframe thead th {\n",
       "        text-align: right;\n",
       "    }\n",
       "</style>\n",
       "<table border=\"1\" class=\"dataframe\">\n",
       "  <thead>\n",
       "    <tr style=\"text-align: right;\">\n",
       "      <th></th>\n",
       "      <th>last_price</th>\n",
       "      <th>rooms</th>\n",
       "      <th>floor</th>\n",
       "      <th>cityCenters_nearest</th>\n",
       "    </tr>\n",
       "  </thead>\n",
       "  <tbody>\n",
       "    <tr>\n",
       "      <th>last_price</th>\n",
       "      <td>1.000000</td>\n",
       "      <td>0.501067</td>\n",
       "      <td>0.128698</td>\n",
       "      <td>-0.088963</td>\n",
       "    </tr>\n",
       "    <tr>\n",
       "      <th>rooms</th>\n",
       "      <td>0.501067</td>\n",
       "      <td>1.000000</td>\n",
       "      <td>-0.124446</td>\n",
       "      <td>-0.126821</td>\n",
       "    </tr>\n",
       "    <tr>\n",
       "      <th>floor</th>\n",
       "      <td>0.128698</td>\n",
       "      <td>-0.124446</td>\n",
       "      <td>1.000000</td>\n",
       "      <td>0.197394</td>\n",
       "    </tr>\n",
       "    <tr>\n",
       "      <th>cityCenters_nearest</th>\n",
       "      <td>-0.088963</td>\n",
       "      <td>-0.126821</td>\n",
       "      <td>0.197394</td>\n",
       "      <td>1.000000</td>\n",
       "    </tr>\n",
       "  </tbody>\n",
       "</table>\n",
       "</div>"
      ],
      "text/plain": [
       "                     last_price     rooms     floor  cityCenters_nearest\n",
       "last_price             1.000000  0.501067  0.128698            -0.088963\n",
       "rooms                  0.501067  1.000000 -0.124446            -0.126821\n",
       "floor                  0.128698 -0.124446  1.000000             0.197394\n",
       "cityCenters_nearest   -0.088963 -0.126821  0.197394             1.000000"
      ]
     },
     "execution_count": 48,
     "metadata": {},
     "output_type": "execute_result"
    }
   ],
   "source": [
    "# correlation of ads in center of St.Petersburg\n",
    "df_spb_center[['last_price', 'rooms', 'floor', 'cityCenters_nearest']].corr()"
   ]
  },
  {
   "cell_type": "code",
   "execution_count": 49,
   "metadata": {},
   "outputs": [
    {
     "data": {
      "text/html": [
       "<div>\n",
       "<style scoped>\n",
       "    .dataframe tbody tr th:only-of-type {\n",
       "        vertical-align: middle;\n",
       "    }\n",
       "\n",
       "    .dataframe tbody tr th {\n",
       "        vertical-align: top;\n",
       "    }\n",
       "\n",
       "    .dataframe thead th {\n",
       "        text-align: right;\n",
       "    }\n",
       "</style>\n",
       "<table border=\"1\" class=\"dataframe\">\n",
       "  <thead>\n",
       "    <tr style=\"text-align: right;\">\n",
       "      <th></th>\n",
       "      <th>last_price</th>\n",
       "      <th>rooms</th>\n",
       "      <th>floor</th>\n",
       "      <th>cityCenters_nearest</th>\n",
       "    </tr>\n",
       "  </thead>\n",
       "  <tbody>\n",
       "    <tr>\n",
       "      <th>last_price</th>\n",
       "      <td>1.000000</td>\n",
       "      <td>0.455593</td>\n",
       "      <td>0.129120</td>\n",
       "      <td>-0.345210</td>\n",
       "    </tr>\n",
       "    <tr>\n",
       "      <th>rooms</th>\n",
       "      <td>0.455593</td>\n",
       "      <td>1.000000</td>\n",
       "      <td>-0.181351</td>\n",
       "      <td>-0.082713</td>\n",
       "    </tr>\n",
       "    <tr>\n",
       "      <th>floor</th>\n",
       "      <td>0.129120</td>\n",
       "      <td>-0.181351</td>\n",
       "      <td>1.000000</td>\n",
       "      <td>-0.005898</td>\n",
       "    </tr>\n",
       "    <tr>\n",
       "      <th>cityCenters_nearest</th>\n",
       "      <td>-0.345210</td>\n",
       "      <td>-0.082713</td>\n",
       "      <td>-0.005898</td>\n",
       "      <td>1.000000</td>\n",
       "    </tr>\n",
       "  </tbody>\n",
       "</table>\n",
       "</div>"
      ],
      "text/plain": [
       "                     last_price     rooms     floor  cityCenters_nearest\n",
       "last_price             1.000000  0.455593  0.129120            -0.345210\n",
       "rooms                  0.455593  1.000000 -0.181351            -0.082713\n",
       "floor                  0.129120 -0.181351  1.000000            -0.005898\n",
       "cityCenters_nearest   -0.345210 -0.082713 -0.005898             1.000000"
      ]
     },
     "execution_count": 49,
     "metadata": {},
     "output_type": "execute_result"
    }
   ],
   "source": [
    "# correlation of ads of all dataset\n",
    "data[['last_price', 'rooms', 'floor', 'cityCenters_nearest']].corr()"
   ]
  },
  {
   "cell_type": "code",
   "execution_count": 50,
   "metadata": {},
   "outputs": [
    {
     "data": {
      "image/png": "[encoded data removed]",
      "text/plain": [
       "<Figure size 432x288 with 1 Axes>"
      ]
     },
     "metadata": {
      "needs_background": "light"
     },
     "output_type": "display_data"
    }
   ],
   "source": [
    "# dependence of price on the year of exposition\n",
    "df_spb_center.pivot_table(index='year_exposition', values='last_price').reset_index().plot(x='year_exposition', y='last_price', kind='bar')\n",
    "plt.show()"
   ]
  },
  {
   "cell_type": "code",
   "execution_count": 51,
   "metadata": {},
   "outputs": [
    {
     "data": {
      "image/png": "[encoded data removed]",
      "text/plain": [
       "<Figure size 432x288 with 1 Axes>"
      ]
     },
     "metadata": {
      "needs_background": "light"
     },
     "output_type": "display_data"
    }
   ],
   "source": [
    "# dependence of price on the month of exposition\n",
    "df_spb_center.pivot_table(index='month_exposition', values='last_price').reset_index().plot(x='month_exposition', y='last_price', kind='bar')\n",
    "plt.show()"
   ]
  },
  {
   "cell_type": "code",
   "execution_count": 52,
   "metadata": {},
   "outputs": [
    {
     "data": {
      "image/png": "[encoded data removed]",
      "text/plain": [
       "<Figure size 432x288 with 1 Axes>"
      ]
     },
     "metadata": {
      "needs_background": "light"
     },
     "output_type": "display_data"
    }
   ],
   "source": [
    "# dependence of price on the day of week of exposition\n",
    "df_spb_center.pivot_table(index='day_exposition', values='last_price').reset_index().plot(x='day_exposition', y='last_price', kind='bar')\n",
    "plt.show()"
   ]
  },
  {
   "cell_type": "markdown",
   "metadata": {},
   "source": [
    "<b>Conclusions</b><br>\n",
    "<li>Apartments from center of St.Petersburg have total area from 50 to 100 square meters</li>\n",
    "<li>Aparments have more number of rooms than other ads</li>\n",
    "<li>Most of apartments have high ceilings: from 3 meters</li>\n",
    "<li>Price correlates with distance to center</li>\n",
    "<li>In Saturday price different from other days</li>"
   ]
  },
  {
   "cell_type": "markdown",
   "metadata": {},
   "source": [
    "## Result\n",
    "- Most apartments is presented with standard parametres: total area is about 50 square meters, ceiling height is near in 2.5, number rooms is 2-3, prices before 10M\n",
    "- Average sale time is 6 months\n",
    "- Price dependes on th number of rooms and total area\n",
    "- St.Petersburg have most number of advertising and most expensive apartments\n",
    "- Center of St.Petersburg have radius about 5 km. Apartments from center have more total area, number of rooms and prices."
   ]
  }
 ],
 "metadata": {
  "ExecuteTimeLog": [
   {
    "duration": 740,
    "start_time": "2022-02-21T17:12:52.959Z"
   },
   {
    "duration": 79,
    "start_time": "2022-02-21T17:13:41.118Z"
   },
   {
    "duration": 33,
    "start_time": "2022-02-21T17:13:54.880Z"
   },
   {
    "duration": 57,
    "start_time": "2022-02-21T17:17:04.689Z"
   },
   {
    "duration": 16,
    "start_time": "2022-02-21T17:17:27.702Z"
   },
   {
    "duration": 104,
    "start_time": "2022-02-21T17:18:27.998Z"
   },
   {
    "duration": 9,
    "start_time": "2022-02-21T17:18:39.312Z"
   },
   {
    "duration": 36,
    "start_time": "2022-02-21T17:18:48.723Z"
   },
   {
    "duration": 535,
    "start_time": "2022-02-21T17:18:59.219Z"
   },
   {
    "duration": 23,
    "start_time": "2022-02-21T17:19:17.615Z"
   },
   {
    "duration": 545,
    "start_time": "2022-02-21T17:21:33.651Z"
   },
   {
    "duration": 220,
    "start_time": "2022-02-21T17:21:43.860Z"
   },
   {
    "duration": 386,
    "start_time": "2022-02-21T17:21:51.560Z"
   },
   {
    "duration": 397,
    "start_time": "2022-02-21T17:22:01.409Z"
   },
   {
    "duration": 423,
    "start_time": "2022-02-21T17:22:10.098Z"
   },
   {
    "duration": 314,
    "start_time": "2022-02-21T17:22:14.304Z"
   },
   {
    "duration": 229,
    "start_time": "2022-02-21T17:22:23.035Z"
   },
   {
    "duration": 451,
    "start_time": "2022-02-21T17:22:40.134Z"
   },
   {
    "duration": 234,
    "start_time": "2022-02-21T17:26:30.721Z"
   },
   {
    "duration": 9,
    "start_time": "2022-02-21T17:28:58.176Z"
   },
   {
    "duration": 10,
    "start_time": "2022-02-21T17:29:06.359Z"
   },
   {
    "duration": 9,
    "start_time": "2022-02-21T17:29:11.448Z"
   },
   {
    "duration": 211,
    "start_time": "2022-02-21T18:00:43.368Z"
   },
   {
    "duration": 255,
    "start_time": "2022-02-21T18:01:34.295Z"
   },
   {
    "duration": 263,
    "start_time": "2022-02-21T18:01:41.860Z"
   },
   {
    "duration": 249,
    "start_time": "2022-02-21T18:01:48.889Z"
   },
   {
    "duration": 248,
    "start_time": "2022-02-21T18:01:54.739Z"
   },
   {
    "duration": 257,
    "start_time": "2022-02-21T18:02:02.686Z"
   },
   {
    "duration": 197,
    "start_time": "2022-02-21T18:02:14.639Z"
   },
   {
    "duration": 818,
    "start_time": "2022-02-21T18:05:11.913Z"
   },
   {
    "duration": 29,
    "start_time": "2022-02-21T18:05:12.733Z"
   },
   {
    "duration": 57,
    "start_time": "2022-02-21T18:05:12.769Z"
   },
   {
    "duration": 15,
    "start_time": "2022-02-21T18:05:12.828Z"
   },
   {
    "duration": 135,
    "start_time": "2022-02-21T18:05:12.845Z"
   },
   {
    "duration": 9,
    "start_time": "2022-02-21T18:05:12.982Z"
   },
   {
    "duration": 34,
    "start_time": "2022-02-21T18:05:12.993Z"
   },
   {
    "duration": 565,
    "start_time": "2022-02-21T18:05:13.031Z"
   },
   {
    "duration": 19,
    "start_time": "2022-02-21T18:05:13.598Z"
   },
   {
    "duration": 478,
    "start_time": "2022-02-21T18:05:13.619Z"
   },
   {
    "duration": 310,
    "start_time": "2022-02-21T18:05:14.099Z"
   },
   {
    "duration": 230,
    "start_time": "2022-02-21T18:05:14.410Z"
   },
   {
    "duration": 409,
    "start_time": "2022-02-21T18:05:14.642Z"
   },
   {
    "duration": 251,
    "start_time": "2022-02-21T18:05:15.053Z"
   },
   {
    "duration": 9,
    "start_time": "2022-02-21T18:05:15.306Z"
   },
   {
    "duration": 216,
    "start_time": "2022-02-21T18:05:15.317Z"
   },
   {
    "duration": 244,
    "start_time": "2022-02-21T18:06:52.934Z"
   },
   {
    "duration": 5659,
    "start_time": "2022-02-21T18:18:00.578Z"
   },
   {
    "duration": 5541,
    "start_time": "2022-02-21T18:19:03.834Z"
   },
   {
    "duration": 5832,
    "start_time": "2022-02-21T18:19:17.758Z"
   },
   {
    "duration": 13,
    "start_time": "2022-02-21T18:20:24.957Z"
   },
   {
    "duration": 8,
    "start_time": "2022-02-21T18:24:59.012Z"
   },
   {
    "duration": 12,
    "start_time": "2022-02-21T18:25:18.090Z"
   },
   {
    "duration": 240,
    "start_time": "2022-02-21T18:25:27.919Z"
   },
   {
    "duration": 234,
    "start_time": "2022-02-21T18:25:44.058Z"
   },
   {
    "duration": 15,
    "start_time": "2022-02-21T18:28:29.767Z"
   },
   {
    "duration": 18,
    "start_time": "2022-02-21T18:31:48.056Z"
   },
   {
    "duration": 17,
    "start_time": "2022-02-21T18:32:13.235Z"
   },
   {
    "duration": 16,
    "start_time": "2022-02-21T18:32:26.746Z"
   },
   {
    "duration": 17,
    "start_time": "2022-02-21T18:32:31.761Z"
   },
   {
    "duration": 16,
    "start_time": "2022-02-21T18:32:55.372Z"
   },
   {
    "duration": 16,
    "start_time": "2022-02-21T18:35:48.021Z"
   },
   {
    "duration": 15,
    "start_time": "2022-02-21T18:38:04.074Z"
   },
   {
    "duration": 15,
    "start_time": "2022-02-21T18:38:19.221Z"
   },
   {
    "duration": 7029,
    "start_time": "2022-02-21T18:39:19.307Z"
   },
   {
    "duration": 16,
    "start_time": "2022-02-21T18:39:46.390Z"
   },
   {
    "duration": 13,
    "start_time": "2022-02-21T18:43:08.533Z"
   },
   {
    "duration": 286,
    "start_time": "2022-02-21T18:43:26.822Z"
   },
   {
    "duration": 16,
    "start_time": "2022-02-21T18:43:44.816Z"
   },
   {
    "duration": 15,
    "start_time": "2022-02-21T18:43:52.082Z"
   },
   {
    "duration": 17,
    "start_time": "2022-02-21T18:43:54.578Z"
   },
   {
    "duration": 15,
    "start_time": "2022-02-21T18:44:01.707Z"
   },
   {
    "duration": 16,
    "start_time": "2022-02-21T18:44:04.498Z"
   },
   {
    "duration": 221,
    "start_time": "2022-02-21T18:44:24.544Z"
   },
   {
    "duration": 281,
    "start_time": "2022-02-21T18:45:14.478Z"
   },
   {
    "duration": 257,
    "start_time": "2022-02-21T18:45:47.657Z"
   },
   {
    "duration": 239,
    "start_time": "2022-02-21T18:46:27.554Z"
   },
   {
    "duration": 243,
    "start_time": "2022-02-21T18:47:32.454Z"
   },
   {
    "duration": 208,
    "start_time": "2022-02-21T18:49:14.330Z"
   },
   {
    "duration": 17,
    "start_time": "2022-02-21T18:49:33.415Z"
   },
   {
    "duration": 214,
    "start_time": "2022-02-21T18:49:45.310Z"
   },
   {
    "duration": 88,
    "start_time": "2022-02-21T18:54:22.134Z"
   },
   {
    "duration": 287,
    "start_time": "2022-02-21T18:54:29.582Z"
   },
   {
    "duration": 274,
    "start_time": "2022-02-21T18:54:36.078Z"
   },
   {
    "duration": 250,
    "start_time": "2022-02-21T18:54:39.277Z"
   },
   {
    "duration": 244,
    "start_time": "2022-02-21T18:54:42.610Z"
   },
   {
    "duration": 262,
    "start_time": "2022-02-21T18:55:02.474Z"
   },
   {
    "duration": 2,
    "start_time": "2022-02-22T16:40:42.703Z"
   },
   {
    "duration": 424,
    "start_time": "2022-02-22T16:41:11.862Z"
   },
   {
    "duration": 730,
    "start_time": "2022-02-22T16:41:19.228Z"
   },
   {
    "duration": 22,
    "start_time": "2022-02-22T16:41:19.959Z"
   },
   {
    "duration": 45,
    "start_time": "2022-02-22T16:41:19.983Z"
   },
   {
    "duration": 12,
    "start_time": "2022-02-22T16:41:20.046Z"
   },
   {
    "duration": 90,
    "start_time": "2022-02-22T16:41:20.059Z"
   },
   {
    "duration": 5,
    "start_time": "2022-02-22T16:41:20.151Z"
   },
   {
    "duration": 26,
    "start_time": "2022-02-22T16:41:20.158Z"
   },
   {
    "duration": 441,
    "start_time": "2022-02-22T16:41:20.186Z"
   },
   {
    "duration": 24,
    "start_time": "2022-02-22T16:41:20.629Z"
   },
   {
    "duration": 320,
    "start_time": "2022-02-22T16:41:20.654Z"
   },
   {
    "duration": 219,
    "start_time": "2022-02-22T16:41:20.976Z"
   },
   {
    "duration": 169,
    "start_time": "2022-02-22T16:41:21.197Z"
   },
   {
    "duration": 272,
    "start_time": "2022-02-22T16:41:21.367Z"
   },
   {
    "duration": 164,
    "start_time": "2022-02-22T16:41:21.640Z"
   },
   {
    "duration": 7,
    "start_time": "2022-02-22T16:41:21.805Z"
   },
   {
    "duration": 188,
    "start_time": "2022-02-22T16:41:21.814Z"
   },
   {
    "duration": 10,
    "start_time": "2022-02-22T16:41:22.004Z"
   },
   {
    "duration": 12,
    "start_time": "2022-02-22T16:41:22.015Z"
   },
   {
    "duration": 108,
    "start_time": "2022-02-22T16:41:22.028Z"
   },
   {
    "duration": 36,
    "start_time": "2022-02-22T16:41:22.102Z"
   },
   {
    "duration": 29,
    "start_time": "2022-02-22T16:41:22.109Z"
   },
   {
    "duration": 23,
    "start_time": "2022-02-22T16:41:22.116Z"
   },
   {
    "duration": 19,
    "start_time": "2022-02-22T16:41:22.121Z"
   },
   {
    "duration": 717,
    "start_time": "2022-02-22T16:41:48.108Z"
   },
   {
    "duration": 21,
    "start_time": "2022-02-22T16:41:48.827Z"
   },
   {
    "duration": 45,
    "start_time": "2022-02-22T16:41:48.850Z"
   },
   {
    "duration": 11,
    "start_time": "2022-02-22T16:41:48.897Z"
   },
   {
    "duration": 103,
    "start_time": "2022-02-22T16:41:48.909Z"
   },
   {
    "duration": 6,
    "start_time": "2022-02-22T16:41:49.013Z"
   },
   {
    "duration": 40,
    "start_time": "2022-02-22T16:41:49.021Z"
   },
   {
    "duration": 440,
    "start_time": "2022-02-22T16:41:49.063Z"
   },
   {
    "duration": 15,
    "start_time": "2022-02-22T16:41:49.505Z"
   },
   {
    "duration": 335,
    "start_time": "2022-02-22T16:41:49.522Z"
   },
   {
    "duration": 232,
    "start_time": "2022-02-22T16:41:49.859Z"
   },
   {
    "duration": 177,
    "start_time": "2022-02-22T16:41:50.093Z"
   },
   {
    "duration": 282,
    "start_time": "2022-02-22T16:41:50.272Z"
   },
   {
    "duration": 174,
    "start_time": "2022-02-22T16:41:50.556Z"
   },
   {
    "duration": 8,
    "start_time": "2022-02-22T16:41:50.731Z"
   },
   {
    "duration": 178,
    "start_time": "2022-02-22T16:41:50.745Z"
   },
   {
    "duration": 10,
    "start_time": "2022-02-22T16:41:50.924Z"
   },
   {
    "duration": 17,
    "start_time": "2022-02-22T16:41:50.935Z"
   },
   {
    "duration": 166,
    "start_time": "2022-02-22T16:41:50.953Z"
   },
   {
    "duration": 177,
    "start_time": "2022-02-22T16:41:51.120Z"
   },
   {
    "duration": 189,
    "start_time": "2022-02-22T16:41:51.298Z"
   },
   {
    "duration": 4,
    "start_time": "2022-02-22T16:41:51.489Z"
   },
   {
    "duration": 7,
    "start_time": "2022-02-22T16:42:15.532Z"
   },
   {
    "duration": 6,
    "start_time": "2022-02-22T16:42:43.083Z"
   },
   {
    "duration": 7,
    "start_time": "2022-02-22T16:42:46.281Z"
   },
   {
    "duration": 14,
    "start_time": "2022-02-22T16:45:11.880Z"
   },
   {
    "duration": 13,
    "start_time": "2022-02-22T16:45:30.332Z"
   },
   {
    "duration": 16,
    "start_time": "2022-02-22T16:45:43.669Z"
   },
   {
    "duration": 13,
    "start_time": "2022-02-22T16:45:48.782Z"
   },
   {
    "duration": 14,
    "start_time": "2022-02-22T16:45:51.329Z"
   },
   {
    "duration": 14,
    "start_time": "2022-02-22T16:47:43.700Z"
   },
   {
    "duration": 14,
    "start_time": "2022-02-22T16:47:47.940Z"
   },
   {
    "duration": 15,
    "start_time": "2022-02-22T16:48:08.421Z"
   },
   {
    "duration": 14,
    "start_time": "2022-02-22T16:48:13.052Z"
   },
   {
    "duration": 14,
    "start_time": "2022-02-22T16:48:19.653Z"
   },
   {
    "duration": 15,
    "start_time": "2022-02-22T16:48:32.971Z"
   },
   {
    "duration": 397,
    "start_time": "2022-02-22T16:48:49.112Z"
   },
   {
    "duration": 15,
    "start_time": "2022-02-22T16:48:54.544Z"
   },
   {
    "duration": 16,
    "start_time": "2022-02-22T16:49:01.674Z"
   },
   {
    "duration": 14,
    "start_time": "2022-02-22T16:49:09.554Z"
   },
   {
    "duration": 14,
    "start_time": "2022-02-22T16:49:12.321Z"
   },
   {
    "duration": 19,
    "start_time": "2022-02-22T16:49:16.472Z"
   },
   {
    "duration": 14,
    "start_time": "2022-02-22T16:52:20.126Z"
   },
   {
    "duration": 13,
    "start_time": "2022-02-22T16:52:28.134Z"
   },
   {
    "duration": 14,
    "start_time": "2022-02-22T16:53:04.108Z"
   },
   {
    "duration": 13,
    "start_time": "2022-02-22T16:53:19.822Z"
   },
   {
    "duration": 15,
    "start_time": "2022-02-22T16:53:30.616Z"
   },
   {
    "duration": 15,
    "start_time": "2022-02-22T16:53:39.533Z"
   },
   {
    "duration": 14,
    "start_time": "2022-02-22T16:53:45.591Z"
   },
   {
    "duration": 13,
    "start_time": "2022-02-22T16:53:49.498Z"
   },
   {
    "duration": 9,
    "start_time": "2022-02-22T16:54:01.924Z"
   },
   {
    "duration": 14,
    "start_time": "2022-02-22T16:54:05.210Z"
   },
   {
    "duration": 4,
    "start_time": "2022-02-22T16:55:18.847Z"
   },
   {
    "duration": 42,
    "start_time": "2022-02-22T16:56:16.396Z"
   },
   {
    "duration": 7969,
    "start_time": "2022-02-22T16:56:39.465Z"
   },
   {
    "duration": 12,
    "start_time": "2022-02-22T16:56:48.382Z"
   },
   {
    "duration": 40,
    "start_time": "2022-02-22T16:57:01.048Z"
   },
   {
    "duration": 7,
    "start_time": "2022-02-22T16:59:04.332Z"
   },
   {
    "duration": 9,
    "start_time": "2022-02-22T16:59:06.316Z"
   },
   {
    "duration": 22,
    "start_time": "2022-02-22T17:05:42.198Z"
   },
   {
    "duration": 371,
    "start_time": "2022-02-22T17:06:00.364Z"
   },
   {
    "duration": 23,
    "start_time": "2022-02-22T17:06:30.333Z"
   },
   {
    "duration": 21,
    "start_time": "2022-02-22T17:06:43.469Z"
   },
   {
    "duration": 409,
    "start_time": "2022-02-22T17:07:24.514Z"
   },
   {
    "duration": 21,
    "start_time": "2022-02-22T17:07:32.740Z"
   },
   {
    "duration": 22,
    "start_time": "2022-02-22T17:07:58.005Z"
   },
   {
    "duration": 21,
    "start_time": "2022-02-22T17:08:15.113Z"
   },
   {
    "duration": 32,
    "start_time": "2022-02-22T17:08:20.037Z"
   },
   {
    "duration": 17,
    "start_time": "2022-02-22T17:08:52.899Z"
   },
   {
    "duration": 24,
    "start_time": "2022-02-22T17:08:57.248Z"
   },
   {
    "duration": 4,
    "start_time": "2022-02-22T17:15:14.832Z"
   },
   {
    "duration": 17,
    "start_time": "2022-02-22T17:16:21.886Z"
   },
   {
    "duration": 7,
    "start_time": "2022-02-22T17:16:28.899Z"
   },
   {
    "duration": 9,
    "start_time": "2022-02-22T17:16:38.008Z"
   },
   {
    "duration": 6,
    "start_time": "2022-02-22T17:17:05.289Z"
   },
   {
    "duration": 9,
    "start_time": "2022-02-22T17:17:09.700Z"
   },
   {
    "duration": 12,
    "start_time": "2022-02-22T17:17:38.440Z"
   },
   {
    "duration": 12,
    "start_time": "2022-02-22T17:17:56.393Z"
   },
   {
    "duration": 8,
    "start_time": "2022-02-22T17:18:07.452Z"
   },
   {
    "duration": 11,
    "start_time": "2022-02-22T17:22:25.822Z"
   },
   {
    "duration": 9,
    "start_time": "2022-02-22T17:23:23.917Z"
   },
   {
    "duration": 10,
    "start_time": "2022-02-22T17:23:30.503Z"
   },
   {
    "duration": 324,
    "start_time": "2022-02-22T17:31:02.279Z"
   },
   {
    "duration": 36,
    "start_time": "2022-02-22T17:31:11.803Z"
   },
   {
    "duration": 5,
    "start_time": "2022-02-22T17:35:23.486Z"
   },
   {
    "duration": 6,
    "start_time": "2022-02-22T17:38:43.490Z"
   },
   {
    "duration": 6,
    "start_time": "2022-02-22T17:38:50.322Z"
   },
   {
    "duration": 7,
    "start_time": "2022-02-22T17:39:00.142Z"
   },
   {
    "duration": 323,
    "start_time": "2022-02-22T17:39:10.667Z"
   },
   {
    "duration": 6,
    "start_time": "2022-02-22T17:39:47.672Z"
   },
   {
    "duration": 6,
    "start_time": "2022-02-22T17:40:01.970Z"
   },
   {
    "duration": 8,
    "start_time": "2022-02-22T17:41:55.371Z"
   },
   {
    "duration": 7,
    "start_time": "2022-02-22T17:42:10.593Z"
   },
   {
    "duration": 8,
    "start_time": "2022-02-22T17:42:25.191Z"
   },
   {
    "duration": 11,
    "start_time": "2022-02-22T17:42:30.181Z"
   },
   {
    "duration": 9,
    "start_time": "2022-02-22T17:42:40.862Z"
   },
   {
    "duration": 1515,
    "start_time": "2022-02-22T17:42:58.235Z"
   },
   {
    "duration": 1366,
    "start_time": "2022-02-22T17:44:38.435Z"
   },
   {
    "duration": 2251,
    "start_time": "2022-02-22T17:45:04.313Z"
   },
   {
    "duration": 1374,
    "start_time": "2022-02-22T17:45:39.700Z"
   },
   {
    "duration": 8,
    "start_time": "2022-02-22T17:48:40.508Z"
   },
   {
    "duration": 9,
    "start_time": "2022-02-22T17:48:52.001Z"
   },
   {
    "duration": 1356,
    "start_time": "2022-02-22T17:49:29.936Z"
   },
   {
    "duration": 7,
    "start_time": "2022-02-22T17:49:45.250Z"
   },
   {
    "duration": 8,
    "start_time": "2022-02-22T17:49:58.523Z"
   },
   {
    "duration": 7,
    "start_time": "2022-02-22T17:50:50.367Z"
   },
   {
    "duration": 6,
    "start_time": "2022-02-22T17:50:58.228Z"
   },
   {
    "duration": 9,
    "start_time": "2022-02-22T17:51:04.862Z"
   },
   {
    "duration": 8,
    "start_time": "2022-02-22T17:51:10.557Z"
   },
   {
    "duration": 9,
    "start_time": "2022-02-22T17:51:15.905Z"
   },
   {
    "duration": 6,
    "start_time": "2022-02-22T17:51:29.360Z"
   },
   {
    "duration": 4,
    "start_time": "2022-02-22T17:52:54.161Z"
   },
   {
    "duration": 9,
    "start_time": "2022-02-22T17:53:15.636Z"
   },
   {
    "duration": 7,
    "start_time": "2022-02-22T17:53:37.655Z"
   },
   {
    "duration": 6,
    "start_time": "2022-02-22T17:53:45.928Z"
   },
   {
    "duration": 10,
    "start_time": "2022-02-22T17:56:39.156Z"
   },
   {
    "duration": 5,
    "start_time": "2022-02-22T17:56:54.599Z"
   },
   {
    "duration": 335,
    "start_time": "2022-02-22T17:57:00.544Z"
   },
   {
    "duration": 7,
    "start_time": "2022-02-22T17:57:28.989Z"
   },
   {
    "duration": 1457,
    "start_time": "2022-02-22T17:57:39.145Z"
   },
   {
    "duration": 317,
    "start_time": "2022-02-22T17:57:50.958Z"
   },
   {
    "duration": 1243,
    "start_time": "2022-02-22T17:57:56.971Z"
   },
   {
    "duration": 2,
    "start_time": "2022-02-22T17:58:09.148Z"
   },
   {
    "duration": 708,
    "start_time": "2022-02-22T17:58:15.647Z"
   },
   {
    "duration": 22,
    "start_time": "2022-02-22T17:58:16.356Z"
   },
   {
    "duration": 49,
    "start_time": "2022-02-22T17:58:16.380Z"
   },
   {
    "duration": 17,
    "start_time": "2022-02-22T17:58:16.446Z"
   },
   {
    "duration": 86,
    "start_time": "2022-02-22T17:58:16.465Z"
   },
   {
    "duration": 6,
    "start_time": "2022-02-22T17:58:16.553Z"
   },
   {
    "duration": 28,
    "start_time": "2022-02-22T17:58:16.561Z"
   },
   {
    "duration": 453,
    "start_time": "2022-02-22T17:58:16.591Z"
   },
   {
    "duration": 16,
    "start_time": "2022-02-22T17:58:17.047Z"
   },
   {
    "duration": 353,
    "start_time": "2022-02-22T17:58:17.065Z"
   },
   {
    "duration": 223,
    "start_time": "2022-02-22T17:58:17.419Z"
   },
   {
    "duration": 174,
    "start_time": "2022-02-22T17:58:17.646Z"
   },
   {
    "duration": 280,
    "start_time": "2022-02-22T17:58:17.821Z"
   },
   {
    "duration": 175,
    "start_time": "2022-02-22T17:58:18.102Z"
   },
   {
    "duration": 7,
    "start_time": "2022-02-22T17:58:18.279Z"
   },
   {
    "duration": 190,
    "start_time": "2022-02-22T17:58:18.288Z"
   },
   {
    "duration": 11,
    "start_time": "2022-02-22T17:58:18.479Z"
   },
   {
    "duration": 13,
    "start_time": "2022-02-22T17:58:18.492Z"
   },
   {
    "duration": 173,
    "start_time": "2022-02-22T17:58:18.506Z"
   },
   {
    "duration": 186,
    "start_time": "2022-02-22T17:58:18.681Z"
   },
   {
    "duration": 196,
    "start_time": "2022-02-22T17:58:18.869Z"
   },
   {
    "duration": 23,
    "start_time": "2022-02-22T17:58:19.066Z"
   },
   {
    "duration": 9,
    "start_time": "2022-02-22T17:58:19.091Z"
   },
   {
    "duration": 8,
    "start_time": "2022-02-22T17:58:19.102Z"
   },
   {
    "duration": 62,
    "start_time": "2022-02-22T17:58:19.112Z"
   },
   {
    "duration": 2,
    "start_time": "2022-02-22T17:58:19.175Z"
   },
   {
    "duration": 10,
    "start_time": "2022-02-22T17:59:51.101Z"
   },
   {
    "duration": 5,
    "start_time": "2022-02-22T18:00:31.246Z"
   },
   {
    "duration": 5,
    "start_time": "2022-02-22T18:00:33.281Z"
   },
   {
    "duration": 5,
    "start_time": "2022-02-22T18:00:55.273Z"
   },
   {
    "duration": 7,
    "start_time": "2022-02-22T18:01:02.192Z"
   },
   {
    "duration": 8,
    "start_time": "2022-02-22T18:01:14.832Z"
   },
   {
    "duration": 7,
    "start_time": "2022-02-22T18:01:23.190Z"
   },
   {
    "duration": 5,
    "start_time": "2022-02-22T18:01:42.123Z"
   },
   {
    "duration": 8,
    "start_time": "2022-02-22T18:01:51.817Z"
   },
   {
    "duration": 8,
    "start_time": "2022-02-22T18:02:02.435Z"
   },
   {
    "duration": 7,
    "start_time": "2022-02-22T18:02:06.100Z"
   },
   {
    "duration": 9,
    "start_time": "2022-02-22T18:02:15.995Z"
   },
   {
    "duration": 7,
    "start_time": "2022-02-22T18:02:23.595Z"
   },
   {
    "duration": 6,
    "start_time": "2022-02-22T18:02:27.518Z"
   },
   {
    "duration": 6,
    "start_time": "2022-02-22T18:08:17.437Z"
   },
   {
    "duration": 12,
    "start_time": "2022-02-22T18:09:09.526Z"
   },
   {
    "duration": 14,
    "start_time": "2022-02-22T18:09:15.121Z"
   },
   {
    "duration": 13,
    "start_time": "2022-02-22T18:09:29.000Z"
   },
   {
    "duration": 12,
    "start_time": "2022-02-22T18:09:39.501Z"
   },
   {
    "duration": 7372,
    "start_time": "2022-02-22T18:11:21.583Z"
   },
   {
    "duration": 13,
    "start_time": "2022-02-22T18:11:40.669Z"
   },
   {
    "duration": 13,
    "start_time": "2022-02-22T18:11:47.186Z"
   },
   {
    "duration": 170,
    "start_time": "2022-02-22T18:12:18.290Z"
   },
   {
    "duration": 285,
    "start_time": "2022-02-22T18:12:40.155Z"
   },
   {
    "duration": 234,
    "start_time": "2022-02-22T18:12:54.722Z"
   },
   {
    "duration": 32,
    "start_time": "2022-02-22T18:18:30.019Z"
   },
   {
    "duration": 6,
    "start_time": "2022-02-22T18:21:18.949Z"
   },
   {
    "duration": 315,
    "start_time": "2022-02-22T18:22:10.747Z"
   },
   {
    "duration": 48534,
    "start_time": "2022-02-22T18:22:47.045Z"
   },
   {
    "duration": 1406,
    "start_time": "2022-02-22T18:23:49.034Z"
   },
   {
    "duration": 1517,
    "start_time": "2022-02-22T18:24:10.514Z"
   },
   {
    "duration": 1939,
    "start_time": "2022-02-22T18:24:24.011Z"
   },
   {
    "duration": 961,
    "start_time": "2022-02-23T09:02:58.145Z"
   },
   {
    "duration": 41,
    "start_time": "2022-02-23T09:02:59.109Z"
   },
   {
    "duration": 114,
    "start_time": "2022-02-23T09:02:59.153Z"
   },
   {
    "duration": 24,
    "start_time": "2022-02-23T09:02:59.270Z"
   },
   {
    "duration": 166,
    "start_time": "2022-02-23T09:02:59.299Z"
   },
   {
    "duration": 33,
    "start_time": "2022-02-23T09:02:59.468Z"
   },
   {
    "duration": 46,
    "start_time": "2022-02-23T09:02:59.504Z"
   },
   {
    "duration": 888,
    "start_time": "2022-02-23T09:02:59.553Z"
   },
   {
    "duration": 26,
    "start_time": "2022-02-23T09:03:00.444Z"
   },
   {
    "duration": 664,
    "start_time": "2022-02-23T09:03:00.473Z"
   },
   {
    "duration": 435,
    "start_time": "2022-02-23T09:03:01.139Z"
   },
   {
    "duration": 331,
    "start_time": "2022-02-23T09:03:01.576Z"
   },
   {
    "duration": 564,
    "start_time": "2022-02-23T09:03:01.909Z"
   },
   {
    "duration": 340,
    "start_time": "2022-02-23T09:03:02.475Z"
   },
   {
    "duration": 14,
    "start_time": "2022-02-23T09:03:02.818Z"
   },
   {
    "duration": 385,
    "start_time": "2022-02-23T09:03:02.834Z"
   },
   {
    "duration": 17,
    "start_time": "2022-02-23T09:03:03.222Z"
   },
   {
    "duration": 19,
    "start_time": "2022-02-23T09:03:03.241Z"
   },
   {
    "duration": 330,
    "start_time": "2022-02-23T09:03:03.263Z"
   },
   {
    "duration": 436,
    "start_time": "2022-02-23T09:03:03.596Z"
   },
   {
    "duration": 373,
    "start_time": "2022-02-23T09:03:04.034Z"
   },
   {
    "duration": 37,
    "start_time": "2022-02-23T09:03:04.410Z"
   },
   {
    "duration": 16,
    "start_time": "2022-02-23T09:03:04.450Z"
   },
   {
    "duration": 17,
    "start_time": "2022-02-23T09:03:04.502Z"
   },
   {
    "duration": 86,
    "start_time": "2022-02-23T09:03:04.521Z"
   },
   {
    "duration": 9,
    "start_time": "2022-02-23T09:03:04.610Z"
   },
   {
    "duration": 455,
    "start_time": "2022-02-23T09:03:04.624Z"
   },
   {
    "duration": 22,
    "start_time": "2022-02-23T09:03:05.082Z"
   },
   {
    "duration": 3431,
    "start_time": "2022-02-23T09:03:05.106Z"
   },
   {
    "duration": 296,
    "start_time": "2022-02-23T09:07:28.647Z"
   },
   {
    "duration": 303,
    "start_time": "2022-02-23T09:13:20.409Z"
   },
   {
    "duration": 341,
    "start_time": "2022-02-23T09:13:52.507Z"
   },
   {
    "duration": 313,
    "start_time": "2022-02-23T09:14:37.071Z"
   },
   {
    "duration": 291,
    "start_time": "2022-02-23T09:14:49.707Z"
   },
   {
    "duration": 376,
    "start_time": "2022-02-23T09:15:03.078Z"
   },
   {
    "duration": 354,
    "start_time": "2022-02-23T09:15:05.763Z"
   },
   {
    "duration": 14,
    "start_time": "2022-02-23T09:19:13.984Z"
   },
   {
    "duration": 9,
    "start_time": "2022-02-23T09:22:52.491Z"
   },
   {
    "duration": 8,
    "start_time": "2022-02-23T09:23:19.289Z"
   },
   {
    "duration": 8,
    "start_time": "2022-02-23T09:23:40.907Z"
   },
   {
    "duration": 8,
    "start_time": "2022-02-23T09:23:46.259Z"
   },
   {
    "duration": 49301,
    "start_time": "2022-02-23T09:26:01.621Z"
   },
   {
    "duration": 327,
    "start_time": "2022-02-23T09:28:12.295Z"
   },
   {
    "duration": 427,
    "start_time": "2022-02-23T09:28:21.220Z"
   },
   {
    "duration": 332,
    "start_time": "2022-02-23T09:30:04.493Z"
   },
   {
    "duration": 18,
    "start_time": "2022-02-23T09:30:23.914Z"
   },
   {
    "duration": 6161,
    "start_time": "2022-02-23T09:30:40.754Z"
   },
   {
    "duration": 20,
    "start_time": "2022-02-23T09:31:04.719Z"
   },
   {
    "duration": 292,
    "start_time": "2022-02-23T09:31:27.383Z"
   },
   {
    "duration": 366,
    "start_time": "2022-02-23T09:32:08.808Z"
   },
   {
    "duration": 313,
    "start_time": "2022-02-23T09:32:45.991Z"
   },
   {
    "duration": 349,
    "start_time": "2022-02-23T10:16:14.801Z"
   },
   {
    "duration": 478,
    "start_time": "2022-02-23T10:16:40.310Z"
   },
   {
    "duration": 306,
    "start_time": "2022-02-23T10:16:50.696Z"
   },
   {
    "duration": 454,
    "start_time": "2022-02-23T10:18:42.338Z"
   },
   {
    "duration": 301,
    "start_time": "2022-02-23T10:19:16.818Z"
   },
   {
    "duration": 310,
    "start_time": "2022-02-23T10:19:50.050Z"
   },
   {
    "duration": 19,
    "start_time": "2022-02-23T10:20:50.307Z"
   },
   {
    "duration": 572,
    "start_time": "2022-02-23T10:31:40.308Z"
   },
   {
    "duration": 110,
    "start_time": "2022-02-23T11:20:11.003Z"
   },
   {
    "duration": 37,
    "start_time": "2022-02-23T11:20:15.353Z"
   },
   {
    "duration": 142,
    "start_time": "2022-02-23T11:20:18.170Z"
   },
   {
    "duration": 30,
    "start_time": "2022-02-23T11:20:29.668Z"
   },
   {
    "duration": 32,
    "start_time": "2022-02-23T11:20:44.907Z"
   },
   {
    "duration": 28,
    "start_time": "2022-02-23T11:20:51.543Z"
   },
   {
    "duration": 32,
    "start_time": "2022-02-23T11:20:55.669Z"
   },
   {
    "duration": 36,
    "start_time": "2022-02-23T11:22:23.325Z"
   },
   {
    "duration": 26,
    "start_time": "2022-02-23T11:39:32.092Z"
   },
   {
    "duration": 272,
    "start_time": "2022-02-23T11:39:40.832Z"
   },
   {
    "duration": 18,
    "start_time": "2022-02-23T11:39:44.295Z"
   },
   {
    "duration": 245,
    "start_time": "2022-02-23T11:39:47.522Z"
   },
   {
    "duration": 19,
    "start_time": "2022-02-23T11:39:49.951Z"
   },
   {
    "duration": 6281,
    "start_time": "2022-02-23T11:40:43.285Z"
   },
   {
    "duration": 249,
    "start_time": "2022-02-23T11:40:55.226Z"
   },
   {
    "duration": 280,
    "start_time": "2022-02-23T11:41:00.639Z"
   },
   {
    "duration": 244,
    "start_time": "2022-02-23T11:41:09.519Z"
   },
   {
    "duration": 263,
    "start_time": "2022-02-23T11:41:11.993Z"
   },
   {
    "duration": 242,
    "start_time": "2022-02-23T11:41:18.042Z"
   },
   {
    "duration": 53,
    "start_time": "2022-02-23T11:41:28.053Z"
   },
   {
    "duration": 23,
    "start_time": "2022-02-23T11:41:44.391Z"
   },
   {
    "duration": 272,
    "start_time": "2022-02-23T11:42:09.644Z"
   },
   {
    "duration": 237,
    "start_time": "2022-02-23T11:42:13.261Z"
   },
   {
    "duration": 21,
    "start_time": "2022-02-23T11:45:25.058Z"
   },
   {
    "duration": 18,
    "start_time": "2022-02-23T11:45:33.568Z"
   },
   {
    "duration": 22,
    "start_time": "2022-02-23T11:45:37.249Z"
   },
   {
    "duration": 69,
    "start_time": "2022-02-23T11:45:52.551Z"
   },
   {
    "duration": 19,
    "start_time": "2022-02-23T11:47:38.537Z"
   },
   {
    "duration": 83,
    "start_time": "2022-02-23T12:04:09.885Z"
   },
   {
    "duration": 304,
    "start_time": "2022-02-23T13:13:22.734Z"
   },
   {
    "duration": 325,
    "start_time": "2022-02-23T13:14:14.283Z"
   },
   {
    "duration": 430,
    "start_time": "2022-02-23T13:17:39.647Z"
   },
   {
    "duration": 274,
    "start_time": "2022-02-23T13:18:03.150Z"
   },
   {
    "duration": 303,
    "start_time": "2022-02-23T13:18:14.268Z"
   },
   {
    "duration": 324,
    "start_time": "2022-02-23T13:25:33.594Z"
   },
   {
    "duration": 310,
    "start_time": "2022-02-23T13:26:31.657Z"
   },
   {
    "duration": 291,
    "start_time": "2022-02-23T13:26:44.366Z"
   },
   {
    "duration": 295,
    "start_time": "2022-02-23T13:26:55.845Z"
   },
   {
    "duration": 284,
    "start_time": "2022-02-23T13:28:50.472Z"
   },
   {
    "duration": 304,
    "start_time": "2022-02-23T13:29:47.711Z"
   },
   {
    "duration": 286,
    "start_time": "2022-02-23T13:30:03.503Z"
   },
   {
    "duration": 277,
    "start_time": "2022-02-23T13:30:07.143Z"
   },
   {
    "duration": 276,
    "start_time": "2022-02-23T13:30:10.217Z"
   },
   {
    "duration": 419,
    "start_time": "2022-02-23T13:30:12.474Z"
   },
   {
    "duration": 292,
    "start_time": "2022-02-23T13:30:17.329Z"
   },
   {
    "duration": 289,
    "start_time": "2022-02-23T13:30:21.628Z"
   },
   {
    "duration": 824,
    "start_time": "2022-02-23T13:34:45.979Z"
   },
   {
    "duration": 301,
    "start_time": "2022-02-23T13:35:02.413Z"
   },
   {
    "duration": 319,
    "start_time": "2022-02-23T13:35:10.469Z"
   },
   {
    "duration": 299,
    "start_time": "2022-02-23T13:37:55.810Z"
   },
   {
    "duration": 1067,
    "start_time": "2022-02-23T13:42:56.588Z"
   },
   {
    "duration": 52,
    "start_time": "2022-02-23T13:42:57.658Z"
   },
   {
    "duration": 106,
    "start_time": "2022-02-23T13:42:57.716Z"
   },
   {
    "duration": 4,
    "start_time": "2022-02-23T13:42:57.824Z"
   },
   {
    "duration": 37,
    "start_time": "2022-02-23T13:42:57.830Z"
   },
   {
    "duration": 163,
    "start_time": "2022-02-23T13:42:57.869Z"
   },
   {
    "duration": 14,
    "start_time": "2022-02-23T13:42:58.036Z"
   },
   {
    "duration": 64,
    "start_time": "2022-02-23T13:42:58.053Z"
   },
   {
    "duration": 836,
    "start_time": "2022-02-23T13:42:58.121Z"
   },
   {
    "duration": 39,
    "start_time": "2022-02-23T13:42:58.960Z"
   },
   {
    "duration": 662,
    "start_time": "2022-02-23T13:42:59.002Z"
   },
   {
    "duration": 446,
    "start_time": "2022-02-23T13:42:59.666Z"
   },
   {
    "duration": 339,
    "start_time": "2022-02-23T13:43:00.115Z"
   },
   {
    "duration": 577,
    "start_time": "2022-02-23T13:43:00.456Z"
   },
   {
    "duration": 354,
    "start_time": "2022-02-23T13:43:01.035Z"
   },
   {
    "duration": 12,
    "start_time": "2022-02-23T13:43:01.394Z"
   },
   {
    "duration": 348,
    "start_time": "2022-02-23T13:43:01.409Z"
   },
   {
    "duration": 322,
    "start_time": "2022-02-23T13:43:01.759Z"
   },
   {
    "duration": 365,
    "start_time": "2022-02-23T13:43:02.084Z"
   },
   {
    "duration": 326,
    "start_time": "2022-02-23T13:43:02.452Z"
   },
   {
    "duration": 19,
    "start_time": "2022-02-23T13:43:02.780Z"
   },
   {
    "duration": 26,
    "start_time": "2022-02-23T13:43:02.804Z"
   },
   {
    "duration": 309,
    "start_time": "2022-02-23T13:43:02.832Z"
   },
   {
    "duration": 401,
    "start_time": "2022-02-23T13:43:03.143Z"
   },
   {
    "duration": 340,
    "start_time": "2022-02-23T13:43:03.547Z"
   },
   {
    "duration": 36,
    "start_time": "2022-02-23T13:43:03.894Z"
   },
   {
    "duration": 15,
    "start_time": "2022-02-23T13:43:03.933Z"
   },
   {
    "duration": 47,
    "start_time": "2022-02-23T13:43:03.950Z"
   },
   {
    "duration": 64,
    "start_time": "2022-02-23T13:43:03.999Z"
   },
   {
    "duration": 30,
    "start_time": "2022-02-23T13:43:04.065Z"
   },
   {
    "duration": 464,
    "start_time": "2022-02-23T13:43:04.098Z"
   },
   {
    "duration": 9,
    "start_time": "2022-02-23T13:43:04.565Z"
   },
   {
    "duration": 319,
    "start_time": "2022-02-23T13:43:04.577Z"
   },
   {
    "duration": 312,
    "start_time": "2022-02-23T13:43:04.898Z"
   },
   {
    "duration": 330,
    "start_time": "2022-02-23T13:43:05.213Z"
   },
   {
    "duration": 327,
    "start_time": "2022-02-23T13:43:05.545Z"
   },
   {
    "duration": 311,
    "start_time": "2022-02-23T13:43:05.876Z"
   },
   {
    "duration": 326,
    "start_time": "2022-02-23T13:43:06.190Z"
   },
   {
    "duration": 355,
    "start_time": "2022-02-23T13:43:06.518Z"
   },
   {
    "duration": 362,
    "start_time": "2022-02-23T13:43:06.875Z"
   },
   {
    "duration": 16,
    "start_time": "2022-02-23T13:43:07.241Z"
   },
   {
    "duration": 40,
    "start_time": "2022-02-23T13:43:07.260Z"
   },
   {
    "duration": 425,
    "start_time": "2022-02-23T13:43:07.302Z"
   },
   {
    "duration": 372,
    "start_time": "2022-02-23T13:43:07.730Z"
   },
   {
    "duration": 333,
    "start_time": "2022-02-23T13:43:08.105Z"
   },
   {
    "duration": 992,
    "start_time": "2022-02-23T14:17:17.336Z"
   },
   {
    "duration": 41,
    "start_time": "2022-02-23T14:17:18.331Z"
   },
   {
    "duration": 81,
    "start_time": "2022-02-23T14:17:18.395Z"
   },
   {
    "duration": 3,
    "start_time": "2022-02-23T14:17:18.494Z"
   },
   {
    "duration": 25,
    "start_time": "2022-02-23T14:17:18.499Z"
   },
   {
    "duration": 171,
    "start_time": "2022-02-23T14:17:18.526Z"
   },
   {
    "duration": 13,
    "start_time": "2022-02-23T14:17:18.699Z"
   },
   {
    "duration": 51,
    "start_time": "2022-02-23T14:17:18.716Z"
   },
   {
    "duration": 995,
    "start_time": "2022-02-23T14:17:18.770Z"
   },
   {
    "duration": 40,
    "start_time": "2022-02-23T14:17:19.768Z"
   },
   {
    "duration": 708,
    "start_time": "2022-02-23T14:17:19.811Z"
   },
   {
    "duration": 461,
    "start_time": "2022-02-23T14:17:20.522Z"
   },
   {
    "duration": 357,
    "start_time": "2022-02-23T14:17:20.986Z"
   },
   {
    "duration": 596,
    "start_time": "2022-02-23T14:17:21.346Z"
   },
   {
    "duration": 342,
    "start_time": "2022-02-23T14:17:21.945Z"
   },
   {
    "duration": 14,
    "start_time": "2022-02-23T14:17:22.290Z"
   },
   {
    "duration": 364,
    "start_time": "2022-02-23T14:17:22.306Z"
   },
   {
    "duration": 322,
    "start_time": "2022-02-23T14:17:22.672Z"
   },
   {
    "duration": 357,
    "start_time": "2022-02-23T14:17:22.996Z"
   },
   {
    "duration": 329,
    "start_time": "2022-02-23T14:17:23.356Z"
   },
   {
    "duration": 22,
    "start_time": "2022-02-23T14:17:23.688Z"
   },
   {
    "duration": 22,
    "start_time": "2022-02-23T14:17:23.713Z"
   },
   {
    "duration": 345,
    "start_time": "2022-02-23T14:17:23.737Z"
   },
   {
    "duration": 446,
    "start_time": "2022-02-23T14:17:24.085Z"
   },
   {
    "duration": 375,
    "start_time": "2022-02-23T14:17:24.534Z"
   },
   {
    "duration": 39,
    "start_time": "2022-02-23T14:17:24.915Z"
   },
   {
    "duration": 43,
    "start_time": "2022-02-23T14:17:24.957Z"
   },
   {
    "duration": 22,
    "start_time": "2022-02-23T14:17:25.003Z"
   },
   {
    "duration": 98,
    "start_time": "2022-02-23T14:17:25.028Z"
   },
   {
    "duration": 10,
    "start_time": "2022-02-23T14:17:25.128Z"
   },
   {
    "duration": 492,
    "start_time": "2022-02-23T14:17:25.141Z"
   },
   {
    "duration": 11,
    "start_time": "2022-02-23T14:17:25.637Z"
   },
   {
    "duration": 317,
    "start_time": "2022-02-23T14:17:25.651Z"
   },
   {
    "duration": 312,
    "start_time": "2022-02-23T14:17:25.971Z"
   },
   {
    "duration": 326,
    "start_time": "2022-02-23T14:17:26.286Z"
   },
   {
    "duration": 333,
    "start_time": "2022-02-23T14:17:26.615Z"
   },
   {
    "duration": 334,
    "start_time": "2022-02-23T14:17:26.951Z"
   },
   {
    "duration": 332,
    "start_time": "2022-02-23T14:17:27.288Z"
   },
   {
    "duration": 356,
    "start_time": "2022-02-23T14:17:27.622Z"
   },
   {
    "duration": 353,
    "start_time": "2022-02-23T14:17:27.981Z"
   },
   {
    "duration": 14,
    "start_time": "2022-02-23T14:17:28.337Z"
   },
   {
    "duration": 41,
    "start_time": "2022-02-23T14:17:28.354Z"
   },
   {
    "duration": 414,
    "start_time": "2022-02-23T14:17:28.398Z"
   },
   {
    "duration": 382,
    "start_time": "2022-02-23T14:17:28.814Z"
   },
   {
    "duration": 349,
    "start_time": "2022-02-23T14:17:29.199Z"
   },
   {
    "duration": 1148,
    "start_time": "2022-03-06T06:40:08.706Z"
   },
   {
    "duration": 38,
    "start_time": "2022-03-06T06:40:09.857Z"
   },
   {
    "duration": 99,
    "start_time": "2022-03-06T06:40:09.897Z"
   },
   {
    "duration": 3,
    "start_time": "2022-03-06T06:40:09.999Z"
   },
   {
    "duration": 40,
    "start_time": "2022-03-06T06:40:10.005Z"
   },
   {
    "duration": 150,
    "start_time": "2022-03-06T06:40:10.047Z"
   },
   {
    "duration": 10,
    "start_time": "2022-03-06T06:40:10.200Z"
   },
   {
    "duration": 61,
    "start_time": "2022-03-06T06:40:10.213Z"
   },
   {
    "duration": 833,
    "start_time": "2022-03-06T06:40:10.277Z"
   },
   {
    "duration": 34,
    "start_time": "2022-03-06T06:40:11.112Z"
   },
   {
    "duration": 640,
    "start_time": "2022-03-06T06:40:11.148Z"
   },
   {
    "duration": 427,
    "start_time": "2022-03-06T06:40:11.791Z"
   },
   {
    "duration": 324,
    "start_time": "2022-03-06T06:40:12.220Z"
   },
   {
    "duration": 561,
    "start_time": "2022-03-06T06:40:12.546Z"
   },
   {
    "duration": 316,
    "start_time": "2022-03-06T06:40:13.109Z"
   },
   {
    "duration": 13,
    "start_time": "2022-03-06T06:40:13.427Z"
   },
   {
    "duration": 337,
    "start_time": "2022-03-06T06:40:13.442Z"
   },
   {
    "duration": 312,
    "start_time": "2022-03-06T06:40:13.783Z"
   },
   {
    "duration": 353,
    "start_time": "2022-03-06T06:40:14.098Z"
   },
   {
    "duration": 313,
    "start_time": "2022-03-06T06:40:14.453Z"
   },
   {
    "duration": 16,
    "start_time": "2022-03-06T06:40:14.768Z"
   },
   {
    "duration": 19,
    "start_time": "2022-03-06T06:40:14.786Z"
   },
   {
    "duration": 310,
    "start_time": "2022-03-06T06:40:14.835Z"
   },
   {
    "duration": 401,
    "start_time": "2022-03-06T06:40:15.148Z"
   },
   {
    "duration": 339,
    "start_time": "2022-03-06T06:40:15.552Z"
   },
   {
    "duration": 51,
    "start_time": "2022-03-06T06:40:15.893Z"
   },
   {
    "duration": 16,
    "start_time": "2022-03-06T06:40:15.946Z"
   },
   {
    "duration": 15,
    "start_time": "2022-03-06T06:40:15.965Z"
   },
   {
    "duration": 89,
    "start_time": "2022-03-06T06:40:15.982Z"
   },
   {
    "duration": 9,
    "start_time": "2022-03-06T06:40:16.074Z"
   },
   {
    "duration": 450,
    "start_time": "2022-03-06T06:40:16.086Z"
   },
   {
    "duration": 9,
    "start_time": "2022-03-06T06:40:16.539Z"
   },
   {
    "duration": 295,
    "start_time": "2022-03-06T06:40:16.551Z"
   },
   {
    "duration": 292,
    "start_time": "2022-03-06T06:40:16.849Z"
   },
   {
    "duration": 310,
    "start_time": "2022-03-06T06:40:17.144Z"
   },
   {
    "duration": 328,
    "start_time": "2022-03-06T06:40:17.456Z"
   },
   {
    "duration": 309,
    "start_time": "2022-03-06T06:40:17.786Z"
   },
   {
    "duration": 329,
    "start_time": "2022-03-06T06:40:18.097Z"
   },
   {
    "duration": 392,
    "start_time": "2022-03-06T06:40:18.429Z"
   },
   {
    "duration": 347,
    "start_time": "2022-03-06T06:40:18.824Z"
   },
   {
    "duration": 17,
    "start_time": "2022-03-06T06:40:19.174Z"
   },
   {
    "duration": 44,
    "start_time": "2022-03-06T06:40:19.193Z"
   },
   {
    "duration": 395,
    "start_time": "2022-03-06T06:40:19.240Z"
   },
   {
    "duration": 353,
    "start_time": "2022-03-06T06:40:19.637Z"
   },
   {
    "duration": 342,
    "start_time": "2022-03-06T06:40:19.993Z"
   },
   {
    "duration": 14,
    "start_time": "2022-03-06T07:07:38.738Z"
   },
   {
    "duration": 113,
    "start_time": "2022-03-06T07:11:49.187Z"
   },
   {
    "duration": 34,
    "start_time": "2022-03-06T07:11:49.843Z"
   },
   {
    "duration": 15,
    "start_time": "2022-03-06T07:12:10.588Z"
   },
   {
    "duration": 11,
    "start_time": "2022-03-06T07:16:37.828Z"
   },
   {
    "duration": 11,
    "start_time": "2022-03-06T07:16:50.490Z"
   },
   {
    "duration": 129,
    "start_time": "2022-03-06T07:24:27.188Z"
   },
   {
    "duration": 939,
    "start_time": "2022-03-06T10:44:04.303Z"
   },
   {
    "duration": 41,
    "start_time": "2022-03-06T10:44:05.249Z"
   },
   {
    "duration": 107,
    "start_time": "2022-03-06T10:44:05.293Z"
   },
   {
    "duration": 4,
    "start_time": "2022-03-06T10:44:05.404Z"
   },
   {
    "duration": 40,
    "start_time": "2022-03-06T10:44:05.411Z"
   },
   {
    "duration": 152,
    "start_time": "2022-03-06T10:44:05.454Z"
   },
   {
    "duration": 12,
    "start_time": "2022-03-06T10:44:05.610Z"
   },
   {
    "duration": 60,
    "start_time": "2022-03-06T10:44:05.625Z"
   },
   {
    "duration": 1068,
    "start_time": "2022-03-06T10:44:05.687Z"
   },
   {
    "duration": 35,
    "start_time": "2022-03-06T10:44:06.758Z"
   },
   {
    "duration": 849,
    "start_time": "2022-03-06T10:44:06.795Z"
   },
   {
    "duration": 407,
    "start_time": "2022-03-06T10:44:07.647Z"
   },
   {
    "duration": 431,
    "start_time": "2022-03-06T10:44:08.056Z"
   },
   {
    "duration": 561,
    "start_time": "2022-03-06T10:44:08.490Z"
   },
   {
    "duration": 335,
    "start_time": "2022-03-06T10:44:09.053Z"
   },
   {
    "duration": 12,
    "start_time": "2022-03-06T10:44:09.390Z"
   },
   {
    "duration": 326,
    "start_time": "2022-03-06T10:44:09.405Z"
   },
   {
    "duration": 311,
    "start_time": "2022-03-06T10:44:09.734Z"
   },
   {
    "duration": 339,
    "start_time": "2022-03-06T10:44:10.047Z"
   },
   {
    "duration": 302,
    "start_time": "2022-03-06T10:44:10.388Z"
   },
   {
    "duration": 15,
    "start_time": "2022-03-06T10:44:10.693Z"
   },
   {
    "duration": 36,
    "start_time": "2022-03-06T10:44:10.715Z"
   },
   {
    "duration": 18,
    "start_time": "2022-03-06T10:44:10.754Z"
   },
   {
    "duration": 20,
    "start_time": "2022-03-06T10:44:10.775Z"
   },
   {
    "duration": 437,
    "start_time": "2022-03-06T10:44:10.798Z"
   },
   {
    "duration": 622,
    "start_time": "2022-03-06T10:44:11.238Z"
   },
   {
    "duration": 346,
    "start_time": "2022-03-06T10:44:11.863Z"
   },
   {
    "duration": 53,
    "start_time": "2022-03-06T10:44:12.212Z"
   },
   {
    "duration": 18,
    "start_time": "2022-03-06T10:44:12.267Z"
   },
   {
    "duration": 17,
    "start_time": "2022-03-06T10:44:12.287Z"
   },
   {
    "duration": 103,
    "start_time": "2022-03-06T10:44:12.307Z"
   },
   {
    "duration": 9,
    "start_time": "2022-03-06T10:44:12.412Z"
   },
   {
    "duration": 451,
    "start_time": "2022-03-06T10:44:12.425Z"
   },
   {
    "duration": 10,
    "start_time": "2022-03-06T10:44:12.878Z"
   },
   {
    "duration": 312,
    "start_time": "2022-03-06T10:44:12.890Z"
   },
   {
    "duration": 292,
    "start_time": "2022-03-06T10:44:13.206Z"
   },
   {
    "duration": 389,
    "start_time": "2022-03-06T10:44:13.500Z"
   },
   {
    "duration": 301,
    "start_time": "2022-03-06T10:44:13.892Z"
   },
   {
    "duration": 297,
    "start_time": "2022-03-06T10:44:14.195Z"
   },
   {
    "duration": 316,
    "start_time": "2022-03-06T10:44:14.495Z"
   },
   {
    "duration": 467,
    "start_time": "2022-03-06T10:44:14.814Z"
   },
   {
    "duration": 456,
    "start_time": "2022-03-06T10:44:15.283Z"
   },
   {
    "duration": 15,
    "start_time": "2022-03-06T10:44:15.750Z"
   },
   {
    "duration": 19,
    "start_time": "2022-03-06T10:44:15.767Z"
   },
   {
    "duration": 503,
    "start_time": "2022-03-06T10:44:15.790Z"
   },
   {
    "duration": 358,
    "start_time": "2022-03-06T10:44:16.296Z"
   },
   {
    "duration": 328,
    "start_time": "2022-03-06T10:44:16.657Z"
   },
   {
    "duration": 135,
    "start_time": "2022-03-06T10:51:01.945Z"
   },
   {
    "duration": 50,
    "start_time": "2022-03-06T10:51:05.779Z"
   },
   {
    "duration": 81,
    "start_time": "2022-03-06T10:51:46.747Z"
   },
   {
    "duration": 14,
    "start_time": "2022-03-06T10:52:07.798Z"
   },
   {
    "duration": 17,
    "start_time": "2022-03-06T10:55:46.745Z"
   },
   {
    "duration": 14,
    "start_time": "2022-03-06T10:55:52.682Z"
   },
   {
    "duration": 5656,
    "start_time": "2022-03-06T11:07:33.825Z"
   },
   {
    "duration": 17,
    "start_time": "2022-03-06T11:07:44.498Z"
   },
   {
    "duration": 5836,
    "start_time": "2022-03-06T11:07:47.344Z"
   },
   {
    "duration": 228,
    "start_time": "2022-03-06T11:08:16.142Z"
   },
   {
    "duration": 11,
    "start_time": "2022-03-06T11:08:25.542Z"
   },
   {
    "duration": 12,
    "start_time": "2022-03-06T11:25:16.004Z"
   },
   {
    "duration": 105,
    "start_time": "2022-03-06T14:25:24.244Z"
   },
   {
    "duration": 76,
    "start_time": "2022-03-06T14:25:47.021Z"
   },
   {
    "duration": 281,
    "start_time": "2022-03-06T14:32:03.947Z"
   },
   {
    "duration": 291,
    "start_time": "2022-03-06T14:51:09.399Z"
   },
   {
    "duration": 417,
    "start_time": "2022-03-06T14:53:06.766Z"
   },
   {
    "duration": 301,
    "start_time": "2022-03-06T14:54:11.508Z"
   },
   {
    "duration": 936,
    "start_time": "2022-03-06T14:55:03.777Z"
   },
   {
    "duration": 46,
    "start_time": "2022-03-06T14:55:04.716Z"
   },
   {
    "duration": 97,
    "start_time": "2022-03-06T14:55:04.765Z"
   },
   {
    "duration": 14,
    "start_time": "2022-03-06T14:55:04.864Z"
   },
   {
    "duration": 3,
    "start_time": "2022-03-06T14:55:04.880Z"
   },
   {
    "duration": 19,
    "start_time": "2022-03-06T14:55:04.885Z"
   },
   {
    "duration": 46,
    "start_time": "2022-03-06T14:55:04.907Z"
   },
   {
    "duration": 12,
    "start_time": "2022-03-06T14:55:04.957Z"
   },
   {
    "duration": 11,
    "start_time": "2022-03-06T14:55:04.972Z"
   },
   {
    "duration": 176,
    "start_time": "2022-03-06T14:55:04.985Z"
   },
   {
    "duration": 9,
    "start_time": "2022-03-06T14:55:05.164Z"
   },
   {
    "duration": 49,
    "start_time": "2022-03-06T14:55:05.176Z"
   },
   {
    "duration": 839,
    "start_time": "2022-03-06T14:55:05.227Z"
   },
   {
    "duration": 26,
    "start_time": "2022-03-06T14:55:06.068Z"
   },
   {
    "duration": 649,
    "start_time": "2022-03-06T14:55:06.096Z"
   },
   {
    "duration": 470,
    "start_time": "2022-03-06T14:55:06.751Z"
   },
   {
    "duration": 334,
    "start_time": "2022-03-06T14:55:07.223Z"
   },
   {
    "duration": 553,
    "start_time": "2022-03-06T14:55:07.560Z"
   },
   {
    "duration": 366,
    "start_time": "2022-03-06T14:55:08.116Z"
   },
   {
    "duration": 12,
    "start_time": "2022-03-06T14:55:08.484Z"
   },
   {
    "duration": 370,
    "start_time": "2022-03-06T14:55:08.498Z"
   },
   {
    "duration": 325,
    "start_time": "2022-03-06T14:55:08.872Z"
   },
   {
    "duration": 324,
    "start_time": "2022-03-06T14:55:09.205Z"
   },
   {
    "duration": 321,
    "start_time": "2022-03-06T14:55:09.534Z"
   },
   {
    "duration": 312,
    "start_time": "2022-03-06T14:55:09.857Z"
   },
   {
    "duration": 361,
    "start_time": "2022-03-06T14:55:10.173Z"
   },
   {
    "duration": 331,
    "start_time": "2022-03-06T14:55:10.537Z"
   },
   {
    "duration": 311,
    "start_time": "2022-03-06T14:55:10.871Z"
   },
   {
    "duration": 14,
    "start_time": "2022-03-06T14:55:11.184Z"
   },
   {
    "duration": 12,
    "start_time": "2022-03-06T14:55:11.200Z"
   },
   {
    "duration": 49,
    "start_time": "2022-03-06T14:55:11.215Z"
   },
   {
    "duration": 20,
    "start_time": "2022-03-06T14:55:11.267Z"
   },
   {
    "duration": 313,
    "start_time": "2022-03-06T14:55:11.290Z"
   },
   {
    "duration": 359,
    "start_time": "2022-03-06T14:55:11.606Z"
   },
   {
    "duration": 364,
    "start_time": "2022-03-06T14:55:11.968Z"
   },
   {
    "duration": 47,
    "start_time": "2022-03-06T14:55:12.334Z"
   },
   {
    "duration": 18,
    "start_time": "2022-03-06T14:55:12.383Z"
   },
   {
    "duration": 55,
    "start_time": "2022-03-06T14:55:12.403Z"
   },
   {
    "duration": 71,
    "start_time": "2022-03-06T14:55:12.460Z"
   },
   {
    "duration": 23,
    "start_time": "2022-03-06T14:55:12.534Z"
   },
   {
    "duration": 452,
    "start_time": "2022-03-06T14:55:12.559Z"
   },
   {
    "duration": 12,
    "start_time": "2022-03-06T14:55:13.013Z"
   },
   {
    "duration": 323,
    "start_time": "2022-03-06T14:55:13.028Z"
   },
   {
    "duration": 297,
    "start_time": "2022-03-06T14:55:13.354Z"
   },
   {
    "duration": 329,
    "start_time": "2022-03-06T14:55:13.654Z"
   },
   {
    "duration": 331,
    "start_time": "2022-03-06T14:55:13.985Z"
   },
   {
    "duration": 417,
    "start_time": "2022-03-06T14:55:14.319Z"
   },
   {
    "duration": 342,
    "start_time": "2022-03-06T14:55:14.739Z"
   },
   {
    "duration": 364,
    "start_time": "2022-03-06T14:55:15.084Z"
   },
   {
    "duration": 353,
    "start_time": "2022-03-06T14:55:15.452Z"
   },
   {
    "duration": 16,
    "start_time": "2022-03-06T14:55:15.807Z"
   },
   {
    "duration": 36,
    "start_time": "2022-03-06T14:55:15.826Z"
   },
   {
    "duration": 326,
    "start_time": "2022-03-06T14:55:15.865Z"
   },
   {
    "duration": 371,
    "start_time": "2022-03-06T14:55:16.194Z"
   },
   {
    "duration": 440,
    "start_time": "2022-03-06T14:55:16.567Z"
   },
   {
    "duration": 995,
    "start_time": "2022-03-06T16:54:54.614Z"
   },
   {
    "duration": 48,
    "start_time": "2022-03-06T16:54:55.612Z"
   },
   {
    "duration": 92,
    "start_time": "2022-03-06T16:54:55.664Z"
   },
   {
    "duration": 19,
    "start_time": "2022-03-06T16:54:55.759Z"
   },
   {
    "duration": 3,
    "start_time": "2022-03-06T16:54:55.781Z"
   },
   {
    "duration": 16,
    "start_time": "2022-03-06T16:54:55.787Z"
   },
   {
    "duration": 59,
    "start_time": "2022-03-06T16:54:55.806Z"
   },
   {
    "duration": 12,
    "start_time": "2022-03-06T16:54:55.869Z"
   },
   {
    "duration": 11,
    "start_time": "2022-03-06T16:54:55.884Z"
   },
   {
    "duration": 172,
    "start_time": "2022-03-06T16:54:55.898Z"
   },
   {
    "duration": 10,
    "start_time": "2022-03-06T16:54:56.072Z"
   },
   {
    "duration": 70,
    "start_time": "2022-03-06T16:54:56.085Z"
   },
   {
    "duration": 829,
    "start_time": "2022-03-06T16:54:56.157Z"
   },
   {
    "duration": 26,
    "start_time": "2022-03-06T16:54:56.988Z"
   },
   {
    "duration": 639,
    "start_time": "2022-03-06T16:54:57.017Z"
   },
   {
    "duration": 430,
    "start_time": "2022-03-06T16:54:57.659Z"
   },
   {
    "duration": 325,
    "start_time": "2022-03-06T16:54:58.091Z"
   },
   {
    "duration": 558,
    "start_time": "2022-03-06T16:54:58.419Z"
   },
   {
    "duration": 349,
    "start_time": "2022-03-06T16:54:58.980Z"
   },
   {
    "duration": 24,
    "start_time": "2022-03-06T16:54:59.331Z"
   },
   {
    "duration": 336,
    "start_time": "2022-03-06T16:54:59.357Z"
   },
   {
    "duration": 323,
    "start_time": "2022-03-06T16:54:59.695Z"
   },
   {
    "duration": 334,
    "start_time": "2022-03-06T16:55:00.026Z"
   },
   {
    "duration": 333,
    "start_time": "2022-03-06T16:55:00.363Z"
   },
   {
    "duration": 296,
    "start_time": "2022-03-06T16:55:00.699Z"
   },
   {
    "duration": 564,
    "start_time": "2022-03-06T16:55:00.999Z"
   },
   {
    "duration": 525,
    "start_time": "2022-03-06T16:55:01.568Z"
   },
   {
    "duration": 526,
    "start_time": "2022-03-06T16:55:02.097Z"
   },
   {
    "duration": 29,
    "start_time": "2022-03-06T16:55:02.627Z"
   },
   {
    "duration": 15,
    "start_time": "2022-03-06T16:55:02.660Z"
   },
   {
    "duration": 24,
    "start_time": "2022-03-06T16:55:02.679Z"
   },
   {
    "duration": 62,
    "start_time": "2022-03-06T16:55:02.706Z"
   },
   {
    "duration": 469,
    "start_time": "2022-03-06T16:55:02.772Z"
   },
   {
    "duration": 551,
    "start_time": "2022-03-06T16:55:03.245Z"
   },
   {
    "duration": 570,
    "start_time": "2022-03-06T16:55:03.800Z"
   },
   {
    "duration": 57,
    "start_time": "2022-03-06T16:55:04.374Z"
   },
   {
    "duration": 38,
    "start_time": "2022-03-06T16:55:04.434Z"
   },
   {
    "duration": 25,
    "start_time": "2022-03-06T16:55:04.475Z"
   },
   {
    "duration": 115,
    "start_time": "2022-03-06T16:55:04.504Z"
   },
   {
    "duration": 13,
    "start_time": "2022-03-06T16:55:04.623Z"
   },
   {
    "duration": 474,
    "start_time": "2022-03-06T16:55:04.639Z"
   },
   {
    "duration": 9,
    "start_time": "2022-03-06T16:55:05.116Z"
   },
   {
    "duration": 413,
    "start_time": "2022-03-06T16:55:05.128Z"
   },
   {
    "duration": 438,
    "start_time": "2022-03-06T16:55:05.544Z"
   },
   {
    "duration": 320,
    "start_time": "2022-03-06T16:55:05.985Z"
   },
   {
    "duration": 332,
    "start_time": "2022-03-06T16:55:06.307Z"
   },
   {
    "duration": 418,
    "start_time": "2022-03-06T16:55:06.641Z"
   },
   {
    "duration": 339,
    "start_time": "2022-03-06T16:55:07.062Z"
   },
   {
    "duration": 363,
    "start_time": "2022-03-06T16:55:07.404Z"
   },
   {
    "duration": 373,
    "start_time": "2022-03-06T16:55:07.770Z"
   },
   {
    "duration": 15,
    "start_time": "2022-03-06T16:55:08.151Z"
   },
   {
    "duration": 16,
    "start_time": "2022-03-06T16:55:08.168Z"
   },
   {
    "duration": 326,
    "start_time": "2022-03-06T16:55:08.187Z"
   },
   {
    "duration": 553,
    "start_time": "2022-03-06T16:55:08.516Z"
   },
   {
    "duration": 346,
    "start_time": "2022-03-06T16:55:09.072Z"
   },
   {
    "duration": 223,
    "start_time": "2022-03-07T07:59:04.134Z"
   },
   {
    "duration": 163,
    "start_time": "2022-03-07T07:59:10.514Z"
   },
   {
    "duration": 752,
    "start_time": "2022-03-07T07:59:15.077Z"
   },
   {
    "duration": 32,
    "start_time": "2022-03-07T07:59:15.831Z"
   },
   {
    "duration": 56,
    "start_time": "2022-03-07T07:59:15.865Z"
   },
   {
    "duration": 11,
    "start_time": "2022-03-07T07:59:15.923Z"
   },
   {
    "duration": 24,
    "start_time": "2022-03-07T07:59:15.935Z"
   },
   {
    "duration": 10,
    "start_time": "2022-03-07T07:59:15.961Z"
   },
   {
    "duration": 10,
    "start_time": "2022-03-07T07:59:15.972Z"
   },
   {
    "duration": 8,
    "start_time": "2022-03-07T07:59:15.983Z"
   },
   {
    "duration": 8,
    "start_time": "2022-03-07T07:59:15.993Z"
   },
   {
    "duration": 153,
    "start_time": "2022-03-07T07:59:16.003Z"
   },
   {
    "duration": 252,
    "start_time": "2022-03-07T07:59:16.157Z"
   },
   {
    "duration": -1646,
    "start_time": "2022-03-07T07:59:18.058Z"
   },
   {
    "duration": -1649,
    "start_time": "2022-03-07T07:59:18.062Z"
   },
   {
    "duration": -1655,
    "start_time": "2022-03-07T07:59:18.069Z"
   },
   {
    "duration": -1659,
    "start_time": "2022-03-07T07:59:18.074Z"
   },
   {
    "duration": -1660,
    "start_time": "2022-03-07T07:59:18.076Z"
   },
   {
    "duration": -1663,
    "start_time": "2022-03-07T07:59:18.080Z"
   },
   {
    "duration": -1665,
    "start_time": "2022-03-07T07:59:18.082Z"
   },
   {
    "duration": -1668,
    "start_time": "2022-03-07T07:59:18.086Z"
   },
   {
    "duration": -1669,
    "start_time": "2022-03-07T07:59:18.088Z"
   },
   {
    "duration": -1670,
    "start_time": "2022-03-07T07:59:18.091Z"
   },
   {
    "duration": -1672,
    "start_time": "2022-03-07T07:59:18.093Z"
   },
   {
    "duration": -1674,
    "start_time": "2022-03-07T07:59:18.096Z"
   },
   {
    "duration": -1682,
    "start_time": "2022-03-07T07:59:18.105Z"
   },
   {
    "duration": -1684,
    "start_time": "2022-03-07T07:59:18.108Z"
   },
   {
    "duration": -1685,
    "start_time": "2022-03-07T07:59:18.110Z"
   },
   {
    "duration": -1687,
    "start_time": "2022-03-07T07:59:18.113Z"
   },
   {
    "duration": -1689,
    "start_time": "2022-03-07T07:59:18.116Z"
   },
   {
    "duration": -1691,
    "start_time": "2022-03-07T07:59:18.118Z"
   },
   {
    "duration": -1698,
    "start_time": "2022-03-07T07:59:18.126Z"
   },
   {
    "duration": -1700,
    "start_time": "2022-03-07T07:59:18.129Z"
   },
   {
    "duration": -1701,
    "start_time": "2022-03-07T07:59:18.131Z"
   },
   {
    "duration": -1703,
    "start_time": "2022-03-07T07:59:18.134Z"
   },
   {
    "duration": -1704,
    "start_time": "2022-03-07T07:59:18.136Z"
   },
   {
    "duration": -1707,
    "start_time": "2022-03-07T07:59:18.139Z"
   },
   {
    "duration": -1708,
    "start_time": "2022-03-07T07:59:18.141Z"
   },
   {
    "duration": -1710,
    "start_time": "2022-03-07T07:59:18.144Z"
   },
   {
    "duration": -1711,
    "start_time": "2022-03-07T07:59:18.146Z"
   },
   {
    "duration": -1713,
    "start_time": "2022-03-07T07:59:18.149Z"
   },
   {
    "duration": -1715,
    "start_time": "2022-03-07T07:59:18.152Z"
   },
   {
    "duration": -1723,
    "start_time": "2022-03-07T07:59:18.161Z"
   },
   {
    "duration": -1726,
    "start_time": "2022-03-07T07:59:18.164Z"
   },
   {
    "duration": -1728,
    "start_time": "2022-03-07T07:59:18.167Z"
   },
   {
    "duration": -1730,
    "start_time": "2022-03-07T07:59:18.170Z"
   },
   {
    "duration": -1732,
    "start_time": "2022-03-07T07:59:18.173Z"
   },
   {
    "duration": -1733,
    "start_time": "2022-03-07T07:59:18.175Z"
   },
   {
    "duration": -1735,
    "start_time": "2022-03-07T07:59:18.178Z"
   },
   {
    "duration": -1736,
    "start_time": "2022-03-07T07:59:18.180Z"
   },
   {
    "duration": -1739,
    "start_time": "2022-03-07T07:59:18.183Z"
   },
   {
    "duration": -1740,
    "start_time": "2022-03-07T07:59:18.185Z"
   },
   {
    "duration": -1741,
    "start_time": "2022-03-07T07:59:18.187Z"
   },
   {
    "duration": -1742,
    "start_time": "2022-03-07T07:59:18.189Z"
   },
   {
    "duration": -1744,
    "start_time": "2022-03-07T07:59:18.192Z"
   },
   {
    "duration": -1745,
    "start_time": "2022-03-07T07:59:18.194Z"
   },
   {
    "duration": -1746,
    "start_time": "2022-03-07T07:59:18.196Z"
   },
   {
    "duration": -1747,
    "start_time": "2022-03-07T07:59:18.198Z"
   },
   {
    "duration": 8,
    "start_time": "2022-03-07T07:59:34.691Z"
   },
   {
    "duration": 691,
    "start_time": "2022-03-07T07:59:48.319Z"
   },
   {
    "duration": 30,
    "start_time": "2022-03-07T07:59:49.012Z"
   },
   {
    "duration": 61,
    "start_time": "2022-03-07T07:59:49.043Z"
   },
   {
    "duration": 10,
    "start_time": "2022-03-07T07:59:49.105Z"
   },
   {
    "duration": 7,
    "start_time": "2022-03-07T07:59:49.116Z"
   },
   {
    "duration": 13,
    "start_time": "2022-03-07T07:59:49.124Z"
   },
   {
    "duration": 27,
    "start_time": "2022-03-07T07:59:49.139Z"
   },
   {
    "duration": 9,
    "start_time": "2022-03-07T07:59:49.168Z"
   },
   {
    "duration": 9,
    "start_time": "2022-03-07T07:59:49.179Z"
   },
   {
    "duration": 118,
    "start_time": "2022-03-07T07:59:49.189Z"
   },
   {
    "duration": 6,
    "start_time": "2022-03-07T07:59:49.309Z"
   },
   {
    "duration": 45,
    "start_time": "2022-03-07T07:59:49.317Z"
   },
   {
    "duration": 515,
    "start_time": "2022-03-07T07:59:49.363Z"
   },
   {
    "duration": 18,
    "start_time": "2022-03-07T07:59:49.879Z"
   },
   {
    "duration": 431,
    "start_time": "2022-03-07T07:59:49.898Z"
   },
   {
    "duration": 282,
    "start_time": "2022-03-07T07:59:50.330Z"
   },
   {
    "duration": 382,
    "start_time": "2022-03-07T07:59:50.614Z"
   },
   {
    "duration": 473,
    "start_time": "2022-03-07T07:59:50.998Z"
   },
   {
    "duration": 229,
    "start_time": "2022-03-07T07:59:51.473Z"
   },
   {
    "duration": 10,
    "start_time": "2022-03-07T07:59:51.703Z"
   },
   {
    "duration": 235,
    "start_time": "2022-03-07T07:59:51.715Z"
   },
   {
    "duration": 217,
    "start_time": "2022-03-07T07:59:51.952Z"
   },
   {
    "duration": 214,
    "start_time": "2022-03-07T07:59:52.174Z"
   },
   {
    "duration": 237,
    "start_time": "2022-03-07T07:59:52.391Z"
   },
   {
    "duration": 199,
    "start_time": "2022-03-07T07:59:52.630Z"
   },
   {
    "duration": 241,
    "start_time": "2022-03-07T07:59:52.831Z"
   },
   {
    "duration": 221,
    "start_time": "2022-03-07T07:59:53.073Z"
   },
   {
    "duration": 210,
    "start_time": "2022-03-07T07:59:53.295Z"
   },
   {
    "duration": 9,
    "start_time": "2022-03-07T07:59:53.507Z"
   },
   {
    "duration": 19,
    "start_time": "2022-03-07T07:59:53.518Z"
   },
   {
    "duration": 36,
    "start_time": "2022-03-07T07:59:53.538Z"
   },
   {
    "duration": 20,
    "start_time": "2022-03-07T07:59:53.575Z"
   },
   {
    "duration": 210,
    "start_time": "2022-03-07T07:59:53.597Z"
   },
   {
    "duration": 233,
    "start_time": "2022-03-07T07:59:53.809Z"
   },
   {
    "duration": 229,
    "start_time": "2022-03-07T07:59:54.044Z"
   },
   {
    "duration": 25,
    "start_time": "2022-03-07T07:59:54.275Z"
   },
   {
    "duration": 12,
    "start_time": "2022-03-07T07:59:54.302Z"
   },
   {
    "duration": 12,
    "start_time": "2022-03-07T07:59:54.316Z"
   },
   {
    "duration": 46,
    "start_time": "2022-03-07T07:59:54.362Z"
   },
   {
    "duration": 6,
    "start_time": "2022-03-07T07:59:54.410Z"
   },
   {
    "duration": 317,
    "start_time": "2022-03-07T07:59:54.418Z"
   },
   {
    "duration": 6,
    "start_time": "2022-03-07T07:59:54.737Z"
   },
   {
    "duration": 197,
    "start_time": "2022-03-07T07:59:54.745Z"
   },
   {
    "duration": 189,
    "start_time": "2022-03-07T07:59:54.944Z"
   },
   {
    "duration": 209,
    "start_time": "2022-03-07T07:59:55.135Z"
   },
   {
    "duration": 202,
    "start_time": "2022-03-07T07:59:55.345Z"
   },
   {
    "duration": 272,
    "start_time": "2022-03-07T07:59:55.548Z"
   },
   {
    "duration": 207,
    "start_time": "2022-03-07T07:59:55.822Z"
   },
   {
    "duration": 230,
    "start_time": "2022-03-07T07:59:56.031Z"
   },
   {
    "duration": 224,
    "start_time": "2022-03-07T07:59:56.262Z"
   },
   {
    "duration": 9,
    "start_time": "2022-03-07T07:59:56.488Z"
   },
   {
    "duration": 13,
    "start_time": "2022-03-07T07:59:56.498Z"
   },
   {
    "duration": 216,
    "start_time": "2022-03-07T07:59:56.512Z"
   },
   {
    "duration": 242,
    "start_time": "2022-03-07T07:59:56.730Z"
   },
   {
    "duration": 216,
    "start_time": "2022-03-07T07:59:56.973Z"
   },
   {
    "duration": 784,
    "start_time": "2022-03-07T13:15:27.064Z"
   },
   {
    "duration": 29,
    "start_time": "2022-03-07T13:15:31.494Z"
   },
   {
    "duration": 54,
    "start_time": "2022-03-07T13:15:35.293Z"
   },
   {
    "duration": 11,
    "start_time": "2022-03-07T13:15:38.069Z"
   },
   {
    "duration": 11,
    "start_time": "2022-03-07T13:15:42.984Z"
   },
   {
    "duration": 10,
    "start_time": "2022-03-07T13:15:45.264Z"
   },
   {
    "duration": 7,
    "start_time": "2022-03-07T13:16:49.119Z"
   },
   {
    "duration": 776,
    "start_time": "2022-03-07T13:19:57.566Z"
   },
   {
    "duration": 33,
    "start_time": "2022-03-07T13:19:58.345Z"
   },
   {
    "duration": 54,
    "start_time": "2022-03-07T13:19:58.380Z"
   },
   {
    "duration": 10,
    "start_time": "2022-03-07T13:19:58.435Z"
   },
   {
    "duration": 3,
    "start_time": "2022-03-07T13:19:58.447Z"
   },
   {
    "duration": 35,
    "start_time": "2022-03-07T13:19:58.451Z"
   },
   {
    "duration": 9,
    "start_time": "2022-03-07T13:19:58.488Z"
   },
   {
    "duration": 7,
    "start_time": "2022-03-07T13:19:58.500Z"
   },
   {
    "duration": 9,
    "start_time": "2022-03-07T13:19:58.509Z"
   },
   {
    "duration": 125,
    "start_time": "2022-03-07T13:19:58.519Z"
   },
   {
    "duration": 7,
    "start_time": "2022-03-07T13:19:58.645Z"
   },
   {
    "duration": 50,
    "start_time": "2022-03-07T13:19:58.653Z"
   },
   {
    "duration": 528,
    "start_time": "2022-03-07T13:19:58.705Z"
   },
   {
    "duration": 18,
    "start_time": "2022-03-07T13:19:59.234Z"
   },
   {
    "duration": 452,
    "start_time": "2022-03-07T13:19:59.254Z"
   },
   {
    "duration": 297,
    "start_time": "2022-03-07T13:19:59.707Z"
   },
   {
    "duration": 241,
    "start_time": "2022-03-07T13:20:00.006Z"
   },
   {
    "duration": 391,
    "start_time": "2022-03-07T13:20:00.249Z"
   },
   {
    "duration": 269,
    "start_time": "2022-03-07T13:20:00.642Z"
   },
   {
    "duration": 10,
    "start_time": "2022-03-07T13:20:00.914Z"
   },
   {
    "duration": 255,
    "start_time": "2022-03-07T13:20:00.926Z"
   },
   {
    "duration": 240,
    "start_time": "2022-03-07T13:20:01.183Z"
   },
   {
    "duration": 229,
    "start_time": "2022-03-07T13:20:01.425Z"
   },
   {
    "duration": 273,
    "start_time": "2022-03-07T13:20:01.656Z"
   },
   {
    "duration": 232,
    "start_time": "2022-03-07T13:20:01.932Z"
   },
   {
    "duration": 296,
    "start_time": "2022-03-07T13:20:02.168Z"
   },
   {
    "duration": 284,
    "start_time": "2022-03-07T13:20:02.467Z"
   },
   {
    "duration": 257,
    "start_time": "2022-03-07T13:20:02.753Z"
   },
   {
    "duration": 9,
    "start_time": "2022-03-07T13:20:03.012Z"
   },
   {
    "duration": 14,
    "start_time": "2022-03-07T13:20:03.022Z"
   },
   {
    "duration": 17,
    "start_time": "2022-03-07T13:20:03.037Z"
   },
   {
    "duration": 33,
    "start_time": "2022-03-07T13:20:03.056Z"
   },
   {
    "duration": 230,
    "start_time": "2022-03-07T13:20:03.090Z"
   },
   {
    "duration": 263,
    "start_time": "2022-03-07T13:20:03.322Z"
   },
   {
    "duration": 257,
    "start_time": "2022-03-07T13:20:03.586Z"
   },
   {
    "duration": 36,
    "start_time": "2022-03-07T13:20:03.845Z"
   },
   {
    "duration": 12,
    "start_time": "2022-03-07T13:20:03.882Z"
   },
   {
    "duration": 20,
    "start_time": "2022-03-07T13:20:03.896Z"
   },
   {
    "duration": 67,
    "start_time": "2022-03-07T13:20:03.918Z"
   },
   {
    "duration": 7,
    "start_time": "2022-03-07T13:20:03.987Z"
   },
   {
    "duration": 331,
    "start_time": "2022-03-07T13:20:03.995Z"
   },
   {
    "duration": 6,
    "start_time": "2022-03-07T13:20:04.328Z"
   },
   {
    "duration": 213,
    "start_time": "2022-03-07T13:20:04.336Z"
   },
   {
    "duration": 216,
    "start_time": "2022-03-07T13:20:04.551Z"
   },
   {
    "duration": 234,
    "start_time": "2022-03-07T13:20:04.769Z"
   },
   {
    "duration": 228,
    "start_time": "2022-03-07T13:20:05.005Z"
   },
   {
    "duration": 296,
    "start_time": "2022-03-07T13:20:05.235Z"
   },
   {
    "duration": 256,
    "start_time": "2022-03-07T13:20:05.533Z"
   },
   {
    "duration": 253,
    "start_time": "2022-03-07T13:20:05.791Z"
   },
   {
    "duration": 246,
    "start_time": "2022-03-07T13:20:06.046Z"
   },
   {
    "duration": 10,
    "start_time": "2022-03-07T13:20:06.294Z"
   },
   {
    "duration": 15,
    "start_time": "2022-03-07T13:20:06.306Z"
   },
   {
    "duration": 236,
    "start_time": "2022-03-07T13:20:06.323Z"
   },
   {
    "duration": 267,
    "start_time": "2022-03-07T13:20:06.560Z"
   },
   {
    "duration": 235,
    "start_time": "2022-03-07T13:20:06.829Z"
   },
   {
    "duration": 999,
    "start_time": "2022-03-08T07:28:55.273Z"
   },
   {
    "duration": 39,
    "start_time": "2022-03-08T07:28:56.274Z"
   },
   {
    "duration": 104,
    "start_time": "2022-03-08T07:28:56.318Z"
   },
   {
    "duration": 15,
    "start_time": "2022-03-08T07:28:56.425Z"
   },
   {
    "duration": 3,
    "start_time": "2022-03-08T07:28:56.442Z"
   },
   {
    "duration": 32,
    "start_time": "2022-03-08T07:28:56.447Z"
   },
   {
    "duration": 12,
    "start_time": "2022-03-08T07:28:56.487Z"
   },
   {
    "duration": 12,
    "start_time": "2022-03-08T07:28:56.502Z"
   },
   {
    "duration": 13,
    "start_time": "2022-03-08T07:28:56.517Z"
   },
   {
    "duration": 191,
    "start_time": "2022-03-08T07:28:56.532Z"
   },
   {
    "duration": 10,
    "start_time": "2022-03-08T07:28:56.726Z"
   },
   {
    "duration": 72,
    "start_time": "2022-03-08T07:28:56.739Z"
   },
   {
    "duration": 803,
    "start_time": "2022-03-08T07:28:56.813Z"
   },
   {
    "duration": 25,
    "start_time": "2022-03-08T07:28:57.618Z"
   },
   {
    "duration": 651,
    "start_time": "2022-03-08T07:28:57.646Z"
   },
   {
    "duration": 430,
    "start_time": "2022-03-08T07:28:58.300Z"
   },
   {
    "duration": 329,
    "start_time": "2022-03-08T07:28:58.733Z"
   },
   {
    "duration": 541,
    "start_time": "2022-03-08T07:28:59.065Z"
   },
   {
    "duration": 342,
    "start_time": "2022-03-08T07:28:59.609Z"
   },
   {
    "duration": 11,
    "start_time": "2022-03-08T07:28:59.953Z"
   },
   {
    "duration": 352,
    "start_time": "2022-03-08T07:28:59.966Z"
   },
   {
    "duration": 320,
    "start_time": "2022-03-08T07:29:00.324Z"
   },
   {
    "duration": 321,
    "start_time": "2022-03-08T07:29:00.647Z"
   },
   {
    "duration": 329,
    "start_time": "2022-03-08T07:29:00.971Z"
   },
   {
    "duration": 403,
    "start_time": "2022-03-08T07:29:01.302Z"
   },
   {
    "duration": 359,
    "start_time": "2022-03-08T07:29:01.707Z"
   },
   {
    "duration": 336,
    "start_time": "2022-03-08T07:29:02.068Z"
   },
   {
    "duration": 334,
    "start_time": "2022-03-08T07:29:02.406Z"
   },
   {
    "duration": 12,
    "start_time": "2022-03-08T07:29:02.742Z"
   },
   {
    "duration": 32,
    "start_time": "2022-03-08T07:29:02.756Z"
   },
   {
    "duration": 15,
    "start_time": "2022-03-08T07:29:02.791Z"
   },
   {
    "duration": 18,
    "start_time": "2022-03-08T07:29:02.809Z"
   },
   {
    "duration": 338,
    "start_time": "2022-03-08T07:29:02.830Z"
   },
   {
    "duration": 351,
    "start_time": "2022-03-08T07:29:03.170Z"
   },
   {
    "duration": 371,
    "start_time": "2022-03-08T07:29:03.523Z"
   },
   {
    "duration": 36,
    "start_time": "2022-03-08T07:29:03.897Z"
   },
   {
    "duration": 15,
    "start_time": "2022-03-08T07:29:03.936Z"
   },
   {
    "duration": 46,
    "start_time": "2022-03-08T07:29:03.954Z"
   },
   {
    "duration": 85,
    "start_time": "2022-03-08T07:29:04.002Z"
   },
   {
    "duration": 9,
    "start_time": "2022-03-08T07:29:04.089Z"
   },
   {
    "duration": 474,
    "start_time": "2022-03-08T07:29:04.101Z"
   },
   {
    "duration": 13,
    "start_time": "2022-03-08T07:29:04.578Z"
   },
   {
    "duration": 304,
    "start_time": "2022-03-08T07:29:04.594Z"
   },
   {
    "duration": 298,
    "start_time": "2022-03-08T07:29:04.900Z"
   },
   {
    "duration": 318,
    "start_time": "2022-03-08T07:29:05.200Z"
   },
   {
    "duration": 326,
    "start_time": "2022-03-08T07:29:05.520Z"
   },
   {
    "duration": 409,
    "start_time": "2022-03-08T07:29:05.849Z"
   },
   {
    "duration": 342,
    "start_time": "2022-03-08T07:29:06.260Z"
   },
   {
    "duration": 460,
    "start_time": "2022-03-08T07:29:06.604Z"
   },
   {
    "duration": 361,
    "start_time": "2022-03-08T07:29:07.067Z"
   },
   {
    "duration": 14,
    "start_time": "2022-03-08T07:29:07.431Z"
   },
   {
    "duration": 18,
    "start_time": "2022-03-08T07:29:07.448Z"
   },
   {
    "duration": 318,
    "start_time": "2022-03-08T07:29:07.488Z"
   },
   {
    "duration": 392,
    "start_time": "2022-03-08T07:29:07.810Z"
   },
   {
    "duration": 353,
    "start_time": "2022-03-08T07:29:08.205Z"
   },
   {
    "duration": 14,
    "start_time": "2022-03-08T07:32:14.092Z"
   }
  ],
  "kernelspec": {
   "display_name": "Python 3.10.2 64-bit",
   "language": "python",
   "name": "python3"
  },
  "language_info": {
   "codemirror_mode": {
    "name": "ipython",
    "version": 3
   },
   "file_extension": ".py",
   "mimetype": "text/x-python",
   "name": "python",
   "nbconvert_exporter": "python",
   "pygments_lexer": "ipython3",
   "version": "3.10.2"
  },
  "toc": {
   "base_numbering": 1,
   "nav_menu": {},
   "number_sections": true,
   "sideBar": true,
   "skip_h1_title": true,
   "title_cell": "Содержание",
   "title_sidebar": "Contents",
   "toc_cell": true,
   "toc_position": {
    "height": "calc(100% - 180px)",
    "left": "10px",
    "top": "150px",
    "width": "260.91px"
   },
   "toc_section_display": true,
   "toc_window_display": true
  },
  "vscode": {
   "interpreter": {
    "hash": "35d56784a9533165a15cd80766066c6e160ff9c87db8908bb17dcd0ff56fd6bf"
   }
  }
 },
 "nbformat": 4,
 "nbformat_minor": 4
}
