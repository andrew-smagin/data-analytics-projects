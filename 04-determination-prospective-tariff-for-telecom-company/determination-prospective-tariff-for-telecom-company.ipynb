{
 "cells": [
  {
   "cell_type": "markdown",
   "metadata": {},
   "source": [
    "## Data review"
   ]
  },
  {
   "cell_type": "code",
   "execution_count": 1,
   "metadata": {},
   "outputs": [],
   "source": [
    "# download libraries\n",
    "import pandas as pd\n",
    "import numpy as np\n",
    "from scipy import stats as st\n",
    "import matplotlib.pyplot as plt"
   ]
  },
  {
   "cell_type": "code",
   "execution_count": 2,
   "metadata": {},
   "outputs": [],
   "source": [
    "# hide warnings\n",
    "import warnings\n",
    "warnings.filterwarnings('ignore')"
   ]
  },
  {
   "cell_type": "code",
   "execution_count": 3,
   "metadata": {},
   "outputs": [],
   "source": [
    "# load data\n",
    "data_calls = pd.read_csv('')\n",
    "data_internet = pd.read_csv('')\n",
    "data_messages = pd.read_csv('')\n",
    "data_tarrifs = pd.read_csv('')\n",
    "data_users = pd.read_csv('')"
   ]
  },
  {
   "cell_type": "markdown",
   "metadata": {},
   "source": [
    "Look at datasets"
   ]
  },
  {
   "cell_type": "code",
   "execution_count": 4,
   "metadata": {},
   "outputs": [
    {
     "name": "stdout",
     "output_type": "stream",
     "text": [
      "<class 'pandas.core.frame.DataFrame'>\n",
      "RangeIndex: 202607 entries, 0 to 202606\n",
      "Data columns (total 4 columns):\n",
      " #   Column     Non-Null Count   Dtype  \n",
      "---  ------     --------------   -----  \n",
      " 0   id         202607 non-null  object \n",
      " 1   call_date  202607 non-null  object \n",
      " 2   duration   202607 non-null  float64\n",
      " 3   user_id    202607 non-null  int64  \n",
      "dtypes: float64(1), int64(1), object(2)\n",
      "memory usage: 6.2+ MB\n"
     ]
    },
    {
     "data": {
      "text/plain": [
       "None"
      ]
     },
     "metadata": {},
     "output_type": "display_data"
    },
    {
     "data": {
      "text/html": [
       "<div>\n",
       "<style scoped>\n",
       "    .dataframe tbody tr th:only-of-type {\n",
       "        vertical-align: middle;\n",
       "    }\n",
       "\n",
       "    .dataframe tbody tr th {\n",
       "        vertical-align: top;\n",
       "    }\n",
       "\n",
       "    .dataframe thead th {\n",
       "        text-align: right;\n",
       "    }\n",
       "</style>\n",
       "<table border=\"1\" class=\"dataframe\">\n",
       "  <thead>\n",
       "    <tr style=\"text-align: right;\">\n",
       "      <th></th>\n",
       "      <th>id</th>\n",
       "      <th>call_date</th>\n",
       "      <th>duration</th>\n",
       "      <th>user_id</th>\n",
       "    </tr>\n",
       "  </thead>\n",
       "  <tbody>\n",
       "    <tr>\n",
       "      <th>0</th>\n",
       "      <td>1000_0</td>\n",
       "      <td>2018-07-25</td>\n",
       "      <td>0.00</td>\n",
       "      <td>1000</td>\n",
       "    </tr>\n",
       "    <tr>\n",
       "      <th>1</th>\n",
       "      <td>1000_1</td>\n",
       "      <td>2018-08-17</td>\n",
       "      <td>0.00</td>\n",
       "      <td>1000</td>\n",
       "    </tr>\n",
       "    <tr>\n",
       "      <th>2</th>\n",
       "      <td>1000_2</td>\n",
       "      <td>2018-06-11</td>\n",
       "      <td>2.85</td>\n",
       "      <td>1000</td>\n",
       "    </tr>\n",
       "    <tr>\n",
       "      <th>3</th>\n",
       "      <td>1000_3</td>\n",
       "      <td>2018-09-21</td>\n",
       "      <td>13.80</td>\n",
       "      <td>1000</td>\n",
       "    </tr>\n",
       "    <tr>\n",
       "      <th>4</th>\n",
       "      <td>1000_4</td>\n",
       "      <td>2018-12-15</td>\n",
       "      <td>5.18</td>\n",
       "      <td>1000</td>\n",
       "    </tr>\n",
       "  </tbody>\n",
       "</table>\n",
       "</div>"
      ],
      "text/plain": [
       "       id   call_date  duration  user_id\n",
       "0  1000_0  2018-07-25      0.00     1000\n",
       "1  1000_1  2018-08-17      0.00     1000\n",
       "2  1000_2  2018-06-11      2.85     1000\n",
       "3  1000_3  2018-09-21     13.80     1000\n",
       "4  1000_4  2018-12-15      5.18     1000"
      ]
     },
     "execution_count": 4,
     "metadata": {},
     "output_type": "execute_result"
    }
   ],
   "source": [
    "# calls data\n",
    "display(data_calls.info())\n",
    "data_calls.head()"
   ]
  },
  {
   "cell_type": "code",
   "execution_count": 5,
   "metadata": {},
   "outputs": [
    {
     "name": "stdout",
     "output_type": "stream",
     "text": [
      "<class 'pandas.core.frame.DataFrame'>\n",
      "RangeIndex: 149396 entries, 0 to 149395\n",
      "Data columns (total 5 columns):\n",
      " #   Column        Non-Null Count   Dtype  \n",
      "---  ------        --------------   -----  \n",
      " 0   Unnamed: 0    149396 non-null  int64  \n",
      " 1   id            149396 non-null  object \n",
      " 2   mb_used       149396 non-null  float64\n",
      " 3   session_date  149396 non-null  object \n",
      " 4   user_id       149396 non-null  int64  \n",
      "dtypes: float64(1), int64(2), object(2)\n",
      "memory usage: 5.7+ MB\n"
     ]
    },
    {
     "data": {
      "text/plain": [
       "None"
      ]
     },
     "metadata": {},
     "output_type": "display_data"
    },
    {
     "data": {
      "text/html": [
       "<div>\n",
       "<style scoped>\n",
       "    .dataframe tbody tr th:only-of-type {\n",
       "        vertical-align: middle;\n",
       "    }\n",
       "\n",
       "    .dataframe tbody tr th {\n",
       "        vertical-align: top;\n",
       "    }\n",
       "\n",
       "    .dataframe thead th {\n",
       "        text-align: right;\n",
       "    }\n",
       "</style>\n",
       "<table border=\"1\" class=\"dataframe\">\n",
       "  <thead>\n",
       "    <tr style=\"text-align: right;\">\n",
       "      <th></th>\n",
       "      <th>Unnamed: 0</th>\n",
       "      <th>id</th>\n",
       "      <th>mb_used</th>\n",
       "      <th>session_date</th>\n",
       "      <th>user_id</th>\n",
       "    </tr>\n",
       "  </thead>\n",
       "  <tbody>\n",
       "    <tr>\n",
       "      <th>0</th>\n",
       "      <td>0</td>\n",
       "      <td>1000_0</td>\n",
       "      <td>112.95</td>\n",
       "      <td>2018-11-25</td>\n",
       "      <td>1000</td>\n",
       "    </tr>\n",
       "    <tr>\n",
       "      <th>1</th>\n",
       "      <td>1</td>\n",
       "      <td>1000_1</td>\n",
       "      <td>1052.81</td>\n",
       "      <td>2018-09-07</td>\n",
       "      <td>1000</td>\n",
       "    </tr>\n",
       "    <tr>\n",
       "      <th>2</th>\n",
       "      <td>2</td>\n",
       "      <td>1000_2</td>\n",
       "      <td>1197.26</td>\n",
       "      <td>2018-06-25</td>\n",
       "      <td>1000</td>\n",
       "    </tr>\n",
       "    <tr>\n",
       "      <th>3</th>\n",
       "      <td>3</td>\n",
       "      <td>1000_3</td>\n",
       "      <td>550.27</td>\n",
       "      <td>2018-08-22</td>\n",
       "      <td>1000</td>\n",
       "    </tr>\n",
       "    <tr>\n",
       "      <th>4</th>\n",
       "      <td>4</td>\n",
       "      <td>1000_4</td>\n",
       "      <td>302.56</td>\n",
       "      <td>2018-09-24</td>\n",
       "      <td>1000</td>\n",
       "    </tr>\n",
       "  </tbody>\n",
       "</table>\n",
       "</div>"
      ],
      "text/plain": [
       "   Unnamed: 0      id  mb_used session_date  user_id\n",
       "0           0  1000_0   112.95   2018-11-25     1000\n",
       "1           1  1000_1  1052.81   2018-09-07     1000\n",
       "2           2  1000_2  1197.26   2018-06-25     1000\n",
       "3           3  1000_3   550.27   2018-08-22     1000\n",
       "4           4  1000_4   302.56   2018-09-24     1000"
      ]
     },
     "execution_count": 5,
     "metadata": {},
     "output_type": "execute_result"
    }
   ],
   "source": [
    "# internet data\n",
    "display(data_internet.info())\n",
    "data_internet.head()"
   ]
  },
  {
   "cell_type": "code",
   "execution_count": 6,
   "metadata": {},
   "outputs": [
    {
     "name": "stdout",
     "output_type": "stream",
     "text": [
      "<class 'pandas.core.frame.DataFrame'>\n",
      "RangeIndex: 123036 entries, 0 to 123035\n",
      "Data columns (total 3 columns):\n",
      " #   Column        Non-Null Count   Dtype \n",
      "---  ------        --------------   ----- \n",
      " 0   id            123036 non-null  object\n",
      " 1   message_date  123036 non-null  object\n",
      " 2   user_id       123036 non-null  int64 \n",
      "dtypes: int64(1), object(2)\n",
      "memory usage: 2.8+ MB\n"
     ]
    },
    {
     "data": {
      "text/plain": [
       "None"
      ]
     },
     "metadata": {},
     "output_type": "display_data"
    },
    {
     "data": {
      "text/html": [
       "<div>\n",
       "<style scoped>\n",
       "    .dataframe tbody tr th:only-of-type {\n",
       "        vertical-align: middle;\n",
       "    }\n",
       "\n",
       "    .dataframe tbody tr th {\n",
       "        vertical-align: top;\n",
       "    }\n",
       "\n",
       "    .dataframe thead th {\n",
       "        text-align: right;\n",
       "    }\n",
       "</style>\n",
       "<table border=\"1\" class=\"dataframe\">\n",
       "  <thead>\n",
       "    <tr style=\"text-align: right;\">\n",
       "      <th></th>\n",
       "      <th>id</th>\n",
       "      <th>message_date</th>\n",
       "      <th>user_id</th>\n",
       "    </tr>\n",
       "  </thead>\n",
       "  <tbody>\n",
       "    <tr>\n",
       "      <th>0</th>\n",
       "      <td>1000_0</td>\n",
       "      <td>2018-06-27</td>\n",
       "      <td>1000</td>\n",
       "    </tr>\n",
       "    <tr>\n",
       "      <th>1</th>\n",
       "      <td>1000_1</td>\n",
       "      <td>2018-10-08</td>\n",
       "      <td>1000</td>\n",
       "    </tr>\n",
       "    <tr>\n",
       "      <th>2</th>\n",
       "      <td>1000_2</td>\n",
       "      <td>2018-08-04</td>\n",
       "      <td>1000</td>\n",
       "    </tr>\n",
       "    <tr>\n",
       "      <th>3</th>\n",
       "      <td>1000_3</td>\n",
       "      <td>2018-06-16</td>\n",
       "      <td>1000</td>\n",
       "    </tr>\n",
       "    <tr>\n",
       "      <th>4</th>\n",
       "      <td>1000_4</td>\n",
       "      <td>2018-12-05</td>\n",
       "      <td>1000</td>\n",
       "    </tr>\n",
       "  </tbody>\n",
       "</table>\n",
       "</div>"
      ],
      "text/plain": [
       "       id message_date  user_id\n",
       "0  1000_0   2018-06-27     1000\n",
       "1  1000_1   2018-10-08     1000\n",
       "2  1000_2   2018-08-04     1000\n",
       "3  1000_3   2018-06-16     1000\n",
       "4  1000_4   2018-12-05     1000"
      ]
     },
     "execution_count": 6,
     "metadata": {},
     "output_type": "execute_result"
    }
   ],
   "source": [
    "# messages data\n",
    "display(data_messages.info())\n",
    "data_messages.head()"
   ]
  },
  {
   "cell_type": "code",
   "execution_count": 7,
   "metadata": {},
   "outputs": [
    {
     "name": "stdout",
     "output_type": "stream",
     "text": [
      "<class 'pandas.core.frame.DataFrame'>\n",
      "RangeIndex: 2 entries, 0 to 1\n",
      "Data columns (total 8 columns):\n",
      " #   Column                 Non-Null Count  Dtype \n",
      "---  ------                 --------------  ----- \n",
      " 0   messages_included      2 non-null      int64 \n",
      " 1   mb_per_month_included  2 non-null      int64 \n",
      " 2   minutes_included       2 non-null      int64 \n",
      " 3   rub_monthly_fee        2 non-null      int64 \n",
      " 4   rub_per_gb             2 non-null      int64 \n",
      " 5   rub_per_message        2 non-null      int64 \n",
      " 6   rub_per_minute         2 non-null      int64 \n",
      " 7   tariff_name            2 non-null      object\n",
      "dtypes: int64(7), object(1)\n",
      "memory usage: 256.0+ bytes\n"
     ]
    },
    {
     "data": {
      "text/plain": [
       "None"
      ]
     },
     "metadata": {},
     "output_type": "display_data"
    },
    {
     "data": {
      "text/html": [
       "<div>\n",
       "<style scoped>\n",
       "    .dataframe tbody tr th:only-of-type {\n",
       "        vertical-align: middle;\n",
       "    }\n",
       "\n",
       "    .dataframe tbody tr th {\n",
       "        vertical-align: top;\n",
       "    }\n",
       "\n",
       "    .dataframe thead th {\n",
       "        text-align: right;\n",
       "    }\n",
       "</style>\n",
       "<table border=\"1\" class=\"dataframe\">\n",
       "  <thead>\n",
       "    <tr style=\"text-align: right;\">\n",
       "      <th></th>\n",
       "      <th>messages_included</th>\n",
       "      <th>mb_per_month_included</th>\n",
       "      <th>minutes_included</th>\n",
       "      <th>rub_monthly_fee</th>\n",
       "      <th>rub_per_gb</th>\n",
       "      <th>rub_per_message</th>\n",
       "      <th>rub_per_minute</th>\n",
       "      <th>tariff_name</th>\n",
       "    </tr>\n",
       "  </thead>\n",
       "  <tbody>\n",
       "    <tr>\n",
       "      <th>0</th>\n",
       "      <td>50</td>\n",
       "      <td>15360</td>\n",
       "      <td>500</td>\n",
       "      <td>550</td>\n",
       "      <td>200</td>\n",
       "      <td>3</td>\n",
       "      <td>3</td>\n",
       "      <td>smart</td>\n",
       "    </tr>\n",
       "    <tr>\n",
       "      <th>1</th>\n",
       "      <td>1000</td>\n",
       "      <td>30720</td>\n",
       "      <td>3000</td>\n",
       "      <td>1950</td>\n",
       "      <td>150</td>\n",
       "      <td>1</td>\n",
       "      <td>1</td>\n",
       "      <td>ultra</td>\n",
       "    </tr>\n",
       "  </tbody>\n",
       "</table>\n",
       "</div>"
      ],
      "text/plain": [
       "   messages_included  mb_per_month_included  minutes_included  \\\n",
       "0                 50                  15360               500   \n",
       "1               1000                  30720              3000   \n",
       "\n",
       "   rub_monthly_fee  rub_per_gb  rub_per_message  rub_per_minute tariff_name  \n",
       "0              550         200                3               3       smart  \n",
       "1             1950         150                1               1       ultra  "
      ]
     },
     "execution_count": 7,
     "metadata": {},
     "output_type": "execute_result"
    }
   ],
   "source": [
    "# tarriffs data\n",
    "display(data_tarrifs.info())\n",
    "data_tarrifs.head()"
   ]
  },
  {
   "cell_type": "code",
   "execution_count": 8,
   "metadata": {},
   "outputs": [
    {
     "name": "stdout",
     "output_type": "stream",
     "text": [
      "<class 'pandas.core.frame.DataFrame'>\n",
      "RangeIndex: 500 entries, 0 to 499\n",
      "Data columns (total 8 columns):\n",
      " #   Column      Non-Null Count  Dtype \n",
      "---  ------      --------------  ----- \n",
      " 0   user_id     500 non-null    int64 \n",
      " 1   age         500 non-null    int64 \n",
      " 2   churn_date  38 non-null     object\n",
      " 3   city        500 non-null    object\n",
      " 4   first_name  500 non-null    object\n",
      " 5   last_name   500 non-null    object\n",
      " 6   reg_date    500 non-null    object\n",
      " 7   tariff      500 non-null    object\n",
      "dtypes: int64(2), object(6)\n",
      "memory usage: 31.4+ KB\n"
     ]
    },
    {
     "data": {
      "text/plain": [
       "None"
      ]
     },
     "metadata": {},
     "output_type": "display_data"
    },
    {
     "data": {
      "text/html": [
       "<div>\n",
       "<style scoped>\n",
       "    .dataframe tbody tr th:only-of-type {\n",
       "        vertical-align: middle;\n",
       "    }\n",
       "\n",
       "    .dataframe tbody tr th {\n",
       "        vertical-align: top;\n",
       "    }\n",
       "\n",
       "    .dataframe thead th {\n",
       "        text-align: right;\n",
       "    }\n",
       "</style>\n",
       "<table border=\"1\" class=\"dataframe\">\n",
       "  <thead>\n",
       "    <tr style=\"text-align: right;\">\n",
       "      <th></th>\n",
       "      <th>user_id</th>\n",
       "      <th>age</th>\n",
       "      <th>churn_date</th>\n",
       "      <th>city</th>\n",
       "      <th>first_name</th>\n",
       "      <th>last_name</th>\n",
       "      <th>reg_date</th>\n",
       "      <th>tariff</th>\n",
       "    </tr>\n",
       "  </thead>\n",
       "  <tbody>\n",
       "    <tr>\n",
       "      <th>0</th>\n",
       "      <td>1000</td>\n",
       "      <td>52</td>\n",
       "      <td>NaN</td>\n",
       "      <td>Краснодар</td>\n",
       "      <td>Рафаил</td>\n",
       "      <td>Верещагин</td>\n",
       "      <td>2018-05-25</td>\n",
       "      <td>ultra</td>\n",
       "    </tr>\n",
       "    <tr>\n",
       "      <th>1</th>\n",
       "      <td>1001</td>\n",
       "      <td>41</td>\n",
       "      <td>NaN</td>\n",
       "      <td>Москва</td>\n",
       "      <td>Иван</td>\n",
       "      <td>Ежов</td>\n",
       "      <td>2018-11-01</td>\n",
       "      <td>smart</td>\n",
       "    </tr>\n",
       "    <tr>\n",
       "      <th>2</th>\n",
       "      <td>1002</td>\n",
       "      <td>59</td>\n",
       "      <td>NaN</td>\n",
       "      <td>Стерлитамак</td>\n",
       "      <td>Евгений</td>\n",
       "      <td>Абрамович</td>\n",
       "      <td>2018-06-17</td>\n",
       "      <td>smart</td>\n",
       "    </tr>\n",
       "    <tr>\n",
       "      <th>3</th>\n",
       "      <td>1003</td>\n",
       "      <td>23</td>\n",
       "      <td>NaN</td>\n",
       "      <td>Москва</td>\n",
       "      <td>Белла</td>\n",
       "      <td>Белякова</td>\n",
       "      <td>2018-08-17</td>\n",
       "      <td>ultra</td>\n",
       "    </tr>\n",
       "    <tr>\n",
       "      <th>4</th>\n",
       "      <td>1004</td>\n",
       "      <td>68</td>\n",
       "      <td>NaN</td>\n",
       "      <td>Новокузнецк</td>\n",
       "      <td>Татьяна</td>\n",
       "      <td>Авдеенко</td>\n",
       "      <td>2018-05-14</td>\n",
       "      <td>ultra</td>\n",
       "    </tr>\n",
       "  </tbody>\n",
       "</table>\n",
       "</div>"
      ],
      "text/plain": [
       "   user_id  age churn_date         city first_name  last_name    reg_date  \\\n",
       "0     1000   52        NaN    Краснодар     Рафаил  Верещагин  2018-05-25   \n",
       "1     1001   41        NaN       Москва       Иван       Ежов  2018-11-01   \n",
       "2     1002   59        NaN  Стерлитамак    Евгений  Абрамович  2018-06-17   \n",
       "3     1003   23        NaN       Москва      Белла   Белякова  2018-08-17   \n",
       "4     1004   68        NaN  Новокузнецк    Татьяна   Авдеенко  2018-05-14   \n",
       "\n",
       "  tariff  \n",
       "0  ultra  \n",
       "1  smart  \n",
       "2  smart  \n",
       "3  ultra  \n",
       "4  ultra  "
      ]
     },
     "execution_count": 8,
     "metadata": {},
     "output_type": "execute_result"
    }
   ],
   "source": [
    "# users data\n",
    "display(data_users.info())\n",
    "data_users.head()"
   ]
  },
  {
   "cell_type": "markdown",
   "metadata": {},
   "source": [
    "## Preparing data"
   ]
  },
  {
   "cell_type": "markdown",
   "metadata": {},
   "source": [
    "### Change data type"
   ]
  },
  {
   "cell_type": "code",
   "execution_count": 9,
   "metadata": {},
   "outputs": [
    {
     "data": {
      "text/plain": [
       "0   2018-07-25\n",
       "1   2018-08-17\n",
       "2   2018-06-11\n",
       "3   2018-09-21\n",
       "4   2018-12-15\n",
       "Name: call_date, dtype: datetime64[ns]"
      ]
     },
     "execution_count": 9,
     "metadata": {},
     "output_type": "execute_result"
    }
   ],
   "source": [
    "# dates to datetime\n",
    "data_calls['call_date'] = pd.to_datetime(data_calls['call_date'], format='%Y-%m-%d')\n",
    "# check\n",
    "data_calls['call_date'].head()"
   ]
  },
  {
   "cell_type": "code",
   "execution_count": 10,
   "metadata": {},
   "outputs": [
    {
     "data": {
      "text/plain": [
       "0   2018-11-25\n",
       "1   2018-09-07\n",
       "2   2018-06-25\n",
       "3   2018-08-22\n",
       "4   2018-09-24\n",
       "Name: session_date, dtype: datetime64[ns]"
      ]
     },
     "execution_count": 10,
     "metadata": {},
     "output_type": "execute_result"
    }
   ],
   "source": [
    "# dates to datetime\n",
    "data_internet['session_date'] = pd.to_datetime(data_internet['session_date'], format='%Y-%m-%d')\n",
    "# check\n",
    "data_internet['session_date'].head()"
   ]
  },
  {
   "cell_type": "code",
   "execution_count": 11,
   "metadata": {},
   "outputs": [
    {
     "data": {
      "text/plain": [
       "0   2018-06-27\n",
       "1   2018-10-08\n",
       "2   2018-08-04\n",
       "3   2018-06-16\n",
       "4   2018-12-05\n",
       "Name: message_date, dtype: datetime64[ns]"
      ]
     },
     "execution_count": 11,
     "metadata": {},
     "output_type": "execute_result"
    }
   ],
   "source": [
    "# dates to datetime\n",
    "data_messages['message_date'] = pd.to_datetime(data_messages['message_date'], format='%Y-%m-%d')\n",
    "# check\n",
    "data_messages['message_date'].head()"
   ]
  },
  {
   "cell_type": "code",
   "execution_count": 12,
   "metadata": {},
   "outputs": [
    {
     "name": "stdout",
     "output_type": "stream",
     "text": [
      "<class 'pandas.core.frame.DataFrame'>\n",
      "RangeIndex: 500 entries, 0 to 499\n",
      "Data columns (total 2 columns):\n",
      " #   Column      Non-Null Count  Dtype         \n",
      "---  ------      --------------  -----         \n",
      " 0   reg_date    500 non-null    datetime64[ns]\n",
      " 1   churn_date  38 non-null     datetime64[ns]\n",
      "dtypes: datetime64[ns](2)\n",
      "memory usage: 7.9 KB\n"
     ]
    }
   ],
   "source": [
    "# dates to datetime\n",
    "data_users['reg_date'] = pd.to_datetime(data_users['reg_date'], format='%Y-%m-%d')\n",
    "data_users['churn_date'] = pd.to_datetime(data_users['churn_date'], format='%Y-%m-%d')\n",
    "# check\n",
    "data_users[['reg_date', 'churn_date']].info()"
   ]
  },
  {
   "cell_type": "markdown",
   "metadata": {},
   "source": [
    "### Calculations\n",
    "#### number calls and spent minutes per month"
   ]
  },
  {
   "cell_type": "code",
   "execution_count": 13,
   "metadata": {},
   "outputs": [
    {
     "data": {
      "text/plain": [
       "0          7\n",
       "1          8\n",
       "2          6\n",
       "3          9\n",
       "4         12\n",
       "          ..\n",
       "202602    12\n",
       "202603    10\n",
       "202604    11\n",
       "202605    10\n",
       "202606    12\n",
       "Name: month, Length: 202607, dtype: int64"
      ]
     },
     "execution_count": 13,
     "metadata": {},
     "output_type": "execute_result"
    }
   ],
   "source": [
    "# create column with month of call\n",
    "data_calls['month'] = data_calls['call_date'].dt.month\n",
    "data_calls['month']"
   ]
  },
  {
   "cell_type": "code",
   "execution_count": 14,
   "metadata": {},
   "outputs": [],
   "source": [
    "# round call's duration\n",
    "data_calls['duration'] = data_calls['duration'].apply(np.ceil).astype(int)"
   ]
  },
  {
   "cell_type": "code",
   "execution_count": 15,
   "metadata": {},
   "outputs": [
    {
     "data": {
      "text/html": [
       "<div>\n",
       "<style scoped>\n",
       "    .dataframe tbody tr th:only-of-type {\n",
       "        vertical-align: middle;\n",
       "    }\n",
       "\n",
       "    .dataframe tbody tr th {\n",
       "        vertical-align: top;\n",
       "    }\n",
       "\n",
       "    .dataframe thead tr th {\n",
       "        text-align: left;\n",
       "    }\n",
       "\n",
       "    .dataframe thead tr:last-of-type th {\n",
       "        text-align: right;\n",
       "    }\n",
       "</style>\n",
       "<table border=\"1\" class=\"dataframe\">\n",
       "  <thead>\n",
       "    <tr>\n",
       "      <th></th>\n",
       "      <th></th>\n",
       "      <th>count</th>\n",
       "      <th>sum</th>\n",
       "    </tr>\n",
       "    <tr>\n",
       "      <th></th>\n",
       "      <th></th>\n",
       "      <th>duration</th>\n",
       "      <th>duration</th>\n",
       "    </tr>\n",
       "    <tr>\n",
       "      <th>user_id</th>\n",
       "      <th>month</th>\n",
       "      <th></th>\n",
       "      <th></th>\n",
       "    </tr>\n",
       "  </thead>\n",
       "  <tbody>\n",
       "    <tr>\n",
       "      <th rowspan=\"5\" valign=\"top\">1000</th>\n",
       "      <th>5</th>\n",
       "      <td>22</td>\n",
       "      <td>159</td>\n",
       "    </tr>\n",
       "    <tr>\n",
       "      <th>6</th>\n",
       "      <td>43</td>\n",
       "      <td>172</td>\n",
       "    </tr>\n",
       "    <tr>\n",
       "      <th>7</th>\n",
       "      <td>47</td>\n",
       "      <td>340</td>\n",
       "    </tr>\n",
       "    <tr>\n",
       "      <th>8</th>\n",
       "      <td>52</td>\n",
       "      <td>408</td>\n",
       "    </tr>\n",
       "    <tr>\n",
       "      <th>9</th>\n",
       "      <td>58</td>\n",
       "      <td>466</td>\n",
       "    </tr>\n",
       "    <tr>\n",
       "      <th>...</th>\n",
       "      <th>...</th>\n",
       "      <td>...</td>\n",
       "      <td>...</td>\n",
       "    </tr>\n",
       "    <tr>\n",
       "      <th>1498</th>\n",
       "      <th>10</th>\n",
       "      <td>41</td>\n",
       "      <td>247</td>\n",
       "    </tr>\n",
       "    <tr>\n",
       "      <th rowspan=\"4\" valign=\"top\">1499</th>\n",
       "      <th>9</th>\n",
       "      <td>9</td>\n",
       "      <td>70</td>\n",
       "    </tr>\n",
       "    <tr>\n",
       "      <th>10</th>\n",
       "      <td>68</td>\n",
       "      <td>449</td>\n",
       "    </tr>\n",
       "    <tr>\n",
       "      <th>11</th>\n",
       "      <td>74</td>\n",
       "      <td>612</td>\n",
       "    </tr>\n",
       "    <tr>\n",
       "      <th>12</th>\n",
       "      <td>69</td>\n",
       "      <td>492</td>\n",
       "    </tr>\n",
       "  </tbody>\n",
       "</table>\n",
       "<p>3174 rows × 2 columns</p>\n",
       "</div>"
      ],
      "text/plain": [
       "                 count      sum\n",
       "              duration duration\n",
       "user_id month                  \n",
       "1000    5           22      159\n",
       "        6           43      172\n",
       "        7           47      340\n",
       "        8           52      408\n",
       "        9           58      466\n",
       "...                ...      ...\n",
       "1498    10          41      247\n",
       "1499    9            9       70\n",
       "        10          68      449\n",
       "        11          74      612\n",
       "        12          69      492\n",
       "\n",
       "[3174 rows x 2 columns]"
      ]
     },
     "execution_count": 15,
     "metadata": {},
     "output_type": "execute_result"
    }
   ],
   "source": [
    "# create pivot table\n",
    "data_calls.pivot_table(index=['user_id', 'month'], values='duration', aggfunc=['count', 'sum'])"
   ]
  },
  {
   "cell_type": "markdown",
   "metadata": {},
   "source": [
    "#### number sent messages per month"
   ]
  },
  {
   "cell_type": "code",
   "execution_count": 16,
   "metadata": {},
   "outputs": [
    {
     "data": {
      "text/plain": [
       "12    20555\n",
       "11    18244\n",
       "10    17114\n",
       "9     14759\n",
       "8     13088\n",
       "7     11320\n",
       "6      8983\n",
       "5      7298\n",
       "4      5179\n",
       "3      3648\n",
       "2      1924\n",
       "1       924\n",
       "Name: month, dtype: int64"
      ]
     },
     "execution_count": 16,
     "metadata": {},
     "output_type": "execute_result"
    }
   ],
   "source": [
    "# create columns with month of message\n",
    "data_messages['month'] = data_messages['message_date'].dt.month\n",
    "data_messages['month'].value_counts()"
   ]
  },
  {
   "cell_type": "code",
   "execution_count": 17,
   "metadata": {},
   "outputs": [
    {
     "data": {
      "text/html": [
       "<div>\n",
       "<style scoped>\n",
       "    .dataframe tbody tr th:only-of-type {\n",
       "        vertical-align: middle;\n",
       "    }\n",
       "\n",
       "    .dataframe tbody tr th {\n",
       "        vertical-align: top;\n",
       "    }\n",
       "\n",
       "    .dataframe thead th {\n",
       "        text-align: right;\n",
       "    }\n",
       "</style>\n",
       "<table border=\"1\" class=\"dataframe\">\n",
       "  <thead>\n",
       "    <tr style=\"text-align: right;\">\n",
       "      <th></th>\n",
       "      <th></th>\n",
       "      <th>id</th>\n",
       "    </tr>\n",
       "    <tr>\n",
       "      <th>user_id</th>\n",
       "      <th>month</th>\n",
       "      <th></th>\n",
       "    </tr>\n",
       "  </thead>\n",
       "  <tbody>\n",
       "    <tr>\n",
       "      <th rowspan=\"5\" valign=\"top\">1000</th>\n",
       "      <th>5</th>\n",
       "      <td>22</td>\n",
       "    </tr>\n",
       "    <tr>\n",
       "      <th>6</th>\n",
       "      <td>60</td>\n",
       "    </tr>\n",
       "    <tr>\n",
       "      <th>7</th>\n",
       "      <td>75</td>\n",
       "    </tr>\n",
       "    <tr>\n",
       "      <th>8</th>\n",
       "      <td>81</td>\n",
       "    </tr>\n",
       "    <tr>\n",
       "      <th>9</th>\n",
       "      <td>57</td>\n",
       "    </tr>\n",
       "    <tr>\n",
       "      <th>...</th>\n",
       "      <th>...</th>\n",
       "      <td>...</td>\n",
       "    </tr>\n",
       "    <tr>\n",
       "      <th>1498</th>\n",
       "      <th>10</th>\n",
       "      <td>42</td>\n",
       "    </tr>\n",
       "    <tr>\n",
       "      <th rowspan=\"4\" valign=\"top\">1499</th>\n",
       "      <th>9</th>\n",
       "      <td>11</td>\n",
       "    </tr>\n",
       "    <tr>\n",
       "      <th>10</th>\n",
       "      <td>48</td>\n",
       "    </tr>\n",
       "    <tr>\n",
       "      <th>11</th>\n",
       "      <td>59</td>\n",
       "    </tr>\n",
       "    <tr>\n",
       "      <th>12</th>\n",
       "      <td>66</td>\n",
       "    </tr>\n",
       "  </tbody>\n",
       "</table>\n",
       "<p>2717 rows × 1 columns</p>\n",
       "</div>"
      ],
      "text/plain": [
       "               id\n",
       "user_id month    \n",
       "1000    5      22\n",
       "        6      60\n",
       "        7      75\n",
       "        8      81\n",
       "        9      57\n",
       "...            ..\n",
       "1498    10     42\n",
       "1499    9      11\n",
       "        10     48\n",
       "        11     59\n",
       "        12     66\n",
       "\n",
       "[2717 rows x 1 columns]"
      ]
     },
     "execution_count": 17,
     "metadata": {},
     "output_type": "execute_result"
    }
   ],
   "source": [
    "# pivot table\n",
    "data_messages.pivot_table(index=['user_id', 'month'], values='id', aggfunc='count')"
   ]
  },
  {
   "cell_type": "markdown",
   "metadata": {},
   "source": [
    "#### amount of spent traffic per month"
   ]
  },
  {
   "cell_type": "code",
   "execution_count": 18,
   "metadata": {},
   "outputs": [],
   "source": [
    "# column with traffic in Gb\n",
    "data_internet['gb_used'] = data_internet['mb_used'] / 1024\n",
    "# column with month of sessions\n",
    "data_internet['month'] = data_internet['session_date'].dt.month"
   ]
  },
  {
   "cell_type": "code",
   "execution_count": 19,
   "metadata": {},
   "outputs": [
    {
     "data": {
      "text/html": [
       "<div>\n",
       "<style scoped>\n",
       "    .dataframe tbody tr th:only-of-type {\n",
       "        vertical-align: middle;\n",
       "    }\n",
       "\n",
       "    .dataframe tbody tr th {\n",
       "        vertical-align: top;\n",
       "    }\n",
       "\n",
       "    .dataframe thead th {\n",
       "        text-align: right;\n",
       "    }\n",
       "</style>\n",
       "<table border=\"1\" class=\"dataframe\">\n",
       "  <thead>\n",
       "    <tr style=\"text-align: right;\">\n",
       "      <th></th>\n",
       "      <th>user_id</th>\n",
       "      <th>month</th>\n",
       "      <th>gb_used</th>\n",
       "    </tr>\n",
       "  </thead>\n",
       "  <tbody>\n",
       "    <tr>\n",
       "      <th>0</th>\n",
       "      <td>1000</td>\n",
       "      <td>5</td>\n",
       "      <td>3</td>\n",
       "    </tr>\n",
       "    <tr>\n",
       "      <th>1</th>\n",
       "      <td>1000</td>\n",
       "      <td>6</td>\n",
       "      <td>23</td>\n",
       "    </tr>\n",
       "    <tr>\n",
       "      <th>2</th>\n",
       "      <td>1000</td>\n",
       "      <td>7</td>\n",
       "      <td>14</td>\n",
       "    </tr>\n",
       "    <tr>\n",
       "      <th>3</th>\n",
       "      <td>1000</td>\n",
       "      <td>8</td>\n",
       "      <td>14</td>\n",
       "    </tr>\n",
       "    <tr>\n",
       "      <th>4</th>\n",
       "      <td>1000</td>\n",
       "      <td>9</td>\n",
       "      <td>15</td>\n",
       "    </tr>\n",
       "    <tr>\n",
       "      <th>...</th>\n",
       "      <td>...</td>\n",
       "      <td>...</td>\n",
       "      <td>...</td>\n",
       "    </tr>\n",
       "    <tr>\n",
       "      <th>3198</th>\n",
       "      <td>1498</td>\n",
       "      <td>10</td>\n",
       "      <td>21</td>\n",
       "    </tr>\n",
       "    <tr>\n",
       "      <th>3199</th>\n",
       "      <td>1499</td>\n",
       "      <td>9</td>\n",
       "      <td>2</td>\n",
       "    </tr>\n",
       "    <tr>\n",
       "      <th>3200</th>\n",
       "      <td>1499</td>\n",
       "      <td>10</td>\n",
       "      <td>18</td>\n",
       "    </tr>\n",
       "    <tr>\n",
       "      <th>3201</th>\n",
       "      <td>1499</td>\n",
       "      <td>11</td>\n",
       "      <td>18</td>\n",
       "    </tr>\n",
       "    <tr>\n",
       "      <th>3202</th>\n",
       "      <td>1499</td>\n",
       "      <td>12</td>\n",
       "      <td>13</td>\n",
       "    </tr>\n",
       "  </tbody>\n",
       "</table>\n",
       "<p>3203 rows × 3 columns</p>\n",
       "</div>"
      ],
      "text/plain": [
       "      user_id  month  gb_used\n",
       "0        1000      5        3\n",
       "1        1000      6       23\n",
       "2        1000      7       14\n",
       "3        1000      8       14\n",
       "4        1000      9       15\n",
       "...       ...    ...      ...\n",
       "3198     1498     10       21\n",
       "3199     1499      9        2\n",
       "3200     1499     10       18\n",
       "3201     1499     11       18\n",
       "3202     1499     12       13\n",
       "\n",
       "[3203 rows x 3 columns]"
      ]
     },
     "execution_count": 19,
     "metadata": {},
     "output_type": "execute_result"
    }
   ],
   "source": [
    "# pivot table\n",
    "data_pivot_internet = data_internet.pivot_table(index=['user_id', 'month'], values='gb_used', aggfunc='sum').reset_index()\n",
    "# round\n",
    "data_pivot_internet['gb_used'] = data_pivot_internet['gb_used'].apply(np.ceil).astype(int)\n",
    "data_pivot_internet"
   ]
  },
  {
   "cell_type": "markdown",
   "metadata": {},
   "source": [
    "#### revenue per month from users"
   ]
  },
  {
   "cell_type": "code",
   "execution_count": 20,
   "metadata": {},
   "outputs": [],
   "source": [
    "# join\n",
    "data_pivot_messages = data_messages.pivot_table(index=['user_id', 'month'], values='id', aggfunc='count').reset_index()\n",
    "data_pivot_calls = data_calls.pivot_table(index=['user_id', 'month'], values='duration', aggfunc=['count', 'sum']).reset_index()\n",
    "data_pivot_total = data_pivot_internet.merge(data_pivot_messages, on=['user_id', 'month'], how='outer').merge(data_pivot_calls,  on=['user_id', 'month'], how='outer').merge(data_users, on='user_id', how='left').merge(data_tarrifs, left_on='tariff', right_on='tariff_name', how='left')"
   ]
  },
  {
   "cell_type": "code",
   "execution_count": 21,
   "metadata": {},
   "outputs": [],
   "source": [
    "# rename column names\n",
    "data_pivot_total.rename({'id': 'count_messages', ('count', 'duration'): 'count_calls', ('sum', 'duration'): 'duration_calls'}, axis='columns', inplace=True)"
   ]
  },
  {
   "cell_type": "code",
   "execution_count": 22,
   "metadata": {},
   "outputs": [],
   "source": [
    "# fill NA values\n",
    "data_pivot_total['count_messages'] = data_pivot_total['count_messages'].fillna(0)\n",
    "data_pivot_total['count_calls'] = data_pivot_total['count_calls'].fillna(0)\n",
    "data_pivot_total['duration_calls'] = data_pivot_total['duration_calls'].fillna(0)\n",
    "data_pivot_total['gb_used'] = data_pivot_total['gb_used'].fillna(0)"
   ]
  },
  {
   "cell_type": "code",
   "execution_count": 23,
   "metadata": {},
   "outputs": [],
   "source": [
    "# add column with tarrif by Gb\n",
    "data_pivot_total['gb_per_month_included'] = data_pivot_total['mb_per_month_included'] / 1024\n",
    "# round\n",
    "data_pivot_total['gb_per_month_included'] = data_pivot_total['gb_per_month_included'].apply(np.ceil).astype(int)"
   ]
  },
  {
   "cell_type": "code",
   "execution_count": 24,
   "metadata": {},
   "outputs": [],
   "source": [
    "# create function that counting Gb, minutes and messages over plan\n",
    "def gb_over_plan(row):\n",
    "    \"\"\"\n",
    "    Возвращает кол-во Гб сверх подключенного плана\n",
    "    \"\"\"\n",
    "    if row['gb_used'] <= row['gb_per_month_included']:\n",
    "        return 0\n",
    "    else:\n",
    "        return row['gb_used'] - row['gb_per_month_included']\n",
    "        \n",
    "\n",
    "def minutes_over_plan(row):\n",
    "    \"\"\"\n",
    "    Возвращает кол-во минут сверх подключенного плана\n",
    "    \"\"\"\n",
    "    if row['duration_calls'] <= row['minutes_included']:\n",
    "        return 0\n",
    "    else:\n",
    "        return row['duration_calls'] - row['minutes_included']\n",
    "        \n",
    "def messages_over_plan(row):\n",
    "    \"\"\"\n",
    "    Возвращает кол-во сообщений сверх подключенного плана\n",
    "    \"\"\"\n",
    "    if row['count_messages'] <= row['messages_included']:\n",
    "        return 0\n",
    "    else:\n",
    "        return row['count_messages'] - row['messages_included']\n",
    "        \n",
    "# apply functions\n",
    "data_pivot_total['gb_over_plan'] = data_pivot_total.apply(gb_over_plan, axis=1)\n",
    "data_pivot_total['minutes_over_plan'] = data_pivot_total.apply(minutes_over_plan, axis=1)\n",
    "data_pivot_total['messages_over_plan'] = data_pivot_total.apply(messages_over_plan, axis=1)"
   ]
  },
  {
   "cell_type": "code",
   "execution_count": 25,
   "metadata": {},
   "outputs": [
    {
     "data": {
      "text/html": [
       "<div>\n",
       "<style scoped>\n",
       "    .dataframe tbody tr th:only-of-type {\n",
       "        vertical-align: middle;\n",
       "    }\n",
       "\n",
       "    .dataframe tbody tr th {\n",
       "        vertical-align: top;\n",
       "    }\n",
       "\n",
       "    .dataframe thead th {\n",
       "        text-align: right;\n",
       "    }\n",
       "</style>\n",
       "<table border=\"1\" class=\"dataframe\">\n",
       "  <thead>\n",
       "    <tr style=\"text-align: right;\">\n",
       "      <th></th>\n",
       "      <th>rub_monthly_fee</th>\n",
       "      <th>gb_used</th>\n",
       "      <th>gb_per_month_included</th>\n",
       "      <th>count_messages</th>\n",
       "      <th>messages_included</th>\n",
       "      <th>duration_calls</th>\n",
       "      <th>minutes_included</th>\n",
       "      <th>total_revenue</th>\n",
       "    </tr>\n",
       "  </thead>\n",
       "  <tbody>\n",
       "    <tr>\n",
       "      <th>0</th>\n",
       "      <td>1950</td>\n",
       "      <td>3.0</td>\n",
       "      <td>30</td>\n",
       "      <td>22.0</td>\n",
       "      <td>1000</td>\n",
       "      <td>159.0</td>\n",
       "      <td>3000</td>\n",
       "      <td>1950.0</td>\n",
       "    </tr>\n",
       "    <tr>\n",
       "      <th>1</th>\n",
       "      <td>1950</td>\n",
       "      <td>23.0</td>\n",
       "      <td>30</td>\n",
       "      <td>60.0</td>\n",
       "      <td>1000</td>\n",
       "      <td>172.0</td>\n",
       "      <td>3000</td>\n",
       "      <td>1950.0</td>\n",
       "    </tr>\n",
       "    <tr>\n",
       "      <th>2</th>\n",
       "      <td>1950</td>\n",
       "      <td>14.0</td>\n",
       "      <td>30</td>\n",
       "      <td>75.0</td>\n",
       "      <td>1000</td>\n",
       "      <td>340.0</td>\n",
       "      <td>3000</td>\n",
       "      <td>1950.0</td>\n",
       "    </tr>\n",
       "    <tr>\n",
       "      <th>3</th>\n",
       "      <td>1950</td>\n",
       "      <td>14.0</td>\n",
       "      <td>30</td>\n",
       "      <td>81.0</td>\n",
       "      <td>1000</td>\n",
       "      <td>408.0</td>\n",
       "      <td>3000</td>\n",
       "      <td>1950.0</td>\n",
       "    </tr>\n",
       "    <tr>\n",
       "      <th>4</th>\n",
       "      <td>1950</td>\n",
       "      <td>15.0</td>\n",
       "      <td>30</td>\n",
       "      <td>57.0</td>\n",
       "      <td>1000</td>\n",
       "      <td>466.0</td>\n",
       "      <td>3000</td>\n",
       "      <td>1950.0</td>\n",
       "    </tr>\n",
       "    <tr>\n",
       "      <th>...</th>\n",
       "      <td>...</td>\n",
       "      <td>...</td>\n",
       "      <td>...</td>\n",
       "      <td>...</td>\n",
       "      <td>...</td>\n",
       "      <td>...</td>\n",
       "      <td>...</td>\n",
       "      <td>...</td>\n",
       "    </tr>\n",
       "    <tr>\n",
       "      <th>3209</th>\n",
       "      <td>1950</td>\n",
       "      <td>0.0</td>\n",
       "      <td>30</td>\n",
       "      <td>29.0</td>\n",
       "      <td>1000</td>\n",
       "      <td>272.0</td>\n",
       "      <td>3000</td>\n",
       "      <td>1950.0</td>\n",
       "    </tr>\n",
       "    <tr>\n",
       "      <th>3210</th>\n",
       "      <td>1950</td>\n",
       "      <td>0.0</td>\n",
       "      <td>30</td>\n",
       "      <td>39.0</td>\n",
       "      <td>1000</td>\n",
       "      <td>260.0</td>\n",
       "      <td>3000</td>\n",
       "      <td>1950.0</td>\n",
       "    </tr>\n",
       "    <tr>\n",
       "      <th>3211</th>\n",
       "      <td>1950</td>\n",
       "      <td>0.0</td>\n",
       "      <td>30</td>\n",
       "      <td>2.0</td>\n",
       "      <td>1000</td>\n",
       "      <td>179.0</td>\n",
       "      <td>3000</td>\n",
       "      <td>1950.0</td>\n",
       "    </tr>\n",
       "    <tr>\n",
       "      <th>3212</th>\n",
       "      <td>1950</td>\n",
       "      <td>0.0</td>\n",
       "      <td>30</td>\n",
       "      <td>3.0</td>\n",
       "      <td>1000</td>\n",
       "      <td>13.0</td>\n",
       "      <td>3000</td>\n",
       "      <td>1950.0</td>\n",
       "    </tr>\n",
       "    <tr>\n",
       "      <th>3213</th>\n",
       "      <td>550</td>\n",
       "      <td>0.0</td>\n",
       "      <td>15</td>\n",
       "      <td>1.0</td>\n",
       "      <td>50</td>\n",
       "      <td>50.0</td>\n",
       "      <td>500</td>\n",
       "      <td>550.0</td>\n",
       "    </tr>\n",
       "  </tbody>\n",
       "</table>\n",
       "<p>3214 rows × 8 columns</p>\n",
       "</div>"
      ],
      "text/plain": [
       "      rub_monthly_fee  gb_used  gb_per_month_included  count_messages  \\\n",
       "0                1950      3.0                     30            22.0   \n",
       "1                1950     23.0                     30            60.0   \n",
       "2                1950     14.0                     30            75.0   \n",
       "3                1950     14.0                     30            81.0   \n",
       "4                1950     15.0                     30            57.0   \n",
       "...               ...      ...                    ...             ...   \n",
       "3209             1950      0.0                     30            29.0   \n",
       "3210             1950      0.0                     30            39.0   \n",
       "3211             1950      0.0                     30             2.0   \n",
       "3212             1950      0.0                     30             3.0   \n",
       "3213              550      0.0                     15             1.0   \n",
       "\n",
       "      messages_included  duration_calls  minutes_included  total_revenue  \n",
       "0                  1000           159.0              3000         1950.0  \n",
       "1                  1000           172.0              3000         1950.0  \n",
       "2                  1000           340.0              3000         1950.0  \n",
       "3                  1000           408.0              3000         1950.0  \n",
       "4                  1000           466.0              3000         1950.0  \n",
       "...                 ...             ...               ...            ...  \n",
       "3209               1000           272.0              3000         1950.0  \n",
       "3210               1000           260.0              3000         1950.0  \n",
       "3211               1000           179.0              3000         1950.0  \n",
       "3212               1000            13.0              3000         1950.0  \n",
       "3213                 50            50.0               500          550.0  \n",
       "\n",
       "[3214 rows x 8 columns]"
      ]
     },
     "execution_count": 25,
     "metadata": {},
     "output_type": "execute_result"
    }
   ],
   "source": [
    "# column with total cost\n",
    "data_pivot_total['total_revenue'] = data_pivot_total['rub_monthly_fee'] + (data_pivot_total['gb_over_plan'] * data_pivot_total['rub_per_gb']) + (data_pivot_total['minutes_over_plan'] * data_pivot_total['rub_per_minute']) + (data_pivot_total['messages_over_plan'] * data_pivot_total['rub_per_message'])\n",
    "# check\n",
    "data_pivot_total[['rub_monthly_fee', 'gb_used', 'gb_per_month_included', 'count_messages', 'messages_included', 'duration_calls', 'minutes_included', 'total_revenue']]"
   ]
  },
  {
   "cell_type": "markdown",
   "metadata": {},
   "source": [
    "## Analys data\n",
    "The description of customer behavior"
   ]
  },
  {
   "cell_type": "code",
   "execution_count": 26,
   "metadata": {},
   "outputs": [],
   "source": [
    "# create slices with tariffs\n",
    "data_total_smart = data_pivot_total.query('tariff == \"smart\"')\n",
    "data_total_ultra = data_pivot_total.query('tariff == \"ultra\"')"
   ]
  },
  {
   "cell_type": "code",
   "execution_count": 27,
   "metadata": {},
   "outputs": [
    {
     "data": {
      "image/png": "[encoded data removed]",
      "text/plain": [
       "<Figure size 432x288 with 1 Axes>"
      ]
     },
     "metadata": {
      "needs_background": "light"
     },
     "output_type": "display_data"
    }
   ],
   "source": [
    "# charts with call's duration\n",
    "x = data_total_smart.pivot_table(index='month', values='duration_calls').reset_index()['duration_calls']\n",
    "y = data_total_ultra.pivot_table(index='month', values='duration_calls').reset_index()['duration_calls']\n",
    "\n",
    "plt.hist(x, label='x', alpha=0.5)\n",
    "plt.hist(y, label='y', alpha=0.5)\n",
    "plt.show()"
   ]
  },
  {
   "cell_type": "code",
   "execution_count": 28,
   "metadata": {},
   "outputs": [
    {
     "name": "stdout",
     "output_type": "stream",
     "text": [
      "Tariff \"Смарт\"\n",
      "Average number of minutes: 417\n",
      "Dispersion: 36203\n",
      "Standart deviation: 190\n",
      "\n",
      "Tariff \"Ультра\"\n",
      "Average number of minutes: 526\n",
      "Dispersion: 100771\n",
      "Standart deviation: 317\n"
     ]
    }
   ],
   "source": [
    "# mean, var and std\n",
    "print('Tariff \"Смарт\"')\n",
    "print('Average number of minutes:', int(data_total_smart['duration_calls'].mean()))\n",
    "print('Dispersion:', int(np.var(data_total_smart['duration_calls'])))\n",
    "print('Standart deviation:', int(np.sqrt(int(np.var(data_total_smart['duration_calls'])))))\n",
    "print()\n",
    "print('Tariff \"Ультра\"')\n",
    "print('Average number of minutes:', int(data_total_ultra['duration_calls'].mean()))\n",
    "print('Dispersion:', int(np.var(data_total_ultra['duration_calls'])))\n",
    "print('Standart deviation:', int(np.sqrt(int(np.var(data_total_ultra['duration_calls'])))))"
   ]
  },
  {
   "cell_type": "code",
   "execution_count": 29,
   "metadata": {},
   "outputs": [
    {
     "data": {
      "image/png": "[encoded data removed]",
      "text/plain": [
       "<Figure size 432x288 with 1 Axes>"
      ]
     },
     "metadata": {
      "needs_background": "light"
     },
     "output_type": "display_data"
    }
   ],
   "source": [
    "# chart of number messages\n",
    "x_messages = data_total_smart.pivot_table(index='month', values='count_messages').reset_index()['count_messages']\n",
    "y_messages = data_total_ultra.pivot_table(index='month', values='count_messages').reset_index()['count_messages']\n",
    "\n",
    "plt.hist(x_messages, label='x', alpha=0.5)\n",
    "plt.hist(y_messages, label='y', alpha=0.5)\n",
    "plt.show()"
   ]
  },
  {
   "cell_type": "code",
   "execution_count": 30,
   "metadata": {},
   "outputs": [
    {
     "name": "stdout",
     "output_type": "stream",
     "text": [
      "Tariff \"Смарт\"\n",
      "Average number of minutes: 33\n",
      "Dispersion: 796\n",
      "Standart deviation: 28\n",
      "\n",
      "Tariff \"Ультра\"\n",
      "Average number of minutes: 49\n",
      "Dispersion: 2282\n",
      "Standart deviation: 47\n"
     ]
    }
   ],
   "source": [
    "# mean, var and std\n",
    "print('Tariff \"Смарт\"')\n",
    "print('Average number of minutes:', int(data_total_smart['count_messages'].mean()))\n",
    "print('Dispersion:', int(np.var(data_total_smart['count_messages'])))\n",
    "print('Standart deviation:', int(np.sqrt(int(np.var(data_total_smart['count_messages'])))))\n",
    "print()\n",
    "print('Tariff \"Ультра\"')\n",
    "print('Average number of minutes:', int(data_total_ultra['count_messages'].mean()))\n",
    "print('Dispersion:', int(np.var(data_total_ultra['count_messages'])))\n",
    "print('Standart deviation:', int(np.sqrt(int(np.var(data_total_ultra['count_messages'])))))"
   ]
  },
  {
   "cell_type": "code",
   "execution_count": 31,
   "metadata": {},
   "outputs": [
    {
     "data": {
      "image/png": "[encoded data removed]",
      "text/plain": [
       "<Figure size 432x288 with 1 Axes>"
      ]
     },
     "metadata": {
      "needs_background": "light"
     },
     "output_type": "display_data"
    }
   ],
   "source": [
    "# chart of amount traffic\n",
    "x_internet = data_total_smart.pivot_table(index='month', values='gb_used').reset_index()['gb_used']\n",
    "y_internet = data_total_ultra.pivot_table(index='month', values='gb_used').reset_index()['gb_used']\n",
    "\n",
    "plt.hist(x_internet, label='x', alpha=0.5)\n",
    "plt.hist(y_internet, label='y', alpha=0.5)\n",
    "plt.show()"
   ]
  },
  {
   "cell_type": "code",
   "execution_count": 32,
   "metadata": {},
   "outputs": [
    {
     "name": "stdout",
     "output_type": "stream",
     "text": [
      "Tariff \"Смарт\"\n",
      "Average number of minutes: 16 Гб\n",
      "Dispersion: 33\n",
      "Standart deviation: 5\n",
      "\n",
      "Tariff \"Ультра\"\n",
      "Average number of minutes: 19 Гб\n",
      "Dispersion: 96\n",
      "Standart deviation: 9\n"
     ]
    }
   ],
   "source": [
    "# mean, var and std\n",
    "print('Tariff \"Смарт\"')\n",
    "print('Average number of minutes:', int(data_total_smart['gb_used'].mean()), 'Гб')\n",
    "print('Dispersion:', int(np.var(data_total_smart['gb_used'])))\n",
    "print('Standart deviation:', int(np.sqrt(int(np.var(data_total_smart['gb_used'])))))\n",
    "print()\n",
    "print('Tariff \"Ультра\"')\n",
    "print('Average number of minutes:', int(data_total_ultra['gb_used'].mean()), 'Гб')\n",
    "print('Dispersion:', int(np.var(data_total_ultra['gb_used'])))\n",
    "print('Standart deviation:', int(np.sqrt(int(np.var(data_total_ultra['gb_used'])))))"
   ]
  },
  {
   "cell_type": "markdown",
   "metadata": {},
   "source": [
    "<b>Conclusions:</b>\n",
    "- Tariff \"Ультра\" have more calls, messages and traffic"
   ]
  },
  {
   "cell_type": "markdown",
   "metadata": {},
   "source": [
    "## Check hypothesis\n",
    "### average revenue of tariffs \"Ультра\" and \"Смарт\" different\n",
    "- null hypothesis: average revenue is equal\n",
    "- alternative hypothesis: average revenue differ\n",
    "<br>\n",
    "I use method `ttest_ind`"
   ]
  },
  {
   "cell_type": "code",
   "execution_count": 33,
   "metadata": {},
   "outputs": [
    {
     "name": "stdout",
     "output_type": "stream",
     "text": [
      "The null hypothesis is rejected: average revenues are not equal\n",
      "p-value: 4.2606313931076085e-250\n"
     ]
    }
   ],
   "source": [
    "# p-value\n",
    "alpha = 0.05\n",
    "result = st.ttest_ind(data_total_smart['total_revenue'], data_total_ultra['total_revenue'], equal_var=False)\n",
    "\n",
    "if result.pvalue < alpha:\n",
    "    print('The null hypothesis is rejected: average revenues are not equal')\n",
    "    print(f'p-value: {result.pvalue}')\n",
    "else:\n",
    "    print('The null hypothesis is not rejected: average revenues are equal to')\n",
    "    print(f'p-value: {result.pvalue}')"
   ]
  },
  {
   "cell_type": "markdown",
   "metadata": {},
   "source": [
    "### average revenue of customer from Moscow differs from that of customer from other cities\n",
    "- null hypothesis: average revenue of Moscow and other regions is equal\n",
    "- alternative hypothesis: average revenues are not equal\n",
    "<br>\n",
    "I use method `ttest_ind`"
   ]
  },
  {
   "cell_type": "code",
   "execution_count": 34,
   "metadata": {},
   "outputs": [],
   "source": [
    "# create slices of Moscow and other regions\n",
    "data_moscow = data_pivot_total.query('city == \"Москва\"')\n",
    "data_not_moscow = data_pivot_total.query('city != \"Москва\"')"
   ]
  },
  {
   "cell_type": "code",
   "execution_count": 35,
   "metadata": {},
   "outputs": [
    {
     "name": "stdout",
     "output_type": "stream",
     "text": [
      "The null hypothesis is rejected: average revenues Moscow and other regions are not equal\n",
      "p-value: 4.2606313931076085e-250\n"
     ]
    }
   ],
   "source": [
    "# counting\n",
    "result_2 = st.ttest_ind(data_moscow['total_revenue'], data_not_moscow['total_revenue'], equal_var=False)\n",
    "\n",
    "if result.pvalue < alpha:\n",
    "    print('The null hypothesis is rejected: average revenues Moscow and other regions are not equal')\n",
    "    print(f'p-value: {result.pvalue}')\n",
    "else:\n",
    "    print('The null hypothesis is not rejected: average revenues Moscow and other regions are equal')\n",
    "    print(f'p-value: {result.pvalue}')"
   ]
  },
  {
   "cell_type": "markdown",
   "metadata": {},
   "source": [
    "<b>Conclusions</b>\n",
    "- First hypothesis showed average revenues of two tariffs are not equal. \n",
    "- Second hypothesis showed average revenues of Moscow and other regions are not equal\n",
    "## Results\n",
    "- Tariff \"Ультра\" have more calls, messages and spent traffic. Customer uses this tariff more then others.\n",
    "- check hypotheses about average revenues of two tariffs showed that revenues are not equal\n",
    "- check hypothesis about average revenues of Moscow and other regions showed that revenues are not equal too"
   ]
  }
 ],
 "metadata": {
  "ExecuteTimeLog": [
   {
    "duration": 795,
    "start_time": "2022-03-08T12:30:21.751Z"
   },
   {
    "duration": 536,
    "start_time": "2022-03-08T12:32:29.479Z"
   },
   {
    "duration": 30,
    "start_time": "2022-03-08T12:33:03.214Z"
   },
   {
    "duration": 23,
    "start_time": "2022-03-08T12:33:17.197Z"
   },
   {
    "duration": 31,
    "start_time": "2022-03-08T12:33:47.792Z"
   },
   {
    "duration": 12,
    "start_time": "2022-03-08T12:33:51.833Z"
   },
   {
    "duration": 311,
    "start_time": "2022-03-08T14:58:47.086Z"
   },
   {
    "duration": 707,
    "start_time": "2022-03-08T14:58:58.994Z"
   },
   {
    "duration": 452,
    "start_time": "2022-03-08T14:58:59.703Z"
   },
   {
    "duration": 28,
    "start_time": "2022-03-08T14:59:00.157Z"
   },
   {
    "duration": 20,
    "start_time": "2022-03-08T14:59:00.187Z"
   },
   {
    "duration": 23,
    "start_time": "2022-03-08T14:59:00.210Z"
   },
   {
    "duration": 11,
    "start_time": "2022-03-08T14:59:00.235Z"
   },
   {
    "duration": 52,
    "start_time": "2022-03-08T14:59:00.248Z"
   },
   {
    "duration": 15,
    "start_time": "2022-03-08T14:59:00.303Z"
   },
   {
    "duration": 9,
    "start_time": "2022-03-08T14:59:15.270Z"
   },
   {
    "duration": 11,
    "start_time": "2022-03-08T14:59:19.938Z"
   },
   {
    "duration": 9,
    "start_time": "2022-03-08T14:59:39.576Z"
   },
   {
    "duration": 14,
    "start_time": "2022-03-08T14:59:44.356Z"
   },
   {
    "duration": 41,
    "start_time": "2022-03-08T15:15:27.183Z"
   },
   {
    "duration": 387,
    "start_time": "2022-03-08T15:15:43.840Z"
   },
   {
    "duration": 263,
    "start_time": "2022-03-08T15:15:47.648Z"
   },
   {
    "duration": 14,
    "start_time": "2022-03-08T15:15:52.678Z"
   },
   {
    "duration": 35,
    "start_time": "2022-03-08T15:19:47.163Z"
   },
   {
    "duration": 39,
    "start_time": "2022-03-08T15:21:50.335Z"
   },
   {
    "duration": 24,
    "start_time": "2022-03-08T15:26:59.959Z"
   },
   {
    "duration": 14,
    "start_time": "2022-03-08T15:27:19.074Z"
   },
   {
    "duration": 10,
    "start_time": "2022-03-08T16:40:27.620Z"
   },
   {
    "duration": 10,
    "start_time": "2022-03-08T16:40:46.187Z"
   },
   {
    "duration": 9,
    "start_time": "2022-03-08T16:40:53.158Z"
   },
   {
    "duration": 277,
    "start_time": "2022-03-08T16:43:10.131Z"
   },
   {
    "duration": 8,
    "start_time": "2022-03-08T16:43:23.825Z"
   },
   {
    "duration": 9,
    "start_time": "2022-03-08T16:43:32.263Z"
   },
   {
    "duration": 8,
    "start_time": "2022-03-08T16:44:25.134Z"
   },
   {
    "duration": 8,
    "start_time": "2022-03-08T16:44:40.082Z"
   },
   {
    "duration": 275,
    "start_time": "2022-03-08T16:47:53.904Z"
   },
   {
    "duration": 278,
    "start_time": "2022-03-08T16:48:00.227Z"
   },
   {
    "duration": 259,
    "start_time": "2022-03-08T16:48:05.934Z"
   },
   {
    "duration": 36,
    "start_time": "2022-03-08T16:50:23.148Z"
   },
   {
    "duration": 40,
    "start_time": "2022-03-08T16:50:59.968Z"
   },
   {
    "duration": 275,
    "start_time": "2022-03-08T16:52:32.484Z"
   },
   {
    "duration": 48,
    "start_time": "2022-03-08T16:52:38.329Z"
   },
   {
    "duration": 84,
    "start_time": "2022-03-08T16:59:14.814Z"
   },
   {
    "duration": 80,
    "start_time": "2022-03-08T16:59:30.876Z"
   },
   {
    "duration": 135,
    "start_time": "2022-03-08T17:01:19.780Z"
   },
   {
    "duration": 81,
    "start_time": "2022-03-08T17:01:46.359Z"
   },
   {
    "duration": 28,
    "start_time": "2022-03-08T17:03:31.710Z"
   },
   {
    "duration": 46,
    "start_time": "2022-03-08T17:05:23.697Z"
   },
   {
    "duration": 346,
    "start_time": "2022-03-11T16:24:54.469Z"
   },
   {
    "duration": 556,
    "start_time": "2022-03-11T16:24:59.765Z"
   },
   {
    "duration": 367,
    "start_time": "2022-03-11T16:25:00.323Z"
   },
   {
    "duration": 20,
    "start_time": "2022-03-11T16:25:00.694Z"
   },
   {
    "duration": 26,
    "start_time": "2022-03-11T16:25:00.715Z"
   },
   {
    "duration": 21,
    "start_time": "2022-03-11T16:25:00.742Z"
   },
   {
    "duration": 17,
    "start_time": "2022-03-11T16:25:00.764Z"
   },
   {
    "duration": 23,
    "start_time": "2022-03-11T16:25:00.783Z"
   },
   {
    "duration": 23,
    "start_time": "2022-03-11T16:25:00.808Z"
   },
   {
    "duration": 12,
    "start_time": "2022-03-11T16:25:00.832Z"
   },
   {
    "duration": 10,
    "start_time": "2022-03-11T16:25:00.845Z"
   },
   {
    "duration": 26,
    "start_time": "2022-03-11T16:25:00.856Z"
   },
   {
    "duration": 10,
    "start_time": "2022-03-11T16:25:00.884Z"
   },
   {
    "duration": 35,
    "start_time": "2022-03-11T16:25:00.896Z"
   },
   {
    "duration": 25,
    "start_time": "2022-03-11T16:25:00.933Z"
   },
   {
    "duration": 20,
    "start_time": "2022-03-11T16:25:00.959Z"
   },
   {
    "duration": 28,
    "start_time": "2022-03-11T16:25:00.981Z"
   },
   {
    "duration": 32,
    "start_time": "2022-03-11T16:25:01.011Z"
   },
   {
    "duration": 72,
    "start_time": "2022-03-11T16:25:01.045Z"
   },
   {
    "duration": 19,
    "start_time": "2022-03-11T16:25:01.119Z"
   },
   {
    "duration": 33,
    "start_time": "2022-03-11T16:25:01.140Z"
   },
   {
    "duration": 34,
    "start_time": "2022-03-11T16:25:01.175Z"
   },
   {
    "duration": 4,
    "start_time": "2022-03-11T16:25:33.159Z"
   },
   {
    "duration": 347,
    "start_time": "2022-03-11T16:27:52.225Z"
   },
   {
    "duration": 565,
    "start_time": "2022-03-11T16:28:02.333Z"
   },
   {
    "duration": 360,
    "start_time": "2022-03-11T16:28:02.900Z"
   },
   {
    "duration": 18,
    "start_time": "2022-03-11T16:28:03.264Z"
   },
   {
    "duration": 41,
    "start_time": "2022-03-11T16:28:03.283Z"
   },
   {
    "duration": 35,
    "start_time": "2022-03-11T16:28:03.325Z"
   },
   {
    "duration": 13,
    "start_time": "2022-03-11T16:28:03.361Z"
   },
   {
    "duration": 36,
    "start_time": "2022-03-11T16:28:03.375Z"
   },
   {
    "duration": 9,
    "start_time": "2022-03-11T16:28:03.413Z"
   },
   {
    "duration": 20,
    "start_time": "2022-03-11T16:28:03.424Z"
   },
   {
    "duration": 21,
    "start_time": "2022-03-11T16:28:03.445Z"
   },
   {
    "duration": 16,
    "start_time": "2022-03-11T16:28:03.467Z"
   },
   {
    "duration": 26,
    "start_time": "2022-03-11T16:28:03.484Z"
   },
   {
    "duration": 33,
    "start_time": "2022-03-11T16:28:03.512Z"
   },
   {
    "duration": 21,
    "start_time": "2022-03-11T16:28:03.546Z"
   },
   {
    "duration": 46,
    "start_time": "2022-03-11T16:28:03.568Z"
   },
   {
    "duration": 16,
    "start_time": "2022-03-11T16:28:03.616Z"
   },
   {
    "duration": 40,
    "start_time": "2022-03-11T16:28:03.633Z"
   },
   {
    "duration": 54,
    "start_time": "2022-03-11T16:28:03.674Z"
   },
   {
    "duration": 16,
    "start_time": "2022-03-11T16:28:03.730Z"
   },
   {
    "duration": 44,
    "start_time": "2022-03-11T16:28:03.747Z"
   },
   {
    "duration": 20,
    "start_time": "2022-03-11T16:28:03.792Z"
   },
   {
    "duration": 41,
    "start_time": "2022-03-11T16:28:03.813Z"
   },
   {
    "duration": 29,
    "start_time": "2022-03-11T16:54:53.722Z"
   },
   {
    "duration": 32,
    "start_time": "2022-03-11T16:55:06.813Z"
   },
   {
    "duration": 29,
    "start_time": "2022-03-11T16:56:55.130Z"
   },
   {
    "duration": 31,
    "start_time": "2022-03-11T16:57:12.393Z"
   },
   {
    "duration": 30,
    "start_time": "2022-03-11T17:04:47.169Z"
   },
   {
    "duration": 27,
    "start_time": "2022-03-11T17:04:54.680Z"
   },
   {
    "duration": 83,
    "start_time": "2022-03-11T17:05:46.368Z"
   },
   {
    "duration": 8,
    "start_time": "2022-03-11T17:05:50.979Z"
   },
   {
    "duration": 11,
    "start_time": "2022-03-11T17:05:58.375Z"
   },
   {
    "duration": 14,
    "start_time": "2022-03-11T17:08:13.552Z"
   },
   {
    "duration": 9,
    "start_time": "2022-03-11T17:08:40.923Z"
   },
   {
    "duration": 8,
    "start_time": "2022-03-11T17:08:47.346Z"
   },
   {
    "duration": 14,
    "start_time": "2022-03-11T17:08:53.857Z"
   },
   {
    "duration": 17,
    "start_time": "2022-03-11T17:09:04.981Z"
   },
   {
    "duration": 544,
    "start_time": "2022-03-11T17:10:35.636Z"
   },
   {
    "duration": 370,
    "start_time": "2022-03-11T17:10:36.182Z"
   },
   {
    "duration": 19,
    "start_time": "2022-03-11T17:10:36.554Z"
   },
   {
    "duration": 13,
    "start_time": "2022-03-11T17:10:36.575Z"
   },
   {
    "duration": 25,
    "start_time": "2022-03-11T17:10:36.589Z"
   },
   {
    "duration": 7,
    "start_time": "2022-03-11T17:10:36.615Z"
   },
   {
    "duration": 18,
    "start_time": "2022-03-11T17:10:36.623Z"
   },
   {
    "duration": 9,
    "start_time": "2022-03-11T17:10:36.642Z"
   },
   {
    "duration": 6,
    "start_time": "2022-03-11T17:10:36.653Z"
   },
   {
    "duration": 11,
    "start_time": "2022-03-11T17:10:36.660Z"
   },
   {
    "duration": 6,
    "start_time": "2022-03-11T17:10:36.673Z"
   },
   {
    "duration": 26,
    "start_time": "2022-03-11T17:10:36.681Z"
   },
   {
    "duration": 34,
    "start_time": "2022-03-11T17:10:36.709Z"
   },
   {
    "duration": 24,
    "start_time": "2022-03-11T17:10:36.745Z"
   },
   {
    "duration": 40,
    "start_time": "2022-03-11T17:10:36.771Z"
   },
   {
    "duration": 9,
    "start_time": "2022-03-11T17:10:36.813Z"
   },
   {
    "duration": 28,
    "start_time": "2022-03-11T17:10:36.823Z"
   },
   {
    "duration": 75,
    "start_time": "2022-03-11T17:10:36.852Z"
   },
   {
    "duration": 18,
    "start_time": "2022-03-11T17:10:36.928Z"
   },
   {
    "duration": 31,
    "start_time": "2022-03-11T17:10:36.947Z"
   },
   {
    "duration": 37,
    "start_time": "2022-03-11T17:10:36.979Z"
   },
   {
    "duration": 37,
    "start_time": "2022-03-11T17:10:37.018Z"
   },
   {
    "duration": 94,
    "start_time": "2022-03-11T17:10:37.056Z"
   },
   {
    "duration": 2,
    "start_time": "2022-03-11T17:10:37.151Z"
   },
   {
    "duration": 15,
    "start_time": "2022-03-11T17:11:27.111Z"
   },
   {
    "duration": 368,
    "start_time": "2022-03-11T17:11:47.243Z"
   },
   {
    "duration": 4,
    "start_time": "2022-03-11T17:11:51.115Z"
   },
   {
    "duration": 14,
    "start_time": "2022-03-11T17:11:56.270Z"
   },
   {
    "duration": 15,
    "start_time": "2022-03-11T17:12:07.337Z"
   },
   {
    "duration": 344,
    "start_time": "2022-03-11T17:12:25.098Z"
   },
   {
    "duration": 16,
    "start_time": "2022-03-11T17:12:31.106Z"
   },
   {
    "duration": 27,
    "start_time": "2022-03-11T17:13:34.616Z"
   },
   {
    "duration": 343,
    "start_time": "2022-03-11T17:27:23.475Z"
   },
   {
    "duration": 313,
    "start_time": "2022-03-11T17:28:10.318Z"
   },
   {
    "duration": 22,
    "start_time": "2022-03-11T17:28:29.037Z"
   },
   {
    "duration": 34,
    "start_time": "2022-03-11T17:30:41.532Z"
   },
   {
    "duration": 349,
    "start_time": "2022-03-11T17:33:12.781Z"
   },
   {
    "duration": 323,
    "start_time": "2022-03-11T17:33:28.121Z"
   },
   {
    "duration": 37,
    "start_time": "2022-03-11T17:33:50.321Z"
   },
   {
    "duration": 45,
    "start_time": "2022-03-11T17:34:00.860Z"
   },
   {
    "duration": 84,
    "start_time": "2022-03-11T17:38:25.873Z"
   },
   {
    "duration": 327,
    "start_time": "2022-03-11T17:38:27.408Z"
   },
   {
    "duration": 329,
    "start_time": "2022-03-11T17:38:42.145Z"
   },
   {
    "duration": 46,
    "start_time": "2022-03-11T17:38:59.354Z"
   },
   {
    "duration": 99,
    "start_time": "2022-03-11T17:39:23.967Z"
   },
   {
    "duration": 28,
    "start_time": "2022-03-11T17:39:26.419Z"
   },
   {
    "duration": 892,
    "start_time": "2022-03-11T17:46:09.595Z"
   },
   {
    "duration": 33,
    "start_time": "2022-03-11T17:46:24.987Z"
   },
   {
    "duration": 27,
    "start_time": "2022-03-11T17:46:49.878Z"
   },
   {
    "duration": 30,
    "start_time": "2022-03-11T17:50:32.203Z"
   },
   {
    "duration": 54,
    "start_time": "2022-03-11T17:51:15.882Z"
   },
   {
    "duration": 48,
    "start_time": "2022-03-11T17:51:21.490Z"
   },
   {
    "duration": 62,
    "start_time": "2022-03-11T17:51:34.725Z"
   },
   {
    "duration": 354,
    "start_time": "2022-03-11T17:51:47.462Z"
   },
   {
    "duration": 78,
    "start_time": "2022-03-11T17:52:49.391Z"
   },
   {
    "duration": 63,
    "start_time": "2022-03-11T17:52:55.011Z"
   },
   {
    "duration": 88,
    "start_time": "2022-03-11T17:53:04.598Z"
   },
   {
    "duration": 78,
    "start_time": "2022-03-11T17:53:08.218Z"
   },
   {
    "duration": 56,
    "start_time": "2022-03-11T17:54:11.012Z"
   },
   {
    "duration": 637,
    "start_time": "2022-03-11T18:01:02.677Z"
   },
   {
    "duration": 385,
    "start_time": "2022-03-11T18:01:03.316Z"
   },
   {
    "duration": 20,
    "start_time": "2022-03-11T18:01:03.703Z"
   },
   {
    "duration": 19,
    "start_time": "2022-03-11T18:01:03.724Z"
   },
   {
    "duration": 31,
    "start_time": "2022-03-11T18:01:03.745Z"
   },
   {
    "duration": 9,
    "start_time": "2022-03-11T18:01:03.777Z"
   },
   {
    "duration": 16,
    "start_time": "2022-03-11T18:01:03.787Z"
   },
   {
    "duration": 18,
    "start_time": "2022-03-11T18:01:03.805Z"
   },
   {
    "duration": 22,
    "start_time": "2022-03-11T18:01:03.825Z"
   },
   {
    "duration": 13,
    "start_time": "2022-03-11T18:01:03.848Z"
   },
   {
    "duration": 21,
    "start_time": "2022-03-11T18:01:03.862Z"
   },
   {
    "duration": 19,
    "start_time": "2022-03-11T18:01:03.885Z"
   },
   {
    "duration": 48,
    "start_time": "2022-03-11T18:01:03.906Z"
   },
   {
    "duration": 25,
    "start_time": "2022-03-11T18:01:03.955Z"
   },
   {
    "duration": 19,
    "start_time": "2022-03-11T18:01:03.982Z"
   },
   {
    "duration": 15,
    "start_time": "2022-03-11T18:01:04.002Z"
   },
   {
    "duration": 45,
    "start_time": "2022-03-11T18:01:04.019Z"
   },
   {
    "duration": 62,
    "start_time": "2022-03-11T18:01:04.066Z"
   },
   {
    "duration": 17,
    "start_time": "2022-03-11T18:01:04.129Z"
   },
   {
    "duration": 32,
    "start_time": "2022-03-11T18:01:04.148Z"
   },
   {
    "duration": 37,
    "start_time": "2022-03-11T18:01:04.182Z"
   },
   {
    "duration": 35,
    "start_time": "2022-03-11T18:01:04.221Z"
   },
   {
    "duration": 121,
    "start_time": "2022-03-11T18:01:04.258Z"
   },
   {
    "duration": 39,
    "start_time": "2022-03-11T18:01:04.380Z"
   },
   {
    "duration": 371,
    "start_time": "2022-03-11T18:01:04.421Z"
   },
   {
    "duration": 58,
    "start_time": "2022-03-11T18:01:16.602Z"
   },
   {
    "duration": 4,
    "start_time": "2022-03-11T18:05:01.977Z"
   },
   {
    "duration": 27,
    "start_time": "2022-03-11T18:05:09.170Z"
   },
   {
    "duration": 5,
    "start_time": "2022-03-11T18:09:50.800Z"
   },
   {
    "duration": 27,
    "start_time": "2022-03-11T18:09:52.925Z"
   },
   {
    "duration": 5,
    "start_time": "2022-03-11T18:10:10.270Z"
   },
   {
    "duration": 2,
    "start_time": "2022-03-11T18:23:58.896Z"
   },
   {
    "duration": 104,
    "start_time": "2022-03-11T18:27:38.522Z"
   },
   {
    "duration": 293,
    "start_time": "2022-03-11T18:27:50.283Z"
   },
   {
    "duration": 609,
    "start_time": "2022-03-11T18:28:02.671Z"
   },
   {
    "duration": 442,
    "start_time": "2022-03-11T18:28:03.282Z"
   },
   {
    "duration": 21,
    "start_time": "2022-03-11T18:28:03.726Z"
   },
   {
    "duration": 12,
    "start_time": "2022-03-11T18:28:03.749Z"
   },
   {
    "duration": 17,
    "start_time": "2022-03-11T18:28:03.763Z"
   },
   {
    "duration": 7,
    "start_time": "2022-03-11T18:28:03.782Z"
   },
   {
    "duration": 20,
    "start_time": "2022-03-11T18:28:03.790Z"
   },
   {
    "duration": 7,
    "start_time": "2022-03-11T18:28:03.812Z"
   },
   {
    "duration": 6,
    "start_time": "2022-03-11T18:28:03.822Z"
   },
   {
    "duration": 9,
    "start_time": "2022-03-11T18:28:03.830Z"
   },
   {
    "duration": 7,
    "start_time": "2022-03-11T18:28:03.841Z"
   },
   {
    "duration": 11,
    "start_time": "2022-03-11T18:28:03.850Z"
   },
   {
    "duration": 66,
    "start_time": "2022-03-11T18:28:03.862Z"
   },
   {
    "duration": 22,
    "start_time": "2022-03-11T18:28:03.930Z"
   },
   {
    "duration": 20,
    "start_time": "2022-03-11T18:28:03.954Z"
   },
   {
    "duration": 32,
    "start_time": "2022-03-11T18:28:03.975Z"
   },
   {
    "duration": 39,
    "start_time": "2022-03-11T18:28:04.008Z"
   },
   {
    "duration": 62,
    "start_time": "2022-03-11T18:28:04.049Z"
   },
   {
    "duration": 17,
    "start_time": "2022-03-11T18:28:04.113Z"
   },
   {
    "duration": 31,
    "start_time": "2022-03-11T18:28:04.132Z"
   },
   {
    "duration": 42,
    "start_time": "2022-03-11T18:28:04.165Z"
   },
   {
    "duration": 37,
    "start_time": "2022-03-11T18:28:04.209Z"
   },
   {
    "duration": 117,
    "start_time": "2022-03-11T18:28:04.247Z"
   },
   {
    "duration": 5,
    "start_time": "2022-03-11T18:28:04.366Z"
   },
   {
    "duration": 38,
    "start_time": "2022-03-11T18:28:04.373Z"
   },
   {
    "duration": 4,
    "start_time": "2022-03-11T18:28:04.413Z"
   },
   {
    "duration": 379,
    "start_time": "2022-03-11T18:28:04.420Z"
   },
   {
    "duration": 388,
    "start_time": "2022-03-11T18:28:04.413Z"
   },
   {
    "duration": 85,
    "start_time": "2022-03-11T18:28:26.593Z"
   },
   {
    "duration": 41,
    "start_time": "2022-03-11T18:28:28.389Z"
   },
   {
    "duration": 12,
    "start_time": "2022-03-11T18:29:03.275Z"
   },
   {
    "duration": 388,
    "start_time": "2022-03-11T18:31:21.714Z"
   },
   {
    "duration": 7766,
    "start_time": "2022-03-11T18:31:31.312Z"
   },
   {
    "duration": 7571,
    "start_time": "2022-03-11T18:31:47.237Z"
   },
   {
    "duration": 7676,
    "start_time": "2022-03-11T18:32:13.931Z"
   },
   {
    "duration": 7506,
    "start_time": "2022-03-11T18:32:33.237Z"
   },
   {
    "duration": 8465,
    "start_time": "2022-03-11T18:32:53.555Z"
   },
   {
    "duration": 5,
    "start_time": "2022-03-11T18:37:54.198Z"
   },
   {
    "duration": 99,
    "start_time": "2022-03-11T18:38:16.153Z"
   },
   {
    "duration": 7722,
    "start_time": "2022-03-11T18:38:26.757Z"
   },
   {
    "duration": 6,
    "start_time": "2022-03-11T18:38:44.251Z"
   },
   {
    "duration": 240,
    "start_time": "2022-03-11T18:42:18.346Z"
   },
   {
    "duration": 220,
    "start_time": "2022-03-11T18:42:21.065Z"
   },
   {
    "duration": 13,
    "start_time": "2022-03-11T18:42:38.262Z"
   },
   {
    "duration": 28,
    "start_time": "2022-03-11T18:42:47.603Z"
   },
   {
    "duration": 30,
    "start_time": "2022-03-11T18:43:07.121Z"
   },
   {
    "duration": 11,
    "start_time": "2022-03-11T18:43:58.773Z"
   },
   {
    "duration": 13,
    "start_time": "2022-03-11T18:44:09.057Z"
   },
   {
    "duration": 4,
    "start_time": "2022-03-11T18:46:04.827Z"
   },
   {
    "duration": 290,
    "start_time": "2022-03-11T18:50:47.866Z"
   },
   {
    "duration": 6,
    "start_time": "2022-03-11T18:50:52.862Z"
   },
   {
    "duration": 5,
    "start_time": "2022-03-11T18:50:59.742Z"
   },
   {
    "duration": 6,
    "start_time": "2022-03-11T18:51:19.250Z"
   },
   {
    "duration": 9,
    "start_time": "2022-03-11T18:51:29.037Z"
   },
   {
    "duration": 5,
    "start_time": "2022-03-11T18:51:32.785Z"
   },
   {
    "duration": 6,
    "start_time": "2022-03-11T18:51:41.892Z"
   },
   {
    "duration": 7,
    "start_time": "2022-03-11T18:51:53.753Z"
   },
   {
    "duration": 12,
    "start_time": "2022-03-11T18:52:14.652Z"
   },
   {
    "duration": 7618,
    "start_time": "2022-03-11T18:53:39.453Z"
   },
   {
    "duration": 27,
    "start_time": "2022-03-11T18:53:56.539Z"
   },
   {
    "duration": 15,
    "start_time": "2022-03-11T18:54:27.764Z"
   },
   {
    "duration": 226,
    "start_time": "2022-03-11T18:54:50.449Z"
   },
   {
    "duration": 331,
    "start_time": "2022-03-11T18:55:38.281Z"
   },
   {
    "duration": 14,
    "start_time": "2022-03-11T18:55:42.731Z"
   },
   {
    "duration": 224,
    "start_time": "2022-03-11T18:55:45.719Z"
   },
   {
    "duration": 14,
    "start_time": "2022-03-11T18:55:49.922Z"
   },
   {
    "duration": 295,
    "start_time": "2022-03-11T18:59:06.674Z"
   },
   {
    "duration": 13,
    "start_time": "2022-03-11T18:59:11.105Z"
   },
   {
    "duration": 6,
    "start_time": "2022-03-11T19:02:08.745Z"
   },
   {
    "duration": 6,
    "start_time": "2022-03-11T19:02:18.634Z"
   },
   {
    "duration": 7,
    "start_time": "2022-03-11T19:02:35.403Z"
   },
   {
    "duration": 229,
    "start_time": "2022-03-11T19:03:09.071Z"
   },
   {
    "duration": 7,
    "start_time": "2022-03-11T19:03:12.492Z"
   },
   {
    "duration": 91,
    "start_time": "2022-03-11T19:10:40.770Z"
   },
   {
    "duration": 308,
    "start_time": "2022-03-11T19:12:07.709Z"
   },
   {
    "duration": 5,
    "start_time": "2022-03-11T19:12:26.134Z"
   },
   {
    "duration": 20,
    "start_time": "2022-03-11T19:16:55.951Z"
   },
   {
    "duration": 683,
    "start_time": "2022-03-12T09:58:12.166Z"
   },
   {
    "duration": 404,
    "start_time": "2022-03-12T09:58:12.851Z"
   },
   {
    "duration": 22,
    "start_time": "2022-03-12T09:58:13.258Z"
   },
   {
    "duration": 17,
    "start_time": "2022-03-12T09:58:13.281Z"
   },
   {
    "duration": 22,
    "start_time": "2022-03-12T09:58:13.301Z"
   },
   {
    "duration": 9,
    "start_time": "2022-03-12T09:58:13.325Z"
   },
   {
    "duration": 19,
    "start_time": "2022-03-12T09:58:13.336Z"
   },
   {
    "duration": 11,
    "start_time": "2022-03-12T09:58:13.358Z"
   },
   {
    "duration": 7,
    "start_time": "2022-03-12T09:58:13.402Z"
   },
   {
    "duration": 11,
    "start_time": "2022-03-12T09:58:13.411Z"
   },
   {
    "duration": 9,
    "start_time": "2022-03-12T09:58:13.424Z"
   },
   {
    "duration": 14,
    "start_time": "2022-03-12T09:58:13.435Z"
   },
   {
    "duration": 81,
    "start_time": "2022-03-12T09:58:13.451Z"
   },
   {
    "duration": 27,
    "start_time": "2022-03-12T09:58:13.534Z"
   },
   {
    "duration": 43,
    "start_time": "2022-03-12T09:58:13.565Z"
   },
   {
    "duration": 11,
    "start_time": "2022-03-12T09:58:13.610Z"
   },
   {
    "duration": 32,
    "start_time": "2022-03-12T09:58:13.623Z"
   },
   {
    "duration": 88,
    "start_time": "2022-03-12T09:58:13.657Z"
   },
   {
    "duration": 21,
    "start_time": "2022-03-12T09:58:13.747Z"
   },
   {
    "duration": 53,
    "start_time": "2022-03-12T09:58:13.770Z"
   },
   {
    "duration": 31,
    "start_time": "2022-03-12T09:58:13.826Z"
   },
   {
    "duration": 68,
    "start_time": "2022-03-12T09:58:13.859Z"
   },
   {
    "duration": 131,
    "start_time": "2022-03-12T09:58:13.930Z"
   },
   {
    "duration": 3,
    "start_time": "2022-03-12T09:58:14.063Z"
   },
   {
    "duration": 10,
    "start_time": "2022-03-12T09:58:14.068Z"
   },
   {
    "duration": 6587,
    "start_time": "2022-03-12T09:58:14.082Z"
   },
   {
    "duration": -461,
    "start_time": "2022-03-12T09:58:21.133Z"
   },
   {
    "duration": 6599,
    "start_time": "2022-03-12T10:01:20.191Z"
   },
   {
    "duration": 6660,
    "start_time": "2022-03-12T10:01:59.670Z"
   },
   {
    "duration": 273,
    "start_time": "2022-03-12T10:02:24.865Z"
   },
   {
    "duration": 215,
    "start_time": "2022-03-12T10:02:33.437Z"
   },
   {
    "duration": 25,
    "start_time": "2022-03-12T10:02:49.252Z"
   },
   {
    "duration": 9,
    "start_time": "2022-03-12T10:11:19.439Z"
   },
   {
    "duration": 657,
    "start_time": "2022-03-12T10:24:31.818Z"
   },
   {
    "duration": 411,
    "start_time": "2022-03-12T10:24:32.478Z"
   },
   {
    "duration": 24,
    "start_time": "2022-03-12T10:24:32.892Z"
   },
   {
    "duration": 18,
    "start_time": "2022-03-12T10:24:32.919Z"
   },
   {
    "duration": 25,
    "start_time": "2022-03-12T10:24:32.939Z"
   },
   {
    "duration": 8,
    "start_time": "2022-03-12T10:24:32.966Z"
   },
   {
    "duration": 50,
    "start_time": "2022-03-12T10:24:32.976Z"
   },
   {
    "duration": 32,
    "start_time": "2022-03-12T10:24:33.029Z"
   },
   {
    "duration": 28,
    "start_time": "2022-03-12T10:24:33.063Z"
   },
   {
    "duration": 20,
    "start_time": "2022-03-12T10:24:33.093Z"
   },
   {
    "duration": 16,
    "start_time": "2022-03-12T10:24:33.115Z"
   },
   {
    "duration": 17,
    "start_time": "2022-03-12T10:24:33.134Z"
   },
   {
    "duration": 47,
    "start_time": "2022-03-12T10:24:33.153Z"
   },
   {
    "duration": 31,
    "start_time": "2022-03-12T10:24:33.202Z"
   },
   {
    "duration": 25,
    "start_time": "2022-03-12T10:24:33.235Z"
   },
   {
    "duration": 41,
    "start_time": "2022-03-12T10:24:33.263Z"
   },
   {
    "duration": 35,
    "start_time": "2022-03-12T10:24:33.306Z"
   },
   {
    "duration": 86,
    "start_time": "2022-03-12T10:24:33.343Z"
   },
   {
    "duration": 21,
    "start_time": "2022-03-12T10:24:33.431Z"
   },
   {
    "duration": 60,
    "start_time": "2022-03-12T10:24:33.454Z"
   },
   {
    "duration": 24,
    "start_time": "2022-03-12T10:24:33.516Z"
   },
   {
    "duration": 62,
    "start_time": "2022-03-12T10:24:33.542Z"
   },
   {
    "duration": 138,
    "start_time": "2022-03-12T10:24:33.608Z"
   },
   {
    "duration": 5622,
    "start_time": "2022-03-12T10:24:33.748Z"
   },
   {
    "duration": -464,
    "start_time": "2022-03-12T10:24:39.837Z"
   },
   {
    "duration": -465,
    "start_time": "2022-03-12T10:24:39.839Z"
   },
   {
    "duration": -465,
    "start_time": "2022-03-12T10:24:39.841Z"
   },
   {
    "duration": 645,
    "start_time": "2022-03-12T10:26:28.807Z"
   },
   {
    "duration": 389,
    "start_time": "2022-03-12T10:26:29.454Z"
   },
   {
    "duration": 23,
    "start_time": "2022-03-12T10:26:29.848Z"
   },
   {
    "duration": 28,
    "start_time": "2022-03-12T10:26:29.873Z"
   },
   {
    "duration": 31,
    "start_time": "2022-03-12T10:26:29.903Z"
   },
   {
    "duration": 12,
    "start_time": "2022-03-12T10:26:29.937Z"
   },
   {
    "duration": 24,
    "start_time": "2022-03-12T10:26:29.953Z"
   },
   {
    "duration": 28,
    "start_time": "2022-03-12T10:26:29.980Z"
   },
   {
    "duration": 8,
    "start_time": "2022-03-12T10:26:30.010Z"
   },
   {
    "duration": 37,
    "start_time": "2022-03-12T10:26:30.020Z"
   },
   {
    "duration": 36,
    "start_time": "2022-03-12T10:26:30.059Z"
   },
   {
    "duration": 20,
    "start_time": "2022-03-12T10:26:30.097Z"
   },
   {
    "duration": 40,
    "start_time": "2022-03-12T10:26:30.119Z"
   },
   {
    "duration": 43,
    "start_time": "2022-03-12T10:26:30.162Z"
   },
   {
    "duration": 26,
    "start_time": "2022-03-12T10:26:30.208Z"
   },
   {
    "duration": 13,
    "start_time": "2022-03-12T10:26:30.236Z"
   },
   {
    "duration": 56,
    "start_time": "2022-03-12T10:26:30.252Z"
   },
   {
    "duration": 70,
    "start_time": "2022-03-12T10:26:30.310Z"
   },
   {
    "duration": 37,
    "start_time": "2022-03-12T10:26:30.382Z"
   },
   {
    "duration": 37,
    "start_time": "2022-03-12T10:26:30.422Z"
   },
   {
    "duration": 49,
    "start_time": "2022-03-12T10:26:30.461Z"
   },
   {
    "duration": 41,
    "start_time": "2022-03-12T10:26:30.513Z"
   },
   {
    "duration": 144,
    "start_time": "2022-03-12T10:26:30.557Z"
   },
   {
    "duration": 77,
    "start_time": "2022-03-12T10:26:30.703Z"
   },
   {
    "duration": -446,
    "start_time": "2022-03-12T10:26:31.228Z"
   },
   {
    "duration": -446,
    "start_time": "2022-03-12T10:26:31.230Z"
   },
   {
    "duration": -446,
    "start_time": "2022-03-12T10:26:31.232Z"
   },
   {
    "duration": -447,
    "start_time": "2022-03-12T10:26:31.234Z"
   },
   {
    "duration": 7,
    "start_time": "2022-03-12T10:26:48.006Z"
   },
   {
    "duration": 8,
    "start_time": "2022-03-12T10:26:49.723Z"
   },
   {
    "duration": 5,
    "start_time": "2022-03-12T10:26:51.931Z"
   },
   {
    "duration": 268,
    "start_time": "2022-03-12T10:26:54.834Z"
   },
   {
    "duration": 23,
    "start_time": "2022-03-12T10:26:57.417Z"
   },
   {
    "duration": 10,
    "start_time": "2022-03-12T10:35:52.805Z"
   },
   {
    "duration": 282,
    "start_time": "2022-03-12T10:36:38.854Z"
   },
   {
    "duration": 235,
    "start_time": "2022-03-12T10:39:23.706Z"
   },
   {
    "duration": 6,
    "start_time": "2022-03-12T10:39:30.993Z"
   },
   {
    "duration": 15,
    "start_time": "2022-03-12T10:41:10.519Z"
   },
   {
    "duration": 363,
    "start_time": "2022-03-12T10:41:17.617Z"
   },
   {
    "duration": 202,
    "start_time": "2022-03-12T10:41:34.709Z"
   },
   {
    "duration": 220,
    "start_time": "2022-03-12T10:45:36.195Z"
   },
   {
    "duration": 204,
    "start_time": "2022-03-12T10:46:46.546Z"
   },
   {
    "duration": 6,
    "start_time": "2022-03-12T10:47:53.819Z"
   },
   {
    "duration": 213,
    "start_time": "2022-03-12T10:48:13.160Z"
   },
   {
    "duration": 220,
    "start_time": "2022-03-12T10:49:33.511Z"
   },
   {
    "duration": 198,
    "start_time": "2022-03-12T10:50:30.250Z"
   },
   {
    "duration": 590,
    "start_time": "2022-03-12T11:02:21.836Z"
   },
   {
    "duration": 404,
    "start_time": "2022-03-12T11:02:22.429Z"
   },
   {
    "duration": 25,
    "start_time": "2022-03-12T11:02:22.835Z"
   },
   {
    "duration": 30,
    "start_time": "2022-03-12T11:02:22.862Z"
   },
   {
    "duration": 20,
    "start_time": "2022-03-12T11:02:22.895Z"
   },
   {
    "duration": 10,
    "start_time": "2022-03-12T11:02:22.917Z"
   },
   {
    "duration": 24,
    "start_time": "2022-03-12T11:02:22.928Z"
   },
   {
    "duration": 13,
    "start_time": "2022-03-12T11:02:22.955Z"
   },
   {
    "duration": 16,
    "start_time": "2022-03-12T11:02:22.970Z"
   },
   {
    "duration": 11,
    "start_time": "2022-03-12T11:02:23.002Z"
   },
   {
    "duration": 10,
    "start_time": "2022-03-12T11:02:23.015Z"
   },
   {
    "duration": 16,
    "start_time": "2022-03-12T11:02:23.027Z"
   },
   {
    "duration": 62,
    "start_time": "2022-03-12T11:02:23.045Z"
   },
   {
    "duration": 26,
    "start_time": "2022-03-12T11:02:23.109Z"
   },
   {
    "duration": 23,
    "start_time": "2022-03-12T11:02:23.137Z"
   },
   {
    "duration": 11,
    "start_time": "2022-03-12T11:02:23.162Z"
   },
   {
    "duration": 29,
    "start_time": "2022-03-12T11:02:23.201Z"
   },
   {
    "duration": 89,
    "start_time": "2022-03-12T11:02:23.232Z"
   },
   {
    "duration": 20,
    "start_time": "2022-03-12T11:02:23.323Z"
   },
   {
    "duration": 57,
    "start_time": "2022-03-12T11:02:23.345Z"
   },
   {
    "duration": 25,
    "start_time": "2022-03-12T11:02:23.405Z"
   },
   {
    "duration": 42,
    "start_time": "2022-03-12T11:02:23.431Z"
   },
   {
    "duration": 148,
    "start_time": "2022-03-12T11:02:23.474Z"
   },
   {
    "duration": 5,
    "start_time": "2022-03-12T11:02:23.624Z"
   },
   {
    "duration": 7,
    "start_time": "2022-03-12T11:02:23.631Z"
   },
   {
    "duration": 5,
    "start_time": "2022-03-12T11:02:23.642Z"
   },
   {
    "duration": 280,
    "start_time": "2022-03-12T11:02:23.649Z"
   },
   {
    "duration": 21,
    "start_time": "2022-03-12T11:02:23.931Z"
   },
   {
    "duration": 6,
    "start_time": "2022-03-12T11:02:23.954Z"
   },
   {
    "duration": 296,
    "start_time": "2022-03-12T11:02:23.962Z"
   },
   {
    "duration": 222,
    "start_time": "2022-03-12T11:02:24.259Z"
   },
   {
    "duration": 262,
    "start_time": "2022-03-12T11:02:24.483Z"
   },
   {
    "duration": 6,
    "start_time": "2022-03-12T11:02:24.747Z"
   },
   {
    "duration": 222,
    "start_time": "2022-03-12T11:02:24.755Z"
   },
   {
    "duration": 226,
    "start_time": "2022-03-12T11:02:24.979Z"
   },
   {
    "duration": 202,
    "start_time": "2022-03-12T11:02:25.207Z"
   },
   {
    "duration": 5,
    "start_time": "2022-03-12T11:05:21.734Z"
   },
   {
    "duration": 92,
    "start_time": "2022-03-12T11:05:31.645Z"
   },
   {
    "duration": 4,
    "start_time": "2022-03-12T11:05:35.558Z"
   },
   {
    "duration": 6,
    "start_time": "2022-03-12T11:06:04.313Z"
   },
   {
    "duration": 5,
    "start_time": "2022-03-12T11:06:13.510Z"
   },
   {
    "duration": 5,
    "start_time": "2022-03-12T11:06:21.949Z"
   },
   {
    "duration": 5,
    "start_time": "2022-03-12T11:06:36.614Z"
   },
   {
    "duration": 7,
    "start_time": "2022-03-12T11:07:46.732Z"
   },
   {
    "duration": 7,
    "start_time": "2022-03-12T11:07:55.038Z"
   },
   {
    "duration": 7,
    "start_time": "2022-03-12T11:08:53.486Z"
   },
   {
    "duration": 7,
    "start_time": "2022-03-12T11:09:14.145Z"
   },
   {
    "duration": 7,
    "start_time": "2022-03-12T11:09:56.468Z"
   },
   {
    "duration": 8,
    "start_time": "2022-03-12T11:10:22.460Z"
   },
   {
    "duration": 9,
    "start_time": "2022-03-12T11:10:40.318Z"
   },
   {
    "duration": 947,
    "start_time": "2022-03-12T11:29:15.912Z"
   },
   {
    "duration": 405,
    "start_time": "2022-03-12T11:29:16.861Z"
   },
   {
    "duration": 22,
    "start_time": "2022-03-12T11:29:17.268Z"
   },
   {
    "duration": 16,
    "start_time": "2022-03-12T11:29:17.293Z"
   },
   {
    "duration": 20,
    "start_time": "2022-03-12T11:29:17.311Z"
   },
   {
    "duration": 11,
    "start_time": "2022-03-12T11:29:17.333Z"
   },
   {
    "duration": 19,
    "start_time": "2022-03-12T11:29:17.346Z"
   },
   {
    "duration": 14,
    "start_time": "2022-03-12T11:29:17.367Z"
   },
   {
    "duration": 23,
    "start_time": "2022-03-12T11:29:17.384Z"
   },
   {
    "duration": 30,
    "start_time": "2022-03-12T11:29:17.409Z"
   },
   {
    "duration": 10,
    "start_time": "2022-03-12T11:29:17.441Z"
   },
   {
    "duration": 18,
    "start_time": "2022-03-12T11:29:17.453Z"
   },
   {
    "duration": 43,
    "start_time": "2022-03-12T11:29:17.472Z"
   },
   {
    "duration": 28,
    "start_time": "2022-03-12T11:29:17.517Z"
   },
   {
    "duration": 23,
    "start_time": "2022-03-12T11:29:17.547Z"
   },
   {
    "duration": 34,
    "start_time": "2022-03-12T11:29:17.572Z"
   },
   {
    "duration": 36,
    "start_time": "2022-03-12T11:29:17.608Z"
   },
   {
    "duration": 83,
    "start_time": "2022-03-12T11:29:17.646Z"
   },
   {
    "duration": 23,
    "start_time": "2022-03-12T11:29:17.731Z"
   },
   {
    "duration": 54,
    "start_time": "2022-03-12T11:29:17.756Z"
   },
   {
    "duration": 24,
    "start_time": "2022-03-12T11:29:17.811Z"
   },
   {
    "duration": 38,
    "start_time": "2022-03-12T11:29:17.837Z"
   },
   {
    "duration": 143,
    "start_time": "2022-03-12T11:29:17.877Z"
   },
   {
    "duration": 6,
    "start_time": "2022-03-12T11:29:18.021Z"
   },
   {
    "duration": 9,
    "start_time": "2022-03-12T11:29:18.029Z"
   },
   {
    "duration": 8,
    "start_time": "2022-03-12T11:29:18.040Z"
   },
   {
    "duration": 318,
    "start_time": "2022-03-12T11:29:18.051Z"
   },
   {
    "duration": 31,
    "start_time": "2022-03-12T11:29:18.371Z"
   },
   {
    "duration": 6,
    "start_time": "2022-03-12T11:29:18.404Z"
   },
   {
    "duration": 289,
    "start_time": "2022-03-12T11:29:18.412Z"
   },
   {
    "duration": 7,
    "start_time": "2022-03-12T11:29:18.703Z"
   },
   {
    "duration": 223,
    "start_time": "2022-03-12T11:29:18.711Z"
   },
   {
    "duration": 6,
    "start_time": "2022-03-12T11:29:18.936Z"
   },
   {
    "duration": 222,
    "start_time": "2022-03-12T11:29:18.944Z"
   },
   {
    "duration": 6,
    "start_time": "2022-03-12T11:29:19.168Z"
   },
   {
    "duration": 8,
    "start_time": "2022-03-12T11:29:19.176Z"
   },
   {
    "duration": 222,
    "start_time": "2022-03-12T11:29:19.186Z"
   },
   {
    "duration": 5,
    "start_time": "2022-03-12T11:29:19.410Z"
   },
   {
    "duration": 225,
    "start_time": "2022-03-12T11:29:19.417Z"
   },
   {
    "duration": 6,
    "start_time": "2022-03-12T11:29:19.644Z"
   },
   {
    "duration": 202,
    "start_time": "2022-03-12T11:29:19.652Z"
   },
   {
    "duration": 6,
    "start_time": "2022-03-12T11:29:19.856Z"
   },
   {
    "duration": 6,
    "start_time": "2022-03-12T11:39:56.104Z"
   },
   {
    "duration": 70,
    "start_time": "2022-03-12T11:41:31.654Z"
   },
   {
    "duration": 6,
    "start_time": "2022-03-12T11:41:57.515Z"
   },
   {
    "duration": 6,
    "start_time": "2022-03-12T11:42:18.942Z"
   },
   {
    "duration": 6,
    "start_time": "2022-03-12T11:42:32.205Z"
   },
   {
    "duration": 6,
    "start_time": "2022-03-12T11:47:04.486Z"
   },
   {
    "duration": 31,
    "start_time": "2022-03-12T11:50:38.754Z"
   },
   {
    "duration": 6,
    "start_time": "2022-03-12T11:50:53.339Z"
   },
   {
    "duration": 34,
    "start_time": "2022-03-12T11:50:57.243Z"
   },
   {
    "duration": 8,
    "start_time": "2022-03-12T11:51:18.457Z"
   },
   {
    "duration": 41,
    "start_time": "2022-03-12T11:51:22.573Z"
   },
   {
    "duration": 9,
    "start_time": "2022-03-12T11:51:30.087Z"
   },
   {
    "duration": 6,
    "start_time": "2022-03-12T11:53:41.505Z"
   },
   {
    "duration": 824,
    "start_time": "2022-03-21T18:05:02.374Z"
   },
   {
    "duration": 379,
    "start_time": "2022-03-21T18:05:03.201Z"
   },
   {
    "duration": 27,
    "start_time": "2022-03-21T18:05:03.581Z"
   },
   {
    "duration": 12,
    "start_time": "2022-03-21T18:05:03.610Z"
   },
   {
    "duration": 21,
    "start_time": "2022-03-21T18:05:03.623Z"
   },
   {
    "duration": 8,
    "start_time": "2022-03-21T18:05:03.645Z"
   },
   {
    "duration": 19,
    "start_time": "2022-03-21T18:05:03.655Z"
   },
   {
    "duration": 30,
    "start_time": "2022-03-21T18:05:03.676Z"
   },
   {
    "duration": 10,
    "start_time": "2022-03-21T18:05:03.707Z"
   },
   {
    "duration": 8,
    "start_time": "2022-03-21T18:05:03.720Z"
   },
   {
    "duration": 11,
    "start_time": "2022-03-21T18:05:03.729Z"
   },
   {
    "duration": 10,
    "start_time": "2022-03-21T18:05:03.742Z"
   },
   {
    "duration": 64,
    "start_time": "2022-03-21T18:05:03.754Z"
   },
   {
    "duration": 25,
    "start_time": "2022-03-21T18:05:03.819Z"
   },
   {
    "duration": 21,
    "start_time": "2022-03-21T18:05:03.846Z"
   },
   {
    "duration": 34,
    "start_time": "2022-03-21T18:05:03.870Z"
   },
   {
    "duration": 28,
    "start_time": "2022-03-21T18:05:03.905Z"
   },
   {
    "duration": 76,
    "start_time": "2022-03-21T18:05:03.934Z"
   },
   {
    "duration": 18,
    "start_time": "2022-03-21T18:05:04.012Z"
   },
   {
    "duration": 34,
    "start_time": "2022-03-21T18:05:04.031Z"
   },
   {
    "duration": 39,
    "start_time": "2022-03-21T18:05:04.067Z"
   },
   {
    "duration": 37,
    "start_time": "2022-03-21T18:05:04.108Z"
   },
   {
    "duration": 120,
    "start_time": "2022-03-21T18:05:04.147Z"
   },
   {
    "duration": 3,
    "start_time": "2022-03-21T18:05:04.269Z"
   },
   {
    "duration": 7,
    "start_time": "2022-03-21T18:05:04.274Z"
   },
   {
    "duration": 19,
    "start_time": "2022-03-21T18:05:04.282Z"
   },
   {
    "duration": 148,
    "start_time": "2022-03-21T18:05:04.302Z"
   },
   {
    "duration": 21,
    "start_time": "2022-03-21T18:05:04.454Z"
   },
   {
    "duration": 7,
    "start_time": "2022-03-21T18:05:04.476Z"
   },
   {
    "duration": 450,
    "start_time": "2022-03-21T18:05:04.484Z"
   },
   {
    "duration": 6,
    "start_time": "2022-03-21T18:05:04.935Z"
   },
   {
    "duration": 150,
    "start_time": "2022-03-21T18:05:04.944Z"
   },
   {
    "duration": 9,
    "start_time": "2022-03-21T18:05:05.095Z"
   },
   {
    "duration": 156,
    "start_time": "2022-03-21T18:05:05.106Z"
   },
   {
    "duration": 5,
    "start_time": "2022-03-21T18:05:05.263Z"
   },
   {
    "duration": 29,
    "start_time": "2022-03-21T18:05:05.270Z"
   },
   {
    "duration": 142,
    "start_time": "2022-03-21T18:05:05.302Z"
   },
   {
    "duration": 6,
    "start_time": "2022-03-21T18:05:05.446Z"
   },
   {
    "duration": 162,
    "start_time": "2022-03-21T18:05:05.454Z"
   },
   {
    "duration": 6,
    "start_time": "2022-03-21T18:05:05.618Z"
   },
   {
    "duration": 138,
    "start_time": "2022-03-21T18:05:05.626Z"
   },
   {
    "duration": 6,
    "start_time": "2022-03-21T18:05:05.766Z"
   },
   {
    "duration": 5,
    "start_time": "2022-03-21T18:05:05.773Z"
   },
   {
    "duration": 24,
    "start_time": "2022-03-21T18:05:05.780Z"
   },
   {
    "duration": 4,
    "start_time": "2022-03-21T18:05:05.806Z"
   },
   {
    "duration": 196,
    "start_time": "2022-03-21T18:05:59.311Z"
   },
   {
    "duration": 10,
    "start_time": "2022-03-21T18:11:47.931Z"
   },
   {
    "duration": 786,
    "start_time": "2022-03-23T06:00:42.589Z"
   },
   {
    "duration": 395,
    "start_time": "2022-03-23T06:00:43.376Z"
   },
   {
    "duration": 26,
    "start_time": "2022-03-23T06:00:43.773Z"
   },
   {
    "duration": 21,
    "start_time": "2022-03-23T06:00:43.801Z"
   },
   {
    "duration": 21,
    "start_time": "2022-03-23T06:00:43.823Z"
   },
   {
    "duration": 8,
    "start_time": "2022-03-23T06:00:43.846Z"
   },
   {
    "duration": 21,
    "start_time": "2022-03-23T06:00:43.856Z"
   },
   {
    "duration": 7,
    "start_time": "2022-03-23T06:00:43.879Z"
   },
   {
    "duration": 12,
    "start_time": "2022-03-23T06:00:43.888Z"
   },
   {
    "duration": 33,
    "start_time": "2022-03-23T06:00:43.902Z"
   },
   {
    "duration": 14,
    "start_time": "2022-03-23T06:00:43.937Z"
   },
   {
    "duration": 12,
    "start_time": "2022-03-23T06:00:43.953Z"
   },
   {
    "duration": 41,
    "start_time": "2022-03-23T06:00:43.967Z"
   },
   {
    "duration": 42,
    "start_time": "2022-03-23T06:00:44.009Z"
   },
   {
    "duration": 25,
    "start_time": "2022-03-23T06:00:44.052Z"
   },
   {
    "duration": 14,
    "start_time": "2022-03-23T06:00:44.078Z"
   },
   {
    "duration": 52,
    "start_time": "2022-03-23T06:00:44.093Z"
   },
   {
    "duration": 11,
    "start_time": "2022-03-23T06:00:44.147Z"
   },
   {
    "duration": 76,
    "start_time": "2022-03-23T06:00:44.160Z"
   },
   {
    "duration": 17,
    "start_time": "2022-03-23T06:00:44.238Z"
   },
   {
    "duration": 35,
    "start_time": "2022-03-23T06:00:44.257Z"
   },
   {
    "duration": 43,
    "start_time": "2022-03-23T06:00:44.294Z"
   },
   {
    "duration": 5,
    "start_time": "2022-03-23T06:00:44.338Z"
   },
   {
    "duration": 33,
    "start_time": "2022-03-23T06:00:44.344Z"
   },
   {
    "duration": 112,
    "start_time": "2022-03-23T06:00:44.379Z"
   },
   {
    "duration": 3,
    "start_time": "2022-03-23T06:00:44.493Z"
   },
   {
    "duration": 6,
    "start_time": "2022-03-23T06:00:44.497Z"
   },
   {
    "duration": 6,
    "start_time": "2022-03-23T06:00:44.507Z"
   },
   {
    "duration": 158,
    "start_time": "2022-03-23T06:00:44.514Z"
   },
   {
    "duration": 20,
    "start_time": "2022-03-23T06:00:44.674Z"
   },
   {
    "duration": 7,
    "start_time": "2022-03-23T06:00:44.696Z"
   },
   {
    "duration": 441,
    "start_time": "2022-03-23T06:00:44.704Z"
   },
   {
    "duration": 6,
    "start_time": "2022-03-23T06:00:45.147Z"
   },
   {
    "duration": 151,
    "start_time": "2022-03-23T06:00:45.155Z"
   },
   {
    "duration": 5,
    "start_time": "2022-03-23T06:00:45.309Z"
   },
   {
    "duration": 151,
    "start_time": "2022-03-23T06:00:45.316Z"
   },
   {
    "duration": 6,
    "start_time": "2022-03-23T06:00:45.469Z"
   },
   {
    "duration": 8,
    "start_time": "2022-03-23T06:00:45.477Z"
   },
   {
    "duration": 158,
    "start_time": "2022-03-23T06:00:45.487Z"
   },
   {
    "duration": 6,
    "start_time": "2022-03-23T06:00:45.648Z"
   },
   {
    "duration": 161,
    "start_time": "2022-03-23T06:00:45.656Z"
   },
   {
    "duration": 17,
    "start_time": "2022-03-23T06:00:45.819Z"
   },
   {
    "duration": 153,
    "start_time": "2022-03-23T06:00:45.838Z"
   },
   {
    "duration": 7,
    "start_time": "2022-03-23T06:00:45.993Z"
   },
   {
    "duration": 9,
    "start_time": "2022-03-23T06:00:46.002Z"
   },
   {
    "duration": 29,
    "start_time": "2022-03-23T06:00:46.012Z"
   },
   {
    "duration": 6,
    "start_time": "2022-03-23T06:00:46.043Z"
   },
   {
    "duration": 10,
    "start_time": "2022-03-23T06:05:35.737Z"
   },
   {
    "duration": 1097,
    "start_time": "2022-03-23T16:30:00.734Z"
   },
   {
    "duration": 540,
    "start_time": "2022-03-23T16:30:01.834Z"
   },
   {
    "duration": 34,
    "start_time": "2022-03-23T16:30:02.377Z"
   },
   {
    "duration": 23,
    "start_time": "2022-03-23T16:30:02.413Z"
   },
   {
    "duration": 57,
    "start_time": "2022-03-23T16:30:02.438Z"
   },
   {
    "duration": 12,
    "start_time": "2022-03-23T16:30:02.497Z"
   },
   {
    "duration": 33,
    "start_time": "2022-03-23T16:30:02.511Z"
   },
   {
    "duration": 31,
    "start_time": "2022-03-23T16:30:02.546Z"
   },
   {
    "duration": 18,
    "start_time": "2022-03-23T16:30:02.579Z"
   },
   {
    "duration": 20,
    "start_time": "2022-03-23T16:30:02.601Z"
   },
   {
    "duration": 20,
    "start_time": "2022-03-23T16:30:02.623Z"
   },
   {
    "duration": 40,
    "start_time": "2022-03-23T16:30:02.645Z"
   },
   {
    "duration": 67,
    "start_time": "2022-03-23T16:30:02.687Z"
   },
   {
    "duration": 44,
    "start_time": "2022-03-23T16:30:02.756Z"
   },
   {
    "duration": 33,
    "start_time": "2022-03-23T16:30:02.803Z"
   },
   {
    "duration": 45,
    "start_time": "2022-03-23T16:30:02.839Z"
   },
   {
    "duration": 74,
    "start_time": "2022-03-23T16:30:02.886Z"
   },
   {
    "duration": 6,
    "start_time": "2022-03-23T16:30:02.963Z"
   },
   {
    "duration": 108,
    "start_time": "2022-03-23T16:30:02.972Z"
   },
   {
    "duration": 25,
    "start_time": "2022-03-23T16:30:03.083Z"
   },
   {
    "duration": 74,
    "start_time": "2022-03-23T16:30:03.111Z"
   },
   {
    "duration": 26,
    "start_time": "2022-03-23T16:30:03.188Z"
   },
   {
    "duration": 6,
    "start_time": "2022-03-23T16:30:03.216Z"
   },
   {
    "duration": 67,
    "start_time": "2022-03-23T16:30:03.224Z"
   },
   {
    "duration": 154,
    "start_time": "2022-03-23T16:30:03.293Z"
   },
   {
    "duration": 5,
    "start_time": "2022-03-23T16:30:03.448Z"
   },
   {
    "duration": 24,
    "start_time": "2022-03-23T16:30:03.455Z"
   },
   {
    "duration": 27,
    "start_time": "2022-03-23T16:30:03.484Z"
   },
   {
    "duration": 272,
    "start_time": "2022-03-23T16:30:03.514Z"
   },
   {
    "duration": 29,
    "start_time": "2022-03-23T16:30:03.788Z"
   },
   {
    "duration": 9,
    "start_time": "2022-03-23T16:30:03.820Z"
   },
   {
    "duration": 915,
    "start_time": "2022-03-23T16:30:03.831Z"
   },
   {
    "duration": 9,
    "start_time": "2022-03-23T16:30:04.748Z"
   },
   {
    "duration": 251,
    "start_time": "2022-03-23T16:30:04.774Z"
   },
   {
    "duration": 8,
    "start_time": "2022-03-23T16:30:05.028Z"
   },
   {
    "duration": 249,
    "start_time": "2022-03-23T16:30:05.038Z"
   },
   {
    "duration": 10,
    "start_time": "2022-03-23T16:30:05.289Z"
   },
   {
    "duration": 29,
    "start_time": "2022-03-23T16:30:05.301Z"
   },
   {
    "duration": 250,
    "start_time": "2022-03-23T16:30:05.332Z"
   },
   {
    "duration": 8,
    "start_time": "2022-03-23T16:30:05.584Z"
   },
   {
    "duration": 281,
    "start_time": "2022-03-23T16:30:05.593Z"
   },
   {
    "duration": 8,
    "start_time": "2022-03-23T16:30:05.876Z"
   },
   {
    "duration": 271,
    "start_time": "2022-03-23T16:30:05.886Z"
   },
   {
    "duration": 17,
    "start_time": "2022-03-23T16:30:06.160Z"
   },
   {
    "duration": 27,
    "start_time": "2022-03-23T16:30:06.180Z"
   },
   {
    "duration": 33,
    "start_time": "2022-03-23T16:30:06.210Z"
   },
   {
    "duration": 23,
    "start_time": "2022-03-23T16:30:06.245Z"
   },
   {
    "duration": 46,
    "start_time": "2022-03-23T16:32:44.255Z"
   },
   {
    "duration": 32,
    "start_time": "2022-03-23T16:33:01.587Z"
   },
   {
    "duration": 44,
    "start_time": "2022-03-23T16:33:03.209Z"
   },
   {
    "duration": 44,
    "start_time": "2022-03-23T16:33:43.999Z"
   },
   {
    "duration": 1061,
    "start_time": "2022-03-23T16:36:18.653Z"
   },
   {
    "duration": 495,
    "start_time": "2022-03-23T16:36:19.717Z"
   },
   {
    "duration": 35,
    "start_time": "2022-03-23T16:36:20.214Z"
   },
   {
    "duration": 29,
    "start_time": "2022-03-23T16:36:20.252Z"
   },
   {
    "duration": 31,
    "start_time": "2022-03-23T16:36:20.283Z"
   },
   {
    "duration": 12,
    "start_time": "2022-03-23T16:36:20.316Z"
   },
   {
    "duration": 48,
    "start_time": "2022-03-23T16:36:20.330Z"
   },
   {
    "duration": 11,
    "start_time": "2022-03-23T16:36:20.380Z"
   },
   {
    "duration": 27,
    "start_time": "2022-03-23T16:36:20.393Z"
   },
   {
    "duration": 22,
    "start_time": "2022-03-23T16:36:20.423Z"
   },
   {
    "duration": 30,
    "start_time": "2022-03-23T16:36:20.447Z"
   },
   {
    "duration": 40,
    "start_time": "2022-03-23T16:36:20.479Z"
   },
   {
    "duration": 64,
    "start_time": "2022-03-23T16:36:20.521Z"
   },
   {
    "duration": 42,
    "start_time": "2022-03-23T16:36:20.588Z"
   },
   {
    "duration": 56,
    "start_time": "2022-03-23T16:36:20.633Z"
   },
   {
    "duration": 20,
    "start_time": "2022-03-23T16:36:20.692Z"
   },
   {
    "duration": 62,
    "start_time": "2022-03-23T16:36:20.714Z"
   },
   {
    "duration": 7,
    "start_time": "2022-03-23T16:36:20.778Z"
   },
   {
    "duration": 109,
    "start_time": "2022-03-23T16:36:20.787Z"
   },
   {
    "duration": 25,
    "start_time": "2022-03-23T16:36:20.898Z"
   },
   {
    "duration": 71,
    "start_time": "2022-03-23T16:36:20.926Z"
   },
   {
    "duration": 27,
    "start_time": "2022-03-23T16:36:20.999Z"
   },
   {
    "duration": 67,
    "start_time": "2022-03-23T16:36:21.028Z"
   },
   {
    "duration": 131,
    "start_time": "2022-03-23T16:36:21.097Z"
   },
   {
    "duration": 5,
    "start_time": "2022-03-23T16:36:21.230Z"
   },
   {
    "duration": 34,
    "start_time": "2022-03-23T16:36:21.237Z"
   },
   {
    "duration": 24,
    "start_time": "2022-03-23T16:36:21.273Z"
   },
   {
    "duration": 257,
    "start_time": "2022-03-23T16:36:21.302Z"
   },
   {
    "duration": 38,
    "start_time": "2022-03-23T16:36:21.561Z"
   },
   {
    "duration": 9,
    "start_time": "2022-03-23T16:36:21.601Z"
   },
   {
    "duration": 599,
    "start_time": "2022-03-23T16:36:21.612Z"
   },
   {
    "duration": 8,
    "start_time": "2022-03-23T16:36:22.213Z"
   },
   {
    "duration": 256,
    "start_time": "2022-03-23T16:36:22.223Z"
   },
   {
    "duration": 9,
    "start_time": "2022-03-23T16:36:22.481Z"
   },
   {
    "duration": 243,
    "start_time": "2022-03-23T16:36:22.493Z"
   },
   {
    "duration": 8,
    "start_time": "2022-03-23T16:36:22.739Z"
   },
   {
    "duration": 26,
    "start_time": "2022-03-23T16:36:22.749Z"
   },
   {
    "duration": 263,
    "start_time": "2022-03-23T16:36:22.778Z"
   },
   {
    "duration": 8,
    "start_time": "2022-03-23T16:36:23.043Z"
   },
   {
    "duration": 274,
    "start_time": "2022-03-23T16:36:23.053Z"
   },
   {
    "duration": 8,
    "start_time": "2022-03-23T16:36:23.330Z"
   },
   {
    "duration": 264,
    "start_time": "2022-03-23T16:36:23.340Z"
   },
   {
    "duration": 8,
    "start_time": "2022-03-23T16:36:23.606Z"
   },
   {
    "duration": 21,
    "start_time": "2022-03-23T16:36:23.616Z"
   },
   {
    "duration": 39,
    "start_time": "2022-03-23T16:36:23.640Z"
   },
   {
    "duration": 25,
    "start_time": "2022-03-23T16:36:23.681Z"
   },
   {
    "duration": 1170,
    "start_time": "2022-03-23T16:52:27.220Z"
   },
   {
    "duration": 497,
    "start_time": "2022-03-23T16:52:28.393Z"
   },
   {
    "duration": 36,
    "start_time": "2022-03-23T16:52:28.895Z"
   },
   {
    "duration": 22,
    "start_time": "2022-03-23T16:52:28.934Z"
   },
   {
    "duration": 31,
    "start_time": "2022-03-23T16:52:28.974Z"
   },
   {
    "duration": 12,
    "start_time": "2022-03-23T16:52:29.008Z"
   },
   {
    "duration": 55,
    "start_time": "2022-03-23T16:52:29.022Z"
   },
   {
    "duration": 11,
    "start_time": "2022-03-23T16:52:29.079Z"
   },
   {
    "duration": 16,
    "start_time": "2022-03-23T16:52:29.093Z"
   },
   {
    "duration": 13,
    "start_time": "2022-03-23T16:52:29.111Z"
   },
   {
    "duration": 52,
    "start_time": "2022-03-23T16:52:29.127Z"
   },
   {
    "duration": 16,
    "start_time": "2022-03-23T16:52:29.182Z"
   },
   {
    "duration": 79,
    "start_time": "2022-03-23T16:52:29.200Z"
   },
   {
    "duration": 40,
    "start_time": "2022-03-23T16:52:29.281Z"
   },
   {
    "duration": 55,
    "start_time": "2022-03-23T16:52:29.323Z"
   },
   {
    "duration": 22,
    "start_time": "2022-03-23T16:52:29.380Z"
   },
   {
    "duration": 52,
    "start_time": "2022-03-23T16:52:29.406Z"
   },
   {
    "duration": 7,
    "start_time": "2022-03-23T16:52:29.475Z"
   },
   {
    "duration": 113,
    "start_time": "2022-03-23T16:52:29.484Z"
   },
   {
    "duration": 28,
    "start_time": "2022-03-23T16:52:29.599Z"
   },
   {
    "duration": 75,
    "start_time": "2022-03-23T16:52:29.630Z"
   },
   {
    "duration": 29,
    "start_time": "2022-03-23T16:52:29.707Z"
   },
   {
    "duration": 72,
    "start_time": "2022-03-23T16:52:29.739Z"
   },
   {
    "duration": 137,
    "start_time": "2022-03-23T16:52:29.814Z"
   },
   {
    "duration": 4,
    "start_time": "2022-03-23T16:52:29.954Z"
   },
   {
    "duration": 14,
    "start_time": "2022-03-23T16:52:29.960Z"
   },
   {
    "duration": 10,
    "start_time": "2022-03-23T16:52:29.979Z"
   },
   {
    "duration": 268,
    "start_time": "2022-03-23T16:52:29.991Z"
   },
   {
    "duration": 42,
    "start_time": "2022-03-23T16:52:30.262Z"
   },
   {
    "duration": 27,
    "start_time": "2022-03-23T16:52:30.306Z"
   },
   {
    "duration": 542,
    "start_time": "2022-03-23T16:52:30.335Z"
   },
   {
    "duration": 10,
    "start_time": "2022-03-23T16:52:30.880Z"
   },
   {
    "duration": 274,
    "start_time": "2022-03-23T16:52:30.893Z"
   },
   {
    "duration": 8,
    "start_time": "2022-03-23T16:52:31.169Z"
   },
   {
    "duration": 255,
    "start_time": "2022-03-23T16:52:31.179Z"
   },
   {
    "duration": 8,
    "start_time": "2022-03-23T16:52:31.436Z"
   },
   {
    "duration": 30,
    "start_time": "2022-03-23T16:52:31.446Z"
   },
   {
    "duration": 259,
    "start_time": "2022-03-23T16:52:31.479Z"
   },
   {
    "duration": 9,
    "start_time": "2022-03-23T16:52:31.740Z"
   },
   {
    "duration": 264,
    "start_time": "2022-03-23T16:52:31.751Z"
   },
   {
    "duration": 8,
    "start_time": "2022-03-23T16:52:32.018Z"
   },
   {
    "duration": 252,
    "start_time": "2022-03-23T16:52:32.028Z"
   },
   {
    "duration": 8,
    "start_time": "2022-03-23T16:52:32.282Z"
   },
   {
    "duration": 15,
    "start_time": "2022-03-23T16:52:32.292Z"
   },
   {
    "duration": 23,
    "start_time": "2022-03-23T16:52:32.309Z"
   },
   {
    "duration": 28,
    "start_time": "2022-03-23T16:52:32.334Z"
   },
   {
    "duration": 20,
    "start_time": "2022-03-23T16:55:12.798Z"
   },
   {
    "duration": 1584,
    "start_time": "2022-03-23T16:55:25.198Z"
   },
   {
    "duration": 17,
    "start_time": "2022-03-23T16:55:31.285Z"
   },
   {
    "duration": 35,
    "start_time": "2022-03-23T16:57:38.605Z"
   },
   {
    "duration": 35,
    "start_time": "2022-03-23T17:00:26.769Z"
   },
   {
    "duration": 1367,
    "start_time": "2022-03-23T17:00:32.680Z"
   },
   {
    "duration": 584,
    "start_time": "2022-03-23T17:00:34.050Z"
   },
   {
    "duration": 35,
    "start_time": "2022-03-23T17:00:34.636Z"
   },
   {
    "duration": 18,
    "start_time": "2022-03-23T17:00:34.676Z"
   },
   {
    "duration": 30,
    "start_time": "2022-03-23T17:00:34.697Z"
   },
   {
    "duration": 12,
    "start_time": "2022-03-23T17:00:34.729Z"
   },
   {
    "duration": 28,
    "start_time": "2022-03-23T17:00:34.777Z"
   },
   {
    "duration": 10,
    "start_time": "2022-03-23T17:00:34.807Z"
   },
   {
    "duration": 15,
    "start_time": "2022-03-23T17:00:34.819Z"
   },
   {
    "duration": 40,
    "start_time": "2022-03-23T17:00:34.838Z"
   },
   {
    "duration": 17,
    "start_time": "2022-03-23T17:00:34.880Z"
   },
   {
    "duration": 16,
    "start_time": "2022-03-23T17:00:34.899Z"
   },
   {
    "duration": 85,
    "start_time": "2022-03-23T17:00:34.917Z"
   },
   {
    "duration": 42,
    "start_time": "2022-03-23T17:00:35.004Z"
   },
   {
    "duration": 53,
    "start_time": "2022-03-23T17:00:35.048Z"
   },
   {
    "duration": 20,
    "start_time": "2022-03-23T17:00:35.103Z"
   },
   {
    "duration": 66,
    "start_time": "2022-03-23T17:00:35.126Z"
   },
   {
    "duration": 8,
    "start_time": "2022-03-23T17:00:35.195Z"
   },
   {
    "duration": 110,
    "start_time": "2022-03-23T17:00:35.205Z"
   },
   {
    "duration": 27,
    "start_time": "2022-03-23T17:00:35.317Z"
   },
   {
    "duration": 65,
    "start_time": "2022-03-23T17:00:35.346Z"
   },
   {
    "duration": 27,
    "start_time": "2022-03-23T17:00:35.413Z"
   },
   {
    "duration": 72,
    "start_time": "2022-03-23T17:00:35.442Z"
   },
   {
    "duration": 134,
    "start_time": "2022-03-23T17:00:35.517Z"
   },
   {
    "duration": 5,
    "start_time": "2022-03-23T17:00:35.655Z"
   },
   {
    "duration": 16,
    "start_time": "2022-03-23T17:00:35.662Z"
   },
   {
    "duration": 9,
    "start_time": "2022-03-23T17:00:35.681Z"
   },
   {
    "duration": 279,
    "start_time": "2022-03-23T17:00:35.697Z"
   },
   {
    "duration": 34,
    "start_time": "2022-03-23T17:00:35.978Z"
   },
   {
    "duration": 11,
    "start_time": "2022-03-23T17:00:36.015Z"
   },
   {
    "duration": 276,
    "start_time": "2022-03-23T17:00:36.028Z"
   },
   {
    "duration": 284,
    "start_time": "2022-03-23T17:00:36.307Z"
   },
   {
    "duration": 10,
    "start_time": "2022-03-23T17:00:36.593Z"
   },
   {
    "duration": 267,
    "start_time": "2022-03-23T17:00:36.606Z"
   },
   {
    "duration": 9,
    "start_time": "2022-03-23T17:00:36.876Z"
   },
   {
    "duration": 259,
    "start_time": "2022-03-23T17:00:36.887Z"
   },
   {
    "duration": 8,
    "start_time": "2022-03-23T17:00:37.149Z"
   },
   {
    "duration": 21,
    "start_time": "2022-03-23T17:00:37.160Z"
   },
   {
    "duration": 261,
    "start_time": "2022-03-23T17:00:37.184Z"
   },
   {
    "duration": 9,
    "start_time": "2022-03-23T17:00:37.447Z"
   },
   {
    "duration": 295,
    "start_time": "2022-03-23T17:00:37.458Z"
   },
   {
    "duration": 19,
    "start_time": "2022-03-23T17:00:37.756Z"
   },
   {
    "duration": 251,
    "start_time": "2022-03-23T17:00:37.777Z"
   },
   {
    "duration": 9,
    "start_time": "2022-03-23T17:00:38.030Z"
   },
   {
    "duration": 13,
    "start_time": "2022-03-23T17:00:38.042Z"
   },
   {
    "duration": 12,
    "start_time": "2022-03-23T17:00:38.075Z"
   },
   {
    "duration": 10,
    "start_time": "2022-03-23T17:00:38.090Z"
   },
   {
    "duration": 8,
    "start_time": "2022-03-23T17:04:21.935Z"
   },
   {
    "duration": 148,
    "start_time": "2022-03-23T17:04:36.841Z"
   },
   {
    "duration": 8,
    "start_time": "2022-03-23T17:04:40.507Z"
   },
   {
    "duration": 14,
    "start_time": "2022-03-23T17:05:07.303Z"
   },
   {
    "duration": 227,
    "start_time": "2022-03-23T17:08:38.495Z"
   },
   {
    "duration": 9,
    "start_time": "2022-03-23T17:09:17.774Z"
   },
   {
    "duration": 14,
    "start_time": "2022-03-23T17:09:34.484Z"
   },
   {
    "duration": 11,
    "start_time": "2022-03-23T17:09:41.186Z"
   },
   {
    "duration": 223,
    "start_time": "2022-03-23T17:10:20.336Z"
   },
   {
    "duration": 512,
    "start_time": "2022-03-23T17:10:37.118Z"
   },
   {
    "duration": 14,
    "start_time": "2022-03-23T17:11:36.631Z"
   },
   {
    "duration": 15,
    "start_time": "2022-03-23T17:12:06.014Z"
   },
   {
    "duration": 1482,
    "start_time": "2022-03-23T17:26:12.726Z"
   },
   {
    "duration": 748,
    "start_time": "2022-03-23T17:26:14.211Z"
   },
   {
    "duration": 55,
    "start_time": "2022-03-23T17:26:14.961Z"
   },
   {
    "duration": 20,
    "start_time": "2022-03-23T17:26:15.020Z"
   },
   {
    "duration": 51,
    "start_time": "2022-03-23T17:26:15.043Z"
   },
   {
    "duration": 14,
    "start_time": "2022-03-23T17:26:15.096Z"
   },
   {
    "duration": 33,
    "start_time": "2022-03-23T17:26:15.112Z"
   },
   {
    "duration": 41,
    "start_time": "2022-03-23T17:26:15.147Z"
   },
   {
    "duration": 25,
    "start_time": "2022-03-23T17:26:15.191Z"
   },
   {
    "duration": 19,
    "start_time": "2022-03-23T17:26:15.226Z"
   },
   {
    "duration": 46,
    "start_time": "2022-03-23T17:26:15.248Z"
   },
   {
    "duration": 26,
    "start_time": "2022-03-23T17:26:15.297Z"
   },
   {
    "duration": 108,
    "start_time": "2022-03-23T17:26:15.326Z"
   },
   {
    "duration": 76,
    "start_time": "2022-03-23T17:26:15.436Z"
   },
   {
    "duration": 39,
    "start_time": "2022-03-23T17:26:15.515Z"
   },
   {
    "duration": 40,
    "start_time": "2022-03-23T17:26:15.557Z"
   },
   {
    "duration": 52,
    "start_time": "2022-03-23T17:26:15.602Z"
   },
   {
    "duration": 23,
    "start_time": "2022-03-23T17:26:15.656Z"
   },
   {
    "duration": 124,
    "start_time": "2022-03-23T17:26:15.682Z"
   },
   {
    "duration": 32,
    "start_time": "2022-03-23T17:26:15.808Z"
   },
   {
    "duration": 99,
    "start_time": "2022-03-23T17:26:15.843Z"
   },
   {
    "duration": 43,
    "start_time": "2022-03-23T17:26:15.946Z"
   },
   {
    "duration": 67,
    "start_time": "2022-03-23T17:26:15.992Z"
   },
   {
    "duration": 201,
    "start_time": "2022-03-23T17:26:16.075Z"
   },
   {
    "duration": 7,
    "start_time": "2022-03-23T17:26:16.280Z"
   },
   {
    "duration": 14,
    "start_time": "2022-03-23T17:26:16.290Z"
   },
   {
    "duration": 9,
    "start_time": "2022-03-23T17:26:16.307Z"
   },
   {
    "duration": 486,
    "start_time": "2022-03-23T17:26:16.321Z"
   },
   {
    "duration": 37,
    "start_time": "2022-03-23T17:26:16.810Z"
   },
   {
    "duration": 36,
    "start_time": "2022-03-23T17:26:16.849Z"
   },
   {
    "duration": 470,
    "start_time": "2022-03-23T17:26:16.888Z"
   },
   {
    "duration": 20,
    "start_time": "2022-03-23T17:26:17.361Z"
   },
   {
    "duration": 273,
    "start_time": "2022-03-23T17:26:17.383Z"
   },
   {
    "duration": 21,
    "start_time": "2022-03-23T17:26:17.659Z"
   },
   {
    "duration": 277,
    "start_time": "2022-03-23T17:26:17.682Z"
   },
   {
    "duration": 21,
    "start_time": "2022-03-23T17:26:17.962Z"
   },
   {
    "duration": 10,
    "start_time": "2022-03-23T17:26:17.986Z"
   },
   {
    "duration": 19,
    "start_time": "2022-03-23T17:26:17.998Z"
   },
   {
    "duration": 18,
    "start_time": "2022-03-23T17:26:18.019Z"
   },
   {
    "duration": 1280,
    "start_time": "2022-03-24T05:57:18.987Z"
   },
   {
    "duration": 514,
    "start_time": "2022-03-24T05:57:20.270Z"
   },
   {
    "duration": 28,
    "start_time": "2022-03-24T05:57:20.786Z"
   },
   {
    "duration": 13,
    "start_time": "2022-03-24T05:57:20.816Z"
   },
   {
    "duration": 23,
    "start_time": "2022-03-24T05:57:20.830Z"
   },
   {
    "duration": 9,
    "start_time": "2022-03-24T05:57:20.855Z"
   },
   {
    "duration": 22,
    "start_time": "2022-03-24T05:57:20.865Z"
   },
   {
    "duration": 8,
    "start_time": "2022-03-24T05:57:20.888Z"
   },
   {
    "duration": 39,
    "start_time": "2022-03-24T05:57:20.897Z"
   },
   {
    "duration": 11,
    "start_time": "2022-03-24T05:57:20.940Z"
   },
   {
    "duration": 14,
    "start_time": "2022-03-24T05:57:20.953Z"
   },
   {
    "duration": 14,
    "start_time": "2022-03-24T05:57:20.968Z"
   },
   {
    "duration": 67,
    "start_time": "2022-03-24T05:57:20.984Z"
   },
   {
    "duration": 31,
    "start_time": "2022-03-24T05:57:21.053Z"
   },
   {
    "duration": 47,
    "start_time": "2022-03-24T05:57:21.086Z"
   },
   {
    "duration": 15,
    "start_time": "2022-03-24T05:57:21.135Z"
   },
   {
    "duration": 36,
    "start_time": "2022-03-24T05:57:21.152Z"
   },
   {
    "duration": 5,
    "start_time": "2022-03-24T05:57:21.190Z"
   },
   {
    "duration": 95,
    "start_time": "2022-03-24T05:57:21.197Z"
   },
   {
    "duration": 20,
    "start_time": "2022-03-24T05:57:21.294Z"
   },
   {
    "duration": 38,
    "start_time": "2022-03-24T05:57:21.333Z"
   },
   {
    "duration": 20,
    "start_time": "2022-03-24T05:57:21.373Z"
   },
   {
    "duration": 59,
    "start_time": "2022-03-24T05:57:21.395Z"
   },
   {
    "duration": 98,
    "start_time": "2022-03-24T05:57:21.455Z"
   },
   {
    "duration": 3,
    "start_time": "2022-03-24T05:57:21.555Z"
   },
   {
    "duration": 19,
    "start_time": "2022-03-24T05:57:21.560Z"
   },
   {
    "duration": 9,
    "start_time": "2022-03-24T05:57:21.581Z"
   },
   {
    "duration": 168,
    "start_time": "2022-03-24T05:57:21.594Z"
   },
   {
    "duration": 23,
    "start_time": "2022-03-24T05:57:21.764Z"
   },
   {
    "duration": 9,
    "start_time": "2022-03-24T05:57:21.789Z"
   },
   {
    "duration": 198,
    "start_time": "2022-03-24T05:57:21.799Z"
   },
   {
    "duration": 9,
    "start_time": "2022-03-24T05:57:21.998Z"
   },
   {
    "duration": 164,
    "start_time": "2022-03-24T05:57:22.009Z"
   },
   {
    "duration": 9,
    "start_time": "2022-03-24T05:57:22.175Z"
   },
   {
    "duration": 187,
    "start_time": "2022-03-24T05:57:22.185Z"
   },
   {
    "duration": 10,
    "start_time": "2022-03-24T05:57:22.374Z"
   },
   {
    "duration": 6,
    "start_time": "2022-03-24T05:57:22.386Z"
   },
   {
    "duration": 16,
    "start_time": "2022-03-24T05:57:22.394Z"
   },
   {
    "duration": 26,
    "start_time": "2022-03-24T05:57:22.412Z"
   },
   {
    "duration": 11,
    "start_time": "2022-03-24T06:01:18.615Z"
   }
  ],
  "kernelspec": {
   "display_name": "Python 3.10.2 64-bit",
   "language": "python",
   "name": "python3"
  },
  "language_info": {
   "codemirror_mode": {
    "name": "ipython",
    "version": 3
   },
   "file_extension": ".py",
   "mimetype": "text/x-python",
   "name": "python",
   "nbconvert_exporter": "python",
   "pygments_lexer": "ipython3",
   "version": "3.10.2"
  },
  "toc": {
   "base_numbering": 1,
   "nav_menu": {
    "height": "12px",
    "width": "160px"
   },
   "number_sections": true,
   "sideBar": true,
   "skip_h1_title": true,
   "title_cell": "Table of Contents",
   "title_sidebar": "Contents",
   "toc_cell": false,
   "toc_position": {
    "height": "calc(100% - 180px)",
    "left": "10px",
    "top": "150px",
    "width": "293.391px"
   },
   "toc_section_display": true,
   "toc_window_display": true
  },
  "vscode": {
   "interpreter": {
    "hash": "35d56784a9533165a15cd80766066c6e160ff9c87db8908bb17dcd0ff56fd6bf"
   }
  }
 },
 "nbformat": 4,
 "nbformat_minor": 2
}
