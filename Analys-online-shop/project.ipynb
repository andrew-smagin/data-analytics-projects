{
 "cells": [
  {
   "cell_type": "markdown",
   "metadata": {},
   "source": [
    "## Tasks of project\n",
    "- conduct an exploratory analysis of the data\n",
    "- trade assortment analysis\n",
    "- make and check statistical hypotheses"
   ]
  },
  {
   "cell_type": "markdown",
   "metadata": {},
   "source": [
    "## Download data"
   ]
  },
  {
   "cell_type": "code",
   "execution_count": 1,
   "metadata": {},
   "outputs": [],
   "source": [
    "import pandas as pd\n",
    "import matplotlib.pyplot as plt\n",
    "from scipy import stats as st\n",
    "import warnings"
   ]
  },
  {
   "cell_type": "code",
   "execution_count": 2,
   "metadata": {},
   "outputs": [],
   "source": [
    "warnings.filterwarnings('ignore')"
   ]
  },
  {
   "cell_type": "code",
   "execution_count": 3,
   "metadata": {},
   "outputs": [
    {
     "name": "stdout",
     "output_type": "stream",
     "text": [
      "<class 'pandas.core.frame.DataFrame'>\n",
      "RangeIndex: 6737 entries, 0 to 6736\n",
      "Data columns (total 6 columns):\n",
      " #   Column       Non-Null Count  Dtype  \n",
      "---  ------       --------------  -----  \n",
      " 0   date         6737 non-null   int64  \n",
      " 1   customer_id  6737 non-null   object \n",
      " 2   order_id     6737 non-null   int64  \n",
      " 3   product      6737 non-null   object \n",
      " 4   quantity     6737 non-null   int64  \n",
      " 5   price        6737 non-null   float64\n",
      "dtypes: float64(1), int64(3), object(2)\n",
      "memory usage: 315.9+ KB\n"
     ]
    },
    {
     "data": {
      "text/plain": [
       "None"
      ]
     },
     "metadata": {},
     "output_type": "display_data"
    },
    {
     "data": {
      "text/html": [
       "<div>\n",
       "<style scoped>\n",
       "    .dataframe tbody tr th:only-of-type {\n",
       "        vertical-align: middle;\n",
       "    }\n",
       "\n",
       "    .dataframe tbody tr th {\n",
       "        vertical-align: top;\n",
       "    }\n",
       "\n",
       "    .dataframe thead th {\n",
       "        text-align: right;\n",
       "    }\n",
       "</style>\n",
       "<table border=\"1\" class=\"dataframe\">\n",
       "  <thead>\n",
       "    <tr style=\"text-align: right;\">\n",
       "      <th></th>\n",
       "      <th>date</th>\n",
       "      <th>customer_id</th>\n",
       "      <th>order_id</th>\n",
       "      <th>product</th>\n",
       "      <th>quantity</th>\n",
       "      <th>price</th>\n",
       "    </tr>\n",
       "  </thead>\n",
       "  <tbody>\n",
       "    <tr>\n",
       "      <th>0</th>\n",
       "      <td>2018100100</td>\n",
       "      <td>ee47d746-6d2f-4d3c-9622-c31412542920</td>\n",
       "      <td>68477</td>\n",
       "      <td>Комнатное растение в горшке Алое Вера, d12, h30</td>\n",
       "      <td>1</td>\n",
       "      <td>142.0</td>\n",
       "    </tr>\n",
       "    <tr>\n",
       "      <th>1</th>\n",
       "      <td>2018100100</td>\n",
       "      <td>ee47d746-6d2f-4d3c-9622-c31412542920</td>\n",
       "      <td>68477</td>\n",
       "      <td>Комнатное растение в горшке Кофе Арабика, d12,...</td>\n",
       "      <td>1</td>\n",
       "      <td>194.0</td>\n",
       "    </tr>\n",
       "    <tr>\n",
       "      <th>2</th>\n",
       "      <td>2018100100</td>\n",
       "      <td>ee47d746-6d2f-4d3c-9622-c31412542920</td>\n",
       "      <td>68477</td>\n",
       "      <td>Радермахера d-12 см h-20 см</td>\n",
       "      <td>1</td>\n",
       "      <td>112.0</td>\n",
       "    </tr>\n",
       "    <tr>\n",
       "      <th>3</th>\n",
       "      <td>2018100100</td>\n",
       "      <td>ee47d746-6d2f-4d3c-9622-c31412542920</td>\n",
       "      <td>68477</td>\n",
       "      <td>Хризолидокарпус Лутесценс d-9 см</td>\n",
       "      <td>1</td>\n",
       "      <td>179.0</td>\n",
       "    </tr>\n",
       "    <tr>\n",
       "      <th>4</th>\n",
       "      <td>2018100100</td>\n",
       "      <td>ee47d746-6d2f-4d3c-9622-c31412542920</td>\n",
       "      <td>68477</td>\n",
       "      <td>Циперус Зумула d-12 см h-25 см</td>\n",
       "      <td>1</td>\n",
       "      <td>112.0</td>\n",
       "    </tr>\n",
       "  </tbody>\n",
       "</table>\n",
       "</div>"
      ],
      "text/plain": [
       "         date                           customer_id  order_id  \\\n",
       "0  2018100100  ee47d746-6d2f-4d3c-9622-c31412542920     68477   \n",
       "1  2018100100  ee47d746-6d2f-4d3c-9622-c31412542920     68477   \n",
       "2  2018100100  ee47d746-6d2f-4d3c-9622-c31412542920     68477   \n",
       "3  2018100100  ee47d746-6d2f-4d3c-9622-c31412542920     68477   \n",
       "4  2018100100  ee47d746-6d2f-4d3c-9622-c31412542920     68477   \n",
       "\n",
       "                                             product  quantity  price  \n",
       "0    Комнатное растение в горшке Алое Вера, d12, h30         1  142.0  \n",
       "1  Комнатное растение в горшке Кофе Арабика, d12,...         1  194.0  \n",
       "2                        Радермахера d-12 см h-20 см         1  112.0  \n",
       "3                   Хризолидокарпус Лутесценс d-9 см         1  179.0  \n",
       "4                     Циперус Зумула d-12 см h-25 см         1  112.0  "
      ]
     },
     "execution_count": 3,
     "metadata": {},
     "output_type": "execute_result"
    }
   ],
   "source": [
    "# download dataset\n",
    "path = ''\n",
    "data = pd.read_csv(path)\n",
    "display(data.info())\n",
    "data.head()"
   ]
  },
  {
   "cell_type": "markdown",
   "metadata": {},
   "source": [
    "## Conduct an exploratory analysis of the data\n",
    "### Check NA values"
   ]
  },
  {
   "cell_type": "code",
   "execution_count": 4,
   "metadata": {},
   "outputs": [
    {
     "name": "stdout",
     "output_type": "stream",
     "text": [
      "Column: date\n",
      "False    6737\n",
      "Name: date, dtype: int64\n",
      "\n",
      "Column: customer_id\n",
      "False    6737\n",
      "Name: customer_id, dtype: int64\n",
      "\n",
      "Column: order_id\n",
      "False    6737\n",
      "Name: order_id, dtype: int64\n",
      "\n",
      "Column: product\n",
      "False    6737\n",
      "Name: product, dtype: int64\n",
      "\n",
      "Column: quantity\n",
      "False    6737\n",
      "Name: quantity, dtype: int64\n",
      "\n",
      "Column: price\n",
      "False    6737\n",
      "Name: price, dtype: int64\n",
      "\n"
     ]
    }
   ],
   "source": [
    "for col in data.columns:\n",
    "    print('Column:', col)\n",
    "    print(data[col].isna().value_counts())\n",
    "    print()"
   ]
  },
  {
   "cell_type": "markdown",
   "metadata": {},
   "source": [
    "There are not NA values\n",
    "### Check dublicates"
   ]
  },
  {
   "cell_type": "code",
   "execution_count": 5,
   "metadata": {},
   "outputs": [
    {
     "data": {
      "text/plain": [
       "False    6737\n",
       "dtype: int64"
      ]
     },
     "execution_count": 5,
     "metadata": {},
     "output_type": "execute_result"
    }
   ],
   "source": [
    "data.duplicated().value_counts()"
   ]
  },
  {
   "cell_type": "markdown",
   "metadata": {},
   "source": [
    "### Check count users per transaction"
   ]
  },
  {
   "cell_type": "code",
   "execution_count": 6,
   "metadata": {},
   "outputs": [
    {
     "data": {
      "text/html": [
       "<div>\n",
       "<style scoped>\n",
       "    .dataframe tbody tr th:only-of-type {\n",
       "        vertical-align: middle;\n",
       "    }\n",
       "\n",
       "    .dataframe tbody tr th {\n",
       "        vertical-align: top;\n",
       "    }\n",
       "\n",
       "    .dataframe thead th {\n",
       "        text-align: right;\n",
       "    }\n",
       "</style>\n",
       "<table border=\"1\" class=\"dataframe\">\n",
       "  <thead>\n",
       "    <tr style=\"text-align: right;\">\n",
       "      <th></th>\n",
       "      <th>customer_id</th>\n",
       "      <th>order_id</th>\n",
       "    </tr>\n",
       "    <tr>\n",
       "      <th>order_id</th>\n",
       "      <th></th>\n",
       "      <th></th>\n",
       "    </tr>\n",
       "  </thead>\n",
       "  <tbody>\n",
       "    <tr>\n",
       "      <th>14872</th>\n",
       "      <td>2</td>\n",
       "      <td>9</td>\n",
       "    </tr>\n",
       "    <tr>\n",
       "      <th>68785</th>\n",
       "      <td>2</td>\n",
       "      <td>2</td>\n",
       "    </tr>\n",
       "    <tr>\n",
       "      <th>69283</th>\n",
       "      <td>2</td>\n",
       "      <td>2</td>\n",
       "    </tr>\n",
       "    <tr>\n",
       "      <th>69310</th>\n",
       "      <td>2</td>\n",
       "      <td>4</td>\n",
       "    </tr>\n",
       "    <tr>\n",
       "      <th>69345</th>\n",
       "      <td>2</td>\n",
       "      <td>2</td>\n",
       "    </tr>\n",
       "    <tr>\n",
       "      <th>69410</th>\n",
       "      <td>2</td>\n",
       "      <td>2</td>\n",
       "    </tr>\n",
       "    <tr>\n",
       "      <th>69485</th>\n",
       "      <td>3</td>\n",
       "      <td>3</td>\n",
       "    </tr>\n",
       "    <tr>\n",
       "      <th>69531</th>\n",
       "      <td>2</td>\n",
       "      <td>12</td>\n",
       "    </tr>\n",
       "    <tr>\n",
       "      <th>69833</th>\n",
       "      <td>2</td>\n",
       "      <td>2</td>\n",
       "    </tr>\n",
       "    <tr>\n",
       "      <th>70114</th>\n",
       "      <td>2</td>\n",
       "      <td>2</td>\n",
       "    </tr>\n",
       "    <tr>\n",
       "      <th>70542</th>\n",
       "      <td>2</td>\n",
       "      <td>2</td>\n",
       "    </tr>\n",
       "    <tr>\n",
       "      <th>70631</th>\n",
       "      <td>2</td>\n",
       "      <td>2</td>\n",
       "    </tr>\n",
       "    <tr>\n",
       "      <th>70726</th>\n",
       "      <td>2</td>\n",
       "      <td>3</td>\n",
       "    </tr>\n",
       "    <tr>\n",
       "      <th>70808</th>\n",
       "      <td>2</td>\n",
       "      <td>2</td>\n",
       "    </tr>\n",
       "    <tr>\n",
       "      <th>70903</th>\n",
       "      <td>2</td>\n",
       "      <td>2</td>\n",
       "    </tr>\n",
       "    <tr>\n",
       "      <th>70946</th>\n",
       "      <td>2</td>\n",
       "      <td>2</td>\n",
       "    </tr>\n",
       "    <tr>\n",
       "      <th>71054</th>\n",
       "      <td>2</td>\n",
       "      <td>5</td>\n",
       "    </tr>\n",
       "    <tr>\n",
       "      <th>71226</th>\n",
       "      <td>2</td>\n",
       "      <td>2</td>\n",
       "    </tr>\n",
       "    <tr>\n",
       "      <th>71461</th>\n",
       "      <td>2</td>\n",
       "      <td>2</td>\n",
       "    </tr>\n",
       "    <tr>\n",
       "      <th>71480</th>\n",
       "      <td>3</td>\n",
       "      <td>3</td>\n",
       "    </tr>\n",
       "    <tr>\n",
       "      <th>71542</th>\n",
       "      <td>2</td>\n",
       "      <td>3</td>\n",
       "    </tr>\n",
       "    <tr>\n",
       "      <th>71571</th>\n",
       "      <td>2</td>\n",
       "      <td>2</td>\n",
       "    </tr>\n",
       "    <tr>\n",
       "      <th>71648</th>\n",
       "      <td>2</td>\n",
       "      <td>2</td>\n",
       "    </tr>\n",
       "    <tr>\n",
       "      <th>71663</th>\n",
       "      <td>2</td>\n",
       "      <td>4</td>\n",
       "    </tr>\n",
       "    <tr>\n",
       "      <th>72188</th>\n",
       "      <td>2</td>\n",
       "      <td>2</td>\n",
       "    </tr>\n",
       "    <tr>\n",
       "      <th>72778</th>\n",
       "      <td>2</td>\n",
       "      <td>2</td>\n",
       "    </tr>\n",
       "    <tr>\n",
       "      <th>72790</th>\n",
       "      <td>2</td>\n",
       "      <td>3</td>\n",
       "    </tr>\n",
       "    <tr>\n",
       "      <th>72845</th>\n",
       "      <td>4</td>\n",
       "      <td>4</td>\n",
       "    </tr>\n",
       "    <tr>\n",
       "      <th>72950</th>\n",
       "      <td>2</td>\n",
       "      <td>2</td>\n",
       "    </tr>\n",
       "  </tbody>\n",
       "</table>\n",
       "</div>"
      ],
      "text/plain": [
       "          customer_id  order_id\n",
       "order_id                       \n",
       "14872               2         9\n",
       "68785               2         2\n",
       "69283               2         2\n",
       "69310               2         4\n",
       "69345               2         2\n",
       "69410               2         2\n",
       "69485               3         3\n",
       "69531               2        12\n",
       "69833               2         2\n",
       "70114               2         2\n",
       "70542               2         2\n",
       "70631               2         2\n",
       "70726               2         3\n",
       "70808               2         2\n",
       "70903               2         2\n",
       "70946               2         2\n",
       "71054               2         5\n",
       "71226               2         2\n",
       "71461               2         2\n",
       "71480               3         3\n",
       "71542               2         3\n",
       "71571               2         2\n",
       "71648               2         2\n",
       "71663               2         4\n",
       "72188               2         2\n",
       "72778               2         2\n",
       "72790               2         3\n",
       "72845               4         4\n",
       "72950               2         2"
      ]
     },
     "execution_count": 6,
     "metadata": {},
     "output_type": "execute_result"
    }
   ],
   "source": [
    "# counting the number of orders with more then one client\n",
    "data.groupby('order_id').agg({'customer_id': 'nunique', 'order_id': 'count'}).query('customer_id != 1')"
   ]
  },
  {
   "cell_type": "markdown",
   "metadata": {},
   "source": [
    "There are a little bit transactions ordered on different clients. Delete them."
   ]
  },
  {
   "cell_type": "code",
   "execution_count": 7,
   "metadata": {},
   "outputs": [
    {
     "data": {
      "text/plain": [
       "(6648, 6)"
      ]
     },
     "execution_count": 7,
     "metadata": {},
     "output_type": "execute_result"
    }
   ],
   "source": [
    "# delete this ones\n",
    "drop_order = data.groupby('order_id').agg({'customer_id': 'nunique', 'order_id': 'count'}).query('customer_id != 1').index\n",
    "data = data.query('order_id not in @drop_order')\n",
    "# check\n",
    "data.shape"
   ]
  },
  {
   "cell_type": "markdown",
   "metadata": {},
   "source": [
    "### Change type of data"
   ]
  },
  {
   "cell_type": "code",
   "execution_count": 8,
   "metadata": {},
   "outputs": [
    {
     "data": {
      "text/plain": [
       "0   2018-10-01\n",
       "1   2018-10-01\n",
       "2   2018-10-01\n",
       "3   2018-10-01\n",
       "4   2018-10-01\n",
       "Name: date, dtype: datetime64[ns]"
      ]
     },
     "execution_count": 8,
     "metadata": {},
     "output_type": "execute_result"
    }
   ],
   "source": [
    "# change type to datetime\n",
    "data['date'] = pd.to_datetime(data['date'], format='%Y%m%d%H')\n",
    "data['date'].head()"
   ]
  },
  {
   "cell_type": "markdown",
   "metadata": {},
   "source": [
    "### Check for outliers"
   ]
  },
  {
   "cell_type": "code",
   "execution_count": 9,
   "metadata": {},
   "outputs": [
    {
     "data": {
      "text/plain": [
       "count    6648.000000\n",
       "mean        2.477286\n",
       "std        15.330856\n",
       "min         1.000000\n",
       "25%         1.000000\n",
       "50%         1.000000\n",
       "75%         1.000000\n",
       "max      1000.000000\n",
       "Name: quantity, dtype: float64"
      ]
     },
     "execution_count": 9,
     "metadata": {},
     "output_type": "execute_result"
    }
   ],
   "source": [
    "# look at quantity colums\n",
    "data['quantity'].describe()"
   ]
  },
  {
   "cell_type": "markdown",
   "metadata": {},
   "source": [
    "Standart deviation is some big. "
   ]
  },
  {
   "cell_type": "code",
   "execution_count": 10,
   "metadata": {},
   "outputs": [
    {
     "data": {
      "image/png": "[encoded data removed]",
      "text/plain": [
       "<Figure size 720x360 with 1 Axes>"
      ]
     },
     "metadata": {
      "needs_background": "light"
     },
     "output_type": "display_data"
    }
   ],
   "source": [
    "# hist chart\n",
    "fig, ax = plt.subplots(figsize=(10,5))\n",
    "ax.set_title('Distribution count product in order')\n",
    "ax.hist(\n",
    "    'quantity',\n",
    "    data = data,\n",
    "    # bins=20\n",
    ")\n",
    "plt.show()"
   ]
  },
  {
   "cell_type": "markdown",
   "metadata": {},
   "source": [
    "There are outliers with values before 1000<br>\n",
    "Look at a smaller range"
   ]
  },
  {
   "cell_type": "code",
   "execution_count": 11,
   "metadata": {},
   "outputs": [
    {
     "data": {
      "image/png": "[encoded data removed]",
      "text/plain": [
       "<Figure size 720x360 with 1 Axes>"
      ]
     },
     "metadata": {
      "needs_background": "light"
     },
     "output_type": "display_data"
    }
   ],
   "source": [
    "# hist chart before 200\n",
    "fig, ax = plt.subplots(figsize=(10,5))\n",
    "ax.set_title('Distribution count product in order')\n",
    "ax.hist(\n",
    "    'quantity',\n",
    "    data = data,\n",
    "    range=(0,200),\n",
    "    # bins=20\n",
    ")\n",
    "plt.show()"
   ]
  },
  {
   "cell_type": "markdown",
   "metadata": {},
   "source": [
    "Choose product with quantity before 50"
   ]
  },
  {
   "cell_type": "code",
   "execution_count": 12,
   "metadata": {},
   "outputs": [],
   "source": [
    "# delete product with quantity more then 50\n",
    "data = data.query('quantity <= 50')"
   ]
  },
  {
   "cell_type": "markdown",
   "metadata": {},
   "source": [
    "Look at a price of product"
   ]
  },
  {
   "cell_type": "code",
   "execution_count": 13,
   "metadata": {},
   "outputs": [
    {
     "data": {
      "text/plain": [
       "count     6623.000000\n",
       "mean       457.863355\n",
       "std        862.946692\n",
       "min          9.000000\n",
       "25%        104.000000\n",
       "50%        135.000000\n",
       "75%        397.000000\n",
       "max      14917.000000\n",
       "Name: price, dtype: float64"
      ]
     },
     "execution_count": 13,
     "metadata": {},
     "output_type": "execute_result"
    }
   ],
   "source": [
    "# describe\n",
    "data['price'].describe()"
   ]
  },
  {
   "cell_type": "code",
   "execution_count": 14,
   "metadata": {},
   "outputs": [
    {
     "data": {
      "image/png": "[encoded data removed]",
      "text/plain": [
       "<Figure size 720x360 with 1 Axes>"
      ]
     },
     "metadata": {
      "needs_background": "light"
     },
     "output_type": "display_data"
    }
   ],
   "source": [
    "# hist chart\n",
    "fig, ax = plt.subplots(figsize=(10,5))\n",
    "ax.set_title('Distribution product price in order')\n",
    "ax.hist(\n",
    "    'price',\n",
    "    data = data,\n",
    "    # bins=20\n",
    ")\n",
    "plt.show()"
   ]
  },
  {
   "cell_type": "code",
   "execution_count": 15,
   "metadata": {},
   "outputs": [],
   "source": [
    "# choose rows with price before 8000\n",
    "data = data.query('price <= 8000')"
   ]
  },
  {
   "cell_type": "markdown",
   "metadata": {},
   "source": [
    "### Add column with revenue"
   ]
  },
  {
   "cell_type": "code",
   "execution_count": 16,
   "metadata": {},
   "outputs": [
    {
     "data": {
      "text/html": [
       "<div>\n",
       "<style scoped>\n",
       "    .dataframe tbody tr th:only-of-type {\n",
       "        vertical-align: middle;\n",
       "    }\n",
       "\n",
       "    .dataframe tbody tr th {\n",
       "        vertical-align: top;\n",
       "    }\n",
       "\n",
       "    .dataframe thead th {\n",
       "        text-align: right;\n",
       "    }\n",
       "</style>\n",
       "<table border=\"1\" class=\"dataframe\">\n",
       "  <thead>\n",
       "    <tr style=\"text-align: right;\">\n",
       "      <th></th>\n",
       "      <th>date</th>\n",
       "      <th>customer_id</th>\n",
       "      <th>order_id</th>\n",
       "      <th>product</th>\n",
       "      <th>quantity</th>\n",
       "      <th>price</th>\n",
       "      <th>revenue</th>\n",
       "    </tr>\n",
       "  </thead>\n",
       "  <tbody>\n",
       "    <tr>\n",
       "      <th>0</th>\n",
       "      <td>2018-10-01</td>\n",
       "      <td>ee47d746-6d2f-4d3c-9622-c31412542920</td>\n",
       "      <td>68477</td>\n",
       "      <td>Комнатное растение в горшке Алое Вера, d12, h30</td>\n",
       "      <td>1</td>\n",
       "      <td>142.0</td>\n",
       "      <td>142.0</td>\n",
       "    </tr>\n",
       "    <tr>\n",
       "      <th>1</th>\n",
       "      <td>2018-10-01</td>\n",
       "      <td>ee47d746-6d2f-4d3c-9622-c31412542920</td>\n",
       "      <td>68477</td>\n",
       "      <td>Комнатное растение в горшке Кофе Арабика, d12,...</td>\n",
       "      <td>1</td>\n",
       "      <td>194.0</td>\n",
       "      <td>194.0</td>\n",
       "    </tr>\n",
       "    <tr>\n",
       "      <th>2</th>\n",
       "      <td>2018-10-01</td>\n",
       "      <td>ee47d746-6d2f-4d3c-9622-c31412542920</td>\n",
       "      <td>68477</td>\n",
       "      <td>Радермахера d-12 см h-20 см</td>\n",
       "      <td>1</td>\n",
       "      <td>112.0</td>\n",
       "      <td>112.0</td>\n",
       "    </tr>\n",
       "    <tr>\n",
       "      <th>3</th>\n",
       "      <td>2018-10-01</td>\n",
       "      <td>ee47d746-6d2f-4d3c-9622-c31412542920</td>\n",
       "      <td>68477</td>\n",
       "      <td>Хризолидокарпус Лутесценс d-9 см</td>\n",
       "      <td>1</td>\n",
       "      <td>179.0</td>\n",
       "      <td>179.0</td>\n",
       "    </tr>\n",
       "    <tr>\n",
       "      <th>4</th>\n",
       "      <td>2018-10-01</td>\n",
       "      <td>ee47d746-6d2f-4d3c-9622-c31412542920</td>\n",
       "      <td>68477</td>\n",
       "      <td>Циперус Зумула d-12 см h-25 см</td>\n",
       "      <td>1</td>\n",
       "      <td>112.0</td>\n",
       "      <td>112.0</td>\n",
       "    </tr>\n",
       "  </tbody>\n",
       "</table>\n",
       "</div>"
      ],
      "text/plain": [
       "        date                           customer_id  order_id  \\\n",
       "0 2018-10-01  ee47d746-6d2f-4d3c-9622-c31412542920     68477   \n",
       "1 2018-10-01  ee47d746-6d2f-4d3c-9622-c31412542920     68477   \n",
       "2 2018-10-01  ee47d746-6d2f-4d3c-9622-c31412542920     68477   \n",
       "3 2018-10-01  ee47d746-6d2f-4d3c-9622-c31412542920     68477   \n",
       "4 2018-10-01  ee47d746-6d2f-4d3c-9622-c31412542920     68477   \n",
       "\n",
       "                                             product  quantity  price  revenue  \n",
       "0    Комнатное растение в горшке Алое Вера, d12, h30         1  142.0    142.0  \n",
       "1  Комнатное растение в горшке Кофе Арабика, d12,...         1  194.0    194.0  \n",
       "2                        Радермахера d-12 см h-20 см         1  112.0    112.0  \n",
       "3                   Хризолидокарпус Лутесценс d-9 см         1  179.0    179.0  \n",
       "4                     Циперус Зумула d-12 см h-25 см         1  112.0    112.0  "
      ]
     },
     "execution_count": 16,
     "metadata": {},
     "output_type": "execute_result"
    }
   ],
   "source": [
    "# revenue column\n",
    "data['revenue'] = data['quantity'] * data['price']\n",
    "data.head()"
   ]
  },
  {
   "cell_type": "markdown",
   "metadata": {},
   "source": [
    "### Add columns with date and month"
   ]
  },
  {
   "cell_type": "code",
   "execution_count": 17,
   "metadata": {},
   "outputs": [
    {
     "data": {
      "text/html": [
       "<div>\n",
       "<style scoped>\n",
       "    .dataframe tbody tr th:only-of-type {\n",
       "        vertical-align: middle;\n",
       "    }\n",
       "\n",
       "    .dataframe tbody tr th {\n",
       "        vertical-align: top;\n",
       "    }\n",
       "\n",
       "    .dataframe thead th {\n",
       "        text-align: right;\n",
       "    }\n",
       "</style>\n",
       "<table border=\"1\" class=\"dataframe\">\n",
       "  <thead>\n",
       "    <tr style=\"text-align: right;\">\n",
       "      <th></th>\n",
       "      <th>date</th>\n",
       "      <th>day</th>\n",
       "    </tr>\n",
       "  </thead>\n",
       "  <tbody>\n",
       "    <tr>\n",
       "      <th>0</th>\n",
       "      <td>2018-10-01</td>\n",
       "      <td>2018-10-01</td>\n",
       "    </tr>\n",
       "    <tr>\n",
       "      <th>1</th>\n",
       "      <td>2018-10-01</td>\n",
       "      <td>2018-10-01</td>\n",
       "    </tr>\n",
       "    <tr>\n",
       "      <th>2</th>\n",
       "      <td>2018-10-01</td>\n",
       "      <td>2018-10-01</td>\n",
       "    </tr>\n",
       "    <tr>\n",
       "      <th>3</th>\n",
       "      <td>2018-10-01</td>\n",
       "      <td>2018-10-01</td>\n",
       "    </tr>\n",
       "    <tr>\n",
       "      <th>4</th>\n",
       "      <td>2018-10-01</td>\n",
       "      <td>2018-10-01</td>\n",
       "    </tr>\n",
       "  </tbody>\n",
       "</table>\n",
       "</div>"
      ],
      "text/plain": [
       "        date        day\n",
       "0 2018-10-01 2018-10-01\n",
       "1 2018-10-01 2018-10-01\n",
       "2 2018-10-01 2018-10-01\n",
       "3 2018-10-01 2018-10-01\n",
       "4 2018-10-01 2018-10-01"
      ]
     },
     "execution_count": 17,
     "metadata": {},
     "output_type": "execute_result"
    }
   ],
   "source": [
    "# new column with date\n",
    "data['day'] = data['date'].astype('datetime64[D]')\n",
    "data[['date', 'day']].head()"
   ]
  },
  {
   "cell_type": "code",
   "execution_count": 18,
   "metadata": {},
   "outputs": [
    {
     "data": {
      "text/plain": [
       "array(['2018-10-01T00:00:00.000000000', '2018-11-01T00:00:00.000000000',\n",
       "       '2018-12-01T00:00:00.000000000', '2019-01-01T00:00:00.000000000',\n",
       "       '2019-02-01T00:00:00.000000000', '2019-03-01T00:00:00.000000000',\n",
       "       '2019-04-01T00:00:00.000000000', '2019-05-01T00:00:00.000000000',\n",
       "       '2019-06-01T00:00:00.000000000', '2019-07-01T00:00:00.000000000',\n",
       "       '2019-08-01T00:00:00.000000000', '2019-09-01T00:00:00.000000000',\n",
       "       '2019-10-01T00:00:00.000000000'], dtype='datetime64[ns]')"
      ]
     },
     "execution_count": 18,
     "metadata": {},
     "output_type": "execute_result"
    }
   ],
   "source": [
    "# month column\n",
    "data['month'] = data['date'].astype('datetime64[M]')\n",
    "data['month'].unique()"
   ]
  },
  {
   "cell_type": "markdown",
   "metadata": {},
   "source": [
    "## Trade assortment analysis\n",
    "### Look at date range of dataset"
   ]
  },
  {
   "cell_type": "code",
   "execution_count": 19,
   "metadata": {},
   "outputs": [
    {
     "data": {
      "text/plain": [
       "first    2018-10-01 00:00:00\n",
       "last     2019-10-31 00:00:00\n",
       "Name: day, dtype: object"
      ]
     },
     "execution_count": 19,
     "metadata": {},
     "output_type": "execute_result"
    }
   ],
   "source": [
    "# first and end date\n",
    "data['day'].describe().loc[['first', 'last']]"
   ]
  },
  {
   "cell_type": "markdown",
   "metadata": {},
   "source": [
    "We have data for 13 month: from october 2018 to october 2019\n",
    "### Unique count product, clients and ordes"
   ]
  },
  {
   "cell_type": "code",
   "execution_count": 20,
   "metadata": {},
   "outputs": [
    {
     "name": "stdout",
     "output_type": "stream",
     "text": [
      "Unique count product: 2314\n"
     ]
    }
   ],
   "source": [
    "# Count product\n",
    "print('Unique count product: {}'.format(len(data['product'].unique())))"
   ]
  },
  {
   "cell_type": "code",
   "execution_count": 21,
   "metadata": {},
   "outputs": [
    {
     "name": "stdout",
     "output_type": "stream",
     "text": [
      "Unique count clients: 2371\n"
     ]
    }
   ],
   "source": [
    "# count clients\n",
    "print('Unique count clients: {}'.format(len(data['customer_id'].unique())))"
   ]
  },
  {
   "cell_type": "code",
   "execution_count": 22,
   "metadata": {},
   "outputs": [
    {
     "name": "stdout",
     "output_type": "stream",
     "text": [
      "Unique count orders: 2730\n"
     ]
    }
   ],
   "source": [
    "# count orders\n",
    "print('Unique count orders: {}'.format(len(data['order_id'].unique())))"
   ]
  },
  {
   "cell_type": "markdown",
   "metadata": {},
   "source": [
    "### TOP-10 product by revenue and quantity"
   ]
  },
  {
   "cell_type": "code",
   "execution_count": 23,
   "metadata": {},
   "outputs": [
    {
     "data": {
      "text/html": [
       "<div>\n",
       "<style scoped>\n",
       "    .dataframe tbody tr th:only-of-type {\n",
       "        vertical-align: middle;\n",
       "    }\n",
       "\n",
       "    .dataframe tbody tr th {\n",
       "        vertical-align: top;\n",
       "    }\n",
       "\n",
       "    .dataframe thead th {\n",
       "        text-align: right;\n",
       "    }\n",
       "</style>\n",
       "<table border=\"1\" class=\"dataframe\">\n",
       "  <thead>\n",
       "    <tr style=\"text-align: right;\">\n",
       "      <th></th>\n",
       "      <th>product</th>\n",
       "      <th>revenue</th>\n",
       "    </tr>\n",
       "  </thead>\n",
       "  <tbody>\n",
       "    <tr>\n",
       "      <th>1602</th>\n",
       "      <td>Сумка-тележка 2-х колесная Gimi Argo красная</td>\n",
       "      <td>76090.0</td>\n",
       "    </tr>\n",
       "    <tr>\n",
       "      <th>1603</th>\n",
       "      <td>Сумка-тележка 2-х колесная Gimi Argo синяя</td>\n",
       "      <td>65281.0</td>\n",
       "    </tr>\n",
       "    <tr>\n",
       "      <th>1182</th>\n",
       "      <td>Простынь вафельная 200х180 см WELLNESS RW180-01 100% хлопок</td>\n",
       "      <td>53232.0</td>\n",
       "    </tr>\n",
       "    <tr>\n",
       "      <th>1627</th>\n",
       "      <td>Сумка-тележка хозяйственная Andersen Scala Shopper Plus, Lini, синяя 133-108-90</td>\n",
       "      <td>33294.0</td>\n",
       "    </tr>\n",
       "    <tr>\n",
       "      <th>295</th>\n",
       "      <td>Гладильная доска НИКА Гранд 122х42 см НГ</td>\n",
       "      <td>32382.0</td>\n",
       "    </tr>\n",
       "    <tr>\n",
       "      <th>1926</th>\n",
       "      <td>Урна уличная \"Гео\", Hobbyka/Хоббика, 59*37,5см, сталь</td>\n",
       "      <td>24370.0</td>\n",
       "    </tr>\n",
       "    <tr>\n",
       "      <th>1594</th>\n",
       "      <td>Стремянки Colombo Leonardo 2 ступени G300A02W серая 3646</td>\n",
       "      <td>23992.0</td>\n",
       "    </tr>\n",
       "    <tr>\n",
       "      <th>278</th>\n",
       "      <td>Гладильная доска НИКА BLUES 124х46 см 5757</td>\n",
       "      <td>22840.0</td>\n",
       "    </tr>\n",
       "    <tr>\n",
       "      <th>1610</th>\n",
       "      <td>Сумка-тележка 2-х колесная Gimi Galaxy черная</td>\n",
       "      <td>22267.0</td>\n",
       "    </tr>\n",
       "    <tr>\n",
       "      <th>131</th>\n",
       "      <td>Веник сорго с деревянной ручкой с 4-мя швами, Rozenbal, R206204</td>\n",
       "      <td>20010.0</td>\n",
       "    </tr>\n",
       "  </tbody>\n",
       "</table>\n",
       "</div>"
      ],
      "text/plain": [
       "                                                                              product  \\\n",
       "1602                                     Сумка-тележка 2-х колесная Gimi Argo красная   \n",
       "1603                                       Сумка-тележка 2-х колесная Gimi Argo синяя   \n",
       "1182                      Простынь вафельная 200х180 см WELLNESS RW180-01 100% хлопок   \n",
       "1627  Сумка-тележка хозяйственная Andersen Scala Shopper Plus, Lini, синяя 133-108-90   \n",
       "295                                          Гладильная доска НИКА Гранд 122х42 см НГ   \n",
       "1926                            Урна уличная \"Гео\", Hobbyka/Хоббика, 59*37,5см, сталь   \n",
       "1594                         Стремянки Colombo Leonardo 2 ступени G300A02W серая 3646   \n",
       "278                                        Гладильная доска НИКА BLUES 124х46 см 5757   \n",
       "1610                                    Сумка-тележка 2-х колесная Gimi Galaxy черная   \n",
       "131                   Веник сорго с деревянной ручкой с 4-мя швами, Rozenbal, R206204   \n",
       "\n",
       "      revenue  \n",
       "1602  76090.0  \n",
       "1603  65281.0  \n",
       "1182  53232.0  \n",
       "1627  33294.0  \n",
       "295   32382.0  \n",
       "1926  24370.0  \n",
       "1594  23992.0  \n",
       "278   22840.0  \n",
       "1610  22267.0  \n",
       "131   20010.0  "
      ]
     },
     "execution_count": 23,
     "metadata": {},
     "output_type": "execute_result"
    }
   ],
   "source": [
    "# set columns width\n",
    "pd.set_option('display.max_colwidth', None)\n",
    "# TOP-10 by revenue\n",
    "top_10_product_by_sum = data.groupby('product', as_index=False)['revenue'].sum().sort_values(by='revenue', ascending=False).head(10)\n",
    "top_10_product_by_sum"
   ]
  },
  {
   "cell_type": "code",
   "execution_count": 24,
   "metadata": {},
   "outputs": [
    {
     "data": {
      "text/html": [
       "<div>\n",
       "<style scoped>\n",
       "    .dataframe tbody tr th:only-of-type {\n",
       "        vertical-align: middle;\n",
       "    }\n",
       "\n",
       "    .dataframe tbody tr th {\n",
       "        vertical-align: top;\n",
       "    }\n",
       "\n",
       "    .dataframe thead th {\n",
       "        text-align: right;\n",
       "    }\n",
       "</style>\n",
       "<table border=\"1\" class=\"dataframe\">\n",
       "  <thead>\n",
       "    <tr style=\"text-align: right;\">\n",
       "      <th></th>\n",
       "      <th>product</th>\n",
       "      <th>quantity</th>\n",
       "    </tr>\n",
       "  </thead>\n",
       "  <tbody>\n",
       "    <tr>\n",
       "      <th>829</th>\n",
       "      <td>Муляж Яблоко зеленый 9 см полиуретан</td>\n",
       "      <td>148</td>\n",
       "    </tr>\n",
       "    <tr>\n",
       "      <th>7</th>\n",
       "      <td>Ёрш унитазный с деревянной ручкой , Ваир 1712012</td>\n",
       "      <td>123</td>\n",
       "    </tr>\n",
       "    <tr>\n",
       "      <th>769</th>\n",
       "      <td>Муляж Банан желтый 21 см полиуретан</td>\n",
       "      <td>109</td>\n",
       "    </tr>\n",
       "    <tr>\n",
       "      <th>2212</th>\n",
       "      <td>Щетка-сметка 4-х рядная деревянная 300 мм (фигурная ручка) ворс 5,5 см 1801096</td>\n",
       "      <td>105</td>\n",
       "    </tr>\n",
       "    <tr>\n",
       "      <th>2201</th>\n",
       "      <td>Щетка для посуды *Мила* SV3182 1807009</td>\n",
       "      <td>100</td>\n",
       "    </tr>\n",
       "    <tr>\n",
       "      <th>2214</th>\n",
       "      <td>Щетка-утюжок с ручкой Миди, Standart, York, G1126</td>\n",
       "      <td>100</td>\n",
       "    </tr>\n",
       "    <tr>\n",
       "      <th>2000</th>\n",
       "      <td>Цветок искусственный Гвоздика пластиковая одиночная в ассортименте 50 см</td>\n",
       "      <td>96</td>\n",
       "    </tr>\n",
       "    <tr>\n",
       "      <th>563</th>\n",
       "      <td>Коврик хлопковый 50х80 см цвета в ассортименте 6196</td>\n",
       "      <td>95</td>\n",
       "    </tr>\n",
       "    <tr>\n",
       "      <th>799</th>\n",
       "      <td>Муляж Лимон желтый 9 см полиуретан</td>\n",
       "      <td>92</td>\n",
       "    </tr>\n",
       "    <tr>\n",
       "      <th>674</th>\n",
       "      <td>Крючок одежный двойной усиленный алюминиевый (дюраль), 1110015</td>\n",
       "      <td>90</td>\n",
       "    </tr>\n",
       "  </tbody>\n",
       "</table>\n",
       "</div>"
      ],
      "text/plain": [
       "                                                                             product  \\\n",
       "829                                             Муляж Яблоко зеленый 9 см полиуретан   \n",
       "7                                   Ёрш унитазный с деревянной ручкой , Ваир 1712012   \n",
       "769                                              Муляж Банан желтый 21 см полиуретан   \n",
       "2212  Щетка-сметка 4-х рядная деревянная 300 мм (фигурная ручка) ворс 5,5 см 1801096   \n",
       "2201                                          Щетка для посуды *Мила* SV3182 1807009   \n",
       "2214                               Щетка-утюжок с ручкой Миди, Standart, York, G1126   \n",
       "2000        Цветок искусственный Гвоздика пластиковая одиночная в ассортименте 50 см   \n",
       "563                              Коврик хлопковый 50х80 см цвета в ассортименте 6196   \n",
       "799                                               Муляж Лимон желтый 9 см полиуретан   \n",
       "674                   Крючок одежный двойной усиленный алюминиевый (дюраль), 1110015   \n",
       "\n",
       "      quantity  \n",
       "829        148  \n",
       "7          123  \n",
       "769        109  \n",
       "2212       105  \n",
       "2201       100  \n",
       "2214       100  \n",
       "2000        96  \n",
       "563         95  \n",
       "799         92  \n",
       "674         90  "
      ]
     },
     "execution_count": 24,
     "metadata": {},
     "output_type": "execute_result"
    }
   ],
   "source": [
    "# TOP-10 by quantity\n",
    "top_10_product_by_quantity = data.groupby('product', as_index=False)['quantity'].sum().sort_values(by='quantity', ascending=False).head(10)\n",
    "top_10_product_by_quantity"
   ]
  },
  {
   "cell_type": "markdown",
   "metadata": {},
   "source": [
    "Some product bring a lot of money, other take more in quantity\n",
    "### Dynamics of number orders, products and revenue by time"
   ]
  },
  {
   "cell_type": "code",
   "execution_count": 25,
   "metadata": {},
   "outputs": [
    {
     "data": {
      "image/png": "[encoded data removed]",
      "text/plain": [
       "<Figure size 720x360 with 1 Axes>"
      ]
     },
     "metadata": {
      "needs_background": "light"
     },
     "output_type": "display_data"
    }
   ],
   "source": [
    "# dynamic of number orders\n",
    "fig, ax = plt.subplots(figsize=(10,5))\n",
    "ax.set_title('Dynamic of number orders')\n",
    "ax.plot(\n",
    "    data.groupby('month')['order_id'].nunique(),\n",
    "    marker='o',\n",
    "    label='orders'\n",
    ")\n",
    "ax.legend()\n",
    "plt.show()"
   ]
  },
  {
   "cell_type": "markdown",
   "metadata": {},
   "source": [
    "There are a lot of orders at December and from February to April. Mayby at the end of the year it is associated with New Year's gift and in the spring with the opening of the summer season."
   ]
  },
  {
   "cell_type": "code",
   "execution_count": 26,
   "metadata": {},
   "outputs": [
    {
     "data": {
      "image/png": "[encoded data removed]",
      "text/plain": [
       "<Figure size 720x360 with 1 Axes>"
      ]
     },
     "metadata": {
      "needs_background": "light"
     },
     "output_type": "display_data"
    }
   ],
   "source": [
    "# dynamic of number products\n",
    "fig, ax = plt.subplots(figsize=(10,5))\n",
    "ax.set_title('Dynamic of number products')\n",
    "ax.plot(\n",
    "    data.groupby('month')['quantity'].sum(),\n",
    "    marker='o',\n",
    "    label='products'\n",
    ")\n",
    "ax.legend()\n",
    "plt.show()"
   ]
  },
  {
   "cell_type": "markdown",
   "metadata": {},
   "source": [
    "There is also increase from February to summer"
   ]
  },
  {
   "cell_type": "code",
   "execution_count": 27,
   "metadata": {},
   "outputs": [
    {
     "data": {
      "image/png": "[encoded data removed]",
      "text/plain": [
       "<Figure size 720x360 with 1 Axes>"
      ]
     },
     "metadata": {
      "needs_background": "light"
     },
     "output_type": "display_data"
    }
   ],
   "source": [
    "# dynamic revenue\n",
    "fig, ax = plt.subplots(figsize=(10,5))\n",
    "ax.set_title('Dynamic revenue')\n",
    "ax.plot(\n",
    "    data.groupby('month')['revenue'].sum(),\n",
    "    marker='o',\n",
    "    label='revenue'\n",
    ")\n",
    "ax.legend()\n",
    "plt.show()"
   ]
  },
  {
   "cell_type": "markdown",
   "metadata": {},
   "source": [
    "Revenue is kept at about the same level from February to summer. There is recession at the end of summer. Look at average check"
   ]
  },
  {
   "cell_type": "code",
   "execution_count": 28,
   "metadata": {},
   "outputs": [
    {
     "data": {
      "image/png": "[encoded data removed]",
      "text/plain": [
       "<Figure size 720x360 with 1 Axes>"
      ]
     },
     "metadata": {
      "needs_background": "light"
     },
     "output_type": "display_data"
    }
   ],
   "source": [
    "# average check\n",
    "aov_complete = data.groupby(['month']).agg({'order_id': 'nunique', 'revenue': 'sum'})\n",
    "aov_complete['aov'] = aov_complete['revenue'] / aov_complete['order_id']\n",
    "\n",
    "# dynamic average check\n",
    "fig, ax = plt.subplots(figsize=(10,5))\n",
    "ax.set_title('Dynamic of average check')\n",
    "ax.plot(\n",
    "    aov_complete['aov'],\n",
    "    marker='o',\n",
    "    label='average check'\n",
    ")\n",
    "ax.legend()\n",
    "plt.show()"
   ]
  },
  {
   "cell_type": "markdown",
   "metadata": {},
   "source": [
    "Average check have peak in June. Mayby it associated with preparing to season.\n",
    "### Category product\n",
    "Make 3 categoryes per price:\n",
    "- before 1000\n",
    "- between 1000 and 3000\n",
    "- more then 3000"
   ]
  },
  {
   "cell_type": "code",
   "execution_count": 29,
   "metadata": {},
   "outputs": [],
   "source": [
    "# функция для выявления категории товара по цене\n",
    "# function to identify price category\n",
    "def price_category(row):\n",
    "    '''Return product categore by price:\n",
    "    <= 1000 р: 1000\n",
    "    > 1000 & <= 3000р.: 1000-3000\n",
    "    > 3000: 3000\n",
    "    '''\n",
    "    if row['price'] <= 1000:\n",
    "        return '1000'\n",
    "    elif row['price'] > 1000 and row['price'] <= 3000:\n",
    "        return '1000 - 3000'\n",
    "    else:\n",
    "        return '3000'\n",
    "\n",
    "# count\n",
    "data['price_category'] = data.apply(price_category, axis=1)"
   ]
  },
  {
   "cell_type": "markdown",
   "metadata": {},
   "source": [
    "Look at category"
   ]
  },
  {
   "cell_type": "code",
   "execution_count": 30,
   "metadata": {},
   "outputs": [
    {
     "data": {
      "image/png": "[encoded data removed]",
      "text/plain": [
       "<Figure size 720x360 with 1 Axes>"
      ]
     },
     "metadata": {},
     "output_type": "display_data"
    }
   ],
   "source": [
    "# pie chart\n",
    "fig, ax = plt.subplots(figsize=(10,5))\n",
    "ax.set_title('Propotions of price categories')\n",
    "ax.pie(\n",
    "    data['price_category'].value_counts(normalize=True),\n",
    "    labels=data['price_category'].value_counts(normalize=True).index\n",
    ")\n",
    "ax.legend()\n",
    "plt.show()"
   ]
  },
  {
   "cell_type": "markdown",
   "metadata": {},
   "source": [
    "There are a lot of product with price before 1000"
   ]
  },
  {
   "cell_type": "code",
   "execution_count": 31,
   "metadata": {},
   "outputs": [
    {
     "data": {
      "image/png": "[encoded data removed]",
      "text/plain": [
       "<Figure size 720x360 with 1 Axes>"
      ]
     },
     "metadata": {
      "needs_background": "light"
     },
     "output_type": "display_data"
    }
   ],
   "source": [
    "# chart average number of product\n",
    "fig, ax = plt.subplots(figsize=(10,5))\n",
    "ax.set_title('Avg. number of product')\n",
    "ax.bar(\n",
    "    x=data.groupby('price_category').agg({'quantity': 'mean'}).index,\n",
    "    height=data.groupby('price_category').agg({'quantity': 'mean'})['quantity'],\n",
    ")\n",
    "ax.set_xlabel('Price category')\n",
    "ax.set_ylabel('Avg.')\n",
    "plt.show()"
   ]
  },
  {
   "cell_type": "markdown",
   "metadata": {},
   "source": [
    "Products with price from 1000 to 3000 are most often taken in a single copy"
   ]
  },
  {
   "cell_type": "code",
   "execution_count": 32,
   "metadata": {},
   "outputs": [
    {
     "data": {
      "image/png": "[encoded data removed]",
      "text/plain": [
       "<Figure size 720x360 with 1 Axes>"
      ]
     },
     "metadata": {
      "needs_background": "light"
     },
     "output_type": "display_data"
    }
   ],
   "source": [
    "# chart average price\n",
    "fig, ax = plt.subplots(figsize=(10,5))\n",
    "ax.set_title('Avg. price of category')\n",
    "ax.bar(\n",
    "    x=data.groupby('price_category').agg({'price': 'mean'}).index,\n",
    "    height=data.groupby('price_category').agg({'price': 'mean'})['price'],\n",
    ")\n",
    "ax.set_xlabel('Price catrogory')\n",
    "ax.set_ylabel('Avg. price')\n",
    "plt.show()"
   ]
  },
  {
   "cell_type": "markdown",
   "metadata": {},
   "source": [
    "\"Basic\" and \"additional\" products<br>\n",
    "Devided like this:\n",
    "\n",
    "- first list: orders with one product \n",
    "- second list: orders with more then one product\n",
    "- select product from second list that are not in first list"
   ]
  },
  {
   "cell_type": "code",
   "execution_count": 33,
   "metadata": {},
   "outputs": [],
   "source": [
    "# first list\n",
    "order_1_product = data.groupby('order_id').agg({'product': 'nunique'}).query('product == 1').index\n",
    "# second list\n",
    "order_more_1_product = data.groupby('order_id').agg({'product': 'nunique'}).query('product > 1').index\n",
    "\n",
    "# the set products in fist list\n",
    "set_1_product = set(data.query('order_id in @order_1_product')['product'].unique())\n",
    "set_more_1_product = set(data.query('order_id in @order_more_1_product')['product'].unique())\n",
    "\n",
    "# find differences: product is in the second list but that are not in first\n",
    "set_more_1_product = set_more_1_product.difference(set_1_product)"
   ]
  },
  {
   "cell_type": "markdown",
   "metadata": {},
   "source": [
    "Create property"
   ]
  },
  {
   "cell_type": "code",
   "execution_count": 34,
   "metadata": {},
   "outputs": [],
   "source": [
    "# фунция выделения товара в категорию\n",
    "# function of selecting product in category\n",
    "def product_category(row):\n",
    "    \"\"\"Return basic or additional category of product\n",
    "    \"\"\"\n",
    "    if row['product'] in set_1_product:\n",
    "        return 'basic'\n",
    "    elif row['product'] in set_more_1_product:\n",
    "        return 'additional'\n",
    "\n",
    "# apply function\n",
    "data['product_category'] = data.apply(product_category, axis=1)"
   ]
  },
  {
   "cell_type": "markdown",
   "metadata": {},
   "source": [
    "Look at category statistics"
   ]
  },
  {
   "cell_type": "code",
   "execution_count": 35,
   "metadata": {},
   "outputs": [
    {
     "data": {
      "image/png": "[encoded data removed]",
      "text/plain": [
       "<Figure size 720x360 with 1 Axes>"
      ]
     },
     "metadata": {},
     "output_type": "display_data"
    }
   ],
   "source": [
    "# круговая диаграмма категорий товаров\n",
    "# pie chart\n",
    "fig, ax = plt.subplots(figsize=(10,5))\n",
    "ax.set_title('Proportions product category')\n",
    "ax.pie(\n",
    "    data['product_category'].value_counts(normalize=True),\n",
    "    labels=data['product_category'].value_counts(normalize=True).index\n",
    ")\n",
    "ax.legend()\n",
    "plt.show()"
   ]
  },
  {
   "cell_type": "markdown",
   "metadata": {},
   "source": [
    "Division equally"
   ]
  },
  {
   "cell_type": "code",
   "execution_count": 36,
   "metadata": {},
   "outputs": [
    {
     "data": {
      "image/png": "[encoded data removed]",
      "text/plain": [
       "<Figure size 720x360 with 1 Axes>"
      ]
     },
     "metadata": {
      "needs_background": "light"
     },
     "output_type": "display_data"
    }
   ],
   "source": [
    "# chart avg. quantity\n",
    "fig, ax = plt.subplots(figsize=(10,5))\n",
    "ax.set_title('Avg. number of products')\n",
    "ax.bar(\n",
    "    x=data.groupby('product_category').agg({'quantity': 'mean'}).index,\n",
    "    height=data.groupby('product_category').agg({'quantity': 'mean'})['quantity'],\n",
    ")\n",
    "ax.set_xlabel('Categories')\n",
    "ax.set_ylabel('Avg. number')\n",
    "plt.show()"
   ]
  },
  {
   "cell_type": "markdown",
   "metadata": {},
   "source": [
    "Basic products are taken more"
   ]
  },
  {
   "cell_type": "code",
   "execution_count": 37,
   "metadata": {},
   "outputs": [
    {
     "data": {
      "image/png": "[encoded data removed]",
      "text/plain": [
       "<Figure size 720x360 with 1 Axes>"
      ]
     },
     "metadata": {
      "needs_background": "light"
     },
     "output_type": "display_data"
    }
   ],
   "source": [
    "# chart average price\n",
    "fig, ax = plt.subplots(figsize=(10,5))\n",
    "ax.set_title('Average price')\n",
    "ax.bar(\n",
    "    x=data.groupby('product_category').agg({'price': 'mean'}).index,\n",
    "    height=data.groupby('product_category').agg({'price': 'mean'})['price'],\n",
    ")\n",
    "ax.set_xlabel('Categories')\n",
    "ax.set_ylabel('Avg. price')\n",
    "plt.show()"
   ]
  },
  {
   "cell_type": "markdown",
   "metadata": {},
   "source": [
    "Basic product have more price then additional"
   ]
  },
  {
   "cell_type": "code",
   "execution_count": 38,
   "metadata": {},
   "outputs": [
    {
     "data": {
      "image/png": "[encoded data removed]",
      "text/plain": [
       "<Figure size 720x360 with 1 Axes>"
      ]
     },
     "metadata": {
      "needs_background": "light"
     },
     "output_type": "display_data"
    }
   ],
   "source": [
    "# chart revenue\n",
    "fig, ax = plt.subplots(figsize=(10,5))\n",
    "ax.set_title('Average revenue')\n",
    "ax.bar(\n",
    "    x=data.groupby('product_category').agg({'revenue': 'mean'}).index,\n",
    "    height=data.groupby('product_category').agg({'revenue': 'mean'})['revenue'],\n",
    ")\n",
    "ax.set_xlabel('Categories')\n",
    "ax.set_ylabel('Avg. revenue')\n",
    "plt.show()"
   ]
  },
  {
   "cell_type": "markdown",
   "metadata": {},
   "source": [
    "Basic also have a more revenue"
   ]
  },
  {
   "cell_type": "markdown",
   "metadata": {},
   "source": [
    "### Shopping frequancy"
   ]
  },
  {
   "cell_type": "code",
   "execution_count": 39,
   "metadata": {},
   "outputs": [
    {
     "name": "stdout",
     "output_type": "stream",
     "text": [
      "Average frequancy per client: 1.15\n"
     ]
    }
   ],
   "source": [
    "# average frequancy\n",
    "print('Average frequancy per client: {:.3}'.format(data['order_id'].nunique() / data['customer_id'].nunique()))"
   ]
  },
  {
   "cell_type": "code",
   "execution_count": 40,
   "metadata": {},
   "outputs": [
    {
     "data": {
      "image/png": "[encoded data removed]",
      "text/plain": [
       "<Figure size 720x360 with 1 Axes>"
      ]
     },
     "metadata": {
      "needs_background": "light"
     },
     "output_type": "display_data"
    }
   ],
   "source": [
    "# dynamic shopping frequancy\n",
    "avg_order_per_customer = data.groupby('month')['customer_id', 'order_id'].nunique()\n",
    "avg_order_per_customer['avg'] = avg_order_per_customer['order_id'] / avg_order_per_customer['customer_id']\n",
    "\n",
    "# chart\n",
    "fig, ax = plt.subplots(figsize=(10,5))\n",
    "ax.set_title('Dynamic shopping frequancy')\n",
    "ax.plot(\n",
    "    avg_order_per_customer['avg'],\n",
    "    marker='o',\n",
    "    label='Shopping frequancy'\n",
    ")\n",
    "ax.legend()\n",
    "plt.show()"
   ]
  },
  {
   "cell_type": "markdown",
   "metadata": {},
   "source": [
    "The frequancy has been falling since the beginning\n",
    "## Test of statistical hypotheses\n",
    "<p>\n",
    "There are two periods to compare: May - June and September - October. First is peak of season, second is recession\n",
    "<br>\n",
    "I will check with Mann–Whitney U test\n",
    "</p>\n",
    "\n",
    "### Average number of quantity product comparison\n",
    "\n",
    "- Null hypothesis: average number of quantity per day does not differ\n",
    "- Alternative hypothesis: the average differ"
   ]
  },
  {
   "cell_type": "code",
   "execution_count": 41,
   "metadata": {},
   "outputs": [],
   "source": [
    "# select two periods\n",
    "may_june = data.query('month >= \"2019-05-01\" and month <= \"2019-06-30\"')\n",
    "september_october = data.query('month >= \"2019-09-01\" and month <= \"2019-10-31\"')"
   ]
  },
  {
   "cell_type": "code",
   "execution_count": 42,
   "metadata": {},
   "outputs": [
    {
     "name": "stdout",
     "output_type": "stream",
     "text": [
      "pvalue: 4.004402790754604e-14\n",
      "Null hypothesis was rejected: the different is statistically significant\n"
     ]
    }
   ],
   "source": [
    "# critical significance level\n",
    "alpha = 0.05\n",
    "\n",
    "result = st.mannwhitneyu(may_june.groupby('order_id')['quantity'].sum().values, september_october.groupby('order_id')['quantity'].sum().values)\n",
    "\n",
    "if (result.pvalue < alpha):\n",
    "    print('pvalue:', result.pvalue)\n",
    "    print('Null hypothesis was rejected: the different is statistically significant')\n",
    "else:\n",
    "    print('pvalue:', result.pvalue)\n",
    "    print('Null hypothesis was not rejected: no difference can be drawn')"
   ]
  },
  {
   "cell_type": "markdown",
   "metadata": {},
   "source": [
    "### Average revenue comparison\n",
    "- Null hypothesis: average does not differ\n",
    "- Alternative hypothesis: average differ"
   ]
  },
  {
   "cell_type": "code",
   "execution_count": 43,
   "metadata": {},
   "outputs": [
    {
     "name": "stdout",
     "output_type": "stream",
     "text": [
      "pvalue: 0.013393294940159284\n",
      "Null hypothesis was rejected: the different is statistically significant\n"
     ]
    }
   ],
   "source": [
    "result = st.mannwhitneyu(may_june.groupby('order_id')['revenue'].sum().values, september_october.groupby('order_id')['revenue'].sum().values)\n",
    "\n",
    "if (result.pvalue < alpha):\n",
    "    print('pvalue:', result.pvalue)\n",
    "    print(\"Null hypothesis was rejected: the different is statistically significant\")\n",
    "else:\n",
    "    print('pvalue:', result.pvalue)\n",
    "    print(\"Null hypothesis was not rejected: no difference can be drawn\")"
   ]
  },
  {
   "cell_type": "markdown",
   "metadata": {},
   "source": [
    "### Shopping frequancy per client comparison\n",
    "- Null hypothesis: shopping frequancy does not differ\n",
    "- Alternative hypothesis: shopping frequancy differ"
   ]
  },
  {
   "cell_type": "code",
   "execution_count": 44,
   "metadata": {},
   "outputs": [
    {
     "name": "stdout",
     "output_type": "stream",
     "text": [
      "pvalue: 0.8403835951115601\n",
      "Null hypothesis was not rejected: no difference can be drawn\n"
     ]
    }
   ],
   "source": [
    "result = st.mannwhitneyu(\n",
    "    may_june.groupby('customer_id', as_index=False).agg({'order_id': 'nunique'})['order_id'].values, \n",
    "    september_october.groupby('customer_id', as_index=False).agg({'order_id': 'nunique'})['order_id'].values\n",
    "    )\n",
    "\n",
    "if (result.pvalue < alpha):\n",
    "    print('pvalue:', result.pvalue)\n",
    "    print(\"Null hypothesis was rejected: the different is statistically significant\")\n",
    "else:\n",
    "    print('pvalue:', result.pvalue)\n",
    "    print(\"Null hypothesis was not rejected: no difference can be drawn\")"
   ]
  },
  {
   "cell_type": "markdown",
   "metadata": {},
   "source": [
    "## Result, recommendations\n",
    "\n",
    "- Average shopping frequancy per client: 1.15. The frequancy has been falling from November 2018 to September 2019\n",
    "- There are two seasons: first in December it is associated with New Year's gifts, seconde starting from February - March to end the summer it is associated with summer season\n",
    "<br>It is recommended to build all marketing activities according to these two periods\n",
    "- Test of statistical hypotheses show that there are statistical differenses between the seasons in terms of number of products and revenue<br>\n",
    "Test of shopping frequancy per client show there are not differenses"
   ]
  }
 ],
 "metadata": {
  "ExecuteTimeLog": [
   {
    "duration": 82,
    "start_time": "2022-07-17T22:22:41.317Z"
   }
  ],
  "kernelspec": {
   "display_name": "Python 3 (ipykernel)",
   "language": "python",
   "name": "python3"
  },
  "language_info": {
   "codemirror_mode": {
    "name": "ipython",
    "version": 3
   },
   "file_extension": ".py",
   "mimetype": "text/x-python",
   "name": "python",
   "nbconvert_exporter": "python",
   "pygments_lexer": "ipython3",
   "version": "3.10.2"
  },
  "toc": {
   "base_numbering": 1,
   "nav_menu": {},
   "number_sections": true,
   "sideBar": true,
   "skip_h1_title": true,
   "title_cell": "Table of Contents",
   "title_sidebar": "Contents",
   "toc_cell": false,
   "toc_position": {},
   "toc_section_display": true,
   "toc_window_display": false
  },
  "vscode": {
   "interpreter": {
    "hash": "35d56784a9533165a15cd80766066c6e160ff9c87db8908bb17dcd0ff56fd6bf"
   }
  }
 },
 "nbformat": 4,
 "nbformat_minor": 2
}
